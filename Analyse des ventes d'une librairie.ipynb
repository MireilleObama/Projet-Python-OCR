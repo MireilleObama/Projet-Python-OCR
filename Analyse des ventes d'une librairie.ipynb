{
 "cells": [
  {
   "cell_type": "markdown",
   "id": "fd6458bc",
   "metadata": {},
   "source": [
    "# Projet 6 - Analysez les ventes d'une librairie"
   ]
  },
  {
   "cell_type": "markdown",
   "id": "79a2eedd",
   "metadata": {},
   "source": [
    "## Plan\n",
    "\n",
    "* [1 - Importation des librairies](#chapter1)\n",
    "   \n",
    "* [2 - Lecture des données](#chapter2)\n",
    "    \n",
    "    * [2.1 - Données clients](#section_2_1)\n",
    "    * [2.2 - Données produits](#section_2_2)\n",
    "    * [2.3 - Données transactions](#section_2_3)\n",
    "\n",
    "* [3 - Nettoyage du jeu de données (Qualité des données)](#chapter3)\n",
    "    \n",
    "    * [3.1 - Données clients](#section_3_1)\n",
    "    * [3.2 - Données produits](#section_3_2)\n",
    "    * [3.3 - Données transactions](#section_3_3)\n",
    "* [4 - Analyses des données](#chapter4)\n",
    "    * [4.1 - Création des informations necessaires à l'analyse des données](#section_4_1)\n",
    "    * [4.2 - Regroupement des données des trois fichiers de données](#section_4_2)\n",
    "    * [4.3 - Calcul et analyse du chiffre d affaire par produit](#section_4_3)\n",
    "    * [4.4 - Calcul du chiffre total réalisé](#section_4_4)\n",
    "    * [4.5 - Détection et analyse des outliers](#section_4_5)\n",
    "    * [4.6 - Analyse de l'Evolution du chiffre d'affaire mensuel](#section_4_6)\n",
    "    * [4.7 - Analyse de l'évolution du chiffre d'affaire annuel  ](#section_4_7)\n",
    "    * [4.8 - Liste des 10 produits les plus vendus (Chiffre d'affaire le plus elevé)  ](#section_4_8)\n",
    "    * [4.9 - Liste des produits les moins vendus (un produit flop est un invendu ou un produit avec un CA inférieur à 300)](#section_4_9)\n",
    "    * [4.10 - Analyse du profil des clients](#section_4_10)\n",
    "    * [4.11 - Analyse de la répartition du chiffre d'affaire entre les clients](#section_4_11)\n",
    "    * [4.12 - Analyse de la corrélation entre le prix de vente et le nombre de ventes](#section_4_12)\n",
    "    * [4.13 - Analyse de la corrélation entre le genre d’un client et les catégories des livres achetés ](#section_4_13)\n",
    "    * [4.14 - Analyse de la corrélation entre l’âge des clients et le montant total des achats](#section_4_14)\n",
    "    * [4.15 - Analyse de la corrélation entre l’âge des clients et la fréquence d’achat](#section_4_15)\n",
    "    * [4.16 - Analyse de la corrélation entre l’âge des clients et la taille du panier moyen](#section_4_16)\n",
    "    * [4.17 - Analyse de la corrélation entre l’âge (tranche d'âge) des clients et les catégories des livres achetés](#section_4_17)\n",
    "    * [4.18 - Probabilité qu’un client achète la référence 0_525 sachant qu’il a acheté la référence 2_159](#section_4_18)\n",
    "    \n",
    "* [5 - Préconisations](#chapter5)"
   ]
  },
  {
   "cell_type": "markdown",
   "id": "4dcbead8",
   "metadata": {},
   "source": [
    "## 1 - Importation des librairies <a class=\"anchor\" id=\"chapter1\"></a>"
   ]
  },
  {
   "cell_type": "code",
   "execution_count": 1,
   "id": "4452b82d",
   "metadata": {},
   "outputs": [],
   "source": [
    "import pandas as pd\n",
    "import matplotlib.pyplot as plt\n",
    "import numpy as np\n",
    "import datetime\n",
    "import scipy.stats as st\n",
    "import seaborn as sns"
   ]
  },
  {
   "cell_type": "markdown",
   "id": "be4d342a",
   "metadata": {},
   "source": [
    "## 2 - Lecture des données <a class=\"anchor\" id=\"chapter2\"></a>"
   ]
  },
  {
   "cell_type": "markdown",
   "id": "f2de54d3",
   "metadata": {},
   "source": [
    "### 2.1 - Données clients <a class=\"anchor\" id=\"section_2_1\"></a>"
   ]
  },
  {
   "cell_type": "markdown",
   "id": "b1001ed0",
   "metadata": {},
   "source": [
    "##### Importer les données du fichier customers.csv dans le dataframe dataCustomers"
   ]
  },
  {
   "cell_type": "code",
   "execution_count": 2,
   "id": "e4e62378",
   "metadata": {},
   "outputs": [],
   "source": [
    "dataCustomers=pd.read_csv('C:/Users/33768/Documents/DataSets/Projet 6/customers.csv', sep=',',encoding='UTF-8')  "
   ]
  },
  {
   "cell_type": "markdown",
   "id": "1cae2b49",
   "metadata": {},
   "source": [
    "##### Afficher les 5 premières lignes pour s assurer que les données ont été chargées correctement"
   ]
  },
  {
   "cell_type": "code",
   "execution_count": 3,
   "id": "ee908ca6",
   "metadata": {},
   "outputs": [
    {
     "data": {
      "text/html": [
       "<div>\n",
       "<style scoped>\n",
       "    .dataframe tbody tr th:only-of-type {\n",
       "        vertical-align: middle;\n",
       "    }\n",
       "\n",
       "    .dataframe tbody tr th {\n",
       "        vertical-align: top;\n",
       "    }\n",
       "\n",
       "    .dataframe thead th {\n",
       "        text-align: right;\n",
       "    }\n",
       "</style>\n",
       "<table border=\"1\" class=\"dataframe\">\n",
       "  <thead>\n",
       "    <tr style=\"text-align: right;\">\n",
       "      <th></th>\n",
       "      <th>client_id</th>\n",
       "      <th>sex</th>\n",
       "      <th>birth</th>\n",
       "    </tr>\n",
       "  </thead>\n",
       "  <tbody>\n",
       "    <tr>\n",
       "      <th>0</th>\n",
       "      <td>c_4410</td>\n",
       "      <td>f</td>\n",
       "      <td>1967</td>\n",
       "    </tr>\n",
       "    <tr>\n",
       "      <th>1</th>\n",
       "      <td>c_7839</td>\n",
       "      <td>f</td>\n",
       "      <td>1975</td>\n",
       "    </tr>\n",
       "    <tr>\n",
       "      <th>2</th>\n",
       "      <td>c_1699</td>\n",
       "      <td>f</td>\n",
       "      <td>1984</td>\n",
       "    </tr>\n",
       "    <tr>\n",
       "      <th>3</th>\n",
       "      <td>c_5961</td>\n",
       "      <td>f</td>\n",
       "      <td>1962</td>\n",
       "    </tr>\n",
       "    <tr>\n",
       "      <th>4</th>\n",
       "      <td>c_5320</td>\n",
       "      <td>m</td>\n",
       "      <td>1943</td>\n",
       "    </tr>\n",
       "  </tbody>\n",
       "</table>\n",
       "</div>"
      ],
      "text/plain": [
       "  client_id sex  birth\n",
       "0    c_4410   f   1967\n",
       "1    c_7839   f   1975\n",
       "2    c_1699   f   1984\n",
       "3    c_5961   f   1962\n",
       "4    c_5320   m   1943"
      ]
     },
     "execution_count": 3,
     "metadata": {},
     "output_type": "execute_result"
    }
   ],
   "source": [
    "dataCustomers.head(5)"
   ]
  },
  {
   "cell_type": "markdown",
   "id": "2e719a20",
   "metadata": {},
   "source": [
    "##### Afficher la dimension du dataframe"
   ]
  },
  {
   "cell_type": "code",
   "execution_count": 4,
   "id": "5f0e900c",
   "metadata": {},
   "outputs": [
    {
     "data": {
      "text/plain": [
       "(8623, 3)"
      ]
     },
     "execution_count": 4,
     "metadata": {},
     "output_type": "execute_result"
    }
   ],
   "source": [
    "dataCustomers.shape"
   ]
  },
  {
   "cell_type": "markdown",
   "id": "7c57ce33",
   "metadata": {},
   "source": [
    "### 2.2 - Données produits (products) <a class=\"anchor\" id=\"section_2_2\"></a>"
   ]
  },
  {
   "cell_type": "markdown",
   "id": "63a9b6db",
   "metadata": {},
   "source": [
    "##### Importer les données du fichier products.csv dans le dataframe dataProducts"
   ]
  },
  {
   "cell_type": "code",
   "execution_count": 5,
   "id": "b6be0ad1",
   "metadata": {},
   "outputs": [],
   "source": [
    "dataProducts=pd.read_csv('C:/Users/33768/Documents/DataSets/Projet 6/products.csv', sep=',',encoding='UTF-8')"
   ]
  },
  {
   "cell_type": "markdown",
   "id": "bebac789",
   "metadata": {},
   "source": [
    "##### Afficher les 5 premières lignes pour s assurer que les données ont été chargées correctement"
   ]
  },
  {
   "cell_type": "code",
   "execution_count": 6,
   "id": "5a264613",
   "metadata": {},
   "outputs": [
    {
     "data": {
      "text/html": [
       "<div>\n",
       "<style scoped>\n",
       "    .dataframe tbody tr th:only-of-type {\n",
       "        vertical-align: middle;\n",
       "    }\n",
       "\n",
       "    .dataframe tbody tr th {\n",
       "        vertical-align: top;\n",
       "    }\n",
       "\n",
       "    .dataframe thead th {\n",
       "        text-align: right;\n",
       "    }\n",
       "</style>\n",
       "<table border=\"1\" class=\"dataframe\">\n",
       "  <thead>\n",
       "    <tr style=\"text-align: right;\">\n",
       "      <th></th>\n",
       "      <th>id_prod</th>\n",
       "      <th>price</th>\n",
       "      <th>categ</th>\n",
       "    </tr>\n",
       "  </thead>\n",
       "  <tbody>\n",
       "    <tr>\n",
       "      <th>0</th>\n",
       "      <td>0_1421</td>\n",
       "      <td>19.99</td>\n",
       "      <td>0</td>\n",
       "    </tr>\n",
       "    <tr>\n",
       "      <th>1</th>\n",
       "      <td>0_1368</td>\n",
       "      <td>5.13</td>\n",
       "      <td>0</td>\n",
       "    </tr>\n",
       "    <tr>\n",
       "      <th>2</th>\n",
       "      <td>0_731</td>\n",
       "      <td>17.99</td>\n",
       "      <td>0</td>\n",
       "    </tr>\n",
       "    <tr>\n",
       "      <th>3</th>\n",
       "      <td>1_587</td>\n",
       "      <td>4.99</td>\n",
       "      <td>1</td>\n",
       "    </tr>\n",
       "    <tr>\n",
       "      <th>4</th>\n",
       "      <td>0_1507</td>\n",
       "      <td>3.99</td>\n",
       "      <td>0</td>\n",
       "    </tr>\n",
       "  </tbody>\n",
       "</table>\n",
       "</div>"
      ],
      "text/plain": [
       "  id_prod  price  categ\n",
       "0  0_1421  19.99      0\n",
       "1  0_1368   5.13      0\n",
       "2   0_731  17.99      0\n",
       "3   1_587   4.99      1\n",
       "4  0_1507   3.99      0"
      ]
     },
     "execution_count": 6,
     "metadata": {},
     "output_type": "execute_result"
    }
   ],
   "source": [
    "dataProducts.head(5)"
   ]
  },
  {
   "cell_type": "markdown",
   "id": "6a6ac005",
   "metadata": {},
   "source": [
    "##### Afficher les différentes catégories de produits"
   ]
  },
  {
   "cell_type": "code",
   "execution_count": 7,
   "id": "2ecc3b0f",
   "metadata": {},
   "outputs": [
    {
     "data": {
      "text/plain": [
       "array([0, 1, 2], dtype=int64)"
      ]
     },
     "execution_count": 7,
     "metadata": {},
     "output_type": "execute_result"
    }
   ],
   "source": [
    "dataProducts['categ'].unique()"
   ]
  },
  {
   "cell_type": "markdown",
   "id": "4ca52807",
   "metadata": {},
   "source": [
    "Il existe 3 catégories de produits 0, 1 et 2."
   ]
  },
  {
   "cell_type": "markdown",
   "id": "1cd7c4af",
   "metadata": {},
   "source": [
    "##### Afficher la dimension du dataframe"
   ]
  },
  {
   "cell_type": "code",
   "execution_count": 8,
   "id": "9ce59823",
   "metadata": {},
   "outputs": [
    {
     "data": {
      "text/plain": [
       "(3287, 3)"
      ]
     },
     "execution_count": 8,
     "metadata": {},
     "output_type": "execute_result"
    }
   ],
   "source": [
    "dataProducts.shape"
   ]
  },
  {
   "cell_type": "markdown",
   "id": "21f1a838",
   "metadata": {},
   "source": [
    "### 2.3 - Données transactions <a class=\"anchor\" id=\"section_2_3\"></a>"
   ]
  },
  {
   "cell_type": "markdown",
   "id": "5a01b85d",
   "metadata": {},
   "source": [
    "##### Importer les données du fichier transactions.csv dans le dataframe dataTransactions"
   ]
  },
  {
   "cell_type": "code",
   "execution_count": 9,
   "id": "c714ec17",
   "metadata": {},
   "outputs": [],
   "source": [
    "dataTransactions=pd.read_csv('C:/Users/33768/Documents/DataSets/Projet 6/transactions.csv', sep=',',encoding='UTF-8')"
   ]
  },
  {
   "cell_type": "markdown",
   "id": "fe98e63c",
   "metadata": {},
   "source": [
    "##### Afficher les 5 premières lignes pour s assurer que les données ont été chargées correctement"
   ]
  },
  {
   "cell_type": "code",
   "execution_count": 10,
   "id": "ba3521f0",
   "metadata": {},
   "outputs": [
    {
     "data": {
      "text/html": [
       "<div>\n",
       "<style scoped>\n",
       "    .dataframe tbody tr th:only-of-type {\n",
       "        vertical-align: middle;\n",
       "    }\n",
       "\n",
       "    .dataframe tbody tr th {\n",
       "        vertical-align: top;\n",
       "    }\n",
       "\n",
       "    .dataframe thead th {\n",
       "        text-align: right;\n",
       "    }\n",
       "</style>\n",
       "<table border=\"1\" class=\"dataframe\">\n",
       "  <thead>\n",
       "    <tr style=\"text-align: right;\">\n",
       "      <th></th>\n",
       "      <th>id_prod</th>\n",
       "      <th>date</th>\n",
       "      <th>session_id</th>\n",
       "      <th>client_id</th>\n",
       "    </tr>\n",
       "  </thead>\n",
       "  <tbody>\n",
       "    <tr>\n",
       "      <th>0</th>\n",
       "      <td>0_1518</td>\n",
       "      <td>2022-05-20 13:21:29.043970</td>\n",
       "      <td>s_211425</td>\n",
       "      <td>c_103</td>\n",
       "    </tr>\n",
       "    <tr>\n",
       "      <th>1</th>\n",
       "      <td>1_251</td>\n",
       "      <td>2022-02-02 07:55:19.149409</td>\n",
       "      <td>s_158752</td>\n",
       "      <td>c_8534</td>\n",
       "    </tr>\n",
       "    <tr>\n",
       "      <th>2</th>\n",
       "      <td>0_1277</td>\n",
       "      <td>2022-06-18 15:44:33.155329</td>\n",
       "      <td>s_225667</td>\n",
       "      <td>c_6714</td>\n",
       "    </tr>\n",
       "    <tr>\n",
       "      <th>3</th>\n",
       "      <td>2_209</td>\n",
       "      <td>2021-06-24 04:19:29.835891</td>\n",
       "      <td>s_52962</td>\n",
       "      <td>c_6941</td>\n",
       "    </tr>\n",
       "    <tr>\n",
       "      <th>4</th>\n",
       "      <td>0_1509</td>\n",
       "      <td>2023-01-11 08:22:08.194479</td>\n",
       "      <td>s_325227</td>\n",
       "      <td>c_4232</td>\n",
       "    </tr>\n",
       "  </tbody>\n",
       "</table>\n",
       "</div>"
      ],
      "text/plain": [
       "  id_prod                        date session_id client_id\n",
       "0  0_1518  2022-05-20 13:21:29.043970   s_211425     c_103\n",
       "1   1_251  2022-02-02 07:55:19.149409   s_158752    c_8534\n",
       "2  0_1277  2022-06-18 15:44:33.155329   s_225667    c_6714\n",
       "3   2_209  2021-06-24 04:19:29.835891    s_52962    c_6941\n",
       "4  0_1509  2023-01-11 08:22:08.194479   s_325227    c_4232"
      ]
     },
     "execution_count": 10,
     "metadata": {},
     "output_type": "execute_result"
    }
   ],
   "source": [
    "dataTransactions.head(5)"
   ]
  },
  {
   "cell_type": "markdown",
   "id": "2796551f",
   "metadata": {},
   "source": [
    "##### Afficher la dimension du dataframe"
   ]
  },
  {
   "cell_type": "code",
   "execution_count": 11,
   "id": "ac4a8ba0",
   "metadata": {},
   "outputs": [
    {
     "data": {
      "text/plain": [
       "(679532, 4)"
      ]
     },
     "execution_count": 11,
     "metadata": {},
     "output_type": "execute_result"
    }
   ],
   "source": [
    "dataTransactions.shape"
   ]
  },
  {
   "cell_type": "markdown",
   "id": "41861eaf",
   "metadata": {},
   "source": [
    "## 3 - Nettoyage du jeu de données (Qualité des données) <a class=\"anchor\" id=\"chapter3\"></a>"
   ]
  },
  {
   "cell_type": "markdown",
   "id": "16b689a5",
   "metadata": {},
   "source": [
    "### 3.1 - Données clients <a class=\"anchor\" id=\"section_3_1\"></a>"
   ]
  },
  {
   "cell_type": "markdown",
   "id": "02d608cd",
   "metadata": {},
   "source": [
    "##### Vérifier le typage de données"
   ]
  },
  {
   "cell_type": "markdown",
   "id": "02b16286",
   "metadata": {},
   "source": [
    " Vérifier que les variables ont bien été importées dans le bon type."
   ]
  },
  {
   "cell_type": "code",
   "execution_count": 12,
   "id": "459eddfa",
   "metadata": {},
   "outputs": [
    {
     "data": {
      "text/plain": [
       "client_id    object\n",
       "sex          object\n",
       "birth         int64\n",
       "dtype: object"
      ]
     },
     "execution_count": 12,
     "metadata": {},
     "output_type": "execute_result"
    }
   ],
   "source": [
    "dataCustomers.dtypes"
   ]
  },
  {
   "cell_type": "markdown",
   "id": "a5fb1fe6",
   "metadata": {},
   "source": [
    "Tout semble en ordre."
   ]
  },
  {
   "cell_type": "markdown",
   "id": "582140b2",
   "metadata": {},
   "source": [
    "##### Vérifier les valeurs manquantes (NaN)"
   ]
  },
  {
   "cell_type": "code",
   "execution_count": 13,
   "id": "445b055d",
   "metadata": {},
   "outputs": [
    {
     "data": {
      "text/plain": [
       "client_id    0\n",
       "sex          0\n",
       "birth        0\n",
       "dtype: int64"
      ]
     },
     "execution_count": 13,
     "metadata": {},
     "output_type": "execute_result"
    }
   ],
   "source": [
    "dataCustomers.isna().sum()"
   ]
  },
  {
   "cell_type": "markdown",
   "id": "9fe6b579",
   "metadata": {},
   "source": [
    "Il n'y a pas de valeurs manquantes."
   ]
  },
  {
   "cell_type": "markdown",
   "id": "f56a01bb",
   "metadata": {},
   "source": [
    "##### Vérifier la présence des doublons et l'unicité de la clé primaire"
   ]
  },
  {
   "cell_type": "code",
   "execution_count": 14,
   "id": "8ccc0a91",
   "metadata": {},
   "outputs": [
    {
     "data": {
      "text/plain": [
       "0"
      ]
     },
     "execution_count": 14,
     "metadata": {},
     "output_type": "execute_result"
    }
   ],
   "source": [
    "dataCustomers.duplicated(subset=['client_id']).sum()"
   ]
  },
  {
   "cell_type": "markdown",
   "id": "c8b4ad0b",
   "metadata": {},
   "source": [
    "Il n'y a pas de doublon."
   ]
  },
  {
   "cell_type": "markdown",
   "id": "cb75c31f",
   "metadata": {},
   "source": [
    "##### Vérifier que les sexes présents dans la colonne sex sont corrects (m et f)"
   ]
  },
  {
   "cell_type": "code",
   "execution_count": 15,
   "id": "4b86fded",
   "metadata": {},
   "outputs": [
    {
     "data": {
      "text/plain": [
       "True"
      ]
     },
     "execution_count": 15,
     "metadata": {},
     "output_type": "execute_result"
    }
   ],
   "source": [
    "# Liste des sexes valides\n",
    "Valid_Sexe=['m','f']\n",
    "\n",
    "# Vérifier la validité des sexes\n",
    "dataCustomers.sex.isin(Valid_Sexe).all()"
   ]
  },
  {
   "cell_type": "markdown",
   "id": "573c5027",
   "metadata": {},
   "source": [
    "Tous les sexes sont corrects."
   ]
  },
  {
   "cell_type": "markdown",
   "id": "e7cd2ae7",
   "metadata": {},
   "source": [
    "##### Vérifier le format de la date de naissance (4 chiffres)"
   ]
  },
  {
   "cell_type": "code",
   "execution_count": 16,
   "id": "d82348ae",
   "metadata": {},
   "outputs": [
    {
     "data": {
      "text/plain": [
       "0"
      ]
     },
     "execution_count": 16,
     "metadata": {},
     "output_type": "execute_result"
    }
   ],
   "source": [
    "len(dataCustomers[(dataCustomers.birth <4) & (dataCustomers.birth >4)])"
   ]
  },
  {
   "cell_type": "markdown",
   "id": "8a06824e",
   "metadata": {},
   "source": [
    "Toutes les dates respectent le bon format."
   ]
  },
  {
   "cell_type": "markdown",
   "id": "fb0d887a",
   "metadata": {},
   "source": [
    "##### Détection des outliers"
   ]
  },
  {
   "cell_type": "code",
   "execution_count": 17,
   "id": "3b754c41",
   "metadata": {},
   "outputs": [
    {
     "data": {
      "text/html": [
       "<div>\n",
       "<style scoped>\n",
       "    .dataframe tbody tr th:only-of-type {\n",
       "        vertical-align: middle;\n",
       "    }\n",
       "\n",
       "    .dataframe tbody tr th {\n",
       "        vertical-align: top;\n",
       "    }\n",
       "\n",
       "    .dataframe thead th {\n",
       "        text-align: right;\n",
       "    }\n",
       "</style>\n",
       "<table border=\"1\" class=\"dataframe\">\n",
       "  <thead>\n",
       "    <tr style=\"text-align: right;\">\n",
       "      <th></th>\n",
       "      <th>birth</th>\n",
       "    </tr>\n",
       "  </thead>\n",
       "  <tbody>\n",
       "    <tr>\n",
       "      <th>count</th>\n",
       "      <td>8623.000000</td>\n",
       "    </tr>\n",
       "    <tr>\n",
       "      <th>mean</th>\n",
       "      <td>1978.280877</td>\n",
       "    </tr>\n",
       "    <tr>\n",
       "      <th>std</th>\n",
       "      <td>16.919535</td>\n",
       "    </tr>\n",
       "    <tr>\n",
       "      <th>min</th>\n",
       "      <td>1929.000000</td>\n",
       "    </tr>\n",
       "    <tr>\n",
       "      <th>25%</th>\n",
       "      <td>1966.000000</td>\n",
       "    </tr>\n",
       "    <tr>\n",
       "      <th>50%</th>\n",
       "      <td>1979.000000</td>\n",
       "    </tr>\n",
       "    <tr>\n",
       "      <th>75%</th>\n",
       "      <td>1992.000000</td>\n",
       "    </tr>\n",
       "    <tr>\n",
       "      <th>max</th>\n",
       "      <td>2004.000000</td>\n",
       "    </tr>\n",
       "  </tbody>\n",
       "</table>\n",
       "</div>"
      ],
      "text/plain": [
       "             birth\n",
       "count  8623.000000\n",
       "mean   1978.280877\n",
       "std      16.919535\n",
       "min    1929.000000\n",
       "25%    1966.000000\n",
       "50%    1979.000000\n",
       "75%    1992.000000\n",
       "max    2004.000000"
      ]
     },
     "execution_count": 17,
     "metadata": {},
     "output_type": "execute_result"
    }
   ],
   "source": [
    "dataCustomers.describe()"
   ]
  },
  {
   "cell_type": "markdown",
   "id": "9cacf144",
   "metadata": {},
   "source": [
    "Tout semble normal. Il n'ya pas d'outliers."
   ]
  },
  {
   "cell_type": "markdown",
   "id": "dfba47fc",
   "metadata": {},
   "source": [
    "### 3.2 - Données produits (products) <a class=\"anchor\" id=\"section_3_2\"></a>"
   ]
  },
  {
   "cell_type": "markdown",
   "id": "0ff52e71",
   "metadata": {},
   "source": [
    "##### Vérifier le typage de données"
   ]
  },
  {
   "cell_type": "markdown",
   "id": "aacd98e2",
   "metadata": {},
   "source": [
    " Vérifier que les variables ont bien été importées dans le bon type."
   ]
  },
  {
   "cell_type": "code",
   "execution_count": 18,
   "id": "425ca633",
   "metadata": {},
   "outputs": [
    {
     "data": {
      "text/plain": [
       "id_prod     object\n",
       "price      float64\n",
       "categ        int64\n",
       "dtype: object"
      ]
     },
     "execution_count": 18,
     "metadata": {},
     "output_type": "execute_result"
    }
   ],
   "source": [
    "dataProducts.dtypes"
   ]
  },
  {
   "cell_type": "markdown",
   "id": "934514c7",
   "metadata": {},
   "source": [
    "Tous les types semblent corrects."
   ]
  },
  {
   "cell_type": "markdown",
   "id": "f2168f31",
   "metadata": {},
   "source": [
    "##### Vérifier les valeurs manquantes (NaN)"
   ]
  },
  {
   "cell_type": "code",
   "execution_count": 19,
   "id": "dd61ef57",
   "metadata": {},
   "outputs": [
    {
     "data": {
      "text/plain": [
       "id_prod    0\n",
       "price      0\n",
       "categ      0\n",
       "dtype: int64"
      ]
     },
     "execution_count": 19,
     "metadata": {},
     "output_type": "execute_result"
    }
   ],
   "source": [
    "dataProducts.isna().sum()"
   ]
  },
  {
   "cell_type": "markdown",
   "id": "53317be5",
   "metadata": {},
   "source": [
    "Il n'y a pas de valeurs manquantes."
   ]
  },
  {
   "cell_type": "markdown",
   "id": "61a715b0",
   "metadata": {},
   "source": [
    "##### Vérifier l'existence des doublons et l'unicité de la clé primaire"
   ]
  },
  {
   "cell_type": "code",
   "execution_count": 20,
   "id": "7e3c0c2c",
   "metadata": {},
   "outputs": [
    {
     "data": {
      "text/plain": [
       "0"
      ]
     },
     "execution_count": 20,
     "metadata": {},
     "output_type": "execute_result"
    }
   ],
   "source": [
    "dataProducts.duplicated(subset=['id_prod']).sum()"
   ]
  },
  {
   "cell_type": "markdown",
   "id": "12fa252b",
   "metadata": {},
   "source": [
    "Il n'y a pas de doublons."
   ]
  },
  {
   "cell_type": "markdown",
   "id": "71bdb19b",
   "metadata": {},
   "source": [
    "##### Vérifier et lister les produits sans fiche produit (présents dans les transactions mais absents dans la base des produits)"
   ]
  },
  {
   "cell_type": "code",
   "execution_count": 21,
   "id": "6283eac6",
   "metadata": {},
   "outputs": [
    {
     "data": {
      "text/plain": [
       "array(['0_2245'], dtype=object)"
      ]
     },
     "execution_count": 21,
     "metadata": {},
     "output_type": "execute_result"
    }
   ],
   "source": [
    "# Selectionner les identifiants des produits dans  \n",
    "listeProduits=dataProducts['id_prod']\n",
    "\n",
    "# Vérifier si tous les produits présents dans les transactions ont des fiches produits dans le fichier de produits \n",
    "transactionsAvecProduitsManquants=dataTransactions.query(\"id_prod not in @listeProduits\")\n",
    "\n",
    "# Afficher les produits manquants\n",
    "transactionsAvecProduitsManquants['id_prod'].unique()"
   ]
  },
  {
   "cell_type": "markdown",
   "id": "5610e526",
   "metadata": {},
   "source": [
    "Le produit 0_2245 est le seul sans fiche produit. Une fiche produit va être créée dans base de données des produits avec comme prix le prix moyen des produits de la catégorie 0."
   ]
  },
  {
   "cell_type": "markdown",
   "id": "462ed469",
   "metadata": {},
   "source": [
    "##### Rechercher la moyenne du prix d'un produit de la catégorie 0"
   ]
  },
  {
   "cell_type": "code",
   "execution_count": 22,
   "id": "30a0e224",
   "metadata": {},
   "outputs": [
    {
     "data": {
      "text/html": [
       "<div>\n",
       "<style scoped>\n",
       "    .dataframe tbody tr th:only-of-type {\n",
       "        vertical-align: middle;\n",
       "    }\n",
       "\n",
       "    .dataframe tbody tr th {\n",
       "        vertical-align: top;\n",
       "    }\n",
       "\n",
       "    .dataframe thead th {\n",
       "        text-align: right;\n",
       "    }\n",
       "</style>\n",
       "<table border=\"1\" class=\"dataframe\">\n",
       "  <thead>\n",
       "    <tr style=\"text-align: right;\">\n",
       "      <th></th>\n",
       "      <th>price</th>\n",
       "      <th>categ</th>\n",
       "    </tr>\n",
       "  </thead>\n",
       "  <tbody>\n",
       "    <tr>\n",
       "      <th>count</th>\n",
       "      <td>2309.000000</td>\n",
       "      <td>2309.0</td>\n",
       "    </tr>\n",
       "    <tr>\n",
       "      <th>mean</th>\n",
       "      <td>11.727280</td>\n",
       "      <td>0.0</td>\n",
       "    </tr>\n",
       "    <tr>\n",
       "      <th>std</th>\n",
       "      <td>7.568756</td>\n",
       "      <td>0.0</td>\n",
       "    </tr>\n",
       "    <tr>\n",
       "      <th>min</th>\n",
       "      <td>-1.000000</td>\n",
       "      <td>0.0</td>\n",
       "    </tr>\n",
       "    <tr>\n",
       "      <th>25%</th>\n",
       "      <td>5.580000</td>\n",
       "      <td>0.0</td>\n",
       "    </tr>\n",
       "    <tr>\n",
       "      <th>50%</th>\n",
       "      <td>10.320000</td>\n",
       "      <td>0.0</td>\n",
       "    </tr>\n",
       "    <tr>\n",
       "      <th>75%</th>\n",
       "      <td>16.650000</td>\n",
       "      <td>0.0</td>\n",
       "    </tr>\n",
       "    <tr>\n",
       "      <th>max</th>\n",
       "      <td>40.990000</td>\n",
       "      <td>0.0</td>\n",
       "    </tr>\n",
       "  </tbody>\n",
       "</table>\n",
       "</div>"
      ],
      "text/plain": [
       "             price   categ\n",
       "count  2309.000000  2309.0\n",
       "mean     11.727280     0.0\n",
       "std       7.568756     0.0\n",
       "min      -1.000000     0.0\n",
       "25%       5.580000     0.0\n",
       "50%      10.320000     0.0\n",
       "75%      16.650000     0.0\n",
       "max      40.990000     0.0"
      ]
     },
     "execution_count": 22,
     "metadata": {},
     "output_type": "execute_result"
    }
   ],
   "source": [
    "moyenneProdCatZero=dataProducts.query('categ==0')\n",
    "moyenneProdCatZero.describe()"
   ]
  },
  {
   "cell_type": "markdown",
   "id": "18bcc7b6",
   "metadata": {},
   "source": [
    "Il existe un prix négatif. Ce qui n'est pas normal. Ce prix devra être remplacé."
   ]
  },
  {
   "cell_type": "markdown",
   "id": "81b8de79",
   "metadata": {},
   "source": [
    "##### Créer la fiche du produit manquant 0_2245 dans la table de produits avec le prix moyen d'un produit  de la catégorie 0 (11,73)"
   ]
  },
  {
   "cell_type": "code",
   "execution_count": 23,
   "id": "e6b0358c",
   "metadata": {},
   "outputs": [],
   "source": [
    "dataProducts=dataProducts.append({'id_prod' : '0_2245' , 'price' : 11.73, 'categ' : 0} , ignore_index=True)"
   ]
  },
  {
   "cell_type": "markdown",
   "id": "6c54af02",
   "metadata": {},
   "source": [
    "##### Vérifier que le nouveau produit a été ajouté dans la table de produits"
   ]
  },
  {
   "cell_type": "code",
   "execution_count": 24,
   "id": "3234c013",
   "metadata": {},
   "outputs": [
    {
     "data": {
      "text/html": [
       "<div>\n",
       "<style scoped>\n",
       "    .dataframe tbody tr th:only-of-type {\n",
       "        vertical-align: middle;\n",
       "    }\n",
       "\n",
       "    .dataframe tbody tr th {\n",
       "        vertical-align: top;\n",
       "    }\n",
       "\n",
       "    .dataframe thead th {\n",
       "        text-align: right;\n",
       "    }\n",
       "</style>\n",
       "<table border=\"1\" class=\"dataframe\">\n",
       "  <thead>\n",
       "    <tr style=\"text-align: right;\">\n",
       "      <th></th>\n",
       "      <th>id_prod</th>\n",
       "      <th>price</th>\n",
       "      <th>categ</th>\n",
       "    </tr>\n",
       "  </thead>\n",
       "  <tbody>\n",
       "    <tr>\n",
       "      <th>3287</th>\n",
       "      <td>0_2245</td>\n",
       "      <td>11.73</td>\n",
       "      <td>0</td>\n",
       "    </tr>\n",
       "  </tbody>\n",
       "</table>\n",
       "</div>"
      ],
      "text/plain": [
       "     id_prod  price  categ\n",
       "3287  0_2245  11.73      0"
      ]
     },
     "execution_count": 24,
     "metadata": {},
     "output_type": "execute_result"
    }
   ],
   "source": [
    "dataProducts.query('id_prod == \"0_2245\"')"
   ]
  },
  {
   "cell_type": "markdown",
   "id": "041ab525",
   "metadata": {},
   "source": [
    "Le nouveau produit est bel et bien présent dans la base de données des produits."
   ]
  },
  {
   "cell_type": "markdown",
   "id": "5f017f9d",
   "metadata": {},
   "source": [
    "##### Afficher la nouvelle dimension de la table des produits"
   ]
  },
  {
   "cell_type": "code",
   "execution_count": 25,
   "id": "285f9f6b",
   "metadata": {},
   "outputs": [
    {
     "data": {
      "text/plain": [
       "(3288, 3)"
      ]
     },
     "execution_count": 25,
     "metadata": {},
     "output_type": "execute_result"
    }
   ],
   "source": [
    "dataProducts.shape"
   ]
  },
  {
   "cell_type": "markdown",
   "id": "1fe8c32f",
   "metadata": {},
   "source": [
    "##### Vérifier que tous les produits respectent la nommenclature des noms des produits (catégorie_) "
   ]
  },
  {
   "cell_type": "code",
   "execution_count": 26,
   "id": "58d8da4e",
   "metadata": {},
   "outputs": [
    {
     "name": "stdout",
     "output_type": "stream",
     "text": [
      "Sur les 3288 produits, 3287 sont valides.\n"
     ]
    }
   ],
   "source": [
    "# Sélection des identifiants des produits\n",
    "data = dataProducts['id_prod'].astype(str)\n",
    "\n",
    "# Sélection des produits valides (respectant la nommenclature des noms des produits categorie_)\n",
    "produitsValides=data.loc[data.str.startswith(('0','1','2'))] \n",
    "\n",
    "# Nombre de produits ne respectant pas la nommenclature des noms des produits\n",
    "print('Sur les 3288 produits, '+ str(data.loc[data.str.startswith(('0','1','2'))].count()) + ' sont valides.')"
   ]
  },
  {
   "cell_type": "markdown",
   "id": "2ee9ef1b",
   "metadata": {},
   "source": [
    "Le produit ne respectant pas la nommenclature sera recherché et analysé."
   ]
  },
  {
   "cell_type": "markdown",
   "id": "4803f6fd",
   "metadata": {},
   "source": [
    "##### Rechercher le produit ne respectant pas la nommenclature des noms des produits categorie_codeproduit"
   ]
  },
  {
   "cell_type": "code",
   "execution_count": 27,
   "id": "a1c8dc3c",
   "metadata": {},
   "outputs": [
    {
     "data": {
      "text/html": [
       "<div>\n",
       "<style scoped>\n",
       "    .dataframe tbody tr th:only-of-type {\n",
       "        vertical-align: middle;\n",
       "    }\n",
       "\n",
       "    .dataframe tbody tr th {\n",
       "        vertical-align: top;\n",
       "    }\n",
       "\n",
       "    .dataframe thead th {\n",
       "        text-align: right;\n",
       "    }\n",
       "</style>\n",
       "<table border=\"1\" class=\"dataframe\">\n",
       "  <thead>\n",
       "    <tr style=\"text-align: right;\">\n",
       "      <th></th>\n",
       "      <th>id_prod</th>\n",
       "      <th>price</th>\n",
       "      <th>categ</th>\n",
       "    </tr>\n",
       "  </thead>\n",
       "  <tbody>\n",
       "    <tr>\n",
       "      <th>731</th>\n",
       "      <td>T_0</td>\n",
       "      <td>-1.0</td>\n",
       "      <td>0</td>\n",
       "    </tr>\n",
       "  </tbody>\n",
       "</table>\n",
       "</div>"
      ],
      "text/plain": [
       "    id_prod  price  categ\n",
       "731     T_0   -1.0      0"
      ]
     },
     "execution_count": 27,
     "metadata": {},
     "output_type": "execute_result"
    }
   ],
   "source": [
    "dataProducts.query(\"id_prod not in @produitsValides\")"
   ]
  },
  {
   "cell_type": "markdown",
   "id": "5157c3a9",
   "metadata": {},
   "source": [
    "Le produit ne respectant pas la nommenclature est un produit test. Il a un prix négatif. Le prix négatif sera remplacé par 0."
   ]
  },
  {
   "cell_type": "markdown",
   "id": "c11f5d60",
   "metadata": {},
   "source": [
    "##### Remplacer le prix négatif du produit de test par 0 "
   ]
  },
  {
   "cell_type": "code",
   "execution_count": 28,
   "id": "e55e80c3",
   "metadata": {},
   "outputs": [
    {
     "data": {
      "text/html": [
       "<div>\n",
       "<style scoped>\n",
       "    .dataframe tbody tr th:only-of-type {\n",
       "        vertical-align: middle;\n",
       "    }\n",
       "\n",
       "    .dataframe tbody tr th {\n",
       "        vertical-align: top;\n",
       "    }\n",
       "\n",
       "    .dataframe thead th {\n",
       "        text-align: right;\n",
       "    }\n",
       "</style>\n",
       "<table border=\"1\" class=\"dataframe\">\n",
       "  <thead>\n",
       "    <tr style=\"text-align: right;\">\n",
       "      <th></th>\n",
       "      <th>id_prod</th>\n",
       "      <th>price</th>\n",
       "      <th>categ</th>\n",
       "    </tr>\n",
       "  </thead>\n",
       "  <tbody>\n",
       "    <tr>\n",
       "      <th>731</th>\n",
       "      <td>T_0</td>\n",
       "      <td>0.0</td>\n",
       "      <td>0</td>\n",
       "    </tr>\n",
       "  </tbody>\n",
       "</table>\n",
       "</div>"
      ],
      "text/plain": [
       "    id_prod  price  categ\n",
       "731     T_0    0.0      0"
      ]
     },
     "execution_count": 28,
     "metadata": {},
     "output_type": "execute_result"
    }
   ],
   "source": [
    "dataProducts.loc[dataProducts.price<0,'price']=0\n",
    "\n",
    "dataProducts.query('id_prod==\"T_0\"')"
   ]
  },
  {
   "cell_type": "markdown",
   "id": "ad35c909",
   "metadata": {},
   "source": [
    "Ce produit ne sera pas integré dans l'analyse des données."
   ]
  },
  {
   "cell_type": "markdown",
   "id": "6c44147a",
   "metadata": {},
   "source": [
    "##### Détection des outliers"
   ]
  },
  {
   "cell_type": "code",
   "execution_count": 29,
   "id": "09c0c8f2",
   "metadata": {},
   "outputs": [
    {
     "data": {
      "text/html": [
       "<div>\n",
       "<style scoped>\n",
       "    .dataframe tbody tr th:only-of-type {\n",
       "        vertical-align: middle;\n",
       "    }\n",
       "\n",
       "    .dataframe tbody tr th {\n",
       "        vertical-align: top;\n",
       "    }\n",
       "\n",
       "    .dataframe thead th {\n",
       "        text-align: right;\n",
       "    }\n",
       "</style>\n",
       "<table border=\"1\" class=\"dataframe\">\n",
       "  <thead>\n",
       "    <tr style=\"text-align: right;\">\n",
       "      <th></th>\n",
       "      <th>price</th>\n",
       "      <th>categ</th>\n",
       "    </tr>\n",
       "  </thead>\n",
       "  <tbody>\n",
       "    <tr>\n",
       "      <th>count</th>\n",
       "      <td>3288.000000</td>\n",
       "      <td>3288.000000</td>\n",
       "    </tr>\n",
       "    <tr>\n",
       "      <th>mean</th>\n",
       "      <td>21.853866</td>\n",
       "      <td>0.370134</td>\n",
       "    </tr>\n",
       "    <tr>\n",
       "      <th>std</th>\n",
       "      <td>29.843662</td>\n",
       "      <td>0.615327</td>\n",
       "    </tr>\n",
       "    <tr>\n",
       "      <th>min</th>\n",
       "      <td>0.000000</td>\n",
       "      <td>0.000000</td>\n",
       "    </tr>\n",
       "    <tr>\n",
       "      <th>25%</th>\n",
       "      <td>6.990000</td>\n",
       "      <td>0.000000</td>\n",
       "    </tr>\n",
       "    <tr>\n",
       "      <th>50%</th>\n",
       "      <td>13.055000</td>\n",
       "      <td>0.000000</td>\n",
       "    </tr>\n",
       "    <tr>\n",
       "      <th>75%</th>\n",
       "      <td>22.990000</td>\n",
       "      <td>1.000000</td>\n",
       "    </tr>\n",
       "    <tr>\n",
       "      <th>max</th>\n",
       "      <td>300.000000</td>\n",
       "      <td>2.000000</td>\n",
       "    </tr>\n",
       "  </tbody>\n",
       "</table>\n",
       "</div>"
      ],
      "text/plain": [
       "             price        categ\n",
       "count  3288.000000  3288.000000\n",
       "mean     21.853866     0.370134\n",
       "std      29.843662     0.615327\n",
       "min       0.000000     0.000000\n",
       "25%       6.990000     0.000000\n",
       "50%      13.055000     0.000000\n",
       "75%      22.990000     1.000000\n",
       "max     300.000000     2.000000"
      ]
     },
     "execution_count": 29,
     "metadata": {},
     "output_type": "execute_result"
    }
   ],
   "source": [
    "dataProducts.describe()"
   ]
  },
  {
   "cell_type": "markdown",
   "id": "d3897616",
   "metadata": {},
   "source": [
    "Tout semble normal. Il n'ya pas d'outliers. Le prix négatif a disparu, il correspondait au prix du produit de test. Il a été remplacé par 0."
   ]
  },
  {
   "cell_type": "markdown",
   "id": "0f3f39cd",
   "metadata": {},
   "source": [
    "### 3.3 - Données transactions <a class=\"anchor\" id=\"section_3_3\"></a>"
   ]
  },
  {
   "cell_type": "markdown",
   "id": "76ce137a",
   "metadata": {},
   "source": [
    "##### Vérifier le typage de données"
   ]
  },
  {
   "cell_type": "markdown",
   "id": "63c390b0",
   "metadata": {},
   "source": [
    " Vérifier que les variables ont bien été importées dans le bon type."
   ]
  },
  {
   "cell_type": "code",
   "execution_count": 30,
   "id": "794db9bd",
   "metadata": {},
   "outputs": [
    {
     "data": {
      "text/plain": [
       "id_prod       object\n",
       "date          object\n",
       "session_id    object\n",
       "client_id     object\n",
       "dtype: object"
      ]
     },
     "execution_count": 30,
     "metadata": {},
     "output_type": "execute_result"
    }
   ],
   "source": [
    "dataTransactions.dtypes"
   ]
  },
  {
   "cell_type": "markdown",
   "id": "0b8429cf",
   "metadata": {},
   "source": [
    "La seule chose qui semble être problématique est la variable date qui n'est pas considérée comme une date. Cette variable sera convertie en type date."
   ]
  },
  {
   "cell_type": "markdown",
   "id": "d5743be0",
   "metadata": {},
   "source": [
    "##### Convertir la colonne date en datime"
   ]
  },
  {
   "cell_type": "code",
   "execution_count": 31,
   "id": "269fd71e",
   "metadata": {},
   "outputs": [],
   "source": [
    "dataTransactions['date']=pd.to_datetime(dataTransactions['date'],errors = 'coerce',format = '%Y-%m-%d')"
   ]
  },
  {
   "cell_type": "markdown",
   "id": "993663b6",
   "metadata": {},
   "source": [
    "##### Vérifier la modification du type de données de la variable date"
   ]
  },
  {
   "cell_type": "code",
   "execution_count": 32,
   "id": "3f962eac",
   "metadata": {},
   "outputs": [
    {
     "data": {
      "text/plain": [
       "id_prod               object\n",
       "date          datetime64[ns]\n",
       "session_id            object\n",
       "client_id             object\n",
       "dtype: object"
      ]
     },
     "execution_count": 32,
     "metadata": {},
     "output_type": "execute_result"
    }
   ],
   "source": [
    "dataTransactions.dtypes"
   ]
  },
  {
   "cell_type": "markdown",
   "id": "6bdbe82f",
   "metadata": {},
   "source": [
    "##### Vérifier les valeurs manquantes (NaN)"
   ]
  },
  {
   "cell_type": "code",
   "execution_count": 33,
   "id": "4a181230",
   "metadata": {},
   "outputs": [
    {
     "data": {
      "text/plain": [
       "id_prod         0\n",
       "date          200\n",
       "session_id      0\n",
       "client_id       0\n",
       "dtype: int64"
      ]
     },
     "execution_count": 33,
     "metadata": {},
     "output_type": "execute_result"
    }
   ],
   "source": [
    "dataTransactions.isna().sum()"
   ]
  },
  {
   "cell_type": "markdown",
   "id": "d4528d49",
   "metadata": {},
   "source": [
    "La variable date a 200 valeurs manquantes."
   ]
  },
  {
   "cell_type": "markdown",
   "id": "de35de84",
   "metadata": {},
   "source": [
    "##### Afficher les données avec les valeurs manquantes"
   ]
  },
  {
   "cell_type": "code",
   "execution_count": 34,
   "id": "d1c1fc99",
   "metadata": {},
   "outputs": [
    {
     "data": {
      "text/html": [
       "<div>\n",
       "<style scoped>\n",
       "    .dataframe tbody tr th:only-of-type {\n",
       "        vertical-align: middle;\n",
       "    }\n",
       "\n",
       "    .dataframe tbody tr th {\n",
       "        vertical-align: top;\n",
       "    }\n",
       "\n",
       "    .dataframe thead th {\n",
       "        text-align: right;\n",
       "    }\n",
       "</style>\n",
       "<table border=\"1\" class=\"dataframe\">\n",
       "  <thead>\n",
       "    <tr style=\"text-align: right;\">\n",
       "      <th></th>\n",
       "      <th>id_prod</th>\n",
       "      <th>date</th>\n",
       "      <th>session_id</th>\n",
       "      <th>client_id</th>\n",
       "    </tr>\n",
       "  </thead>\n",
       "  <tbody>\n",
       "    <tr>\n",
       "      <th>3019</th>\n",
       "      <td>T_0</td>\n",
       "      <td>NaT</td>\n",
       "      <td>s_0</td>\n",
       "      <td>ct_0</td>\n",
       "    </tr>\n",
       "    <tr>\n",
       "      <th>5138</th>\n",
       "      <td>T_0</td>\n",
       "      <td>NaT</td>\n",
       "      <td>s_0</td>\n",
       "      <td>ct_0</td>\n",
       "    </tr>\n",
       "    <tr>\n",
       "      <th>9668</th>\n",
       "      <td>T_0</td>\n",
       "      <td>NaT</td>\n",
       "      <td>s_0</td>\n",
       "      <td>ct_1</td>\n",
       "    </tr>\n",
       "    <tr>\n",
       "      <th>10728</th>\n",
       "      <td>T_0</td>\n",
       "      <td>NaT</td>\n",
       "      <td>s_0</td>\n",
       "      <td>ct_0</td>\n",
       "    </tr>\n",
       "    <tr>\n",
       "      <th>15292</th>\n",
       "      <td>T_0</td>\n",
       "      <td>NaT</td>\n",
       "      <td>s_0</td>\n",
       "      <td>ct_0</td>\n",
       "    </tr>\n",
       "    <tr>\n",
       "      <th>...</th>\n",
       "      <td>...</td>\n",
       "      <td>...</td>\n",
       "      <td>...</td>\n",
       "      <td>...</td>\n",
       "    </tr>\n",
       "    <tr>\n",
       "      <th>657830</th>\n",
       "      <td>T_0</td>\n",
       "      <td>NaT</td>\n",
       "      <td>s_0</td>\n",
       "      <td>ct_0</td>\n",
       "    </tr>\n",
       "    <tr>\n",
       "      <th>662081</th>\n",
       "      <td>T_0</td>\n",
       "      <td>NaT</td>\n",
       "      <td>s_0</td>\n",
       "      <td>ct_1</td>\n",
       "    </tr>\n",
       "    <tr>\n",
       "      <th>670680</th>\n",
       "      <td>T_0</td>\n",
       "      <td>NaT</td>\n",
       "      <td>s_0</td>\n",
       "      <td>ct_1</td>\n",
       "    </tr>\n",
       "    <tr>\n",
       "      <th>671647</th>\n",
       "      <td>T_0</td>\n",
       "      <td>NaT</td>\n",
       "      <td>s_0</td>\n",
       "      <td>ct_1</td>\n",
       "    </tr>\n",
       "    <tr>\n",
       "      <th>679180</th>\n",
       "      <td>T_0</td>\n",
       "      <td>NaT</td>\n",
       "      <td>s_0</td>\n",
       "      <td>ct_1</td>\n",
       "    </tr>\n",
       "  </tbody>\n",
       "</table>\n",
       "<p>200 rows × 4 columns</p>\n",
       "</div>"
      ],
      "text/plain": [
       "       id_prod date session_id client_id\n",
       "3019       T_0  NaT        s_0      ct_0\n",
       "5138       T_0  NaT        s_0      ct_0\n",
       "9668       T_0  NaT        s_0      ct_1\n",
       "10728      T_0  NaT        s_0      ct_0\n",
       "15292      T_0  NaT        s_0      ct_0\n",
       "...        ...  ...        ...       ...\n",
       "657830     T_0  NaT        s_0      ct_0\n",
       "662081     T_0  NaT        s_0      ct_1\n",
       "670680     T_0  NaT        s_0      ct_1\n",
       "671647     T_0  NaT        s_0      ct_1\n",
       "679180     T_0  NaT        s_0      ct_1\n",
       "\n",
       "[200 rows x 4 columns]"
      ]
     },
     "execution_count": 34,
     "metadata": {},
     "output_type": "execute_result"
    }
   ],
   "source": [
    "dataTransactions.loc[dataTransactions['date'].isnull(),:]"
   ]
  },
  {
   "cell_type": "markdown",
   "id": "889d15f6",
   "metadata": {},
   "source": [
    "Les données avec les dates manquantes correspondent aux données de test."
   ]
  },
  {
   "cell_type": "markdown",
   "id": "ef9cc5fd",
   "metadata": {},
   "source": [
    "##### Supprimer les 200 transactions avec le produit test"
   ]
  },
  {
   "cell_type": "code",
   "execution_count": 35,
   "id": "8dffbdfa",
   "metadata": {},
   "outputs": [],
   "source": [
    "indexNames = dataTransactions[ (dataTransactions['id_prod'] == \"T_0\")].index\n",
    "dataTransactions.drop(indexNames , inplace=True)"
   ]
  },
  {
   "cell_type": "markdown",
   "id": "78b96a37",
   "metadata": {},
   "source": [
    "##### Vérifier que les 200 transactions avec le produit test ont été supprimées"
   ]
  },
  {
   "cell_type": "code",
   "execution_count": 36,
   "id": "e5af547b",
   "metadata": {},
   "outputs": [
    {
     "data": {
      "text/html": [
       "<div>\n",
       "<style scoped>\n",
       "    .dataframe tbody tr th:only-of-type {\n",
       "        vertical-align: middle;\n",
       "    }\n",
       "\n",
       "    .dataframe tbody tr th {\n",
       "        vertical-align: top;\n",
       "    }\n",
       "\n",
       "    .dataframe thead th {\n",
       "        text-align: right;\n",
       "    }\n",
       "</style>\n",
       "<table border=\"1\" class=\"dataframe\">\n",
       "  <thead>\n",
       "    <tr style=\"text-align: right;\">\n",
       "      <th></th>\n",
       "      <th>id_prod</th>\n",
       "      <th>date</th>\n",
       "      <th>session_id</th>\n",
       "      <th>client_id</th>\n",
       "    </tr>\n",
       "  </thead>\n",
       "  <tbody>\n",
       "    <tr>\n",
       "      <th>0</th>\n",
       "      <td>0_1518</td>\n",
       "      <td>2022-05-20 13:21:29.043970</td>\n",
       "      <td>s_211425</td>\n",
       "      <td>c_103</td>\n",
       "    </tr>\n",
       "    <tr>\n",
       "      <th>1</th>\n",
       "      <td>1_251</td>\n",
       "      <td>2022-02-02 07:55:19.149409</td>\n",
       "      <td>s_158752</td>\n",
       "      <td>c_8534</td>\n",
       "    </tr>\n",
       "    <tr>\n",
       "      <th>2</th>\n",
       "      <td>0_1277</td>\n",
       "      <td>2022-06-18 15:44:33.155329</td>\n",
       "      <td>s_225667</td>\n",
       "      <td>c_6714</td>\n",
       "    </tr>\n",
       "    <tr>\n",
       "      <th>3</th>\n",
       "      <td>2_209</td>\n",
       "      <td>2021-06-24 04:19:29.835891</td>\n",
       "      <td>s_52962</td>\n",
       "      <td>c_6941</td>\n",
       "    </tr>\n",
       "    <tr>\n",
       "      <th>4</th>\n",
       "      <td>0_1509</td>\n",
       "      <td>2023-01-11 08:22:08.194479</td>\n",
       "      <td>s_325227</td>\n",
       "      <td>c_4232</td>\n",
       "    </tr>\n",
       "    <tr>\n",
       "      <th>...</th>\n",
       "      <td>...</td>\n",
       "      <td>...</td>\n",
       "      <td>...</td>\n",
       "      <td>...</td>\n",
       "    </tr>\n",
       "    <tr>\n",
       "      <th>679527</th>\n",
       "      <td>0_1551</td>\n",
       "      <td>2022-01-15 13:05:06.246925</td>\n",
       "      <td>s_150195</td>\n",
       "      <td>c_8489</td>\n",
       "    </tr>\n",
       "    <tr>\n",
       "      <th>679528</th>\n",
       "      <td>1_639</td>\n",
       "      <td>2022-03-19 16:03:23.429229</td>\n",
       "      <td>s_181434</td>\n",
       "      <td>c_4370</td>\n",
       "    </tr>\n",
       "    <tr>\n",
       "      <th>679529</th>\n",
       "      <td>0_1425</td>\n",
       "      <td>2022-12-20 04:33:37.584749</td>\n",
       "      <td>s_314704</td>\n",
       "      <td>c_304</td>\n",
       "    </tr>\n",
       "    <tr>\n",
       "      <th>679530</th>\n",
       "      <td>0_1994</td>\n",
       "      <td>2021-07-16 20:36:35.350579</td>\n",
       "      <td>s_63204</td>\n",
       "      <td>c_2227</td>\n",
       "    </tr>\n",
       "    <tr>\n",
       "      <th>679531</th>\n",
       "      <td>1_523</td>\n",
       "      <td>2022-09-28 01:12:01.973763</td>\n",
       "      <td>s_274568</td>\n",
       "      <td>c_3873</td>\n",
       "    </tr>\n",
       "  </tbody>\n",
       "</table>\n",
       "<p>679332 rows × 4 columns</p>\n",
       "</div>"
      ],
      "text/plain": [
       "       id_prod                       date session_id client_id\n",
       "0       0_1518 2022-05-20 13:21:29.043970   s_211425     c_103\n",
       "1        1_251 2022-02-02 07:55:19.149409   s_158752    c_8534\n",
       "2       0_1277 2022-06-18 15:44:33.155329   s_225667    c_6714\n",
       "3        2_209 2021-06-24 04:19:29.835891    s_52962    c_6941\n",
       "4       0_1509 2023-01-11 08:22:08.194479   s_325227    c_4232\n",
       "...        ...                        ...        ...       ...\n",
       "679527  0_1551 2022-01-15 13:05:06.246925   s_150195    c_8489\n",
       "679528   1_639 2022-03-19 16:03:23.429229   s_181434    c_4370\n",
       "679529  0_1425 2022-12-20 04:33:37.584749   s_314704     c_304\n",
       "679530  0_1994 2021-07-16 20:36:35.350579    s_63204    c_2227\n",
       "679531   1_523 2022-09-28 01:12:01.973763   s_274568    c_3873\n",
       "\n",
       "[679332 rows x 4 columns]"
      ]
     },
     "execution_count": 36,
     "metadata": {},
     "output_type": "execute_result"
    }
   ],
   "source": [
    "dataTransactions"
   ]
  },
  {
   "cell_type": "markdown",
   "id": "01a33171",
   "metadata": {},
   "source": [
    "Sur les 679 532 transactions, 200 ont été supprimés. Il en reste 679 332."
   ]
  },
  {
   "cell_type": "markdown",
   "id": "94af5a10",
   "metadata": {},
   "source": [
    "##### Vérifier que tous les clients présents dans les transactions ont une fiche client "
   ]
  },
  {
   "cell_type": "code",
   "execution_count": 37,
   "id": "933776f0",
   "metadata": {},
   "outputs": [
    {
     "data": {
      "text/html": [
       "<div>\n",
       "<style scoped>\n",
       "    .dataframe tbody tr th:only-of-type {\n",
       "        vertical-align: middle;\n",
       "    }\n",
       "\n",
       "    .dataframe tbody tr th {\n",
       "        vertical-align: top;\n",
       "    }\n",
       "\n",
       "    .dataframe thead th {\n",
       "        text-align: right;\n",
       "    }\n",
       "</style>\n",
       "<table border=\"1\" class=\"dataframe\">\n",
       "  <thead>\n",
       "    <tr style=\"text-align: right;\">\n",
       "      <th></th>\n",
       "      <th>id_prod</th>\n",
       "      <th>date</th>\n",
       "      <th>session_id</th>\n",
       "      <th>client_id</th>\n",
       "    </tr>\n",
       "  </thead>\n",
       "  <tbody>\n",
       "  </tbody>\n",
       "</table>\n",
       "</div>"
      ],
      "text/plain": [
       "Empty DataFrame\n",
       "Columns: [id_prod, date, session_id, client_id]\n",
       "Index: []"
      ]
     },
     "execution_count": 37,
     "metadata": {},
     "output_type": "execute_result"
    }
   ],
   "source": [
    "# Selectionner les identifiants des clients dans la base de clients  \n",
    "listeClients=dataCustomers['client_id']\n",
    "\n",
    "# Vérifier si tous les clients présents dans les transactions sont présents dans la base de clients \n",
    "transactionsAvecClientsManquants=dataTransactions.query(\"client_id not in @listeClients\")\n",
    "\n",
    "# Afficher les produits manquants\n",
    "transactionsAvecClientsManquants"
   ]
  },
  {
   "cell_type": "markdown",
   "id": "02594f91",
   "metadata": {},
   "source": [
    "Tous les clients présents dans les transactions ont une fiche clients."
   ]
  },
  {
   "cell_type": "markdown",
   "id": "2c3d6cd9",
   "metadata": {},
   "source": [
    "##### Détection des outliers"
   ]
  },
  {
   "cell_type": "code",
   "execution_count": 38,
   "id": "f05ee264",
   "metadata": {},
   "outputs": [
    {
     "data": {
      "text/html": [
       "<div>\n",
       "<style scoped>\n",
       "    .dataframe tbody tr th:only-of-type {\n",
       "        vertical-align: middle;\n",
       "    }\n",
       "\n",
       "    .dataframe tbody tr th {\n",
       "        vertical-align: top;\n",
       "    }\n",
       "\n",
       "    .dataframe thead th {\n",
       "        text-align: right;\n",
       "    }\n",
       "</style>\n",
       "<table border=\"1\" class=\"dataframe\">\n",
       "  <thead>\n",
       "    <tr style=\"text-align: right;\">\n",
       "      <th></th>\n",
       "      <th>id_prod</th>\n",
       "      <th>date</th>\n",
       "      <th>session_id</th>\n",
       "      <th>client_id</th>\n",
       "    </tr>\n",
       "  </thead>\n",
       "  <tbody>\n",
       "    <tr>\n",
       "      <th>count</th>\n",
       "      <td>679332</td>\n",
       "      <td>679332</td>\n",
       "      <td>679332</td>\n",
       "      <td>679332</td>\n",
       "    </tr>\n",
       "    <tr>\n",
       "      <th>unique</th>\n",
       "      <td>3266</td>\n",
       "      <td>NaN</td>\n",
       "      <td>342315</td>\n",
       "      <td>8600</td>\n",
       "    </tr>\n",
       "    <tr>\n",
       "      <th>top</th>\n",
       "      <td>1_369</td>\n",
       "      <td>NaN</td>\n",
       "      <td>s_118668</td>\n",
       "      <td>c_1609</td>\n",
       "    </tr>\n",
       "    <tr>\n",
       "      <th>freq</th>\n",
       "      <td>2252</td>\n",
       "      <td>NaN</td>\n",
       "      <td>14</td>\n",
       "      <td>25488</td>\n",
       "    </tr>\n",
       "    <tr>\n",
       "      <th>mean</th>\n",
       "      <td>NaN</td>\n",
       "      <td>2022-03-03 15:13:19.307389696</td>\n",
       "      <td>NaN</td>\n",
       "      <td>NaN</td>\n",
       "    </tr>\n",
       "    <tr>\n",
       "      <th>min</th>\n",
       "      <td>NaN</td>\n",
       "      <td>2021-03-01 00:01:07.843138</td>\n",
       "      <td>NaN</td>\n",
       "      <td>NaN</td>\n",
       "    </tr>\n",
       "    <tr>\n",
       "      <th>25%</th>\n",
       "      <td>NaN</td>\n",
       "      <td>2021-09-08 09:14:25.055994368</td>\n",
       "      <td>NaN</td>\n",
       "      <td>NaN</td>\n",
       "    </tr>\n",
       "    <tr>\n",
       "      <th>50%</th>\n",
       "      <td>NaN</td>\n",
       "      <td>2022-03-03 07:50:20.817730560</td>\n",
       "      <td>NaN</td>\n",
       "      <td>NaN</td>\n",
       "    </tr>\n",
       "    <tr>\n",
       "      <th>75%</th>\n",
       "      <td>NaN</td>\n",
       "      <td>2022-08-30 23:57:08.555173888</td>\n",
       "      <td>NaN</td>\n",
       "      <td>NaN</td>\n",
       "    </tr>\n",
       "    <tr>\n",
       "      <th>max</th>\n",
       "      <td>NaN</td>\n",
       "      <td>2023-02-28 23:58:30.792755</td>\n",
       "      <td>NaN</td>\n",
       "      <td>NaN</td>\n",
       "    </tr>\n",
       "  </tbody>\n",
       "</table>\n",
       "</div>"
      ],
      "text/plain": [
       "       id_prod                           date session_id client_id\n",
       "count   679332                         679332     679332    679332\n",
       "unique    3266                            NaN     342315      8600\n",
       "top      1_369                            NaN   s_118668    c_1609\n",
       "freq      2252                            NaN         14     25488\n",
       "mean       NaN  2022-03-03 15:13:19.307389696        NaN       NaN\n",
       "min        NaN     2021-03-01 00:01:07.843138        NaN       NaN\n",
       "25%        NaN  2021-09-08 09:14:25.055994368        NaN       NaN\n",
       "50%        NaN  2022-03-03 07:50:20.817730560        NaN       NaN\n",
       "75%        NaN  2022-08-30 23:57:08.555173888        NaN       NaN\n",
       "max        NaN     2023-02-28 23:58:30.792755        NaN       NaN"
      ]
     },
     "execution_count": 38,
     "metadata": {},
     "output_type": "execute_result"
    }
   ],
   "source": [
    "dataTransactions.describe(include='all',datetime_is_numeric=True)"
   ]
  },
  {
   "cell_type": "markdown",
   "id": "545a82d4",
   "metadata": {},
   "source": [
    "A première vue, rien de cloche pour la date. Il n'y a pas suffisamment d'informations pour les autres colonnes."
   ]
  },
  {
   "cell_type": "markdown",
   "id": "2ae2ac0f",
   "metadata": {},
   "source": [
    "## 4 - Analyses des données <a class=\"anchor\" id=\"chapter4\"></a>"
   ]
  },
  {
   "cell_type": "markdown",
   "id": "a1683cf9",
   "metadata": {},
   "source": [
    "### 4.1 - Création des informations necessaires à l'analyse des données<a class=\"anchor\" id=\"section_4_1\"></a>"
   ]
  },
  {
   "cell_type": "markdown",
   "id": "9f49d896",
   "metadata": {},
   "source": [
    "##### Calculer l'âge des clients"
   ]
  },
  {
   "cell_type": "code",
   "execution_count": 39,
   "id": "4cc11b96",
   "metadata": {},
   "outputs": [
    {
     "name": "stdout",
     "output_type": "stream",
     "text": [
      "L'année en cours est 2021\n"
     ]
    },
    {
     "data": {
      "text/html": [
       "<div>\n",
       "<style scoped>\n",
       "    .dataframe tbody tr th:only-of-type {\n",
       "        vertical-align: middle;\n",
       "    }\n",
       "\n",
       "    .dataframe tbody tr th {\n",
       "        vertical-align: top;\n",
       "    }\n",
       "\n",
       "    .dataframe thead th {\n",
       "        text-align: right;\n",
       "    }\n",
       "</style>\n",
       "<table border=\"1\" class=\"dataframe\">\n",
       "  <thead>\n",
       "    <tr style=\"text-align: right;\">\n",
       "      <th></th>\n",
       "      <th>client_id</th>\n",
       "      <th>sex</th>\n",
       "      <th>birth</th>\n",
       "      <th>Age</th>\n",
       "    </tr>\n",
       "  </thead>\n",
       "  <tbody>\n",
       "    <tr>\n",
       "      <th>0</th>\n",
       "      <td>c_4410</td>\n",
       "      <td>f</td>\n",
       "      <td>1967</td>\n",
       "      <td>54</td>\n",
       "    </tr>\n",
       "    <tr>\n",
       "      <th>1</th>\n",
       "      <td>c_7839</td>\n",
       "      <td>f</td>\n",
       "      <td>1975</td>\n",
       "      <td>46</td>\n",
       "    </tr>\n",
       "    <tr>\n",
       "      <th>2</th>\n",
       "      <td>c_1699</td>\n",
       "      <td>f</td>\n",
       "      <td>1984</td>\n",
       "      <td>37</td>\n",
       "    </tr>\n",
       "    <tr>\n",
       "      <th>3</th>\n",
       "      <td>c_5961</td>\n",
       "      <td>f</td>\n",
       "      <td>1962</td>\n",
       "      <td>59</td>\n",
       "    </tr>\n",
       "    <tr>\n",
       "      <th>4</th>\n",
       "      <td>c_5320</td>\n",
       "      <td>m</td>\n",
       "      <td>1943</td>\n",
       "      <td>78</td>\n",
       "    </tr>\n",
       "    <tr>\n",
       "      <th>...</th>\n",
       "      <td>...</td>\n",
       "      <td>...</td>\n",
       "      <td>...</td>\n",
       "      <td>...</td>\n",
       "    </tr>\n",
       "    <tr>\n",
       "      <th>8618</th>\n",
       "      <td>c_7920</td>\n",
       "      <td>m</td>\n",
       "      <td>1956</td>\n",
       "      <td>65</td>\n",
       "    </tr>\n",
       "    <tr>\n",
       "      <th>8619</th>\n",
       "      <td>c_7403</td>\n",
       "      <td>f</td>\n",
       "      <td>1970</td>\n",
       "      <td>51</td>\n",
       "    </tr>\n",
       "    <tr>\n",
       "      <th>8620</th>\n",
       "      <td>c_5119</td>\n",
       "      <td>m</td>\n",
       "      <td>1974</td>\n",
       "      <td>47</td>\n",
       "    </tr>\n",
       "    <tr>\n",
       "      <th>8621</th>\n",
       "      <td>c_5643</td>\n",
       "      <td>f</td>\n",
       "      <td>1968</td>\n",
       "      <td>53</td>\n",
       "    </tr>\n",
       "    <tr>\n",
       "      <th>8622</th>\n",
       "      <td>c_84</td>\n",
       "      <td>f</td>\n",
       "      <td>1982</td>\n",
       "      <td>39</td>\n",
       "    </tr>\n",
       "  </tbody>\n",
       "</table>\n",
       "<p>8623 rows × 4 columns</p>\n",
       "</div>"
      ],
      "text/plain": [
       "     client_id sex  birth  Age\n",
       "0       c_4410   f   1967   54\n",
       "1       c_7839   f   1975   46\n",
       "2       c_1699   f   1984   37\n",
       "3       c_5961   f   1962   59\n",
       "4       c_5320   m   1943   78\n",
       "...        ...  ..    ...  ...\n",
       "8618    c_7920   m   1956   65\n",
       "8619    c_7403   f   1970   51\n",
       "8620    c_5119   m   1974   47\n",
       "8621    c_5643   f   1968   53\n",
       "8622      c_84   f   1982   39\n",
       "\n",
       "[8623 rows x 4 columns]"
      ]
     },
     "execution_count": 39,
     "metadata": {},
     "output_type": "execute_result"
    }
   ],
   "source": [
    "# Recuperer l'année en cours\n",
    "date = datetime.date.today()\n",
    "year = date.strftime(\"%Y\")\n",
    "\n",
    "# Afficher l'année en cours\n",
    "print('L\\'année en cours est ' + year )\n",
    "\n",
    "# Calcul de l'age des clients\n",
    "dataCustomers['Age']=int(year)-dataCustomers['birth']\n",
    "dataCustomers"
   ]
  },
  {
   "cell_type": "markdown",
   "id": "e1933083",
   "metadata": {},
   "source": [
    "##### Créer la colonne Année_Mois extrait de la date"
   ]
  },
  {
   "cell_type": "code",
   "execution_count": 40,
   "id": "3ee0d5ce",
   "metadata": {},
   "outputs": [],
   "source": [
    "dataTransactions['Année_Mois'] = dataTransactions['date'].dt.strftime('%Y-%m')"
   ]
  },
  {
   "cell_type": "markdown",
   "id": "3fc3809c",
   "metadata": {},
   "source": [
    "##### Afficher le dataframe pour s'assurer que la colonne Mois a été créee"
   ]
  },
  {
   "cell_type": "code",
   "execution_count": 41,
   "id": "124b3697",
   "metadata": {},
   "outputs": [
    {
     "data": {
      "text/html": [
       "<div>\n",
       "<style scoped>\n",
       "    .dataframe tbody tr th:only-of-type {\n",
       "        vertical-align: middle;\n",
       "    }\n",
       "\n",
       "    .dataframe tbody tr th {\n",
       "        vertical-align: top;\n",
       "    }\n",
       "\n",
       "    .dataframe thead th {\n",
       "        text-align: right;\n",
       "    }\n",
       "</style>\n",
       "<table border=\"1\" class=\"dataframe\">\n",
       "  <thead>\n",
       "    <tr style=\"text-align: right;\">\n",
       "      <th></th>\n",
       "      <th>id_prod</th>\n",
       "      <th>date</th>\n",
       "      <th>session_id</th>\n",
       "      <th>client_id</th>\n",
       "      <th>Année_Mois</th>\n",
       "    </tr>\n",
       "  </thead>\n",
       "  <tbody>\n",
       "    <tr>\n",
       "      <th>0</th>\n",
       "      <td>0_1518</td>\n",
       "      <td>2022-05-20 13:21:29.043970</td>\n",
       "      <td>s_211425</td>\n",
       "      <td>c_103</td>\n",
       "      <td>2022-05</td>\n",
       "    </tr>\n",
       "    <tr>\n",
       "      <th>1</th>\n",
       "      <td>1_251</td>\n",
       "      <td>2022-02-02 07:55:19.149409</td>\n",
       "      <td>s_158752</td>\n",
       "      <td>c_8534</td>\n",
       "      <td>2022-02</td>\n",
       "    </tr>\n",
       "    <tr>\n",
       "      <th>2</th>\n",
       "      <td>0_1277</td>\n",
       "      <td>2022-06-18 15:44:33.155329</td>\n",
       "      <td>s_225667</td>\n",
       "      <td>c_6714</td>\n",
       "      <td>2022-06</td>\n",
       "    </tr>\n",
       "    <tr>\n",
       "      <th>3</th>\n",
       "      <td>2_209</td>\n",
       "      <td>2021-06-24 04:19:29.835891</td>\n",
       "      <td>s_52962</td>\n",
       "      <td>c_6941</td>\n",
       "      <td>2021-06</td>\n",
       "    </tr>\n",
       "    <tr>\n",
       "      <th>4</th>\n",
       "      <td>0_1509</td>\n",
       "      <td>2023-01-11 08:22:08.194479</td>\n",
       "      <td>s_325227</td>\n",
       "      <td>c_4232</td>\n",
       "      <td>2023-01</td>\n",
       "    </tr>\n",
       "    <tr>\n",
       "      <th>...</th>\n",
       "      <td>...</td>\n",
       "      <td>...</td>\n",
       "      <td>...</td>\n",
       "      <td>...</td>\n",
       "      <td>...</td>\n",
       "    </tr>\n",
       "    <tr>\n",
       "      <th>679527</th>\n",
       "      <td>0_1551</td>\n",
       "      <td>2022-01-15 13:05:06.246925</td>\n",
       "      <td>s_150195</td>\n",
       "      <td>c_8489</td>\n",
       "      <td>2022-01</td>\n",
       "    </tr>\n",
       "    <tr>\n",
       "      <th>679528</th>\n",
       "      <td>1_639</td>\n",
       "      <td>2022-03-19 16:03:23.429229</td>\n",
       "      <td>s_181434</td>\n",
       "      <td>c_4370</td>\n",
       "      <td>2022-03</td>\n",
       "    </tr>\n",
       "    <tr>\n",
       "      <th>679529</th>\n",
       "      <td>0_1425</td>\n",
       "      <td>2022-12-20 04:33:37.584749</td>\n",
       "      <td>s_314704</td>\n",
       "      <td>c_304</td>\n",
       "      <td>2022-12</td>\n",
       "    </tr>\n",
       "    <tr>\n",
       "      <th>679530</th>\n",
       "      <td>0_1994</td>\n",
       "      <td>2021-07-16 20:36:35.350579</td>\n",
       "      <td>s_63204</td>\n",
       "      <td>c_2227</td>\n",
       "      <td>2021-07</td>\n",
       "    </tr>\n",
       "    <tr>\n",
       "      <th>679531</th>\n",
       "      <td>1_523</td>\n",
       "      <td>2022-09-28 01:12:01.973763</td>\n",
       "      <td>s_274568</td>\n",
       "      <td>c_3873</td>\n",
       "      <td>2022-09</td>\n",
       "    </tr>\n",
       "  </tbody>\n",
       "</table>\n",
       "<p>679332 rows × 5 columns</p>\n",
       "</div>"
      ],
      "text/plain": [
       "       id_prod                       date session_id client_id Année_Mois\n",
       "0       0_1518 2022-05-20 13:21:29.043970   s_211425     c_103    2022-05\n",
       "1        1_251 2022-02-02 07:55:19.149409   s_158752    c_8534    2022-02\n",
       "2       0_1277 2022-06-18 15:44:33.155329   s_225667    c_6714    2022-06\n",
       "3        2_209 2021-06-24 04:19:29.835891    s_52962    c_6941    2021-06\n",
       "4       0_1509 2023-01-11 08:22:08.194479   s_325227    c_4232    2023-01\n",
       "...        ...                        ...        ...       ...        ...\n",
       "679527  0_1551 2022-01-15 13:05:06.246925   s_150195    c_8489    2022-01\n",
       "679528   1_639 2022-03-19 16:03:23.429229   s_181434    c_4370    2022-03\n",
       "679529  0_1425 2022-12-20 04:33:37.584749   s_314704     c_304    2022-12\n",
       "679530  0_1994 2021-07-16 20:36:35.350579    s_63204    c_2227    2021-07\n",
       "679531   1_523 2022-09-28 01:12:01.973763   s_274568    c_3873    2022-09\n",
       "\n",
       "[679332 rows x 5 columns]"
      ]
     },
     "execution_count": 41,
     "metadata": {},
     "output_type": "execute_result"
    }
   ],
   "source": [
    "dataTransactions"
   ]
  },
  {
   "cell_type": "markdown",
   "id": "938b6f04",
   "metadata": {},
   "source": [
    "##### Créer une colonne Année extrait de la date"
   ]
  },
  {
   "cell_type": "code",
   "execution_count": 42,
   "id": "73840072",
   "metadata": {},
   "outputs": [],
   "source": [
    "dataTransactions['Année'] = dataTransactions['date'].dt.strftime('%Y')"
   ]
  },
  {
   "cell_type": "markdown",
   "id": "75455fb8",
   "metadata": {},
   "source": [
    "##### Afficher le dataframe pour s'assurer que la colonne Année a été créee"
   ]
  },
  {
   "cell_type": "code",
   "execution_count": 43,
   "id": "ac75f6af",
   "metadata": {},
   "outputs": [
    {
     "data": {
      "text/html": [
       "<div>\n",
       "<style scoped>\n",
       "    .dataframe tbody tr th:only-of-type {\n",
       "        vertical-align: middle;\n",
       "    }\n",
       "\n",
       "    .dataframe tbody tr th {\n",
       "        vertical-align: top;\n",
       "    }\n",
       "\n",
       "    .dataframe thead th {\n",
       "        text-align: right;\n",
       "    }\n",
       "</style>\n",
       "<table border=\"1\" class=\"dataframe\">\n",
       "  <thead>\n",
       "    <tr style=\"text-align: right;\">\n",
       "      <th></th>\n",
       "      <th>id_prod</th>\n",
       "      <th>date</th>\n",
       "      <th>session_id</th>\n",
       "      <th>client_id</th>\n",
       "      <th>Année_Mois</th>\n",
       "      <th>Année</th>\n",
       "    </tr>\n",
       "  </thead>\n",
       "  <tbody>\n",
       "    <tr>\n",
       "      <th>0</th>\n",
       "      <td>0_1518</td>\n",
       "      <td>2022-05-20 13:21:29.043970</td>\n",
       "      <td>s_211425</td>\n",
       "      <td>c_103</td>\n",
       "      <td>2022-05</td>\n",
       "      <td>2022</td>\n",
       "    </tr>\n",
       "    <tr>\n",
       "      <th>1</th>\n",
       "      <td>1_251</td>\n",
       "      <td>2022-02-02 07:55:19.149409</td>\n",
       "      <td>s_158752</td>\n",
       "      <td>c_8534</td>\n",
       "      <td>2022-02</td>\n",
       "      <td>2022</td>\n",
       "    </tr>\n",
       "    <tr>\n",
       "      <th>2</th>\n",
       "      <td>0_1277</td>\n",
       "      <td>2022-06-18 15:44:33.155329</td>\n",
       "      <td>s_225667</td>\n",
       "      <td>c_6714</td>\n",
       "      <td>2022-06</td>\n",
       "      <td>2022</td>\n",
       "    </tr>\n",
       "    <tr>\n",
       "      <th>3</th>\n",
       "      <td>2_209</td>\n",
       "      <td>2021-06-24 04:19:29.835891</td>\n",
       "      <td>s_52962</td>\n",
       "      <td>c_6941</td>\n",
       "      <td>2021-06</td>\n",
       "      <td>2021</td>\n",
       "    </tr>\n",
       "    <tr>\n",
       "      <th>4</th>\n",
       "      <td>0_1509</td>\n",
       "      <td>2023-01-11 08:22:08.194479</td>\n",
       "      <td>s_325227</td>\n",
       "      <td>c_4232</td>\n",
       "      <td>2023-01</td>\n",
       "      <td>2023</td>\n",
       "    </tr>\n",
       "    <tr>\n",
       "      <th>...</th>\n",
       "      <td>...</td>\n",
       "      <td>...</td>\n",
       "      <td>...</td>\n",
       "      <td>...</td>\n",
       "      <td>...</td>\n",
       "      <td>...</td>\n",
       "    </tr>\n",
       "    <tr>\n",
       "      <th>679527</th>\n",
       "      <td>0_1551</td>\n",
       "      <td>2022-01-15 13:05:06.246925</td>\n",
       "      <td>s_150195</td>\n",
       "      <td>c_8489</td>\n",
       "      <td>2022-01</td>\n",
       "      <td>2022</td>\n",
       "    </tr>\n",
       "    <tr>\n",
       "      <th>679528</th>\n",
       "      <td>1_639</td>\n",
       "      <td>2022-03-19 16:03:23.429229</td>\n",
       "      <td>s_181434</td>\n",
       "      <td>c_4370</td>\n",
       "      <td>2022-03</td>\n",
       "      <td>2022</td>\n",
       "    </tr>\n",
       "    <tr>\n",
       "      <th>679529</th>\n",
       "      <td>0_1425</td>\n",
       "      <td>2022-12-20 04:33:37.584749</td>\n",
       "      <td>s_314704</td>\n",
       "      <td>c_304</td>\n",
       "      <td>2022-12</td>\n",
       "      <td>2022</td>\n",
       "    </tr>\n",
       "    <tr>\n",
       "      <th>679530</th>\n",
       "      <td>0_1994</td>\n",
       "      <td>2021-07-16 20:36:35.350579</td>\n",
       "      <td>s_63204</td>\n",
       "      <td>c_2227</td>\n",
       "      <td>2021-07</td>\n",
       "      <td>2021</td>\n",
       "    </tr>\n",
       "    <tr>\n",
       "      <th>679531</th>\n",
       "      <td>1_523</td>\n",
       "      <td>2022-09-28 01:12:01.973763</td>\n",
       "      <td>s_274568</td>\n",
       "      <td>c_3873</td>\n",
       "      <td>2022-09</td>\n",
       "      <td>2022</td>\n",
       "    </tr>\n",
       "  </tbody>\n",
       "</table>\n",
       "<p>679332 rows × 6 columns</p>\n",
       "</div>"
      ],
      "text/plain": [
       "       id_prod                       date session_id client_id Année_Mois  \\\n",
       "0       0_1518 2022-05-20 13:21:29.043970   s_211425     c_103    2022-05   \n",
       "1        1_251 2022-02-02 07:55:19.149409   s_158752    c_8534    2022-02   \n",
       "2       0_1277 2022-06-18 15:44:33.155329   s_225667    c_6714    2022-06   \n",
       "3        2_209 2021-06-24 04:19:29.835891    s_52962    c_6941    2021-06   \n",
       "4       0_1509 2023-01-11 08:22:08.194479   s_325227    c_4232    2023-01   \n",
       "...        ...                        ...        ...       ...        ...   \n",
       "679527  0_1551 2022-01-15 13:05:06.246925   s_150195    c_8489    2022-01   \n",
       "679528   1_639 2022-03-19 16:03:23.429229   s_181434    c_4370    2022-03   \n",
       "679529  0_1425 2022-12-20 04:33:37.584749   s_314704     c_304    2022-12   \n",
       "679530  0_1994 2021-07-16 20:36:35.350579    s_63204    c_2227    2021-07   \n",
       "679531   1_523 2022-09-28 01:12:01.973763   s_274568    c_3873    2022-09   \n",
       "\n",
       "       Année  \n",
       "0       2022  \n",
       "1       2022  \n",
       "2       2022  \n",
       "3       2021  \n",
       "4       2023  \n",
       "...      ...  \n",
       "679527  2022  \n",
       "679528  2022  \n",
       "679529  2022  \n",
       "679530  2021  \n",
       "679531  2022  \n",
       "\n",
       "[679332 rows x 6 columns]"
      ]
     },
     "execution_count": 43,
     "metadata": {},
     "output_type": "execute_result"
    }
   ],
   "source": [
    "dataTransactions"
   ]
  },
  {
   "cell_type": "markdown",
   "id": "f3096d5a",
   "metadata": {},
   "source": [
    "##### Afficher le type de données pour s'assurer qu'il est toujours correct"
   ]
  },
  {
   "cell_type": "code",
   "execution_count": 44,
   "id": "3c19fada",
   "metadata": {},
   "outputs": [
    {
     "data": {
      "text/plain": [
       "id_prod               object\n",
       "date          datetime64[ns]\n",
       "session_id            object\n",
       "client_id             object\n",
       "Année_Mois            object\n",
       "Année                 object\n",
       "dtype: object"
      ]
     },
     "execution_count": 44,
     "metadata": {},
     "output_type": "execute_result"
    }
   ],
   "source": [
    "dataTransactions.dtypes"
   ]
  },
  {
   "cell_type": "markdown",
   "id": "b19cf85d",
   "metadata": {},
   "source": [
    "##### Modifier le format de la colonne date (avant : %Y-%m-%d %H:%M:%S)"
   ]
  },
  {
   "cell_type": "code",
   "execution_count": 45,
   "id": "598af60a",
   "metadata": {},
   "outputs": [],
   "source": [
    "dataTransactions['date'] = dataTransactions['date'].dt.strftime('%Y-%m-%d')"
   ]
  },
  {
   "cell_type": "markdown",
   "id": "925f2918",
   "metadata": {},
   "source": [
    "##### Afficher le dataframe pour s'assurer que le format de la colonne date a été modifié"
   ]
  },
  {
   "cell_type": "code",
   "execution_count": 46,
   "id": "be5f1785",
   "metadata": {},
   "outputs": [
    {
     "data": {
      "text/html": [
       "<div>\n",
       "<style scoped>\n",
       "    .dataframe tbody tr th:only-of-type {\n",
       "        vertical-align: middle;\n",
       "    }\n",
       "\n",
       "    .dataframe tbody tr th {\n",
       "        vertical-align: top;\n",
       "    }\n",
       "\n",
       "    .dataframe thead th {\n",
       "        text-align: right;\n",
       "    }\n",
       "</style>\n",
       "<table border=\"1\" class=\"dataframe\">\n",
       "  <thead>\n",
       "    <tr style=\"text-align: right;\">\n",
       "      <th></th>\n",
       "      <th>id_prod</th>\n",
       "      <th>date</th>\n",
       "      <th>session_id</th>\n",
       "      <th>client_id</th>\n",
       "      <th>Année_Mois</th>\n",
       "      <th>Année</th>\n",
       "    </tr>\n",
       "  </thead>\n",
       "  <tbody>\n",
       "    <tr>\n",
       "      <th>0</th>\n",
       "      <td>0_1518</td>\n",
       "      <td>2022-05-20</td>\n",
       "      <td>s_211425</td>\n",
       "      <td>c_103</td>\n",
       "      <td>2022-05</td>\n",
       "      <td>2022</td>\n",
       "    </tr>\n",
       "    <tr>\n",
       "      <th>1</th>\n",
       "      <td>1_251</td>\n",
       "      <td>2022-02-02</td>\n",
       "      <td>s_158752</td>\n",
       "      <td>c_8534</td>\n",
       "      <td>2022-02</td>\n",
       "      <td>2022</td>\n",
       "    </tr>\n",
       "    <tr>\n",
       "      <th>2</th>\n",
       "      <td>0_1277</td>\n",
       "      <td>2022-06-18</td>\n",
       "      <td>s_225667</td>\n",
       "      <td>c_6714</td>\n",
       "      <td>2022-06</td>\n",
       "      <td>2022</td>\n",
       "    </tr>\n",
       "    <tr>\n",
       "      <th>3</th>\n",
       "      <td>2_209</td>\n",
       "      <td>2021-06-24</td>\n",
       "      <td>s_52962</td>\n",
       "      <td>c_6941</td>\n",
       "      <td>2021-06</td>\n",
       "      <td>2021</td>\n",
       "    </tr>\n",
       "    <tr>\n",
       "      <th>4</th>\n",
       "      <td>0_1509</td>\n",
       "      <td>2023-01-11</td>\n",
       "      <td>s_325227</td>\n",
       "      <td>c_4232</td>\n",
       "      <td>2023-01</td>\n",
       "      <td>2023</td>\n",
       "    </tr>\n",
       "    <tr>\n",
       "      <th>...</th>\n",
       "      <td>...</td>\n",
       "      <td>...</td>\n",
       "      <td>...</td>\n",
       "      <td>...</td>\n",
       "      <td>...</td>\n",
       "      <td>...</td>\n",
       "    </tr>\n",
       "    <tr>\n",
       "      <th>679527</th>\n",
       "      <td>0_1551</td>\n",
       "      <td>2022-01-15</td>\n",
       "      <td>s_150195</td>\n",
       "      <td>c_8489</td>\n",
       "      <td>2022-01</td>\n",
       "      <td>2022</td>\n",
       "    </tr>\n",
       "    <tr>\n",
       "      <th>679528</th>\n",
       "      <td>1_639</td>\n",
       "      <td>2022-03-19</td>\n",
       "      <td>s_181434</td>\n",
       "      <td>c_4370</td>\n",
       "      <td>2022-03</td>\n",
       "      <td>2022</td>\n",
       "    </tr>\n",
       "    <tr>\n",
       "      <th>679529</th>\n",
       "      <td>0_1425</td>\n",
       "      <td>2022-12-20</td>\n",
       "      <td>s_314704</td>\n",
       "      <td>c_304</td>\n",
       "      <td>2022-12</td>\n",
       "      <td>2022</td>\n",
       "    </tr>\n",
       "    <tr>\n",
       "      <th>679530</th>\n",
       "      <td>0_1994</td>\n",
       "      <td>2021-07-16</td>\n",
       "      <td>s_63204</td>\n",
       "      <td>c_2227</td>\n",
       "      <td>2021-07</td>\n",
       "      <td>2021</td>\n",
       "    </tr>\n",
       "    <tr>\n",
       "      <th>679531</th>\n",
       "      <td>1_523</td>\n",
       "      <td>2022-09-28</td>\n",
       "      <td>s_274568</td>\n",
       "      <td>c_3873</td>\n",
       "      <td>2022-09</td>\n",
       "      <td>2022</td>\n",
       "    </tr>\n",
       "  </tbody>\n",
       "</table>\n",
       "<p>679332 rows × 6 columns</p>\n",
       "</div>"
      ],
      "text/plain": [
       "       id_prod        date session_id client_id Année_Mois Année\n",
       "0       0_1518  2022-05-20   s_211425     c_103    2022-05  2022\n",
       "1        1_251  2022-02-02   s_158752    c_8534    2022-02  2022\n",
       "2       0_1277  2022-06-18   s_225667    c_6714    2022-06  2022\n",
       "3        2_209  2021-06-24    s_52962    c_6941    2021-06  2021\n",
       "4       0_1509  2023-01-11   s_325227    c_4232    2023-01  2023\n",
       "...        ...         ...        ...       ...        ...   ...\n",
       "679527  0_1551  2022-01-15   s_150195    c_8489    2022-01  2022\n",
       "679528   1_639  2022-03-19   s_181434    c_4370    2022-03  2022\n",
       "679529  0_1425  2022-12-20   s_314704     c_304    2022-12  2022\n",
       "679530  0_1994  2021-07-16    s_63204    c_2227    2021-07  2021\n",
       "679531   1_523  2022-09-28   s_274568    c_3873    2022-09  2022\n",
       "\n",
       "[679332 rows x 6 columns]"
      ]
     },
     "execution_count": 46,
     "metadata": {},
     "output_type": "execute_result"
    }
   ],
   "source": [
    "dataTransactions"
   ]
  },
  {
   "cell_type": "markdown",
   "id": "9e6de284",
   "metadata": {},
   "source": [
    "##### Vérifier le typage de données"
   ]
  },
  {
   "cell_type": "code",
   "execution_count": 47,
   "id": "81ef0f96",
   "metadata": {},
   "outputs": [
    {
     "data": {
      "text/plain": [
       "id_prod       object\n",
       "date          object\n",
       "session_id    object\n",
       "client_id     object\n",
       "Année_Mois    object\n",
       "Année         object\n",
       "dtype: object"
      ]
     },
     "execution_count": 47,
     "metadata": {},
     "output_type": "execute_result"
    }
   ],
   "source": [
    "dataTransactions.dtypes"
   ]
  },
  {
   "cell_type": "markdown",
   "id": "092bdd7f",
   "metadata": {},
   "source": [
    "##### Convertir la colonne date en datime"
   ]
  },
  {
   "cell_type": "code",
   "execution_count": 48,
   "id": "2db989d9",
   "metadata": {},
   "outputs": [],
   "source": [
    "dataTransactions['date']=pd.to_datetime(dataTransactions['date'],errors = 'coerce',format = '%Y-%m-%d')"
   ]
  },
  {
   "cell_type": "markdown",
   "id": "5c09c9cf",
   "metadata": {},
   "source": [
    "##### Vérifier le typage de données"
   ]
  },
  {
   "cell_type": "code",
   "execution_count": 49,
   "id": "2b24e520",
   "metadata": {},
   "outputs": [
    {
     "data": {
      "text/plain": [
       "id_prod               object\n",
       "date          datetime64[ns]\n",
       "session_id            object\n",
       "client_id             object\n",
       "Année_Mois            object\n",
       "Année                 object\n",
       "dtype: object"
      ]
     },
     "execution_count": 49,
     "metadata": {},
     "output_type": "execute_result"
    }
   ],
   "source": [
    "dataTransactions.dtypes"
   ]
  },
  {
   "cell_type": "markdown",
   "id": "7f17ff16",
   "metadata": {},
   "source": [
    "## 4.2 - Regroupement des données des trois fichiers de données<a class=\"anchor\" id=\"section_4_2\"></a>"
   ]
  },
  {
   "cell_type": "markdown",
   "id": "841638cb",
   "metadata": {},
   "source": [
    "##### Transactions et produits"
   ]
  },
  {
   "cell_type": "code",
   "execution_count": 50,
   "id": "6193d46b",
   "metadata": {},
   "outputs": [
    {
     "data": {
      "text/html": [
       "<div>\n",
       "<style scoped>\n",
       "    .dataframe tbody tr th:only-of-type {\n",
       "        vertical-align: middle;\n",
       "    }\n",
       "\n",
       "    .dataframe tbody tr th {\n",
       "        vertical-align: top;\n",
       "    }\n",
       "\n",
       "    .dataframe thead th {\n",
       "        text-align: right;\n",
       "    }\n",
       "</style>\n",
       "<table border=\"1\" class=\"dataframe\">\n",
       "  <thead>\n",
       "    <tr style=\"text-align: right;\">\n",
       "      <th></th>\n",
       "      <th>id_prod</th>\n",
       "      <th>date</th>\n",
       "      <th>session_id</th>\n",
       "      <th>client_id</th>\n",
       "      <th>Année_Mois</th>\n",
       "      <th>Année</th>\n",
       "      <th>price</th>\n",
       "      <th>categ</th>\n",
       "    </tr>\n",
       "  </thead>\n",
       "  <tbody>\n",
       "    <tr>\n",
       "      <th>0</th>\n",
       "      <td>0_1518</td>\n",
       "      <td>2022-05-20</td>\n",
       "      <td>s_211425</td>\n",
       "      <td>c_103</td>\n",
       "      <td>2022-05</td>\n",
       "      <td>2022</td>\n",
       "      <td>4.18</td>\n",
       "      <td>0</td>\n",
       "    </tr>\n",
       "    <tr>\n",
       "      <th>1</th>\n",
       "      <td>0_1518</td>\n",
       "      <td>2021-09-26</td>\n",
       "      <td>s_95811</td>\n",
       "      <td>c_6197</td>\n",
       "      <td>2021-09</td>\n",
       "      <td>2021</td>\n",
       "      <td>4.18</td>\n",
       "      <td>0</td>\n",
       "    </tr>\n",
       "    <tr>\n",
       "      <th>2</th>\n",
       "      <td>0_1518</td>\n",
       "      <td>2021-05-06</td>\n",
       "      <td>s_30782</td>\n",
       "      <td>c_682</td>\n",
       "      <td>2021-05</td>\n",
       "      <td>2021</td>\n",
       "      <td>4.18</td>\n",
       "      <td>0</td>\n",
       "    </tr>\n",
       "    <tr>\n",
       "      <th>3</th>\n",
       "      <td>0_1518</td>\n",
       "      <td>2022-03-16</td>\n",
       "      <td>s_180057</td>\n",
       "      <td>c_5932</td>\n",
       "      <td>2022-03</td>\n",
       "      <td>2022</td>\n",
       "      <td>4.18</td>\n",
       "      <td>0</td>\n",
       "    </tr>\n",
       "    <tr>\n",
       "      <th>4</th>\n",
       "      <td>0_1518</td>\n",
       "      <td>2022-11-12</td>\n",
       "      <td>s_296584</td>\n",
       "      <td>c_7217</td>\n",
       "      <td>2022-11</td>\n",
       "      <td>2022</td>\n",
       "      <td>4.18</td>\n",
       "      <td>0</td>\n",
       "    </tr>\n",
       "    <tr>\n",
       "      <th>...</th>\n",
       "      <td>...</td>\n",
       "      <td>...</td>\n",
       "      <td>...</td>\n",
       "      <td>...</td>\n",
       "      <td>...</td>\n",
       "      <td>...</td>\n",
       "      <td>...</td>\n",
       "      <td>...</td>\n",
       "    </tr>\n",
       "    <tr>\n",
       "      <th>679327</th>\n",
       "      <td>0_1279</td>\n",
       "      <td>2021-06-23</td>\n",
       "      <td>s_52563</td>\n",
       "      <td>c_1025</td>\n",
       "      <td>2021-06</td>\n",
       "      <td>2021</td>\n",
       "      <td>20.99</td>\n",
       "      <td>0</td>\n",
       "    </tr>\n",
       "    <tr>\n",
       "      <th>679328</th>\n",
       "      <td>0_1683</td>\n",
       "      <td>2021-12-24</td>\n",
       "      <td>s_139091</td>\n",
       "      <td>c_5508</td>\n",
       "      <td>2021-12</td>\n",
       "      <td>2021</td>\n",
       "      <td>2.99</td>\n",
       "      <td>0</td>\n",
       "    </tr>\n",
       "    <tr>\n",
       "      <th>679329</th>\n",
       "      <td>0_1379</td>\n",
       "      <td>2021-10-16</td>\n",
       "      <td>s_105547</td>\n",
       "      <td>c_5425</td>\n",
       "      <td>2021-10</td>\n",
       "      <td>2021</td>\n",
       "      <td>2.99</td>\n",
       "      <td>0</td>\n",
       "    </tr>\n",
       "    <tr>\n",
       "      <th>679330</th>\n",
       "      <td>0_886</td>\n",
       "      <td>2021-03-17</td>\n",
       "      <td>s_7410</td>\n",
       "      <td>c_7219</td>\n",
       "      <td>2021-03</td>\n",
       "      <td>2021</td>\n",
       "      <td>21.82</td>\n",
       "      <td>0</td>\n",
       "    </tr>\n",
       "    <tr>\n",
       "      <th>679331</th>\n",
       "      <td>0_833</td>\n",
       "      <td>2021-09-27</td>\n",
       "      <td>s_96558</td>\n",
       "      <td>c_8260</td>\n",
       "      <td>2021-09</td>\n",
       "      <td>2021</td>\n",
       "      <td>2.99</td>\n",
       "      <td>0</td>\n",
       "    </tr>\n",
       "  </tbody>\n",
       "</table>\n",
       "<p>679332 rows × 8 columns</p>\n",
       "</div>"
      ],
      "text/plain": [
       "       id_prod       date session_id client_id Année_Mois Année  price  categ\n",
       "0       0_1518 2022-05-20   s_211425     c_103    2022-05  2022   4.18      0\n",
       "1       0_1518 2021-09-26    s_95811    c_6197    2021-09  2021   4.18      0\n",
       "2       0_1518 2021-05-06    s_30782     c_682    2021-05  2021   4.18      0\n",
       "3       0_1518 2022-03-16   s_180057    c_5932    2022-03  2022   4.18      0\n",
       "4       0_1518 2022-11-12   s_296584    c_7217    2022-11  2022   4.18      0\n",
       "...        ...        ...        ...       ...        ...   ...    ...    ...\n",
       "679327  0_1279 2021-06-23    s_52563    c_1025    2021-06  2021  20.99      0\n",
       "679328  0_1683 2021-12-24   s_139091    c_5508    2021-12  2021   2.99      0\n",
       "679329  0_1379 2021-10-16   s_105547    c_5425    2021-10  2021   2.99      0\n",
       "679330   0_886 2021-03-17     s_7410    c_7219    2021-03  2021  21.82      0\n",
       "679331   0_833 2021-09-27    s_96558    c_8260    2021-09  2021   2.99      0\n",
       "\n",
       "[679332 rows x 8 columns]"
      ]
     },
     "execution_count": 50,
     "metadata": {},
     "output_type": "execute_result"
    }
   ],
   "source": [
    "dataTransactionProduits = pd.merge(dataTransactions,dataProducts,on=['id_prod','id_prod'])\n",
    "dataTransactionProduits"
   ]
  },
  {
   "cell_type": "markdown",
   "id": "bde267b1",
   "metadata": {},
   "source": [
    "##### Transactions, produits et clients"
   ]
  },
  {
   "cell_type": "code",
   "execution_count": 51,
   "id": "42066346",
   "metadata": {},
   "outputs": [
    {
     "data": {
      "text/html": [
       "<div>\n",
       "<style scoped>\n",
       "    .dataframe tbody tr th:only-of-type {\n",
       "        vertical-align: middle;\n",
       "    }\n",
       "\n",
       "    .dataframe tbody tr th {\n",
       "        vertical-align: top;\n",
       "    }\n",
       "\n",
       "    .dataframe thead th {\n",
       "        text-align: right;\n",
       "    }\n",
       "</style>\n",
       "<table border=\"1\" class=\"dataframe\">\n",
       "  <thead>\n",
       "    <tr style=\"text-align: right;\">\n",
       "      <th></th>\n",
       "      <th>client_id</th>\n",
       "      <th>sex</th>\n",
       "      <th>birth</th>\n",
       "      <th>Age</th>\n",
       "      <th>id_prod</th>\n",
       "      <th>date</th>\n",
       "      <th>session_id</th>\n",
       "      <th>Année_Mois</th>\n",
       "      <th>Année</th>\n",
       "      <th>price</th>\n",
       "      <th>categ</th>\n",
       "    </tr>\n",
       "  </thead>\n",
       "  <tbody>\n",
       "    <tr>\n",
       "      <th>0</th>\n",
       "      <td>c_4410</td>\n",
       "      <td>f</td>\n",
       "      <td>1967</td>\n",
       "      <td>54</td>\n",
       "      <td>0_1277</td>\n",
       "      <td>2022-03-25</td>\n",
       "      <td>s_184041</td>\n",
       "      <td>2022-03</td>\n",
       "      <td>2022</td>\n",
       "      <td>7.99</td>\n",
       "      <td>0</td>\n",
       "    </tr>\n",
       "    <tr>\n",
       "      <th>1</th>\n",
       "      <td>c_4410</td>\n",
       "      <td>f</td>\n",
       "      <td>1967</td>\n",
       "      <td>54</td>\n",
       "      <td>0_1277</td>\n",
       "      <td>2021-09-25</td>\n",
       "      <td>s_94984</td>\n",
       "      <td>2021-09</td>\n",
       "      <td>2021</td>\n",
       "      <td>7.99</td>\n",
       "      <td>0</td>\n",
       "    </tr>\n",
       "    <tr>\n",
       "      <th>2</th>\n",
       "      <td>c_4410</td>\n",
       "      <td>f</td>\n",
       "      <td>1967</td>\n",
       "      <td>54</td>\n",
       "      <td>0_1376</td>\n",
       "      <td>2021-09-24</td>\n",
       "      <td>s_94984</td>\n",
       "      <td>2021-09</td>\n",
       "      <td>2021</td>\n",
       "      <td>16.24</td>\n",
       "      <td>0</td>\n",
       "    </tr>\n",
       "    <tr>\n",
       "      <th>3</th>\n",
       "      <td>c_4410</td>\n",
       "      <td>f</td>\n",
       "      <td>1967</td>\n",
       "      <td>54</td>\n",
       "      <td>0_1376</td>\n",
       "      <td>2022-04-24</td>\n",
       "      <td>s_198987</td>\n",
       "      <td>2022-04</td>\n",
       "      <td>2022</td>\n",
       "      <td>16.24</td>\n",
       "      <td>0</td>\n",
       "    </tr>\n",
       "    <tr>\n",
       "      <th>4</th>\n",
       "      <td>c_4410</td>\n",
       "      <td>f</td>\n",
       "      <td>1967</td>\n",
       "      <td>54</td>\n",
       "      <td>0_1376</td>\n",
       "      <td>2023-01-24</td>\n",
       "      <td>s_331878</td>\n",
       "      <td>2023-01</td>\n",
       "      <td>2023</td>\n",
       "      <td>16.24</td>\n",
       "      <td>0</td>\n",
       "    </tr>\n",
       "    <tr>\n",
       "      <th>...</th>\n",
       "      <td>...</td>\n",
       "      <td>...</td>\n",
       "      <td>...</td>\n",
       "      <td>...</td>\n",
       "      <td>...</td>\n",
       "      <td>...</td>\n",
       "      <td>...</td>\n",
       "      <td>...</td>\n",
       "      <td>...</td>\n",
       "      <td>...</td>\n",
       "      <td>...</td>\n",
       "    </tr>\n",
       "    <tr>\n",
       "      <th>679327</th>\n",
       "      <td>c_84</td>\n",
       "      <td>f</td>\n",
       "      <td>1982</td>\n",
       "      <td>39</td>\n",
       "      <td>0_1452</td>\n",
       "      <td>2021-09-20</td>\n",
       "      <td>s_92701</td>\n",
       "      <td>2021-09</td>\n",
       "      <td>2021</td>\n",
       "      <td>13.77</td>\n",
       "      <td>0</td>\n",
       "    </tr>\n",
       "    <tr>\n",
       "      <th>679328</th>\n",
       "      <td>c_84</td>\n",
       "      <td>f</td>\n",
       "      <td>1982</td>\n",
       "      <td>39</td>\n",
       "      <td>0_1110</td>\n",
       "      <td>2021-09-20</td>\n",
       "      <td>s_92701</td>\n",
       "      <td>2021-09</td>\n",
       "      <td>2021</td>\n",
       "      <td>4.71</td>\n",
       "      <td>0</td>\n",
       "    </tr>\n",
       "    <tr>\n",
       "      <th>679329</th>\n",
       "      <td>c_84</td>\n",
       "      <td>f</td>\n",
       "      <td>1982</td>\n",
       "      <td>39</td>\n",
       "      <td>0_1399</td>\n",
       "      <td>2021-10-01</td>\n",
       "      <td>s_98493</td>\n",
       "      <td>2021-10</td>\n",
       "      <td>2021</td>\n",
       "      <td>17.99</td>\n",
       "      <td>0</td>\n",
       "    </tr>\n",
       "    <tr>\n",
       "      <th>679330</th>\n",
       "      <td>c_84</td>\n",
       "      <td>f</td>\n",
       "      <td>1982</td>\n",
       "      <td>39</td>\n",
       "      <td>1_110</td>\n",
       "      <td>2021-09-13</td>\n",
       "      <td>s_89478</td>\n",
       "      <td>2021-09</td>\n",
       "      <td>2021</td>\n",
       "      <td>54.90</td>\n",
       "      <td>1</td>\n",
       "    </tr>\n",
       "    <tr>\n",
       "      <th>679331</th>\n",
       "      <td>c_84</td>\n",
       "      <td>f</td>\n",
       "      <td>1982</td>\n",
       "      <td>39</td>\n",
       "      <td>1_158</td>\n",
       "      <td>2021-10-01</td>\n",
       "      <td>s_98493</td>\n",
       "      <td>2021-10</td>\n",
       "      <td>2021</td>\n",
       "      <td>22.17</td>\n",
       "      <td>1</td>\n",
       "    </tr>\n",
       "  </tbody>\n",
       "</table>\n",
       "<p>679332 rows × 11 columns</p>\n",
       "</div>"
      ],
      "text/plain": [
       "       client_id sex  birth  Age id_prod       date session_id Année_Mois  \\\n",
       "0         c_4410   f   1967   54  0_1277 2022-03-25   s_184041    2022-03   \n",
       "1         c_4410   f   1967   54  0_1277 2021-09-25    s_94984    2021-09   \n",
       "2         c_4410   f   1967   54  0_1376 2021-09-24    s_94984    2021-09   \n",
       "3         c_4410   f   1967   54  0_1376 2022-04-24   s_198987    2022-04   \n",
       "4         c_4410   f   1967   54  0_1376 2023-01-24   s_331878    2023-01   \n",
       "...          ...  ..    ...  ...     ...        ...        ...        ...   \n",
       "679327      c_84   f   1982   39  0_1452 2021-09-20    s_92701    2021-09   \n",
       "679328      c_84   f   1982   39  0_1110 2021-09-20    s_92701    2021-09   \n",
       "679329      c_84   f   1982   39  0_1399 2021-10-01    s_98493    2021-10   \n",
       "679330      c_84   f   1982   39   1_110 2021-09-13    s_89478    2021-09   \n",
       "679331      c_84   f   1982   39   1_158 2021-10-01    s_98493    2021-10   \n",
       "\n",
       "       Année  price  categ  \n",
       "0       2022   7.99      0  \n",
       "1       2021   7.99      0  \n",
       "2       2021  16.24      0  \n",
       "3       2022  16.24      0  \n",
       "4       2023  16.24      0  \n",
       "...      ...    ...    ...  \n",
       "679327  2021  13.77      0  \n",
       "679328  2021   4.71      0  \n",
       "679329  2021  17.99      0  \n",
       "679330  2021  54.90      1  \n",
       "679331  2021  22.17      1  \n",
       "\n",
       "[679332 rows x 11 columns]"
      ]
     },
     "execution_count": 51,
     "metadata": {},
     "output_type": "execute_result"
    }
   ],
   "source": [
    "dataClientsTransactionProduits = pd.merge(dataCustomers,dataTransactionProduits,on=['client_id','client_id'])\n",
    "dataClientsTransactionProduits"
   ]
  },
  {
   "cell_type": "markdown",
   "id": "eb779a7f",
   "metadata": {},
   "source": [
    "### 4.3 - Calcul et analyse du chiffre d'affaire par produit<a class=\"anchor\" id=\"section_4_3\"></a>"
   ]
  },
  {
   "cell_type": "markdown",
   "id": "9c0f189c",
   "metadata": {},
   "source": [
    "##### Calculer la quantité de vente par produit"
   ]
  },
  {
   "cell_type": "code",
   "execution_count": 52,
   "id": "60c80f1d",
   "metadata": {},
   "outputs": [
    {
     "data": {
      "text/html": [
       "<div>\n",
       "<style scoped>\n",
       "    .dataframe tbody tr th:only-of-type {\n",
       "        vertical-align: middle;\n",
       "    }\n",
       "\n",
       "    .dataframe tbody tr th {\n",
       "        vertical-align: top;\n",
       "    }\n",
       "\n",
       "    .dataframe thead th {\n",
       "        text-align: right;\n",
       "    }\n",
       "</style>\n",
       "<table border=\"1\" class=\"dataframe\">\n",
       "  <thead>\n",
       "    <tr style=\"text-align: right;\">\n",
       "      <th></th>\n",
       "      <th></th>\n",
       "      <th></th>\n",
       "      <th>id_prod</th>\n",
       "    </tr>\n",
       "    <tr>\n",
       "      <th>id_prod</th>\n",
       "      <th>price</th>\n",
       "      <th>categ</th>\n",
       "      <th></th>\n",
       "    </tr>\n",
       "  </thead>\n",
       "  <tbody>\n",
       "    <tr>\n",
       "      <th>0_0</th>\n",
       "      <th>3.75</th>\n",
       "      <th>0</th>\n",
       "      <td>1242</td>\n",
       "    </tr>\n",
       "    <tr>\n",
       "      <th>0_1</th>\n",
       "      <th>10.99</th>\n",
       "      <th>0</th>\n",
       "      <td>487</td>\n",
       "    </tr>\n",
       "    <tr>\n",
       "      <th>0_10</th>\n",
       "      <th>17.95</th>\n",
       "      <th>0</th>\n",
       "      <td>22</td>\n",
       "    </tr>\n",
       "    <tr>\n",
       "      <th>0_100</th>\n",
       "      <th>20.60</th>\n",
       "      <th>0</th>\n",
       "      <td>3</td>\n",
       "    </tr>\n",
       "    <tr>\n",
       "      <th>0_1000</th>\n",
       "      <th>6.84</th>\n",
       "      <th>0</th>\n",
       "      <td>432</td>\n",
       "    </tr>\n",
       "    <tr>\n",
       "      <th>...</th>\n",
       "      <th>...</th>\n",
       "      <th>...</th>\n",
       "      <td>...</td>\n",
       "    </tr>\n",
       "    <tr>\n",
       "      <th>2_95</th>\n",
       "      <th>98.99</th>\n",
       "      <th>2</th>\n",
       "      <td>4</td>\n",
       "    </tr>\n",
       "    <tr>\n",
       "      <th>2_96</th>\n",
       "      <th>47.91</th>\n",
       "      <th>2</th>\n",
       "      <td>598</td>\n",
       "    </tr>\n",
       "    <tr>\n",
       "      <th>2_97</th>\n",
       "      <th>160.99</th>\n",
       "      <th>2</th>\n",
       "      <td>13</td>\n",
       "    </tr>\n",
       "    <tr>\n",
       "      <th>2_98</th>\n",
       "      <th>149.74</th>\n",
       "      <th>2</th>\n",
       "      <td>1</td>\n",
       "    </tr>\n",
       "    <tr>\n",
       "      <th>2_99</th>\n",
       "      <th>84.99</th>\n",
       "      <th>2</th>\n",
       "      <td>7</td>\n",
       "    </tr>\n",
       "  </tbody>\n",
       "</table>\n",
       "<p>3266 rows × 1 columns</p>\n",
       "</div>"
      ],
      "text/plain": [
       "                      id_prod\n",
       "id_prod price  categ         \n",
       "0_0     3.75   0         1242\n",
       "0_1     10.99  0          487\n",
       "0_10    17.95  0           22\n",
       "0_100   20.60  0            3\n",
       "0_1000  6.84   0          432\n",
       "...                       ...\n",
       "2_95    98.99  2            4\n",
       "2_96    47.91  2          598\n",
       "2_97    160.99 2           13\n",
       "2_98    149.74 2            1\n",
       "2_99    84.99  2            7\n",
       "\n",
       "[3266 rows x 1 columns]"
      ]
     },
     "execution_count": 52,
     "metadata": {},
     "output_type": "execute_result"
    }
   ],
   "source": [
    "VenteParProduit=dataTransactionProduits.groupby(['id_prod','price','categ']).agg({'id_prod':'count'})\n",
    "VenteParProduit"
   ]
  },
  {
   "cell_type": "markdown",
   "id": "68c490f5",
   "metadata": {},
   "source": [
    "##### Renommer la colonne id_prod en quantité vendue"
   ]
  },
  {
   "cell_type": "code",
   "execution_count": 53,
   "id": "c8fa2e30",
   "metadata": {},
   "outputs": [],
   "source": [
    "VenteParProduit.rename(columns={'id_prod':'QuantiteVendue'}, inplace=True)"
   ]
  },
  {
   "cell_type": "markdown",
   "id": "0c4d94a4",
   "metadata": {},
   "source": [
    "##### Supprimer les index id_prod, price et categ "
   ]
  },
  {
   "cell_type": "code",
   "execution_count": 54,
   "id": "1776bd6d",
   "metadata": {},
   "outputs": [],
   "source": [
    "VenteParProduit=VenteParProduit.reset_index()"
   ]
  },
  {
   "cell_type": "markdown",
   "id": "ec473b36",
   "metadata": {},
   "source": [
    "##### Calculer le chiffre d'affaire par produit "
   ]
  },
  {
   "cell_type": "code",
   "execution_count": 55,
   "id": "baace9ec",
   "metadata": {},
   "outputs": [
    {
     "data": {
      "text/html": [
       "<div>\n",
       "<style scoped>\n",
       "    .dataframe tbody tr th:only-of-type {\n",
       "        vertical-align: middle;\n",
       "    }\n",
       "\n",
       "    .dataframe tbody tr th {\n",
       "        vertical-align: top;\n",
       "    }\n",
       "\n",
       "    .dataframe thead th {\n",
       "        text-align: right;\n",
       "    }\n",
       "</style>\n",
       "<table border=\"1\" class=\"dataframe\">\n",
       "  <thead>\n",
       "    <tr style=\"text-align: right;\">\n",
       "      <th></th>\n",
       "      <th>id_prod</th>\n",
       "      <th>price</th>\n",
       "      <th>categ</th>\n",
       "      <th>QuantiteVendue</th>\n",
       "      <th>CA</th>\n",
       "    </tr>\n",
       "  </thead>\n",
       "  <tbody>\n",
       "    <tr>\n",
       "      <th>0</th>\n",
       "      <td>0_0</td>\n",
       "      <td>3.75</td>\n",
       "      <td>0</td>\n",
       "      <td>1242</td>\n",
       "      <td>4657.50</td>\n",
       "    </tr>\n",
       "    <tr>\n",
       "      <th>1</th>\n",
       "      <td>0_1</td>\n",
       "      <td>10.99</td>\n",
       "      <td>0</td>\n",
       "      <td>487</td>\n",
       "      <td>5352.13</td>\n",
       "    </tr>\n",
       "    <tr>\n",
       "      <th>2</th>\n",
       "      <td>0_10</td>\n",
       "      <td>17.95</td>\n",
       "      <td>0</td>\n",
       "      <td>22</td>\n",
       "      <td>394.90</td>\n",
       "    </tr>\n",
       "    <tr>\n",
       "      <th>3</th>\n",
       "      <td>0_100</td>\n",
       "      <td>20.60</td>\n",
       "      <td>0</td>\n",
       "      <td>3</td>\n",
       "      <td>61.80</td>\n",
       "    </tr>\n",
       "    <tr>\n",
       "      <th>4</th>\n",
       "      <td>0_1000</td>\n",
       "      <td>6.84</td>\n",
       "      <td>0</td>\n",
       "      <td>432</td>\n",
       "      <td>2954.88</td>\n",
       "    </tr>\n",
       "    <tr>\n",
       "      <th>...</th>\n",
       "      <td>...</td>\n",
       "      <td>...</td>\n",
       "      <td>...</td>\n",
       "      <td>...</td>\n",
       "      <td>...</td>\n",
       "    </tr>\n",
       "    <tr>\n",
       "      <th>3261</th>\n",
       "      <td>2_95</td>\n",
       "      <td>98.99</td>\n",
       "      <td>2</td>\n",
       "      <td>4</td>\n",
       "      <td>395.96</td>\n",
       "    </tr>\n",
       "    <tr>\n",
       "      <th>3262</th>\n",
       "      <td>2_96</td>\n",
       "      <td>47.91</td>\n",
       "      <td>2</td>\n",
       "      <td>598</td>\n",
       "      <td>28650.18</td>\n",
       "    </tr>\n",
       "    <tr>\n",
       "      <th>3263</th>\n",
       "      <td>2_97</td>\n",
       "      <td>160.99</td>\n",
       "      <td>2</td>\n",
       "      <td>13</td>\n",
       "      <td>2092.87</td>\n",
       "    </tr>\n",
       "    <tr>\n",
       "      <th>3264</th>\n",
       "      <td>2_98</td>\n",
       "      <td>149.74</td>\n",
       "      <td>2</td>\n",
       "      <td>1</td>\n",
       "      <td>149.74</td>\n",
       "    </tr>\n",
       "    <tr>\n",
       "      <th>3265</th>\n",
       "      <td>2_99</td>\n",
       "      <td>84.99</td>\n",
       "      <td>2</td>\n",
       "      <td>7</td>\n",
       "      <td>594.93</td>\n",
       "    </tr>\n",
       "  </tbody>\n",
       "</table>\n",
       "<p>3266 rows × 5 columns</p>\n",
       "</div>"
      ],
      "text/plain": [
       "     id_prod   price  categ  QuantiteVendue        CA\n",
       "0        0_0    3.75      0            1242   4657.50\n",
       "1        0_1   10.99      0             487   5352.13\n",
       "2       0_10   17.95      0              22    394.90\n",
       "3      0_100   20.60      0               3     61.80\n",
       "4     0_1000    6.84      0             432   2954.88\n",
       "...      ...     ...    ...             ...       ...\n",
       "3261    2_95   98.99      2               4    395.96\n",
       "3262    2_96   47.91      2             598  28650.18\n",
       "3263    2_97  160.99      2              13   2092.87\n",
       "3264    2_98  149.74      2               1    149.74\n",
       "3265    2_99   84.99      2               7    594.93\n",
       "\n",
       "[3266 rows x 5 columns]"
      ]
     },
     "execution_count": 55,
     "metadata": {},
     "output_type": "execute_result"
    }
   ],
   "source": [
    "#Copie du dataframe VenteParProduit\n",
    "CAParProduit=VenteParProduit.copy()\n",
    "\n",
    "# Calcul du CA\n",
    "CAParProduit['CA']=CAParProduit['price']*CAParProduit['QuantiteVendue']\n",
    "CAParProduit"
   ]
  },
  {
   "cell_type": "markdown",
   "id": "ada2f1e9",
   "metadata": {},
   "source": [
    "##### Vérifier si tous les produits génèrent du chiffre d'affaire"
   ]
  },
  {
   "cell_type": "code",
   "execution_count": 56,
   "id": "4ccf5131",
   "metadata": {},
   "outputs": [
    {
     "data": {
      "text/html": [
       "<div>\n",
       "<style scoped>\n",
       "    .dataframe tbody tr th:only-of-type {\n",
       "        vertical-align: middle;\n",
       "    }\n",
       "\n",
       "    .dataframe tbody tr th {\n",
       "        vertical-align: top;\n",
       "    }\n",
       "\n",
       "    .dataframe thead th {\n",
       "        text-align: right;\n",
       "    }\n",
       "</style>\n",
       "<table border=\"1\" class=\"dataframe\">\n",
       "  <thead>\n",
       "    <tr style=\"text-align: right;\">\n",
       "      <th></th>\n",
       "      <th>id_prod</th>\n",
       "      <th>price</th>\n",
       "      <th>categ</th>\n",
       "      <th>QuantiteVendue</th>\n",
       "      <th>CA</th>\n",
       "    </tr>\n",
       "  </thead>\n",
       "  <tbody>\n",
       "  </tbody>\n",
       "</table>\n",
       "</div>"
      ],
      "text/plain": [
       "Empty DataFrame\n",
       "Columns: [id_prod, price, categ, QuantiteVendue, CA]\n",
       "Index: []"
      ]
     },
     "execution_count": 56,
     "metadata": {},
     "output_type": "execute_result"
    }
   ],
   "source": [
    "produitCANul=CAParProduit.query('CA == 0')\n",
    "produitCANul"
   ]
  },
  {
   "cell_type": "markdown",
   "id": "e5875789",
   "metadata": {
    "scrolled": true
   },
   "source": [
    "Tous les produits génèrent du chiffre d'affaire."
   ]
  },
  {
   "cell_type": "markdown",
   "id": "652e137c",
   "metadata": {},
   "source": [
    "### 4.4 - Calcul du chiffre d\\'affaire total réalisé <a class=\"anchor\" id=\"section_4_4\"></a>"
   ]
  },
  {
   "cell_type": "code",
   "execution_count": 57,
   "id": "53524833",
   "metadata": {},
   "outputs": [
    {
     "data": {
      "text/plain": [
       "11856321.01"
      ]
     },
     "execution_count": 57,
     "metadata": {},
     "output_type": "execute_result"
    }
   ],
   "source": [
    "CATotal=round(CAParProduit['CA'].sum(),2)\n",
    "CATotal"
   ]
  },
  {
   "cell_type": "markdown",
   "id": "32e7b104",
   "metadata": {},
   "source": [
    "Le chiffre d'affaire total est de 118 563 21,01."
   ]
  },
  {
   "cell_type": "markdown",
   "id": "12eaba30",
   "metadata": {},
   "source": [
    "### 4.5 - Détection et analyse des outliers <a class=\"anchor\" id=\"section_4_5\"></a>"
   ]
  },
  {
   "cell_type": "markdown",
   "id": "cb583b4e",
   "metadata": {},
   "source": [
    "#### 4.5.1 - Détection des outliers avec la variable price afin de détecter d’éventuels outliers"
   ]
  },
  {
   "cell_type": "markdown",
   "id": "7caddcbd",
   "metadata": {},
   "source": [
    "##### Calculer le premier quartile"
   ]
  },
  {
   "cell_type": "code",
   "execution_count": 58,
   "id": "4d2e1163",
   "metadata": {},
   "outputs": [
    {
     "data": {
      "text/plain": [
       "6.99"
      ]
     },
     "execution_count": 58,
     "metadata": {},
     "output_type": "execute_result"
    }
   ],
   "source": [
    "Q1=CAParProduit['price'].quantile(0.25)\n",
    "Q1"
   ]
  },
  {
   "cell_type": "markdown",
   "id": "31a26b0d",
   "metadata": {},
   "source": [
    "##### Calculer le troisième quartile"
   ]
  },
  {
   "cell_type": "code",
   "execution_count": 59,
   "id": "f07bb7af",
   "metadata": {},
   "outputs": [
    {
     "data": {
      "text/plain": [
       "22.99"
      ]
     },
     "execution_count": 59,
     "metadata": {},
     "output_type": "execute_result"
    }
   ],
   "source": [
    "Q3=CAParProduit['price'].quantile(0.75)\n",
    "Q3"
   ]
  },
  {
   "cell_type": "markdown",
   "id": "9c5c729a",
   "metadata": {},
   "source": [
    "##### Calculer l'écart inter quartile"
   ]
  },
  {
   "cell_type": "code",
   "execution_count": 60,
   "id": "e92a6871",
   "metadata": {},
   "outputs": [
    {
     "data": {
      "text/plain": [
       "15.999999999999998"
      ]
     },
     "execution_count": 60,
     "metadata": {},
     "output_type": "execute_result"
    }
   ],
   "source": [
    "IQ=Q3-Q1\n",
    "IQ"
   ]
  },
  {
   "cell_type": "code",
   "execution_count": 61,
   "id": "bf03a225",
   "metadata": {},
   "outputs": [
    {
     "data": {
      "text/plain": [
       "-17.009999999999998"
      ]
     },
     "execution_count": 61,
     "metadata": {},
     "output_type": "execute_result"
    }
   ],
   "source": [
    "minStat=Q1-(IQ*1.5) \n",
    "minStat"
   ]
  },
  {
   "cell_type": "markdown",
   "id": "e943d0db",
   "metadata": {},
   "source": [
    "##### Calculer la valeur au delà duquel le prix est consideré comme un outlier"
   ]
  },
  {
   "cell_type": "code",
   "execution_count": 62,
   "id": "aa318871",
   "metadata": {},
   "outputs": [
    {
     "data": {
      "text/plain": [
       "46.989999999999995"
      ]
     },
     "execution_count": 62,
     "metadata": {},
     "output_type": "execute_result"
    }
   ],
   "source": [
    "maxStat=Q3+(IQ*1.5) \n",
    "maxStat"
   ]
  },
  {
   "cell_type": "markdown",
   "id": "16586741",
   "metadata": {},
   "source": [
    "##### Afficher la valeur au delà duquel le prix de vente est consideré comme un outlier"
   ]
  },
  {
   "cell_type": "code",
   "execution_count": 63,
   "id": "f7227027",
   "metadata": {
    "scrolled": true
   },
   "outputs": [
    {
     "name": "stdout",
     "output_type": "stream",
     "text": [
      "La valeur au delà de laquelle le prix de vente est un outlier : 46.99\n"
     ]
    }
   ],
   "source": [
    "print('La valeur au delà de laquelle le prix de vente est un outlier : ' + str(round(maxStat,2)))"
   ]
  },
  {
   "cell_type": "markdown",
   "id": "c61f5e56",
   "metadata": {},
   "source": [
    "##### Stocker les outliers dans une table"
   ]
  },
  {
   "cell_type": "code",
   "execution_count": 64,
   "id": "8994e998",
   "metadata": {},
   "outputs": [],
   "source": [
    "outliersTable = CAParProduit[(CAParProduit.price > maxStat) | (CAParProduit.price < minStat)]"
   ]
  },
  {
   "cell_type": "markdown",
   "id": "c950b0e6",
   "metadata": {},
   "source": [
    "##### Lister les outliers"
   ]
  },
  {
   "cell_type": "code",
   "execution_count": 65,
   "id": "64f4d701",
   "metadata": {},
   "outputs": [
    {
     "data": {
      "text/html": [
       "<div>\n",
       "<style scoped>\n",
       "    .dataframe tbody tr th:only-of-type {\n",
       "        vertical-align: middle;\n",
       "    }\n",
       "\n",
       "    .dataframe tbody tr th {\n",
       "        vertical-align: top;\n",
       "    }\n",
       "\n",
       "    .dataframe thead th {\n",
       "        text-align: right;\n",
       "    }\n",
       "</style>\n",
       "<table border=\"1\" class=\"dataframe\">\n",
       "  <thead>\n",
       "    <tr style=\"text-align: right;\">\n",
       "      <th></th>\n",
       "      <th>id_prod</th>\n",
       "      <th>price</th>\n",
       "      <th>categ</th>\n",
       "      <th>QuantiteVendue</th>\n",
       "      <th>CA</th>\n",
       "    </tr>\n",
       "  </thead>\n",
       "  <tbody>\n",
       "    <tr>\n",
       "      <th>2294</th>\n",
       "      <td>1_10</td>\n",
       "      <td>78.83</td>\n",
       "      <td>1</td>\n",
       "      <td>83</td>\n",
       "      <td>6542.89</td>\n",
       "    </tr>\n",
       "    <tr>\n",
       "      <th>2306</th>\n",
       "      <td>1_110</td>\n",
       "      <td>54.90</td>\n",
       "      <td>1</td>\n",
       "      <td>63</td>\n",
       "      <td>3458.70</td>\n",
       "    </tr>\n",
       "    <tr>\n",
       "      <th>2309</th>\n",
       "      <td>1_113</td>\n",
       "      <td>50.99</td>\n",
       "      <td>1</td>\n",
       "      <td>8</td>\n",
       "      <td>407.92</td>\n",
       "    </tr>\n",
       "    <tr>\n",
       "      <th>2317</th>\n",
       "      <td>1_120</td>\n",
       "      <td>64.59</td>\n",
       "      <td>1</td>\n",
       "      <td>15</td>\n",
       "      <td>968.85</td>\n",
       "    </tr>\n",
       "    <tr>\n",
       "      <th>2318</th>\n",
       "      <td>1_121</td>\n",
       "      <td>49.99</td>\n",
       "      <td>1</td>\n",
       "      <td>13</td>\n",
       "      <td>649.87</td>\n",
       "    </tr>\n",
       "    <tr>\n",
       "      <th>...</th>\n",
       "      <td>...</td>\n",
       "      <td>...</td>\n",
       "      <td>...</td>\n",
       "      <td>...</td>\n",
       "      <td>...</td>\n",
       "    </tr>\n",
       "    <tr>\n",
       "      <th>3261</th>\n",
       "      <td>2_95</td>\n",
       "      <td>98.99</td>\n",
       "      <td>2</td>\n",
       "      <td>4</td>\n",
       "      <td>395.96</td>\n",
       "    </tr>\n",
       "    <tr>\n",
       "      <th>3262</th>\n",
       "      <td>2_96</td>\n",
       "      <td>47.91</td>\n",
       "      <td>2</td>\n",
       "      <td>598</td>\n",
       "      <td>28650.18</td>\n",
       "    </tr>\n",
       "    <tr>\n",
       "      <th>3263</th>\n",
       "      <td>2_97</td>\n",
       "      <td>160.99</td>\n",
       "      <td>2</td>\n",
       "      <td>13</td>\n",
       "      <td>2092.87</td>\n",
       "    </tr>\n",
       "    <tr>\n",
       "      <th>3264</th>\n",
       "      <td>2_98</td>\n",
       "      <td>149.74</td>\n",
       "      <td>2</td>\n",
       "      <td>1</td>\n",
       "      <td>149.74</td>\n",
       "    </tr>\n",
       "    <tr>\n",
       "      <th>3265</th>\n",
       "      <td>2_99</td>\n",
       "      <td>84.99</td>\n",
       "      <td>2</td>\n",
       "      <td>7</td>\n",
       "      <td>594.93</td>\n",
       "    </tr>\n",
       "  </tbody>\n",
       "</table>\n",
       "<p>299 rows × 5 columns</p>\n",
       "</div>"
      ],
      "text/plain": [
       "     id_prod   price  categ  QuantiteVendue        CA\n",
       "2294    1_10   78.83      1              83   6542.89\n",
       "2306   1_110   54.90      1              63   3458.70\n",
       "2309   1_113   50.99      1               8    407.92\n",
       "2317   1_120   64.59      1              15    968.85\n",
       "2318   1_121   49.99      1              13    649.87\n",
       "...      ...     ...    ...             ...       ...\n",
       "3261    2_95   98.99      2               4    395.96\n",
       "3262    2_96   47.91      2             598  28650.18\n",
       "3263    2_97  160.99      2              13   2092.87\n",
       "3264    2_98  149.74      2               1    149.74\n",
       "3265    2_99   84.99      2               7    594.93\n",
       "\n",
       "[299 rows x 5 columns]"
      ]
     },
     "execution_count": 65,
     "metadata": {},
     "output_type": "execute_result"
    }
   ],
   "source": [
    "outliersTable"
   ]
  },
  {
   "cell_type": "markdown",
   "id": "3f12e51f",
   "metadata": {},
   "source": [
    "##### Compter le nombre d'outliers"
   ]
  },
  {
   "cell_type": "code",
   "execution_count": 66,
   "id": "cec344c1",
   "metadata": {},
   "outputs": [
    {
     "data": {
      "text/plain": [
       "299"
      ]
     },
     "execution_count": 66,
     "metadata": {},
     "output_type": "execute_result"
    }
   ],
   "source": [
    "nbreOutliers=outliersTable['id_prod'].count()\n",
    "nbreOutliers"
   ]
  },
  {
   "cell_type": "markdown",
   "id": "9fcd1724",
   "metadata": {},
   "source": [
    "Il existe 299 outliers."
   ]
  },
  {
   "cell_type": "markdown",
   "id": "2e7e3c98",
   "metadata": {},
   "source": [
    "#### 4.5.2 - Representation graphique des outliers"
   ]
  },
  {
   "cell_type": "markdown",
   "id": "2f97ca40",
   "metadata": {},
   "source": [
    "##### Créer le graphique boite à moustache vertical"
   ]
  },
  {
   "cell_type": "code",
   "execution_count": 67,
   "id": "91b83240",
   "metadata": {},
   "outputs": [
    {
     "data": {
      "image/png": "[encoded data removed]",
      "text/plain": [
       "<Figure size 864x432 with 1 Axes>"
      ]
     },
     "metadata": {
      "needs_background": "light"
     },
     "output_type": "display_data"
    }
   ],
   "source": [
    "plt.figure(figsize=(12,6))\n",
    "CAParProduit.boxplot(column=\"price\", vert=False)\n",
    "plt.xticks([10*i for i in range(32)])\n",
    "\n",
    "#Ajouter le titre à la boite à moustache\n",
    "plt.title('Représentation graphique des outliers', fontsize=14, fontweight='bold')\n",
    "\n",
    "#Afficher le graphique \n",
    "plt.show()"
   ]
  },
  {
   "cell_type": "markdown",
   "id": "243b39e8",
   "metadata": {},
   "source": [
    "#### 4.5.3- Analyse des outliers"
   ]
  },
  {
   "cell_type": "markdown",
   "id": "b41c33e6",
   "metadata": {},
   "source": [
    "##### Calculer le chiffre d\\'affaire generé par les outliers "
   ]
  },
  {
   "cell_type": "code",
   "execution_count": 68,
   "id": "83ac586a",
   "metadata": {},
   "outputs": [
    {
     "data": {
      "text/plain": [
       "2795676.58"
      ]
     },
     "execution_count": 68,
     "metadata": {},
     "output_type": "execute_result"
    }
   ],
   "source": [
    "CAOutliers= round(outliersTable['CA'].sum(),2)\n",
    "CAOutliers"
   ]
  },
  {
   "cell_type": "markdown",
   "id": "6b91415d",
   "metadata": {},
   "source": [
    "Le chiffre d'affaire generé par les outliers est de 2 795 676,58."
   ]
  },
  {
   "cell_type": "markdown",
   "id": "e8a88e8a",
   "metadata": {},
   "source": [
    "##### Pourcentage du chiffre d'affaire des outliers sur le CA global"
   ]
  },
  {
   "cell_type": "code",
   "execution_count": 69,
   "id": "429b698c",
   "metadata": {},
   "outputs": [
    {
     "data": {
      "text/plain": [
       "23.58"
      ]
     },
     "execution_count": 69,
     "metadata": {},
     "output_type": "execute_result"
    }
   ],
   "source": [
    "round((CAOutliers/CATotal)*100,2)"
   ]
  },
  {
   "cell_type": "markdown",
   "id": "2f091627",
   "metadata": {},
   "source": [
    "Le chiffre d'affaire des outliers représente 23,58 % du chiffre d'affaire global, ce n'est pas négligeable. Certains outliers génèrent plus de chiffre d'affaire que certains produits non outliers. Par exemple l'outlier 2_159 génère le chiffre d'affaire le plus elevé 94 893,50. Le non outlier 0_1539 génère le plus faible chiffre d'affaire. Compte tenu de ces fait, nous conservons les outliers pour nos analyses."
   ]
  },
  {
   "cell_type": "markdown",
   "id": "8eae88bd",
   "metadata": {},
   "source": [
    "### 4.6 - Analyse de l'évolution du chiffre d'affaire mensuel <a class=\"anchor\" id=\"section_4_6\"></a>"
   ]
  },
  {
   "cell_type": "markdown",
   "id": "05dea944",
   "metadata": {},
   "source": [
    "#### 4.6.1- Calcul du chiffre d'affaire mensuel et la moyenne mobile"
   ]
  },
  {
   "cell_type": "markdown",
   "id": "b4fec6bc",
   "metadata": {},
   "source": [
    "##### Calculer le nombre de vente par mois et par produit"
   ]
  },
  {
   "cell_type": "code",
   "execution_count": 70,
   "id": "5e07b3d9",
   "metadata": {},
   "outputs": [
    {
     "data": {
      "text/html": [
       "<div>\n",
       "<style scoped>\n",
       "    .dataframe tbody tr th:only-of-type {\n",
       "        vertical-align: middle;\n",
       "    }\n",
       "\n",
       "    .dataframe tbody tr th {\n",
       "        vertical-align: top;\n",
       "    }\n",
       "\n",
       "    .dataframe thead th {\n",
       "        text-align: right;\n",
       "    }\n",
       "</style>\n",
       "<table border=\"1\" class=\"dataframe\">\n",
       "  <thead>\n",
       "    <tr style=\"text-align: right;\">\n",
       "      <th></th>\n",
       "      <th></th>\n",
       "      <th></th>\n",
       "      <th>id_prod</th>\n",
       "    </tr>\n",
       "    <tr>\n",
       "      <th>Année_Mois</th>\n",
       "      <th>id_prod</th>\n",
       "      <th>price</th>\n",
       "      <th></th>\n",
       "    </tr>\n",
       "  </thead>\n",
       "  <tbody>\n",
       "    <tr>\n",
       "      <th rowspan=\"5\" valign=\"top\">2021-03</th>\n",
       "      <th>0_0</th>\n",
       "      <th>3.75</th>\n",
       "      <td>40</td>\n",
       "    </tr>\n",
       "    <tr>\n",
       "      <th>0_1</th>\n",
       "      <th>10.99</th>\n",
       "      <td>17</td>\n",
       "    </tr>\n",
       "    <tr>\n",
       "      <th>0_10</th>\n",
       "      <th>17.95</th>\n",
       "      <td>2</td>\n",
       "    </tr>\n",
       "    <tr>\n",
       "      <th>0_1000</th>\n",
       "      <th>6.84</th>\n",
       "      <td>19</td>\n",
       "    </tr>\n",
       "    <tr>\n",
       "      <th>0_1001</th>\n",
       "      <th>4.99</th>\n",
       "      <td>21</td>\n",
       "    </tr>\n",
       "    <tr>\n",
       "      <th>...</th>\n",
       "      <th>...</th>\n",
       "      <th>...</th>\n",
       "      <td>...</td>\n",
       "    </tr>\n",
       "    <tr>\n",
       "      <th rowspan=\"5\" valign=\"top\">2023-02</th>\n",
       "      <th>2_90</th>\n",
       "      <th>182.30</th>\n",
       "      <td>1</td>\n",
       "    </tr>\n",
       "    <tr>\n",
       "      <th>2_91</th>\n",
       "      <th>96.99</th>\n",
       "      <td>1</td>\n",
       "    </tr>\n",
       "    <tr>\n",
       "      <th>2_92</th>\n",
       "      <th>78.05</th>\n",
       "      <td>2</td>\n",
       "    </tr>\n",
       "    <tr>\n",
       "      <th>2_95</th>\n",
       "      <th>98.99</th>\n",
       "      <td>1</td>\n",
       "    </tr>\n",
       "    <tr>\n",
       "      <th>2_96</th>\n",
       "      <th>47.91</th>\n",
       "      <td>27</td>\n",
       "    </tr>\n",
       "  </tbody>\n",
       "</table>\n",
       "<p>58900 rows × 1 columns</p>\n",
       "</div>"
      ],
      "text/plain": [
       "                           id_prod\n",
       "Année_Mois id_prod price          \n",
       "2021-03    0_0     3.75         40\n",
       "           0_1     10.99        17\n",
       "           0_10    17.95         2\n",
       "           0_1000  6.84         19\n",
       "           0_1001  4.99         21\n",
       "...                            ...\n",
       "2023-02    2_90    182.30        1\n",
       "           2_91    96.99         1\n",
       "           2_92    78.05         2\n",
       "           2_95    98.99         1\n",
       "           2_96    47.91        27\n",
       "\n",
       "[58900 rows x 1 columns]"
      ]
     },
     "execution_count": 70,
     "metadata": {},
     "output_type": "execute_result"
    }
   ],
   "source": [
    "VenteParProduitMois=dataTransactionProduits.groupby(['Année_Mois','id_prod','price']).agg({'id_prod':'count'})\n",
    "VenteParProduitMois"
   ]
  },
  {
   "cell_type": "code",
   "execution_count": 71,
   "id": "99e12ddd",
   "metadata": {},
   "outputs": [
    {
     "data": {
      "text/html": [
       "<div>\n",
       "<style scoped>\n",
       "    .dataframe tbody tr th:only-of-type {\n",
       "        vertical-align: middle;\n",
       "    }\n",
       "\n",
       "    .dataframe tbody tr th {\n",
       "        vertical-align: top;\n",
       "    }\n",
       "\n",
       "    .dataframe thead th {\n",
       "        text-align: right;\n",
       "    }\n",
       "</style>\n",
       "<table border=\"1\" class=\"dataframe\">\n",
       "  <thead>\n",
       "    <tr style=\"text-align: right;\">\n",
       "      <th></th>\n",
       "      <th></th>\n",
       "      <th></th>\n",
       "      <th>QuantiteVendue</th>\n",
       "    </tr>\n",
       "    <tr>\n",
       "      <th>Année_Mois</th>\n",
       "      <th>id_prod</th>\n",
       "      <th>price</th>\n",
       "      <th></th>\n",
       "    </tr>\n",
       "  </thead>\n",
       "  <tbody>\n",
       "    <tr>\n",
       "      <th rowspan=\"5\" valign=\"top\">2021-03</th>\n",
       "      <th>0_0</th>\n",
       "      <th>3.75</th>\n",
       "      <td>40</td>\n",
       "    </tr>\n",
       "    <tr>\n",
       "      <th>0_1</th>\n",
       "      <th>10.99</th>\n",
       "      <td>17</td>\n",
       "    </tr>\n",
       "    <tr>\n",
       "      <th>0_10</th>\n",
       "      <th>17.95</th>\n",
       "      <td>2</td>\n",
       "    </tr>\n",
       "    <tr>\n",
       "      <th>0_1000</th>\n",
       "      <th>6.84</th>\n",
       "      <td>19</td>\n",
       "    </tr>\n",
       "    <tr>\n",
       "      <th>0_1001</th>\n",
       "      <th>4.99</th>\n",
       "      <td>21</td>\n",
       "    </tr>\n",
       "    <tr>\n",
       "      <th>...</th>\n",
       "      <th>...</th>\n",
       "      <th>...</th>\n",
       "      <td>...</td>\n",
       "    </tr>\n",
       "    <tr>\n",
       "      <th rowspan=\"5\" valign=\"top\">2023-02</th>\n",
       "      <th>2_90</th>\n",
       "      <th>182.30</th>\n",
       "      <td>1</td>\n",
       "    </tr>\n",
       "    <tr>\n",
       "      <th>2_91</th>\n",
       "      <th>96.99</th>\n",
       "      <td>1</td>\n",
       "    </tr>\n",
       "    <tr>\n",
       "      <th>2_92</th>\n",
       "      <th>78.05</th>\n",
       "      <td>2</td>\n",
       "    </tr>\n",
       "    <tr>\n",
       "      <th>2_95</th>\n",
       "      <th>98.99</th>\n",
       "      <td>1</td>\n",
       "    </tr>\n",
       "    <tr>\n",
       "      <th>2_96</th>\n",
       "      <th>47.91</th>\n",
       "      <td>27</td>\n",
       "    </tr>\n",
       "  </tbody>\n",
       "</table>\n",
       "<p>58900 rows × 1 columns</p>\n",
       "</div>"
      ],
      "text/plain": [
       "                           QuantiteVendue\n",
       "Année_Mois id_prod price                 \n",
       "2021-03    0_0     3.75                40\n",
       "           0_1     10.99               17\n",
       "           0_10    17.95                2\n",
       "           0_1000  6.84                19\n",
       "           0_1001  4.99                21\n",
       "...                                   ...\n",
       "2023-02    2_90    182.30               1\n",
       "           2_91    96.99                1\n",
       "           2_92    78.05                2\n",
       "           2_95    98.99                1\n",
       "           2_96    47.91               27\n",
       "\n",
       "[58900 rows x 1 columns]"
      ]
     },
     "execution_count": 71,
     "metadata": {},
     "output_type": "execute_result"
    }
   ],
   "source": [
    "VenteParProduitMois.rename(columns={'id_prod':'QuantiteVendue'}, inplace=True)\n",
    "VenteParProduitMois"
   ]
  },
  {
   "cell_type": "markdown",
   "id": "cd27baa0",
   "metadata": {},
   "source": [
    "##### Supprimer les index Année_Mos,id_prod et price"
   ]
  },
  {
   "cell_type": "code",
   "execution_count": 72,
   "id": "778b6cd3",
   "metadata": {},
   "outputs": [
    {
     "data": {
      "text/html": [
       "<div>\n",
       "<style scoped>\n",
       "    .dataframe tbody tr th:only-of-type {\n",
       "        vertical-align: middle;\n",
       "    }\n",
       "\n",
       "    .dataframe tbody tr th {\n",
       "        vertical-align: top;\n",
       "    }\n",
       "\n",
       "    .dataframe thead th {\n",
       "        text-align: right;\n",
       "    }\n",
       "</style>\n",
       "<table border=\"1\" class=\"dataframe\">\n",
       "  <thead>\n",
       "    <tr style=\"text-align: right;\">\n",
       "      <th></th>\n",
       "      <th>Année_Mois</th>\n",
       "      <th>id_prod</th>\n",
       "      <th>price</th>\n",
       "      <th>QuantiteVendue</th>\n",
       "    </tr>\n",
       "  </thead>\n",
       "  <tbody>\n",
       "    <tr>\n",
       "      <th>0</th>\n",
       "      <td>2021-03</td>\n",
       "      <td>0_0</td>\n",
       "      <td>3.75</td>\n",
       "      <td>40</td>\n",
       "    </tr>\n",
       "    <tr>\n",
       "      <th>1</th>\n",
       "      <td>2021-03</td>\n",
       "      <td>0_1</td>\n",
       "      <td>10.99</td>\n",
       "      <td>17</td>\n",
       "    </tr>\n",
       "    <tr>\n",
       "      <th>2</th>\n",
       "      <td>2021-03</td>\n",
       "      <td>0_10</td>\n",
       "      <td>17.95</td>\n",
       "      <td>2</td>\n",
       "    </tr>\n",
       "    <tr>\n",
       "      <th>3</th>\n",
       "      <td>2021-03</td>\n",
       "      <td>0_1000</td>\n",
       "      <td>6.84</td>\n",
       "      <td>19</td>\n",
       "    </tr>\n",
       "    <tr>\n",
       "      <th>4</th>\n",
       "      <td>2021-03</td>\n",
       "      <td>0_1001</td>\n",
       "      <td>4.99</td>\n",
       "      <td>21</td>\n",
       "    </tr>\n",
       "    <tr>\n",
       "      <th>...</th>\n",
       "      <td>...</td>\n",
       "      <td>...</td>\n",
       "      <td>...</td>\n",
       "      <td>...</td>\n",
       "    </tr>\n",
       "    <tr>\n",
       "      <th>58895</th>\n",
       "      <td>2023-02</td>\n",
       "      <td>2_90</td>\n",
       "      <td>182.30</td>\n",
       "      <td>1</td>\n",
       "    </tr>\n",
       "    <tr>\n",
       "      <th>58896</th>\n",
       "      <td>2023-02</td>\n",
       "      <td>2_91</td>\n",
       "      <td>96.99</td>\n",
       "      <td>1</td>\n",
       "    </tr>\n",
       "    <tr>\n",
       "      <th>58897</th>\n",
       "      <td>2023-02</td>\n",
       "      <td>2_92</td>\n",
       "      <td>78.05</td>\n",
       "      <td>2</td>\n",
       "    </tr>\n",
       "    <tr>\n",
       "      <th>58898</th>\n",
       "      <td>2023-02</td>\n",
       "      <td>2_95</td>\n",
       "      <td>98.99</td>\n",
       "      <td>1</td>\n",
       "    </tr>\n",
       "    <tr>\n",
       "      <th>58899</th>\n",
       "      <td>2023-02</td>\n",
       "      <td>2_96</td>\n",
       "      <td>47.91</td>\n",
       "      <td>27</td>\n",
       "    </tr>\n",
       "  </tbody>\n",
       "</table>\n",
       "<p>58900 rows × 4 columns</p>\n",
       "</div>"
      ],
      "text/plain": [
       "      Année_Mois id_prod   price  QuantiteVendue\n",
       "0        2021-03     0_0    3.75              40\n",
       "1        2021-03     0_1   10.99              17\n",
       "2        2021-03    0_10   17.95               2\n",
       "3        2021-03  0_1000    6.84              19\n",
       "4        2021-03  0_1001    4.99              21\n",
       "...          ...     ...     ...             ...\n",
       "58895    2023-02    2_90  182.30               1\n",
       "58896    2023-02    2_91   96.99               1\n",
       "58897    2023-02    2_92   78.05               2\n",
       "58898    2023-02    2_95   98.99               1\n",
       "58899    2023-02    2_96   47.91              27\n",
       "\n",
       "[58900 rows x 4 columns]"
      ]
     },
     "execution_count": 72,
     "metadata": {},
     "output_type": "execute_result"
    }
   ],
   "source": [
    "VenteParProduitMois=VenteParProduitMois.reset_index()\n",
    "VenteParProduitMois"
   ]
  },
  {
   "cell_type": "markdown",
   "id": "6fd47377",
   "metadata": {},
   "source": [
    "##### Calculer le chiffre d'affaire mensuel par produit"
   ]
  },
  {
   "cell_type": "code",
   "execution_count": 73,
   "id": "2df6c7f0",
   "metadata": {},
   "outputs": [
    {
     "data": {
      "text/html": [
       "<div>\n",
       "<style scoped>\n",
       "    .dataframe tbody tr th:only-of-type {\n",
       "        vertical-align: middle;\n",
       "    }\n",
       "\n",
       "    .dataframe tbody tr th {\n",
       "        vertical-align: top;\n",
       "    }\n",
       "\n",
       "    .dataframe thead th {\n",
       "        text-align: right;\n",
       "    }\n",
       "</style>\n",
       "<table border=\"1\" class=\"dataframe\">\n",
       "  <thead>\n",
       "    <tr style=\"text-align: right;\">\n",
       "      <th></th>\n",
       "      <th>Année_Mois</th>\n",
       "      <th>id_prod</th>\n",
       "      <th>price</th>\n",
       "      <th>QuantiteVendue</th>\n",
       "      <th>CA</th>\n",
       "    </tr>\n",
       "  </thead>\n",
       "  <tbody>\n",
       "    <tr>\n",
       "      <th>0</th>\n",
       "      <td>2021-03</td>\n",
       "      <td>0_0</td>\n",
       "      <td>3.75</td>\n",
       "      <td>40</td>\n",
       "      <td>150.00</td>\n",
       "    </tr>\n",
       "    <tr>\n",
       "      <th>1</th>\n",
       "      <td>2021-03</td>\n",
       "      <td>0_1</td>\n",
       "      <td>10.99</td>\n",
       "      <td>17</td>\n",
       "      <td>186.83</td>\n",
       "    </tr>\n",
       "    <tr>\n",
       "      <th>2</th>\n",
       "      <td>2021-03</td>\n",
       "      <td>0_10</td>\n",
       "      <td>17.95</td>\n",
       "      <td>2</td>\n",
       "      <td>35.90</td>\n",
       "    </tr>\n",
       "    <tr>\n",
       "      <th>3</th>\n",
       "      <td>2021-03</td>\n",
       "      <td>0_1000</td>\n",
       "      <td>6.84</td>\n",
       "      <td>19</td>\n",
       "      <td>129.96</td>\n",
       "    </tr>\n",
       "    <tr>\n",
       "      <th>4</th>\n",
       "      <td>2021-03</td>\n",
       "      <td>0_1001</td>\n",
       "      <td>4.99</td>\n",
       "      <td>21</td>\n",
       "      <td>104.79</td>\n",
       "    </tr>\n",
       "    <tr>\n",
       "      <th>...</th>\n",
       "      <td>...</td>\n",
       "      <td>...</td>\n",
       "      <td>...</td>\n",
       "      <td>...</td>\n",
       "      <td>...</td>\n",
       "    </tr>\n",
       "    <tr>\n",
       "      <th>58895</th>\n",
       "      <td>2023-02</td>\n",
       "      <td>2_90</td>\n",
       "      <td>182.30</td>\n",
       "      <td>1</td>\n",
       "      <td>182.30</td>\n",
       "    </tr>\n",
       "    <tr>\n",
       "      <th>58896</th>\n",
       "      <td>2023-02</td>\n",
       "      <td>2_91</td>\n",
       "      <td>96.99</td>\n",
       "      <td>1</td>\n",
       "      <td>96.99</td>\n",
       "    </tr>\n",
       "    <tr>\n",
       "      <th>58897</th>\n",
       "      <td>2023-02</td>\n",
       "      <td>2_92</td>\n",
       "      <td>78.05</td>\n",
       "      <td>2</td>\n",
       "      <td>156.10</td>\n",
       "    </tr>\n",
       "    <tr>\n",
       "      <th>58898</th>\n",
       "      <td>2023-02</td>\n",
       "      <td>2_95</td>\n",
       "      <td>98.99</td>\n",
       "      <td>1</td>\n",
       "      <td>98.99</td>\n",
       "    </tr>\n",
       "    <tr>\n",
       "      <th>58899</th>\n",
       "      <td>2023-02</td>\n",
       "      <td>2_96</td>\n",
       "      <td>47.91</td>\n",
       "      <td>27</td>\n",
       "      <td>1293.57</td>\n",
       "    </tr>\n",
       "  </tbody>\n",
       "</table>\n",
       "<p>58900 rows × 5 columns</p>\n",
       "</div>"
      ],
      "text/plain": [
       "      Année_Mois id_prod   price  QuantiteVendue       CA\n",
       "0        2021-03     0_0    3.75              40   150.00\n",
       "1        2021-03     0_1   10.99              17   186.83\n",
       "2        2021-03    0_10   17.95               2    35.90\n",
       "3        2021-03  0_1000    6.84              19   129.96\n",
       "4        2021-03  0_1001    4.99              21   104.79\n",
       "...          ...     ...     ...             ...      ...\n",
       "58895    2023-02    2_90  182.30               1   182.30\n",
       "58896    2023-02    2_91   96.99               1    96.99\n",
       "58897    2023-02    2_92   78.05               2   156.10\n",
       "58898    2023-02    2_95   98.99               1    98.99\n",
       "58899    2023-02    2_96   47.91              27  1293.57\n",
       "\n",
       "[58900 rows x 5 columns]"
      ]
     },
     "execution_count": 73,
     "metadata": {},
     "output_type": "execute_result"
    }
   ],
   "source": [
    "CAMensuelParProduit=VenteParProduitMois\n",
    "CAMensuelParProduit['CA']=CAMensuelParProduit['price']*CAMensuelParProduit['QuantiteVendue']\n",
    "CAMensuelParProduit"
   ]
  },
  {
   "cell_type": "markdown",
   "id": "8f67a71d",
   "metadata": {},
   "source": [
    "##### Calculer le CA mensuel"
   ]
  },
  {
   "cell_type": "code",
   "execution_count": 74,
   "id": "a49579bf",
   "metadata": {},
   "outputs": [
    {
     "data": {
      "text/html": [
       "<div>\n",
       "<style scoped>\n",
       "    .dataframe tbody tr th:only-of-type {\n",
       "        vertical-align: middle;\n",
       "    }\n",
       "\n",
       "    .dataframe tbody tr th {\n",
       "        vertical-align: top;\n",
       "    }\n",
       "\n",
       "    .dataframe thead th {\n",
       "        text-align: right;\n",
       "    }\n",
       "</style>\n",
       "<table border=\"1\" class=\"dataframe\">\n",
       "  <thead>\n",
       "    <tr style=\"text-align: right;\">\n",
       "      <th></th>\n",
       "      <th>Année_Mois</th>\n",
       "      <th>CA</th>\n",
       "    </tr>\n",
       "  </thead>\n",
       "  <tbody>\n",
       "    <tr>\n",
       "      <th>0</th>\n",
       "      <td>2021-03</td>\n",
       "      <td>482546.18</td>\n",
       "    </tr>\n",
       "    <tr>\n",
       "      <th>1</th>\n",
       "      <td>2021-04</td>\n",
       "      <td>476273.52</td>\n",
       "    </tr>\n",
       "    <tr>\n",
       "      <th>2</th>\n",
       "      <td>2021-05</td>\n",
       "      <td>493037.31</td>\n",
       "    </tr>\n",
       "    <tr>\n",
       "      <th>3</th>\n",
       "      <td>2021-06</td>\n",
       "      <td>484170.67</td>\n",
       "    </tr>\n",
       "    <tr>\n",
       "      <th>4</th>\n",
       "      <td>2021-07</td>\n",
       "      <td>482882.32</td>\n",
       "    </tr>\n",
       "    <tr>\n",
       "      <th>5</th>\n",
       "      <td>2021-08</td>\n",
       "      <td>482390.36</td>\n",
       "    </tr>\n",
       "    <tr>\n",
       "      <th>6</th>\n",
       "      <td>2021-09</td>\n",
       "      <td>507381.44</td>\n",
       "    </tr>\n",
       "    <tr>\n",
       "      <th>7</th>\n",
       "      <td>2021-10</td>\n",
       "      <td>320880.85</td>\n",
       "    </tr>\n",
       "    <tr>\n",
       "      <th>8</th>\n",
       "      <td>2021-11</td>\n",
       "      <td>516285.03</td>\n",
       "    </tr>\n",
       "    <tr>\n",
       "      <th>9</th>\n",
       "      <td>2021-12</td>\n",
       "      <td>525999.39</td>\n",
       "    </tr>\n",
       "    <tr>\n",
       "      <th>10</th>\n",
       "      <td>2022-01</td>\n",
       "      <td>525397.64</td>\n",
       "    </tr>\n",
       "    <tr>\n",
       "      <th>11</th>\n",
       "      <td>2022-02</td>\n",
       "      <td>535700.53</td>\n",
       "    </tr>\n",
       "    <tr>\n",
       "      <th>12</th>\n",
       "      <td>2022-03</td>\n",
       "      <td>515585.56</td>\n",
       "    </tr>\n",
       "    <tr>\n",
       "      <th>13</th>\n",
       "      <td>2022-04</td>\n",
       "      <td>493163.16</td>\n",
       "    </tr>\n",
       "    <tr>\n",
       "      <th>14</th>\n",
       "      <td>2022-05</td>\n",
       "      <td>517320.28</td>\n",
       "    </tr>\n",
       "    <tr>\n",
       "      <th>15</th>\n",
       "      <td>2022-06</td>\n",
       "      <td>496098.23</td>\n",
       "    </tr>\n",
       "    <tr>\n",
       "      <th>16</th>\n",
       "      <td>2022-07</td>\n",
       "      <td>510923.88</td>\n",
       "    </tr>\n",
       "    <tr>\n",
       "      <th>17</th>\n",
       "      <td>2022-08</td>\n",
       "      <td>506561.11</td>\n",
       "    </tr>\n",
       "    <tr>\n",
       "      <th>18</th>\n",
       "      <td>2022-09</td>\n",
       "      <td>494220.10</td>\n",
       "    </tr>\n",
       "    <tr>\n",
       "      <th>19</th>\n",
       "      <td>2022-10</td>\n",
       "      <td>508035.07</td>\n",
       "    </tr>\n",
       "    <tr>\n",
       "      <th>20</th>\n",
       "      <td>2022-11</td>\n",
       "      <td>496793.97</td>\n",
       "    </tr>\n",
       "    <tr>\n",
       "      <th>21</th>\n",
       "      <td>2022-12</td>\n",
       "      <td>510289.88</td>\n",
       "    </tr>\n",
       "    <tr>\n",
       "      <th>22</th>\n",
       "      <td>2023-01</td>\n",
       "      <td>517622.66</td>\n",
       "    </tr>\n",
       "    <tr>\n",
       "      <th>23</th>\n",
       "      <td>2023-02</td>\n",
       "      <td>456761.87</td>\n",
       "    </tr>\n",
       "  </tbody>\n",
       "</table>\n",
       "</div>"
      ],
      "text/plain": [
       "   Année_Mois         CA\n",
       "0     2021-03  482546.18\n",
       "1     2021-04  476273.52\n",
       "2     2021-05  493037.31\n",
       "3     2021-06  484170.67\n",
       "4     2021-07  482882.32\n",
       "5     2021-08  482390.36\n",
       "6     2021-09  507381.44\n",
       "7     2021-10  320880.85\n",
       "8     2021-11  516285.03\n",
       "9     2021-12  525999.39\n",
       "10    2022-01  525397.64\n",
       "11    2022-02  535700.53\n",
       "12    2022-03  515585.56\n",
       "13    2022-04  493163.16\n",
       "14    2022-05  517320.28\n",
       "15    2022-06  496098.23\n",
       "16    2022-07  510923.88\n",
       "17    2022-08  506561.11\n",
       "18    2022-09  494220.10\n",
       "19    2022-10  508035.07\n",
       "20    2022-11  496793.97\n",
       "21    2022-12  510289.88\n",
       "22    2023-01  517622.66\n",
       "23    2023-02  456761.87"
      ]
     },
     "execution_count": 74,
     "metadata": {},
     "output_type": "execute_result"
    }
   ],
   "source": [
    "CAMensuel=CAMensuelParProduit.groupby(['Année_Mois']).agg({'CA':'sum'})\n",
    "CAMensuel.reset_index()"
   ]
  },
  {
   "cell_type": "markdown",
   "id": "a8d32e6b",
   "metadata": {},
   "source": [
    "##### Calculer la moyenne mobile"
   ]
  },
  {
   "cell_type": "code",
   "execution_count": 75,
   "id": "6ba26215",
   "metadata": {
    "scrolled": false
   },
   "outputs": [
    {
     "data": {
      "text/html": [
       "<div>\n",
       "<style scoped>\n",
       "    .dataframe tbody tr th:only-of-type {\n",
       "        vertical-align: middle;\n",
       "    }\n",
       "\n",
       "    .dataframe tbody tr th {\n",
       "        vertical-align: top;\n",
       "    }\n",
       "\n",
       "    .dataframe thead th {\n",
       "        text-align: right;\n",
       "    }\n",
       "</style>\n",
       "<table border=\"1\" class=\"dataframe\">\n",
       "  <thead>\n",
       "    <tr style=\"text-align: right;\">\n",
       "      <th></th>\n",
       "      <th>Année_Mois</th>\n",
       "      <th>CA</th>\n",
       "      <th>MA</th>\n",
       "    </tr>\n",
       "  </thead>\n",
       "  <tbody>\n",
       "    <tr>\n",
       "      <th>0</th>\n",
       "      <td>2021-03</td>\n",
       "      <td>482546.18</td>\n",
       "      <td>NaN</td>\n",
       "    </tr>\n",
       "    <tr>\n",
       "      <th>1</th>\n",
       "      <td>2021-04</td>\n",
       "      <td>476273.52</td>\n",
       "      <td>NaN</td>\n",
       "    </tr>\n",
       "    <tr>\n",
       "      <th>2</th>\n",
       "      <td>2021-05</td>\n",
       "      <td>493037.31</td>\n",
       "      <td>483952.336667</td>\n",
       "    </tr>\n",
       "    <tr>\n",
       "      <th>3</th>\n",
       "      <td>2021-06</td>\n",
       "      <td>484170.67</td>\n",
       "      <td>484493.833333</td>\n",
       "    </tr>\n",
       "    <tr>\n",
       "      <th>4</th>\n",
       "      <td>2021-07</td>\n",
       "      <td>482882.32</td>\n",
       "      <td>486696.766667</td>\n",
       "    </tr>\n",
       "    <tr>\n",
       "      <th>5</th>\n",
       "      <td>2021-08</td>\n",
       "      <td>482390.36</td>\n",
       "      <td>483147.783333</td>\n",
       "    </tr>\n",
       "    <tr>\n",
       "      <th>6</th>\n",
       "      <td>2021-09</td>\n",
       "      <td>507381.44</td>\n",
       "      <td>490884.706667</td>\n",
       "    </tr>\n",
       "    <tr>\n",
       "      <th>7</th>\n",
       "      <td>2021-10</td>\n",
       "      <td>320880.85</td>\n",
       "      <td>436884.216667</td>\n",
       "    </tr>\n",
       "    <tr>\n",
       "      <th>8</th>\n",
       "      <td>2021-11</td>\n",
       "      <td>516285.03</td>\n",
       "      <td>448182.440000</td>\n",
       "    </tr>\n",
       "    <tr>\n",
       "      <th>9</th>\n",
       "      <td>2021-12</td>\n",
       "      <td>525999.39</td>\n",
       "      <td>454388.423333</td>\n",
       "    </tr>\n",
       "    <tr>\n",
       "      <th>10</th>\n",
       "      <td>2022-01</td>\n",
       "      <td>525397.64</td>\n",
       "      <td>522560.686667</td>\n",
       "    </tr>\n",
       "    <tr>\n",
       "      <th>11</th>\n",
       "      <td>2022-02</td>\n",
       "      <td>535700.53</td>\n",
       "      <td>529032.520000</td>\n",
       "    </tr>\n",
       "    <tr>\n",
       "      <th>12</th>\n",
       "      <td>2022-03</td>\n",
       "      <td>515585.56</td>\n",
       "      <td>525561.243333</td>\n",
       "    </tr>\n",
       "    <tr>\n",
       "      <th>13</th>\n",
       "      <td>2022-04</td>\n",
       "      <td>493163.16</td>\n",
       "      <td>514816.416667</td>\n",
       "    </tr>\n",
       "    <tr>\n",
       "      <th>14</th>\n",
       "      <td>2022-05</td>\n",
       "      <td>517320.28</td>\n",
       "      <td>508689.666667</td>\n",
       "    </tr>\n",
       "    <tr>\n",
       "      <th>15</th>\n",
       "      <td>2022-06</td>\n",
       "      <td>496098.23</td>\n",
       "      <td>502193.890000</td>\n",
       "    </tr>\n",
       "    <tr>\n",
       "      <th>16</th>\n",
       "      <td>2022-07</td>\n",
       "      <td>510923.88</td>\n",
       "      <td>508114.130000</td>\n",
       "    </tr>\n",
       "    <tr>\n",
       "      <th>17</th>\n",
       "      <td>2022-08</td>\n",
       "      <td>506561.11</td>\n",
       "      <td>504527.740000</td>\n",
       "    </tr>\n",
       "    <tr>\n",
       "      <th>18</th>\n",
       "      <td>2022-09</td>\n",
       "      <td>494220.10</td>\n",
       "      <td>503901.696667</td>\n",
       "    </tr>\n",
       "    <tr>\n",
       "      <th>19</th>\n",
       "      <td>2022-10</td>\n",
       "      <td>508035.07</td>\n",
       "      <td>502938.760000</td>\n",
       "    </tr>\n",
       "    <tr>\n",
       "      <th>20</th>\n",
       "      <td>2022-11</td>\n",
       "      <td>496793.97</td>\n",
       "      <td>499683.046667</td>\n",
       "    </tr>\n",
       "    <tr>\n",
       "      <th>21</th>\n",
       "      <td>2022-12</td>\n",
       "      <td>510289.88</td>\n",
       "      <td>505039.640000</td>\n",
       "    </tr>\n",
       "    <tr>\n",
       "      <th>22</th>\n",
       "      <td>2023-01</td>\n",
       "      <td>517622.66</td>\n",
       "      <td>508235.503333</td>\n",
       "    </tr>\n",
       "    <tr>\n",
       "      <th>23</th>\n",
       "      <td>2023-02</td>\n",
       "      <td>456761.87</td>\n",
       "      <td>494891.470000</td>\n",
       "    </tr>\n",
       "  </tbody>\n",
       "</table>\n",
       "</div>"
      ],
      "text/plain": [
       "   Année_Mois         CA             MA\n",
       "0     2021-03  482546.18            NaN\n",
       "1     2021-04  476273.52            NaN\n",
       "2     2021-05  493037.31  483952.336667\n",
       "3     2021-06  484170.67  484493.833333\n",
       "4     2021-07  482882.32  486696.766667\n",
       "5     2021-08  482390.36  483147.783333\n",
       "6     2021-09  507381.44  490884.706667\n",
       "7     2021-10  320880.85  436884.216667\n",
       "8     2021-11  516285.03  448182.440000\n",
       "9     2021-12  525999.39  454388.423333\n",
       "10    2022-01  525397.64  522560.686667\n",
       "11    2022-02  535700.53  529032.520000\n",
       "12    2022-03  515585.56  525561.243333\n",
       "13    2022-04  493163.16  514816.416667\n",
       "14    2022-05  517320.28  508689.666667\n",
       "15    2022-06  496098.23  502193.890000\n",
       "16    2022-07  510923.88  508114.130000\n",
       "17    2022-08  506561.11  504527.740000\n",
       "18    2022-09  494220.10  503901.696667\n",
       "19    2022-10  508035.07  502938.760000\n",
       "20    2022-11  496793.97  499683.046667\n",
       "21    2022-12  510289.88  505039.640000\n",
       "22    2023-01  517622.66  508235.503333\n",
       "23    2023-02  456761.87  494891.470000"
      ]
     },
     "execution_count": 75,
     "metadata": {},
     "output_type": "execute_result"
    }
   ],
   "source": [
    "moyenneMobile=CAMensuel.copy()\n",
    "moyenneMobile['MA'] = moyenneMobile['CA'].rolling(3).mean()\n",
    "moyenneMobile.reset_index()"
   ]
  },
  {
   "cell_type": "markdown",
   "id": "78132881",
   "metadata": {},
   "source": [
    "#### 4.5.2- Représention graphique le CA mensuel"
   ]
  },
  {
   "cell_type": "code",
   "execution_count": 76,
   "id": "28a766ae",
   "metadata": {},
   "outputs": [
    {
     "data": {
      "image/png": "[encoded data removed]",
      "text/plain": [
       "<Figure size 1584x576 with 1 Axes>"
      ]
     },
     "metadata": {
      "needs_background": "light"
     },
     "output_type": "display_data"
    }
   ],
   "source": [
    "plt.figure(figsize=(22,8))\n",
    "plt.plot(moyenneMobile, marker='o')\n",
    "plt.title('Evolution du chiffre d\\'affaire mensuel',fontsize=14, fontweight='bold')\n",
    "plt.xlabel('Mois',fontsize=12, fontweight='bold')\n",
    "plt.ylabel('Chiffre d\\'affaire',fontsize=12, fontweight='bold')\n",
    "plt.grid (True)\n",
    "plt.legend(labels=[\"Chiffre d'affaire\",\"Moyenne mobile\"])\n",
    "plt.show()"
   ]
  },
  {
   "cell_type": "markdown",
   "id": "78b437fb",
   "metadata": {},
   "source": [
    "Notre analyse est basée sur la moyenne mobile. Le chiffre d'affaire connait une baisse en octobre 2021. Il augmente dès décembre 2021 pour connaitre une baisse progressive dès février 2022. "
   ]
  },
  {
   "cell_type": "markdown",
   "id": "184dcf66",
   "metadata": {},
   "source": [
    "### 4.7 - Analyse de l'évolution du chiffre d'affaire annuel<a class=\"anchor\" id=\"section_4_7\"></a>"
   ]
  },
  {
   "cell_type": "markdown",
   "id": "acfabb5e",
   "metadata": {},
   "source": [
    "Les données s'étendent sur 24 mois et chevauchent sur 3 ans. D'une année à une autre, nous n'avons pas le même nombre de mois. De ce fait, nous répartissons les données en 2 groupes de 12 mois pour une analyse objective. "
   ]
  },
  {
   "cell_type": "markdown",
   "id": "2154c181",
   "metadata": {},
   "source": [
    "##### Copie des données"
   ]
  },
  {
   "cell_type": "code",
   "execution_count": 77,
   "id": "636e68c9",
   "metadata": {},
   "outputs": [],
   "source": [
    "CAAnnuel=CAMensuel.copy()"
   ]
  },
  {
   "cell_type": "markdown",
   "id": "5dd0d2d3",
   "metadata": {},
   "source": [
    "##### Echantilloner les données"
   ]
  },
  {
   "cell_type": "code",
   "execution_count": 78,
   "id": "79b92215",
   "metadata": {},
   "outputs": [
    {
     "data": {
      "text/html": [
       "<div>\n",
       "<style scoped>\n",
       "    .dataframe tbody tr th:only-of-type {\n",
       "        vertical-align: middle;\n",
       "    }\n",
       "\n",
       "    .dataframe tbody tr th {\n",
       "        vertical-align: top;\n",
       "    }\n",
       "\n",
       "    .dataframe thead th {\n",
       "        text-align: right;\n",
       "    }\n",
       "</style>\n",
       "<table border=\"1\" class=\"dataframe\">\n",
       "  <thead>\n",
       "    <tr style=\"text-align: right;\">\n",
       "      <th></th>\n",
       "      <th>Année_Mois</th>\n",
       "      <th>CA</th>\n",
       "    </tr>\n",
       "  </thead>\n",
       "  <tbody>\n",
       "    <tr>\n",
       "      <th>0</th>\n",
       "      <td>2021-03</td>\n",
       "      <td>482546.18</td>\n",
       "    </tr>\n",
       "    <tr>\n",
       "      <th>1</th>\n",
       "      <td>2021-04</td>\n",
       "      <td>476273.52</td>\n",
       "    </tr>\n",
       "    <tr>\n",
       "      <th>2</th>\n",
       "      <td>2021-05</td>\n",
       "      <td>493037.31</td>\n",
       "    </tr>\n",
       "    <tr>\n",
       "      <th>3</th>\n",
       "      <td>2021-06</td>\n",
       "      <td>484170.67</td>\n",
       "    </tr>\n",
       "    <tr>\n",
       "      <th>4</th>\n",
       "      <td>2021-07</td>\n",
       "      <td>482882.32</td>\n",
       "    </tr>\n",
       "    <tr>\n",
       "      <th>5</th>\n",
       "      <td>2021-08</td>\n",
       "      <td>482390.36</td>\n",
       "    </tr>\n",
       "    <tr>\n",
       "      <th>6</th>\n",
       "      <td>2021-09</td>\n",
       "      <td>507381.44</td>\n",
       "    </tr>\n",
       "    <tr>\n",
       "      <th>7</th>\n",
       "      <td>2021-10</td>\n",
       "      <td>320880.85</td>\n",
       "    </tr>\n",
       "    <tr>\n",
       "      <th>8</th>\n",
       "      <td>2021-11</td>\n",
       "      <td>516285.03</td>\n",
       "    </tr>\n",
       "    <tr>\n",
       "      <th>9</th>\n",
       "      <td>2021-12</td>\n",
       "      <td>525999.39</td>\n",
       "    </tr>\n",
       "    <tr>\n",
       "      <th>10</th>\n",
       "      <td>2022-01</td>\n",
       "      <td>525397.64</td>\n",
       "    </tr>\n",
       "    <tr>\n",
       "      <th>11</th>\n",
       "      <td>2022-02</td>\n",
       "      <td>535700.53</td>\n",
       "    </tr>\n",
       "  </tbody>\n",
       "</table>\n",
       "</div>"
      ],
      "text/plain": [
       "   Année_Mois         CA\n",
       "0     2021-03  482546.18\n",
       "1     2021-04  476273.52\n",
       "2     2021-05  493037.31\n",
       "3     2021-06  484170.67\n",
       "4     2021-07  482882.32\n",
       "5     2021-08  482390.36\n",
       "6     2021-09  507381.44\n",
       "7     2021-10  320880.85\n",
       "8     2021-11  516285.03\n",
       "9     2021-12  525999.39\n",
       "10    2022-01  525397.64\n",
       "11    2022-02  535700.53"
      ]
     },
     "execution_count": 78,
     "metadata": {},
     "output_type": "execute_result"
    }
   ],
   "source": [
    "# Données des 12 premiers mois\n",
    "An1=CAAnnuel[0:12]\n",
    "An1=An1.reset_index()\n",
    "An1"
   ]
  },
  {
   "cell_type": "code",
   "execution_count": 79,
   "id": "af7d3aa6",
   "metadata": {},
   "outputs": [
    {
     "data": {
      "text/html": [
       "<div>\n",
       "<style scoped>\n",
       "    .dataframe tbody tr th:only-of-type {\n",
       "        vertical-align: middle;\n",
       "    }\n",
       "\n",
       "    .dataframe tbody tr th {\n",
       "        vertical-align: top;\n",
       "    }\n",
       "\n",
       "    .dataframe thead th {\n",
       "        text-align: right;\n",
       "    }\n",
       "</style>\n",
       "<table border=\"1\" class=\"dataframe\">\n",
       "  <thead>\n",
       "    <tr style=\"text-align: right;\">\n",
       "      <th></th>\n",
       "      <th>Année_Mois</th>\n",
       "      <th>CA</th>\n",
       "    </tr>\n",
       "  </thead>\n",
       "  <tbody>\n",
       "    <tr>\n",
       "      <th>0</th>\n",
       "      <td>2022-03</td>\n",
       "      <td>515585.56</td>\n",
       "    </tr>\n",
       "    <tr>\n",
       "      <th>1</th>\n",
       "      <td>2022-04</td>\n",
       "      <td>493163.16</td>\n",
       "    </tr>\n",
       "    <tr>\n",
       "      <th>2</th>\n",
       "      <td>2022-05</td>\n",
       "      <td>517320.28</td>\n",
       "    </tr>\n",
       "    <tr>\n",
       "      <th>3</th>\n",
       "      <td>2022-06</td>\n",
       "      <td>496098.23</td>\n",
       "    </tr>\n",
       "    <tr>\n",
       "      <th>4</th>\n",
       "      <td>2022-07</td>\n",
       "      <td>510923.88</td>\n",
       "    </tr>\n",
       "    <tr>\n",
       "      <th>5</th>\n",
       "      <td>2022-08</td>\n",
       "      <td>506561.11</td>\n",
       "    </tr>\n",
       "    <tr>\n",
       "      <th>6</th>\n",
       "      <td>2022-09</td>\n",
       "      <td>494220.10</td>\n",
       "    </tr>\n",
       "    <tr>\n",
       "      <th>7</th>\n",
       "      <td>2022-10</td>\n",
       "      <td>508035.07</td>\n",
       "    </tr>\n",
       "    <tr>\n",
       "      <th>8</th>\n",
       "      <td>2022-11</td>\n",
       "      <td>496793.97</td>\n",
       "    </tr>\n",
       "    <tr>\n",
       "      <th>9</th>\n",
       "      <td>2022-12</td>\n",
       "      <td>510289.88</td>\n",
       "    </tr>\n",
       "    <tr>\n",
       "      <th>10</th>\n",
       "      <td>2023-01</td>\n",
       "      <td>517622.66</td>\n",
       "    </tr>\n",
       "    <tr>\n",
       "      <th>11</th>\n",
       "      <td>2023-02</td>\n",
       "      <td>456761.87</td>\n",
       "    </tr>\n",
       "  </tbody>\n",
       "</table>\n",
       "</div>"
      ],
      "text/plain": [
       "   Année_Mois         CA\n",
       "0     2022-03  515585.56\n",
       "1     2022-04  493163.16\n",
       "2     2022-05  517320.28\n",
       "3     2022-06  496098.23\n",
       "4     2022-07  510923.88\n",
       "5     2022-08  506561.11\n",
       "6     2022-09  494220.10\n",
       "7     2022-10  508035.07\n",
       "8     2022-11  496793.97\n",
       "9     2022-12  510289.88\n",
       "10    2023-01  517622.66\n",
       "11    2023-02  456761.87"
      ]
     },
     "execution_count": 79,
     "metadata": {},
     "output_type": "execute_result"
    }
   ],
   "source": [
    "# Données des 12 derniers mois\n",
    "An2=CAAnnuel[12:24]\n",
    "An2=An2.reset_index()\n",
    "An2"
   ]
  },
  {
   "cell_type": "markdown",
   "id": "5ebbd592",
   "metadata": {},
   "source": [
    "##### Calculer le chiffre d'affaire des différents échantillons"
   ]
  },
  {
   "cell_type": "code",
   "execution_count": 80,
   "id": "66f3ecfb",
   "metadata": {},
   "outputs": [
    {
     "name": "stdout",
     "output_type": "stream",
     "text": [
      "Le chiffre d'affaire réalisé la première année : 5832945.24\n",
      "Le chiffre d'affaire réalisé la deuxième année : 6023375.77\n"
     ]
    }
   ],
   "source": [
    "# Chiffre d'affaire de l'échantillon 1\n",
    "An1=round((An1['CA'].sum()),2)\n",
    "print('Le chiffre d\\'affaire réalisé la première année : ' + str(An1))\n",
    "\n",
    "# Chiffre d'affaire de l'échantillon 2\n",
    "An2=round(An2['CA'].sum(),2)\n",
    "print('Le chiffre d\\'affaire réalisé la deuxième année : ' + str(An2))\n"
   ]
  },
  {
   "cell_type": "markdown",
   "id": "80f50773",
   "metadata": {},
   "source": [
    "Le chiffre d'affaire le plus elevé a été réalisé la deuxième année. La différence entre ces deux chiffres d'affaire n'est pas elevée."
   ]
  },
  {
   "cell_type": "markdown",
   "id": "6a130fb6",
   "metadata": {},
   "source": [
    "### 4.8 - Liste des 10 produits les plus vendus (Chiffre d'affaire le plus elevé) <a class=\"anchor\" id=\"section_4_8\"></a>"
   ]
  },
  {
   "cell_type": "code",
   "execution_count": 81,
   "id": "219f6ac7",
   "metadata": {},
   "outputs": [
    {
     "data": {
      "text/html": [
       "<div>\n",
       "<style scoped>\n",
       "    .dataframe tbody tr th:only-of-type {\n",
       "        vertical-align: middle;\n",
       "    }\n",
       "\n",
       "    .dataframe tbody tr th {\n",
       "        vertical-align: top;\n",
       "    }\n",
       "\n",
       "    .dataframe thead th {\n",
       "        text-align: right;\n",
       "    }\n",
       "</style>\n",
       "<table border=\"1\" class=\"dataframe\">\n",
       "  <thead>\n",
       "    <tr style=\"text-align: right;\">\n",
       "      <th></th>\n",
       "      <th>id_prod</th>\n",
       "      <th>price</th>\n",
       "      <th>categ</th>\n",
       "      <th>QuantiteVendue</th>\n",
       "      <th>CA</th>\n",
       "    </tr>\n",
       "  </thead>\n",
       "  <tbody>\n",
       "    <tr>\n",
       "      <th>3097</th>\n",
       "      <td>2_159</td>\n",
       "      <td>145.99</td>\n",
       "      <td>2</td>\n",
       "      <td>650</td>\n",
       "      <td>94893.50</td>\n",
       "    </tr>\n",
       "    <tr>\n",
       "      <th>3071</th>\n",
       "      <td>2_135</td>\n",
       "      <td>68.99</td>\n",
       "      <td>2</td>\n",
       "      <td>1005</td>\n",
       "      <td>69334.95</td>\n",
       "    </tr>\n",
       "    <tr>\n",
       "      <th>3046</th>\n",
       "      <td>2_112</td>\n",
       "      <td>67.57</td>\n",
       "      <td>2</td>\n",
       "      <td>968</td>\n",
       "      <td>65407.76</td>\n",
       "    </tr>\n",
       "    <tr>\n",
       "      <th>3035</th>\n",
       "      <td>2_102</td>\n",
       "      <td>59.14</td>\n",
       "      <td>2</td>\n",
       "      <td>1027</td>\n",
       "      <td>60736.78</td>\n",
       "    </tr>\n",
       "    <tr>\n",
       "      <th>3153</th>\n",
       "      <td>2_209</td>\n",
       "      <td>69.99</td>\n",
       "      <td>2</td>\n",
       "      <td>814</td>\n",
       "      <td>56971.86</td>\n",
       "    </tr>\n",
       "    <tr>\n",
       "      <th>2620</th>\n",
       "      <td>1_395</td>\n",
       "      <td>28.99</td>\n",
       "      <td>1</td>\n",
       "      <td>1875</td>\n",
       "      <td>54356.25</td>\n",
       "    </tr>\n",
       "    <tr>\n",
       "      <th>2592</th>\n",
       "      <td>1_369</td>\n",
       "      <td>23.99</td>\n",
       "      <td>1</td>\n",
       "      <td>2252</td>\n",
       "      <td>54025.48</td>\n",
       "    </tr>\n",
       "    <tr>\n",
       "      <th>3044</th>\n",
       "      <td>2_110</td>\n",
       "      <td>62.25</td>\n",
       "      <td>2</td>\n",
       "      <td>865</td>\n",
       "      <td>53846.25</td>\n",
       "    </tr>\n",
       "    <tr>\n",
       "      <th>3202</th>\n",
       "      <td>2_39</td>\n",
       "      <td>57.99</td>\n",
       "      <td>2</td>\n",
       "      <td>915</td>\n",
       "      <td>53060.85</td>\n",
       "    </tr>\n",
       "    <tr>\n",
       "      <th>3105</th>\n",
       "      <td>2_166</td>\n",
       "      <td>230.04</td>\n",
       "      <td>2</td>\n",
       "      <td>228</td>\n",
       "      <td>52449.12</td>\n",
       "    </tr>\n",
       "  </tbody>\n",
       "</table>\n",
       "</div>"
      ],
      "text/plain": [
       "     id_prod   price  categ  QuantiteVendue        CA\n",
       "3097   2_159  145.99      2             650  94893.50\n",
       "3071   2_135   68.99      2            1005  69334.95\n",
       "3046   2_112   67.57      2             968  65407.76\n",
       "3035   2_102   59.14      2            1027  60736.78\n",
       "3153   2_209   69.99      2             814  56971.86\n",
       "2620   1_395   28.99      1            1875  54356.25\n",
       "2592   1_369   23.99      1            2252  54025.48\n",
       "3044   2_110   62.25      2             865  53846.25\n",
       "3202    2_39   57.99      2             915  53060.85\n",
       "3105   2_166  230.04      2             228  52449.12"
      ]
     },
     "execution_count": 81,
     "metadata": {},
     "output_type": "execute_result"
    }
   ],
   "source": [
    "CAParProduit.sort_values(by='CA',ascending = False).head(10)"
   ]
  },
  {
   "cell_type": "markdown",
   "id": "612ea1c8",
   "metadata": {},
   "source": [
    "Certains produits avec un volume de vente elevé ne réalisent pas toujours le chiffre d'affaire le plus elevé. Par exemple le produit 2_159 a le chiffre d\\'affaire (94 893,50) le plus elevé avec seulement 650 ventes alors que le produit 1_369 réalise le plus de ventes (2252) avec un CA de 54 025,48."
   ]
  },
  {
   "cell_type": "markdown",
   "id": "b8d66414",
   "metadata": {},
   "source": [
    "### 4.9 - Liste des produits les moins vendus (un produit flop est un invendu ou un produit avec un CA inférieur à 300) <a class=\"anchor\" id=\"section_4_9\"></a>"
   ]
  },
  {
   "cell_type": "markdown",
   "id": "a778cfc4",
   "metadata": {},
   "source": [
    "##### Rechercher et afficher les produits invendus"
   ]
  },
  {
   "cell_type": "code",
   "execution_count": 82,
   "id": "e947e228",
   "metadata": {},
   "outputs": [
    {
     "data": {
      "text/html": [
       "<div>\n",
       "<style scoped>\n",
       "    .dataframe tbody tr th:only-of-type {\n",
       "        vertical-align: middle;\n",
       "    }\n",
       "\n",
       "    .dataframe tbody tr th {\n",
       "        vertical-align: top;\n",
       "    }\n",
       "\n",
       "    .dataframe thead th {\n",
       "        text-align: right;\n",
       "    }\n",
       "</style>\n",
       "<table border=\"1\" class=\"dataframe\">\n",
       "  <thead>\n",
       "    <tr style=\"text-align: right;\">\n",
       "      <th></th>\n",
       "      <th>id_prod</th>\n",
       "      <th>price</th>\n",
       "      <th>categ</th>\n",
       "    </tr>\n",
       "  </thead>\n",
       "  <tbody>\n",
       "    <tr>\n",
       "      <th>184</th>\n",
       "      <td>0_1016</td>\n",
       "      <td>35.06</td>\n",
       "      <td>0</td>\n",
       "    </tr>\n",
       "    <tr>\n",
       "      <th>279</th>\n",
       "      <td>0_1780</td>\n",
       "      <td>1.67</td>\n",
       "      <td>0</td>\n",
       "    </tr>\n",
       "    <tr>\n",
       "      <th>731</th>\n",
       "      <td>T_0</td>\n",
       "      <td>0.00</td>\n",
       "      <td>0</td>\n",
       "    </tr>\n",
       "    <tr>\n",
       "      <th>737</th>\n",
       "      <td>0_1062</td>\n",
       "      <td>20.08</td>\n",
       "      <td>0</td>\n",
       "    </tr>\n",
       "    <tr>\n",
       "      <th>794</th>\n",
       "      <td>0_1119</td>\n",
       "      <td>2.99</td>\n",
       "      <td>0</td>\n",
       "    </tr>\n",
       "    <tr>\n",
       "      <th>811</th>\n",
       "      <td>0_1014</td>\n",
       "      <td>1.15</td>\n",
       "      <td>0</td>\n",
       "    </tr>\n",
       "    <tr>\n",
       "      <th>846</th>\n",
       "      <td>1_0</td>\n",
       "      <td>31.82</td>\n",
       "      <td>1</td>\n",
       "    </tr>\n",
       "    <tr>\n",
       "      <th>1031</th>\n",
       "      <td>0_1318</td>\n",
       "      <td>20.92</td>\n",
       "      <td>0</td>\n",
       "    </tr>\n",
       "    <tr>\n",
       "      <th>1139</th>\n",
       "      <td>0_1800</td>\n",
       "      <td>22.05</td>\n",
       "      <td>0</td>\n",
       "    </tr>\n",
       "    <tr>\n",
       "      <th>1347</th>\n",
       "      <td>0_1645</td>\n",
       "      <td>2.99</td>\n",
       "      <td>0</td>\n",
       "    </tr>\n",
       "    <tr>\n",
       "      <th>1505</th>\n",
       "      <td>0_322</td>\n",
       "      <td>2.99</td>\n",
       "      <td>0</td>\n",
       "    </tr>\n",
       "    <tr>\n",
       "      <th>1530</th>\n",
       "      <td>0_1620</td>\n",
       "      <td>0.80</td>\n",
       "      <td>0</td>\n",
       "    </tr>\n",
       "    <tr>\n",
       "      <th>1543</th>\n",
       "      <td>0_1025</td>\n",
       "      <td>24.99</td>\n",
       "      <td>0</td>\n",
       "    </tr>\n",
       "    <tr>\n",
       "      <th>1709</th>\n",
       "      <td>2_87</td>\n",
       "      <td>220.99</td>\n",
       "      <td>2</td>\n",
       "    </tr>\n",
       "    <tr>\n",
       "      <th>1863</th>\n",
       "      <td>1_394</td>\n",
       "      <td>39.73</td>\n",
       "      <td>1</td>\n",
       "    </tr>\n",
       "    <tr>\n",
       "      <th>1946</th>\n",
       "      <td>2_72</td>\n",
       "      <td>141.32</td>\n",
       "      <td>2</td>\n",
       "    </tr>\n",
       "    <tr>\n",
       "      <th>2215</th>\n",
       "      <td>0_310</td>\n",
       "      <td>1.94</td>\n",
       "      <td>0</td>\n",
       "    </tr>\n",
       "    <tr>\n",
       "      <th>2408</th>\n",
       "      <td>0_1624</td>\n",
       "      <td>24.50</td>\n",
       "      <td>0</td>\n",
       "    </tr>\n",
       "    <tr>\n",
       "      <th>2525</th>\n",
       "      <td>2_86</td>\n",
       "      <td>132.36</td>\n",
       "      <td>2</td>\n",
       "    </tr>\n",
       "    <tr>\n",
       "      <th>2690</th>\n",
       "      <td>0_299</td>\n",
       "      <td>22.99</td>\n",
       "      <td>0</td>\n",
       "    </tr>\n",
       "    <tr>\n",
       "      <th>3031</th>\n",
       "      <td>0_510</td>\n",
       "      <td>23.66</td>\n",
       "      <td>0</td>\n",
       "    </tr>\n",
       "    <tr>\n",
       "      <th>3096</th>\n",
       "      <td>0_2308</td>\n",
       "      <td>20.28</td>\n",
       "      <td>0</td>\n",
       "    </tr>\n",
       "  </tbody>\n",
       "</table>\n",
       "</div>"
      ],
      "text/plain": [
       "     id_prod   price  categ\n",
       "184   0_1016   35.06      0\n",
       "279   0_1780    1.67      0\n",
       "731      T_0    0.00      0\n",
       "737   0_1062   20.08      0\n",
       "794   0_1119    2.99      0\n",
       "811   0_1014    1.15      0\n",
       "846      1_0   31.82      1\n",
       "1031  0_1318   20.92      0\n",
       "1139  0_1800   22.05      0\n",
       "1347  0_1645    2.99      0\n",
       "1505   0_322    2.99      0\n",
       "1530  0_1620    0.80      0\n",
       "1543  0_1025   24.99      0\n",
       "1709    2_87  220.99      2\n",
       "1863   1_394   39.73      1\n",
       "1946    2_72  141.32      2\n",
       "2215   0_310    1.94      0\n",
       "2408  0_1624   24.50      0\n",
       "2525    2_86  132.36      2\n",
       "2690   0_299   22.99      0\n",
       "3031   0_510   23.66      0\n",
       "3096  0_2308   20.28      0"
      ]
     },
     "execution_count": 82,
     "metadata": {},
     "output_type": "execute_result"
    }
   ],
   "source": [
    "# Selectionner les identifiants des produits dans les transactions \n",
    "listeProduits=CAParProduit['id_prod'].unique()\n",
    "\n",
    "# Vérifier si tous les produits ont été achetés\n",
    "produitsInvendus=dataProducts.query(\"id_prod not in @listeProduits\")\n",
    "\n",
    "# Afficher les invendus\n",
    "produitsInvendus"
   ]
  },
  {
   "cell_type": "markdown",
   "id": "4c6b11c6",
   "metadata": {},
   "source": [
    "##### Afficher les produits invendus"
   ]
  },
  {
   "cell_type": "markdown",
   "id": "5917770f",
   "metadata": {},
   "source": [
    "##### Compter et afficher le nombre de produits invendu"
   ]
  },
  {
   "cell_type": "code",
   "execution_count": 83,
   "id": "566aa46f",
   "metadata": {},
   "outputs": [
    {
     "name": "stdout",
     "output_type": "stream",
     "text": [
      "Nous avons 22 produits invendus.\n"
     ]
    }
   ],
   "source": [
    "QuantitéInvendus=produitsInvendus['id_prod'].count()\n",
    "print('Nous avons ' + str(QuantitéInvendus) + ' produits invendus.')"
   ]
  },
  {
   "cell_type": "markdown",
   "id": "9ce0212b",
   "metadata": {},
   "source": [
    "##### Rechercher et afficher les produits avec un CA inférieur à 300"
   ]
  },
  {
   "cell_type": "code",
   "execution_count": 84,
   "id": "59811db9",
   "metadata": {},
   "outputs": [
    {
     "data": {
      "text/html": [
       "<div>\n",
       "<style scoped>\n",
       "    .dataframe tbody tr th:only-of-type {\n",
       "        vertical-align: middle;\n",
       "    }\n",
       "\n",
       "    .dataframe tbody tr th {\n",
       "        vertical-align: top;\n",
       "    }\n",
       "\n",
       "    .dataframe thead th {\n",
       "        text-align: right;\n",
       "    }\n",
       "</style>\n",
       "<table border=\"1\" class=\"dataframe\">\n",
       "  <thead>\n",
       "    <tr style=\"text-align: right;\">\n",
       "      <th></th>\n",
       "      <th>id_prod</th>\n",
       "      <th>price</th>\n",
       "      <th>categ</th>\n",
       "      <th>QuantiteVendue</th>\n",
       "      <th>CA</th>\n",
       "    </tr>\n",
       "  </thead>\n",
       "  <tbody>\n",
       "    <tr>\n",
       "      <th>3</th>\n",
       "      <td>0_100</td>\n",
       "      <td>20.60</td>\n",
       "      <td>0</td>\n",
       "      <td>3</td>\n",
       "      <td>61.80</td>\n",
       "    </tr>\n",
       "    <tr>\n",
       "      <th>9</th>\n",
       "      <td>0_1005</td>\n",
       "      <td>20.99</td>\n",
       "      <td>0</td>\n",
       "      <td>5</td>\n",
       "      <td>104.95</td>\n",
       "    </tr>\n",
       "    <tr>\n",
       "      <th>10</th>\n",
       "      <td>0_1006</td>\n",
       "      <td>26.64</td>\n",
       "      <td>0</td>\n",
       "      <td>8</td>\n",
       "      <td>213.12</td>\n",
       "    </tr>\n",
       "    <tr>\n",
       "      <th>14</th>\n",
       "      <td>0_101</td>\n",
       "      <td>12.99</td>\n",
       "      <td>0</td>\n",
       "      <td>18</td>\n",
       "      <td>233.82</td>\n",
       "    </tr>\n",
       "    <tr>\n",
       "      <th>15</th>\n",
       "      <td>0_1010</td>\n",
       "      <td>1.96</td>\n",
       "      <td>0</td>\n",
       "      <td>10</td>\n",
       "      <td>19.60</td>\n",
       "    </tr>\n",
       "    <tr>\n",
       "      <th>...</th>\n",
       "      <td>...</td>\n",
       "      <td>...</td>\n",
       "      <td>...</td>\n",
       "      <td>...</td>\n",
       "      <td>...</td>\n",
       "    </tr>\n",
       "    <tr>\n",
       "      <th>3189</th>\n",
       "      <td>2_27</td>\n",
       "      <td>73.99</td>\n",
       "      <td>2</td>\n",
       "      <td>4</td>\n",
       "      <td>295.96</td>\n",
       "    </tr>\n",
       "    <tr>\n",
       "      <th>3243</th>\n",
       "      <td>2_77</td>\n",
       "      <td>145.99</td>\n",
       "      <td>2</td>\n",
       "      <td>2</td>\n",
       "      <td>291.98</td>\n",
       "    </tr>\n",
       "    <tr>\n",
       "      <th>3248</th>\n",
       "      <td>2_81</td>\n",
       "      <td>86.99</td>\n",
       "      <td>2</td>\n",
       "      <td>1</td>\n",
       "      <td>86.99</td>\n",
       "    </tr>\n",
       "    <tr>\n",
       "      <th>3259</th>\n",
       "      <td>2_93</td>\n",
       "      <td>78.99</td>\n",
       "      <td>2</td>\n",
       "      <td>2</td>\n",
       "      <td>157.98</td>\n",
       "    </tr>\n",
       "    <tr>\n",
       "      <th>3264</th>\n",
       "      <td>2_98</td>\n",
       "      <td>149.74</td>\n",
       "      <td>2</td>\n",
       "      <td>1</td>\n",
       "      <td>149.74</td>\n",
       "    </tr>\n",
       "  </tbody>\n",
       "</table>\n",
       "<p>1000 rows × 5 columns</p>\n",
       "</div>"
      ],
      "text/plain": [
       "     id_prod   price  categ  QuantiteVendue      CA\n",
       "3      0_100   20.60      0               3   61.80\n",
       "9     0_1005   20.99      0               5  104.95\n",
       "10    0_1006   26.64      0               8  213.12\n",
       "14     0_101   12.99      0              18  233.82\n",
       "15    0_1010    1.96      0              10   19.60\n",
       "...      ...     ...    ...             ...     ...\n",
       "3189    2_27   73.99      2               4  295.96\n",
       "3243    2_77  145.99      2               2  291.98\n",
       "3248    2_81   86.99      2               1   86.99\n",
       "3259    2_93   78.99      2               2  157.98\n",
       "3264    2_98  149.74      2               1  149.74\n",
       "\n",
       "[1000 rows x 5 columns]"
      ]
     },
     "execution_count": 84,
     "metadata": {},
     "output_type": "execute_result"
    }
   ],
   "source": [
    "# Rechercher les produits avec un CA < 300\n",
    "produitsCAMoins300 = CAParProduit[(CAParProduit.CA < 300)] \n",
    "\n",
    "# Afficher les produits avec un CA < 300\n",
    "produitsCAMoins300"
   ]
  },
  {
   "cell_type": "markdown",
   "id": "fa951ee1",
   "metadata": {},
   "source": [
    "1000 produits ont un CA inférieur à 300."
   ]
  },
  {
   "cell_type": "markdown",
   "id": "e33e4fa1",
   "metadata": {},
   "source": [
    "##### Ajouter les colonnes QuantiteVendue et CA au dataframe produitsInvendus"
   ]
  },
  {
   "cell_type": "markdown",
   "id": "3aef37bf",
   "metadata": {},
   "source": [
    "Uniformiser la structure des dataframes des produits flops. La quantité vendue et le CA prennent la valeur nulle. "
   ]
  },
  {
   "cell_type": "code",
   "execution_count": 85,
   "id": "3b1233b9",
   "metadata": {},
   "outputs": [
    {
     "data": {
      "text/html": [
       "<div>\n",
       "<style scoped>\n",
       "    .dataframe tbody tr th:only-of-type {\n",
       "        vertical-align: middle;\n",
       "    }\n",
       "\n",
       "    .dataframe tbody tr th {\n",
       "        vertical-align: top;\n",
       "    }\n",
       "\n",
       "    .dataframe thead th {\n",
       "        text-align: right;\n",
       "    }\n",
       "</style>\n",
       "<table border=\"1\" class=\"dataframe\">\n",
       "  <thead>\n",
       "    <tr style=\"text-align: right;\">\n",
       "      <th></th>\n",
       "      <th>id_prod</th>\n",
       "      <th>price</th>\n",
       "      <th>categ</th>\n",
       "      <th>QuantiteVendue</th>\n",
       "      <th>CA</th>\n",
       "    </tr>\n",
       "  </thead>\n",
       "  <tbody>\n",
       "    <tr>\n",
       "      <th>184</th>\n",
       "      <td>0_1016</td>\n",
       "      <td>35.06</td>\n",
       "      <td>0</td>\n",
       "      <td>0</td>\n",
       "      <td>0</td>\n",
       "    </tr>\n",
       "    <tr>\n",
       "      <th>279</th>\n",
       "      <td>0_1780</td>\n",
       "      <td>1.67</td>\n",
       "      <td>0</td>\n",
       "      <td>0</td>\n",
       "      <td>0</td>\n",
       "    </tr>\n",
       "    <tr>\n",
       "      <th>731</th>\n",
       "      <td>T_0</td>\n",
       "      <td>0.00</td>\n",
       "      <td>0</td>\n",
       "      <td>0</td>\n",
       "      <td>0</td>\n",
       "    </tr>\n",
       "    <tr>\n",
       "      <th>737</th>\n",
       "      <td>0_1062</td>\n",
       "      <td>20.08</td>\n",
       "      <td>0</td>\n",
       "      <td>0</td>\n",
       "      <td>0</td>\n",
       "    </tr>\n",
       "    <tr>\n",
       "      <th>794</th>\n",
       "      <td>0_1119</td>\n",
       "      <td>2.99</td>\n",
       "      <td>0</td>\n",
       "      <td>0</td>\n",
       "      <td>0</td>\n",
       "    </tr>\n",
       "    <tr>\n",
       "      <th>811</th>\n",
       "      <td>0_1014</td>\n",
       "      <td>1.15</td>\n",
       "      <td>0</td>\n",
       "      <td>0</td>\n",
       "      <td>0</td>\n",
       "    </tr>\n",
       "    <tr>\n",
       "      <th>846</th>\n",
       "      <td>1_0</td>\n",
       "      <td>31.82</td>\n",
       "      <td>1</td>\n",
       "      <td>0</td>\n",
       "      <td>0</td>\n",
       "    </tr>\n",
       "    <tr>\n",
       "      <th>1031</th>\n",
       "      <td>0_1318</td>\n",
       "      <td>20.92</td>\n",
       "      <td>0</td>\n",
       "      <td>0</td>\n",
       "      <td>0</td>\n",
       "    </tr>\n",
       "    <tr>\n",
       "      <th>1139</th>\n",
       "      <td>0_1800</td>\n",
       "      <td>22.05</td>\n",
       "      <td>0</td>\n",
       "      <td>0</td>\n",
       "      <td>0</td>\n",
       "    </tr>\n",
       "    <tr>\n",
       "      <th>1347</th>\n",
       "      <td>0_1645</td>\n",
       "      <td>2.99</td>\n",
       "      <td>0</td>\n",
       "      <td>0</td>\n",
       "      <td>0</td>\n",
       "    </tr>\n",
       "    <tr>\n",
       "      <th>1505</th>\n",
       "      <td>0_322</td>\n",
       "      <td>2.99</td>\n",
       "      <td>0</td>\n",
       "      <td>0</td>\n",
       "      <td>0</td>\n",
       "    </tr>\n",
       "    <tr>\n",
       "      <th>1530</th>\n",
       "      <td>0_1620</td>\n",
       "      <td>0.80</td>\n",
       "      <td>0</td>\n",
       "      <td>0</td>\n",
       "      <td>0</td>\n",
       "    </tr>\n",
       "    <tr>\n",
       "      <th>1543</th>\n",
       "      <td>0_1025</td>\n",
       "      <td>24.99</td>\n",
       "      <td>0</td>\n",
       "      <td>0</td>\n",
       "      <td>0</td>\n",
       "    </tr>\n",
       "    <tr>\n",
       "      <th>1709</th>\n",
       "      <td>2_87</td>\n",
       "      <td>220.99</td>\n",
       "      <td>2</td>\n",
       "      <td>0</td>\n",
       "      <td>0</td>\n",
       "    </tr>\n",
       "    <tr>\n",
       "      <th>1863</th>\n",
       "      <td>1_394</td>\n",
       "      <td>39.73</td>\n",
       "      <td>1</td>\n",
       "      <td>0</td>\n",
       "      <td>0</td>\n",
       "    </tr>\n",
       "    <tr>\n",
       "      <th>1946</th>\n",
       "      <td>2_72</td>\n",
       "      <td>141.32</td>\n",
       "      <td>2</td>\n",
       "      <td>0</td>\n",
       "      <td>0</td>\n",
       "    </tr>\n",
       "    <tr>\n",
       "      <th>2215</th>\n",
       "      <td>0_310</td>\n",
       "      <td>1.94</td>\n",
       "      <td>0</td>\n",
       "      <td>0</td>\n",
       "      <td>0</td>\n",
       "    </tr>\n",
       "    <tr>\n",
       "      <th>2408</th>\n",
       "      <td>0_1624</td>\n",
       "      <td>24.50</td>\n",
       "      <td>0</td>\n",
       "      <td>0</td>\n",
       "      <td>0</td>\n",
       "    </tr>\n",
       "    <tr>\n",
       "      <th>2525</th>\n",
       "      <td>2_86</td>\n",
       "      <td>132.36</td>\n",
       "      <td>2</td>\n",
       "      <td>0</td>\n",
       "      <td>0</td>\n",
       "    </tr>\n",
       "    <tr>\n",
       "      <th>2690</th>\n",
       "      <td>0_299</td>\n",
       "      <td>22.99</td>\n",
       "      <td>0</td>\n",
       "      <td>0</td>\n",
       "      <td>0</td>\n",
       "    </tr>\n",
       "    <tr>\n",
       "      <th>3031</th>\n",
       "      <td>0_510</td>\n",
       "      <td>23.66</td>\n",
       "      <td>0</td>\n",
       "      <td>0</td>\n",
       "      <td>0</td>\n",
       "    </tr>\n",
       "    <tr>\n",
       "      <th>3096</th>\n",
       "      <td>0_2308</td>\n",
       "      <td>20.28</td>\n",
       "      <td>0</td>\n",
       "      <td>0</td>\n",
       "      <td>0</td>\n",
       "    </tr>\n",
       "  </tbody>\n",
       "</table>\n",
       "</div>"
      ],
      "text/plain": [
       "     id_prod   price  categ  QuantiteVendue  CA\n",
       "184   0_1016   35.06      0               0   0\n",
       "279   0_1780    1.67      0               0   0\n",
       "731      T_0    0.00      0               0   0\n",
       "737   0_1062   20.08      0               0   0\n",
       "794   0_1119    2.99      0               0   0\n",
       "811   0_1014    1.15      0               0   0\n",
       "846      1_0   31.82      1               0   0\n",
       "1031  0_1318   20.92      0               0   0\n",
       "1139  0_1800   22.05      0               0   0\n",
       "1347  0_1645    2.99      0               0   0\n",
       "1505   0_322    2.99      0               0   0\n",
       "1530  0_1620    0.80      0               0   0\n",
       "1543  0_1025   24.99      0               0   0\n",
       "1709    2_87  220.99      2               0   0\n",
       "1863   1_394   39.73      1               0   0\n",
       "1946    2_72  141.32      2               0   0\n",
       "2215   0_310    1.94      0               0   0\n",
       "2408  0_1624   24.50      0               0   0\n",
       "2525    2_86  132.36      2               0   0\n",
       "2690   0_299   22.99      0               0   0\n",
       "3031   0_510   23.66      0               0   0\n",
       "3096  0_2308   20.28      0               0   0"
      ]
     },
     "execution_count": 85,
     "metadata": {},
     "output_type": "execute_result"
    }
   ],
   "source": [
    "produitsInvendus=produitsInvendus.assign(QuantiteVendue=0,CA=0)\n",
    "produitsInvendus"
   ]
  },
  {
   "cell_type": "markdown",
   "id": "fa59b5a0",
   "metadata": {},
   "source": [
    "##### Fusionner les invendus les produits avec un CA inférieur à 300"
   ]
  },
  {
   "cell_type": "markdown",
   "id": "2375c7a8",
   "metadata": {},
   "source": [
    "Cela permet d'avoir un seul dataframe avec tous les produits flops"
   ]
  },
  {
   "cell_type": "code",
   "execution_count": 86,
   "id": "996bed5d",
   "metadata": {},
   "outputs": [],
   "source": [
    "produitsFlops=pd.concat([produitsCAMoins300, produitsInvendus])"
   ]
  },
  {
   "cell_type": "markdown",
   "id": "bcb1dd82",
   "metadata": {},
   "source": [
    "##### Remplacer les valeurs nan par 0"
   ]
  },
  {
   "cell_type": "code",
   "execution_count": 87,
   "id": "d8e5a195",
   "metadata": {},
   "outputs": [],
   "source": [
    "produitsFlops=produitsFlops.fillna(0)"
   ]
  },
  {
   "cell_type": "markdown",
   "id": "591a9b0c",
   "metadata": {},
   "source": [
    "##### Afficher les produits flops"
   ]
  },
  {
   "cell_type": "code",
   "execution_count": 88,
   "id": "a7486fc4",
   "metadata": {},
   "outputs": [
    {
     "data": {
      "text/html": [
       "<div>\n",
       "<style scoped>\n",
       "    .dataframe tbody tr th:only-of-type {\n",
       "        vertical-align: middle;\n",
       "    }\n",
       "\n",
       "    .dataframe tbody tr th {\n",
       "        vertical-align: top;\n",
       "    }\n",
       "\n",
       "    .dataframe thead th {\n",
       "        text-align: right;\n",
       "    }\n",
       "</style>\n",
       "<table border=\"1\" class=\"dataframe\">\n",
       "  <thead>\n",
       "    <tr style=\"text-align: right;\">\n",
       "      <th></th>\n",
       "      <th>id_prod</th>\n",
       "      <th>price</th>\n",
       "      <th>categ</th>\n",
       "      <th>QuantiteVendue</th>\n",
       "      <th>CA</th>\n",
       "    </tr>\n",
       "  </thead>\n",
       "  <tbody>\n",
       "    <tr>\n",
       "      <th>120</th>\n",
       "      <td>0_1109</td>\n",
       "      <td>29.99</td>\n",
       "      <td>0</td>\n",
       "      <td>10</td>\n",
       "      <td>299.90</td>\n",
       "    </tr>\n",
       "    <tr>\n",
       "      <th>1495</th>\n",
       "      <td>0_277</td>\n",
       "      <td>29.99</td>\n",
       "      <td>0</td>\n",
       "      <td>10</td>\n",
       "      <td>299.90</td>\n",
       "    </tr>\n",
       "    <tr>\n",
       "      <th>1344</th>\n",
       "      <td>0_2217</td>\n",
       "      <td>24.99</td>\n",
       "      <td>0</td>\n",
       "      <td>12</td>\n",
       "      <td>299.88</td>\n",
       "    </tr>\n",
       "    <tr>\n",
       "      <th>2037</th>\n",
       "      <td>0_769</td>\n",
       "      <td>24.99</td>\n",
       "      <td>0</td>\n",
       "      <td>12</td>\n",
       "      <td>299.88</td>\n",
       "    </tr>\n",
       "    <tr>\n",
       "      <th>2273</th>\n",
       "      <td>0_981</td>\n",
       "      <td>19.99</td>\n",
       "      <td>0</td>\n",
       "      <td>15</td>\n",
       "      <td>299.85</td>\n",
       "    </tr>\n",
       "    <tr>\n",
       "      <th>...</th>\n",
       "      <td>...</td>\n",
       "      <td>...</td>\n",
       "      <td>...</td>\n",
       "      <td>...</td>\n",
       "      <td>...</td>\n",
       "    </tr>\n",
       "    <tr>\n",
       "      <th>794</th>\n",
       "      <td>0_1119</td>\n",
       "      <td>2.99</td>\n",
       "      <td>0</td>\n",
       "      <td>0</td>\n",
       "      <td>0.00</td>\n",
       "    </tr>\n",
       "    <tr>\n",
       "      <th>737</th>\n",
       "      <td>0_1062</td>\n",
       "      <td>20.08</td>\n",
       "      <td>0</td>\n",
       "      <td>0</td>\n",
       "      <td>0.00</td>\n",
       "    </tr>\n",
       "    <tr>\n",
       "      <th>731</th>\n",
       "      <td>T_0</td>\n",
       "      <td>0.00</td>\n",
       "      <td>0</td>\n",
       "      <td>0</td>\n",
       "      <td>0.00</td>\n",
       "    </tr>\n",
       "    <tr>\n",
       "      <th>279</th>\n",
       "      <td>0_1780</td>\n",
       "      <td>1.67</td>\n",
       "      <td>0</td>\n",
       "      <td>0</td>\n",
       "      <td>0.00</td>\n",
       "    </tr>\n",
       "    <tr>\n",
       "      <th>3096</th>\n",
       "      <td>0_2308</td>\n",
       "      <td>20.28</td>\n",
       "      <td>0</td>\n",
       "      <td>0</td>\n",
       "      <td>0.00</td>\n",
       "    </tr>\n",
       "  </tbody>\n",
       "</table>\n",
       "<p>1022 rows × 5 columns</p>\n",
       "</div>"
      ],
      "text/plain": [
       "     id_prod  price  categ  QuantiteVendue      CA\n",
       "120   0_1109  29.99      0              10  299.90\n",
       "1495   0_277  29.99      0              10  299.90\n",
       "1344  0_2217  24.99      0              12  299.88\n",
       "2037   0_769  24.99      0              12  299.88\n",
       "2273   0_981  19.99      0              15  299.85\n",
       "...      ...    ...    ...             ...     ...\n",
       "794   0_1119   2.99      0               0    0.00\n",
       "737   0_1062  20.08      0               0    0.00\n",
       "731      T_0   0.00      0               0    0.00\n",
       "279   0_1780   1.67      0               0    0.00\n",
       "3096  0_2308  20.28      0               0    0.00\n",
       "\n",
       "[1022 rows x 5 columns]"
      ]
     },
     "execution_count": 88,
     "metadata": {},
     "output_type": "execute_result"
    }
   ],
   "source": [
    "produitsFlops.sort_values(by='CA',ascending = False)"
   ]
  },
  {
   "cell_type": "markdown",
   "id": "46289c77",
   "metadata": {},
   "source": [
    "Nous avons 1022 produits flops."
   ]
  },
  {
   "cell_type": "markdown",
   "id": "8c6c8e52",
   "metadata": {},
   "source": [
    "### 4.10 -  Analyse du profil des clients <a class=\"anchor\" id=\"section_4_10\"></a>"
   ]
  },
  {
   "cell_type": "markdown",
   "id": "5de32cd0",
   "metadata": {},
   "source": [
    "#### 4.10.1 - Tranche d'âge des clients"
   ]
  },
  {
   "cell_type": "code",
   "execution_count": 89,
   "id": "f5d914c9",
   "metadata": {},
   "outputs": [
    {
     "data": {
      "text/plain": [
       "count    679332.000000\n",
       "mean         43.188861\n",
       "std          13.574553\n",
       "min          17.000000\n",
       "25%          34.000000\n",
       "50%          41.000000\n",
       "75%          51.000000\n",
       "max          92.000000\n",
       "Name: Age, dtype: float64"
      ]
     },
     "execution_count": 89,
     "metadata": {},
     "output_type": "execute_result"
    }
   ],
   "source": [
    "dataClientsTransactionProduits['Age'].describe()"
   ]
  },
  {
   "cell_type": "markdown",
   "id": "4ac750fc",
   "metadata": {
    "scrolled": true
   },
   "source": [
    "Le plus jeune client a 17 ans et le plus âgé 92 ans."
   ]
  },
  {
   "cell_type": "markdown",
   "id": "86a664d1",
   "metadata": {},
   "source": [
    "#### 4.10.2 - Répartition des clients par sexe "
   ]
  },
  {
   "cell_type": "markdown",
   "id": "0e2e26de",
   "metadata": {},
   "source": [
    "##### Les clients de la base de données"
   ]
  },
  {
   "cell_type": "code",
   "execution_count": 90,
   "id": "4891bd24",
   "metadata": {},
   "outputs": [
    {
     "data": {
      "image/png": "[encoded data removed]",
      "text/plain": [
       "<Figure size 360x360 with 1 Axes>"
      ]
     },
     "metadata": {},
     "output_type": "display_data"
    }
   ],
   "source": [
    "dataCustomers[\"sex\"].value_counts(normalize=True).plot(kind='pie',figsize=(5,5),autopct='%1.1f%%')\n",
    "# Cette ligne assure que le pie chart est un cercle plutôt qu'une éllipse\n",
    "plt.axis('equal') \n",
    "plt.show()"
   ]
  },
  {
   "cell_type": "markdown",
   "id": "c5a7605d",
   "metadata": {},
   "source": [
    "52,1% de nos clients sont des femmes et 47,9% des hommes."
   ]
  },
  {
   "cell_type": "markdown",
   "id": "76fcbdc4",
   "metadata": {},
   "source": [
    "#### 4.10.3 - Répartition des clients par âge "
   ]
  },
  {
   "cell_type": "markdown",
   "id": "48ea2a1a",
   "metadata": {},
   "source": [
    "##### Pour tous les âges"
   ]
  },
  {
   "cell_type": "code",
   "execution_count": 91,
   "id": "becaa0ed",
   "metadata": {},
   "outputs": [
    {
     "data": {
      "text/html": [
       "<div>\n",
       "<style scoped>\n",
       "    .dataframe tbody tr th:only-of-type {\n",
       "        vertical-align: middle;\n",
       "    }\n",
       "\n",
       "    .dataframe tbody tr th {\n",
       "        vertical-align: top;\n",
       "    }\n",
       "\n",
       "    .dataframe thead th {\n",
       "        text-align: right;\n",
       "    }\n",
       "</style>\n",
       "<table border=\"1\" class=\"dataframe\">\n",
       "  <thead>\n",
       "    <tr style=\"text-align: right;\">\n",
       "      <th></th>\n",
       "      <th>client_id</th>\n",
       "    </tr>\n",
       "    <tr>\n",
       "      <th>Age</th>\n",
       "      <th></th>\n",
       "    </tr>\n",
       "  </thead>\n",
       "  <tbody>\n",
       "    <tr>\n",
       "      <th>17</th>\n",
       "      <td>440</td>\n",
       "    </tr>\n",
       "    <tr>\n",
       "      <th>42</th>\n",
       "      <td>215</td>\n",
       "    </tr>\n",
       "    <tr>\n",
       "      <th>33</th>\n",
       "      <td>207</td>\n",
       "    </tr>\n",
       "    <tr>\n",
       "      <th>35</th>\n",
       "      <td>203</td>\n",
       "    </tr>\n",
       "    <tr>\n",
       "      <th>43</th>\n",
       "      <td>199</td>\n",
       "    </tr>\n",
       "    <tr>\n",
       "      <th>...</th>\n",
       "      <td>...</td>\n",
       "    </tr>\n",
       "    <tr>\n",
       "      <th>88</th>\n",
       "      <td>8</td>\n",
       "    </tr>\n",
       "    <tr>\n",
       "      <th>89</th>\n",
       "      <td>6</td>\n",
       "    </tr>\n",
       "    <tr>\n",
       "      <th>90</th>\n",
       "      <td>4</td>\n",
       "    </tr>\n",
       "    <tr>\n",
       "      <th>91</th>\n",
       "      <td>4</td>\n",
       "    </tr>\n",
       "    <tr>\n",
       "      <th>92</th>\n",
       "      <td>3</td>\n",
       "    </tr>\n",
       "  </tbody>\n",
       "</table>\n",
       "<p>76 rows × 1 columns</p>\n",
       "</div>"
      ],
      "text/plain": [
       "     client_id\n",
       "Age           \n",
       "17         440\n",
       "42         215\n",
       "33         207\n",
       "35         203\n",
       "43         199\n",
       "..         ...\n",
       "88           8\n",
       "89           6\n",
       "90           4\n",
       "91           4\n",
       "92           3\n",
       "\n",
       "[76 rows x 1 columns]"
      ]
     },
     "execution_count": 91,
     "metadata": {},
     "output_type": "execute_result"
    }
   ],
   "source": [
    "Repartitionclientparage = dataCustomers.groupby(['Age']).agg({'client_id':'count'})\n",
    "Repartitionclientparage.sort_values(by='client_id',ascending = False)"
   ]
  },
  {
   "cell_type": "markdown",
   "id": "d1fe3cb1",
   "metadata": {},
   "source": [
    "Les 17 ans concentrent plus de clients que les autres âges, s'en suit les 42 ans. Les 92 ans concentre le moins de clients."
   ]
  },
  {
   "cell_type": "markdown",
   "id": "8fb6d680",
   "metadata": {},
   "source": [
    "##### Pour les 18, 19 et 20 ans"
   ]
  },
  {
   "cell_type": "code",
   "execution_count": 92,
   "id": "8ee32578",
   "metadata": {},
   "outputs": [
    {
     "data": {
      "text/html": [
       "<div>\n",
       "<style scoped>\n",
       "    .dataframe tbody tr th:only-of-type {\n",
       "        vertical-align: middle;\n",
       "    }\n",
       "\n",
       "    .dataframe tbody tr th {\n",
       "        vertical-align: top;\n",
       "    }\n",
       "\n",
       "    .dataframe thead th {\n",
       "        text-align: right;\n",
       "    }\n",
       "</style>\n",
       "<table border=\"1\" class=\"dataframe\">\n",
       "  <thead>\n",
       "    <tr style=\"text-align: right;\">\n",
       "      <th></th>\n",
       "      <th>client_id</th>\n",
       "    </tr>\n",
       "    <tr>\n",
       "      <th>Age</th>\n",
       "      <th></th>\n",
       "    </tr>\n",
       "  </thead>\n",
       "  <tbody>\n",
       "    <tr>\n",
       "      <th>18</th>\n",
       "      <td>146</td>\n",
       "    </tr>\n",
       "    <tr>\n",
       "      <th>19</th>\n",
       "      <td>146</td>\n",
       "    </tr>\n",
       "    <tr>\n",
       "      <th>20</th>\n",
       "      <td>129</td>\n",
       "    </tr>\n",
       "  </tbody>\n",
       "</table>\n",
       "</div>"
      ],
      "text/plain": [
       "     client_id\n",
       "Age           \n",
       "18         146\n",
       "19         146\n",
       "20         129"
      ]
     },
     "execution_count": 92,
     "metadata": {},
     "output_type": "execute_result"
    }
   ],
   "source": [
    "Repartitionclientparage.query('Age==18 | Age==19 | Age==20')"
   ]
  },
  {
   "cell_type": "markdown",
   "id": "1c8c8808",
   "metadata": {},
   "source": [
    " L'écart de concentrations entre les 17 ans et la tranche 18,19 et 20 ans est énorme alors que l'écart d'âge est faible. Cela laisse penser que certains 17 ans n'ont pas donné leur âge réel."
   ]
  },
  {
   "cell_type": "markdown",
   "id": "8816329e",
   "metadata": {},
   "source": [
    "#### 4.10.4 - Comportement d'achat par sexe et catégorie de produits"
   ]
  },
  {
   "cell_type": "markdown",
   "id": "06f2649e",
   "metadata": {},
   "source": [
    "##### Calculer le chiffre d'affaire par ligne de transaction"
   ]
  },
  {
   "cell_type": "code",
   "execution_count": 93,
   "id": "3a435e37",
   "metadata": {},
   "outputs": [
    {
     "data": {
      "text/html": [
       "<div>\n",
       "<style scoped>\n",
       "    .dataframe tbody tr th:only-of-type {\n",
       "        vertical-align: middle;\n",
       "    }\n",
       "\n",
       "    .dataframe tbody tr th {\n",
       "        vertical-align: top;\n",
       "    }\n",
       "\n",
       "    .dataframe thead th {\n",
       "        text-align: right;\n",
       "    }\n",
       "</style>\n",
       "<table border=\"1\" class=\"dataframe\">\n",
       "  <thead>\n",
       "    <tr style=\"text-align: right;\">\n",
       "      <th></th>\n",
       "      <th>client_id</th>\n",
       "      <th>sex</th>\n",
       "      <th>birth</th>\n",
       "      <th>Age</th>\n",
       "      <th>id_prod</th>\n",
       "      <th>date</th>\n",
       "      <th>session_id</th>\n",
       "      <th>Année_Mois</th>\n",
       "      <th>Année</th>\n",
       "      <th>price</th>\n",
       "      <th>categ</th>\n",
       "      <th>QuantiteVendue</th>\n",
       "      <th>CA</th>\n",
       "    </tr>\n",
       "  </thead>\n",
       "  <tbody>\n",
       "    <tr>\n",
       "      <th>0</th>\n",
       "      <td>c_4410</td>\n",
       "      <td>f</td>\n",
       "      <td>1967</td>\n",
       "      <td>54</td>\n",
       "      <td>0_1277</td>\n",
       "      <td>2022-03-25</td>\n",
       "      <td>s_184041</td>\n",
       "      <td>2022-03</td>\n",
       "      <td>2022</td>\n",
       "      <td>7.99</td>\n",
       "      <td>0</td>\n",
       "      <td>1</td>\n",
       "      <td>7.99</td>\n",
       "    </tr>\n",
       "    <tr>\n",
       "      <th>1</th>\n",
       "      <td>c_4410</td>\n",
       "      <td>f</td>\n",
       "      <td>1967</td>\n",
       "      <td>54</td>\n",
       "      <td>0_1277</td>\n",
       "      <td>2021-09-25</td>\n",
       "      <td>s_94984</td>\n",
       "      <td>2021-09</td>\n",
       "      <td>2021</td>\n",
       "      <td>7.99</td>\n",
       "      <td>0</td>\n",
       "      <td>1</td>\n",
       "      <td>7.99</td>\n",
       "    </tr>\n",
       "    <tr>\n",
       "      <th>2</th>\n",
       "      <td>c_4410</td>\n",
       "      <td>f</td>\n",
       "      <td>1967</td>\n",
       "      <td>54</td>\n",
       "      <td>0_1376</td>\n",
       "      <td>2021-09-24</td>\n",
       "      <td>s_94984</td>\n",
       "      <td>2021-09</td>\n",
       "      <td>2021</td>\n",
       "      <td>16.24</td>\n",
       "      <td>0</td>\n",
       "      <td>1</td>\n",
       "      <td>16.24</td>\n",
       "    </tr>\n",
       "    <tr>\n",
       "      <th>3</th>\n",
       "      <td>c_4410</td>\n",
       "      <td>f</td>\n",
       "      <td>1967</td>\n",
       "      <td>54</td>\n",
       "      <td>0_1376</td>\n",
       "      <td>2022-04-24</td>\n",
       "      <td>s_198987</td>\n",
       "      <td>2022-04</td>\n",
       "      <td>2022</td>\n",
       "      <td>16.24</td>\n",
       "      <td>0</td>\n",
       "      <td>1</td>\n",
       "      <td>16.24</td>\n",
       "    </tr>\n",
       "    <tr>\n",
       "      <th>4</th>\n",
       "      <td>c_4410</td>\n",
       "      <td>f</td>\n",
       "      <td>1967</td>\n",
       "      <td>54</td>\n",
       "      <td>0_1376</td>\n",
       "      <td>2023-01-24</td>\n",
       "      <td>s_331878</td>\n",
       "      <td>2023-01</td>\n",
       "      <td>2023</td>\n",
       "      <td>16.24</td>\n",
       "      <td>0</td>\n",
       "      <td>1</td>\n",
       "      <td>16.24</td>\n",
       "    </tr>\n",
       "    <tr>\n",
       "      <th>...</th>\n",
       "      <td>...</td>\n",
       "      <td>...</td>\n",
       "      <td>...</td>\n",
       "      <td>...</td>\n",
       "      <td>...</td>\n",
       "      <td>...</td>\n",
       "      <td>...</td>\n",
       "      <td>...</td>\n",
       "      <td>...</td>\n",
       "      <td>...</td>\n",
       "      <td>...</td>\n",
       "      <td>...</td>\n",
       "      <td>...</td>\n",
       "    </tr>\n",
       "    <tr>\n",
       "      <th>679327</th>\n",
       "      <td>c_84</td>\n",
       "      <td>f</td>\n",
       "      <td>1982</td>\n",
       "      <td>39</td>\n",
       "      <td>0_1452</td>\n",
       "      <td>2021-09-20</td>\n",
       "      <td>s_92701</td>\n",
       "      <td>2021-09</td>\n",
       "      <td>2021</td>\n",
       "      <td>13.77</td>\n",
       "      <td>0</td>\n",
       "      <td>1</td>\n",
       "      <td>13.77</td>\n",
       "    </tr>\n",
       "    <tr>\n",
       "      <th>679328</th>\n",
       "      <td>c_84</td>\n",
       "      <td>f</td>\n",
       "      <td>1982</td>\n",
       "      <td>39</td>\n",
       "      <td>0_1110</td>\n",
       "      <td>2021-09-20</td>\n",
       "      <td>s_92701</td>\n",
       "      <td>2021-09</td>\n",
       "      <td>2021</td>\n",
       "      <td>4.71</td>\n",
       "      <td>0</td>\n",
       "      <td>1</td>\n",
       "      <td>4.71</td>\n",
       "    </tr>\n",
       "    <tr>\n",
       "      <th>679329</th>\n",
       "      <td>c_84</td>\n",
       "      <td>f</td>\n",
       "      <td>1982</td>\n",
       "      <td>39</td>\n",
       "      <td>0_1399</td>\n",
       "      <td>2021-10-01</td>\n",
       "      <td>s_98493</td>\n",
       "      <td>2021-10</td>\n",
       "      <td>2021</td>\n",
       "      <td>17.99</td>\n",
       "      <td>0</td>\n",
       "      <td>1</td>\n",
       "      <td>17.99</td>\n",
       "    </tr>\n",
       "    <tr>\n",
       "      <th>679330</th>\n",
       "      <td>c_84</td>\n",
       "      <td>f</td>\n",
       "      <td>1982</td>\n",
       "      <td>39</td>\n",
       "      <td>1_110</td>\n",
       "      <td>2021-09-13</td>\n",
       "      <td>s_89478</td>\n",
       "      <td>2021-09</td>\n",
       "      <td>2021</td>\n",
       "      <td>54.90</td>\n",
       "      <td>1</td>\n",
       "      <td>1</td>\n",
       "      <td>54.90</td>\n",
       "    </tr>\n",
       "    <tr>\n",
       "      <th>679331</th>\n",
       "      <td>c_84</td>\n",
       "      <td>f</td>\n",
       "      <td>1982</td>\n",
       "      <td>39</td>\n",
       "      <td>1_158</td>\n",
       "      <td>2021-10-01</td>\n",
       "      <td>s_98493</td>\n",
       "      <td>2021-10</td>\n",
       "      <td>2021</td>\n",
       "      <td>22.17</td>\n",
       "      <td>1</td>\n",
       "      <td>1</td>\n",
       "      <td>22.17</td>\n",
       "    </tr>\n",
       "  </tbody>\n",
       "</table>\n",
       "<p>679332 rows × 13 columns</p>\n",
       "</div>"
      ],
      "text/plain": [
       "       client_id sex  birth  Age id_prod       date session_id Année_Mois  \\\n",
       "0         c_4410   f   1967   54  0_1277 2022-03-25   s_184041    2022-03   \n",
       "1         c_4410   f   1967   54  0_1277 2021-09-25    s_94984    2021-09   \n",
       "2         c_4410   f   1967   54  0_1376 2021-09-24    s_94984    2021-09   \n",
       "3         c_4410   f   1967   54  0_1376 2022-04-24   s_198987    2022-04   \n",
       "4         c_4410   f   1967   54  0_1376 2023-01-24   s_331878    2023-01   \n",
       "...          ...  ..    ...  ...     ...        ...        ...        ...   \n",
       "679327      c_84   f   1982   39  0_1452 2021-09-20    s_92701    2021-09   \n",
       "679328      c_84   f   1982   39  0_1110 2021-09-20    s_92701    2021-09   \n",
       "679329      c_84   f   1982   39  0_1399 2021-10-01    s_98493    2021-10   \n",
       "679330      c_84   f   1982   39   1_110 2021-09-13    s_89478    2021-09   \n",
       "679331      c_84   f   1982   39   1_158 2021-10-01    s_98493    2021-10   \n",
       "\n",
       "       Année  price  categ  QuantiteVendue     CA  \n",
       "0       2022   7.99      0               1   7.99  \n",
       "1       2021   7.99      0               1   7.99  \n",
       "2       2021  16.24      0               1  16.24  \n",
       "3       2022  16.24      0               1  16.24  \n",
       "4       2023  16.24      0               1  16.24  \n",
       "...      ...    ...    ...             ...    ...  \n",
       "679327  2021  13.77      0               1  13.77  \n",
       "679328  2021   4.71      0               1   4.71  \n",
       "679329  2021  17.99      0               1  17.99  \n",
       "679330  2021  54.90      1               1  54.90  \n",
       "679331  2021  22.17      1               1  22.17  \n",
       "\n",
       "[679332 rows x 13 columns]"
      ]
     },
     "execution_count": 93,
     "metadata": {},
     "output_type": "execute_result"
    }
   ],
   "source": [
    "# Copier les données\n",
    "CAParTransactionClient=dataClientsTransactionProduits.copy()\n",
    "\n",
    "# Créer la colonne quantité en lui attibuant la valeur 1 car chaque ligne représente la commande d'un produit\n",
    "CAParTransactionClient['QuantiteVendue']=1 \n",
    "\n",
    "# Calculer le CA réalisé par ligne de vente\n",
    "CAParTransactionClient['CA']=CAParTransactionClient['price']*CAParTransactionClient['QuantiteVendue']\n",
    "\n",
    "# Afficher les données\n",
    "CAParTransactionClient"
   ]
  },
  {
   "cell_type": "markdown",
   "id": "eb50b5ee",
   "metadata": {},
   "source": [
    "##### Répartir le chiffre d'affaire par sexe et catégorie"
   ]
  },
  {
   "cell_type": "code",
   "execution_count": 94,
   "id": "8e61afdf",
   "metadata": {},
   "outputs": [
    {
     "data": {
      "text/html": [
       "<div>\n",
       "<style scoped>\n",
       "    .dataframe tbody tr th:only-of-type {\n",
       "        vertical-align: middle;\n",
       "    }\n",
       "\n",
       "    .dataframe tbody tr th {\n",
       "        vertical-align: top;\n",
       "    }\n",
       "\n",
       "    .dataframe thead th {\n",
       "        text-align: right;\n",
       "    }\n",
       "</style>\n",
       "<table border=\"1\" class=\"dataframe\">\n",
       "  <thead>\n",
       "    <tr style=\"text-align: right;\">\n",
       "      <th>categ</th>\n",
       "      <th>0</th>\n",
       "      <th>1</th>\n",
       "      <th>2</th>\n",
       "      <th>CA Total</th>\n",
       "    </tr>\n",
       "    <tr>\n",
       "      <th>sex</th>\n",
       "      <th></th>\n",
       "      <th></th>\n",
       "      <th></th>\n",
       "      <th></th>\n",
       "    </tr>\n",
       "  </thead>\n",
       "  <tbody>\n",
       "    <tr>\n",
       "      <th>f</th>\n",
       "      <td>2191385.48</td>\n",
       "      <td>2358417.02</td>\n",
       "      <td>1311253.04</td>\n",
       "      <td>5861055.54</td>\n",
       "    </tr>\n",
       "    <tr>\n",
       "      <th>m</th>\n",
       "      <td>2230937.82</td>\n",
       "      <td>2295305.67</td>\n",
       "      <td>1469021.98</td>\n",
       "      <td>5995265.47</td>\n",
       "    </tr>\n",
       "    <tr>\n",
       "      <th>CA Total</th>\n",
       "      <td>4422323.30</td>\n",
       "      <td>4653722.69</td>\n",
       "      <td>2780275.02</td>\n",
       "      <td>11856321.01</td>\n",
       "    </tr>\n",
       "  </tbody>\n",
       "</table>\n",
       "</div>"
      ],
      "text/plain": [
       "categ              0           1           2     CA Total\n",
       "sex                                                      \n",
       "f         2191385.48  2358417.02  1311253.04   5861055.54\n",
       "m         2230937.82  2295305.67  1469021.98   5995265.47\n",
       "CA Total  4422323.30  4653722.69  2780275.02  11856321.01"
      ]
     },
     "execution_count": 94,
     "metadata": {},
     "output_type": "execute_result"
    }
   ],
   "source": [
    "CAParCategorieEtSexe = pd.pivot_table(CAParTransactionClient, values='CA',index=['sex'], columns='categ',aggfunc=np.sum, margins=True, margins_name='CA Total',fill_value = 0)\n",
    "CAParCategorieEtSexe=round(CAParCategorieEtSexe,2)\n",
    "CAParCategorieEtSexe"
   ]
  },
  {
   "cell_type": "markdown",
   "id": "bb18e896",
   "metadata": {},
   "source": [
    "Le comportement d'achat des clients est légèrement différent d'un homme à une femme pour chaque catégorie. Pour la catégorie 0 et 2, les hommes génèrent plus de CA que les femmes. Pour la catégorie 1, ce sont les femmes qui génèrent plus de CA. Les produits de la catégorie 1 génèrent le CA le plus elevé."
   ]
  },
  {
   "cell_type": "markdown",
   "id": "3dcc0e75",
   "metadata": {},
   "source": [
    "##### Représenter le CA par sexe et catégorie de produits"
   ]
  },
  {
   "cell_type": "code",
   "execution_count": 95,
   "id": "206e1789",
   "metadata": {},
   "outputs": [
    {
     "data": {
      "image/png": "[encoded data removed]",
      "text/plain": [
       "<Figure size 720x432 with 1 Axes>"
      ]
     },
     "metadata": {
      "needs_background": "light"
     },
     "output_type": "display_data"
    }
   ],
   "source": [
    "CAParCategorieEtSexeSansTotal = pd.pivot_table(CAParTransactionClient, values='CA',index=['sex'], columns='categ',aggfunc=np.sum, fill_value = 0)\n",
    "CAParCategorieEtSexeSansTotal=round(CAParCategorieEtSexeSansTotal,2)\n",
    "CAParCategorieEtSexeSansTotal.plot.bar(width=0.2,figsize=(10,6))\n",
    "plt.title('Répartition du chiffre d\\'affaires par sexe et catégorie de produits', fontsize=14)\n",
    "plt.xlabel('Année',fontsize=12)\n",
    "plt.ylabel('Chiffre d\\'affaires',fontsize=12)\n",
    "plt.grid (True)\n",
    "plt.show()"
   ]
  },
  {
   "cell_type": "markdown",
   "id": "190c602d",
   "metadata": {},
   "source": [
    "Les hommes génèrent plus de CA pour les produits de la catégorie 0 et 2. Les femmes génèrent plus de CA pour les produits de la catégorie 1. La différence n'est pas énorme."
   ]
  },
  {
   "cell_type": "markdown",
   "id": "6dbbfbf3",
   "metadata": {},
   "source": [
    "#### 4.10.5 - Fréquence d'achat par tranche d'age"
   ]
  },
  {
   "cell_type": "markdown",
   "id": "678151ec",
   "metadata": {},
   "source": [
    "#####  Créer des tranches d'âge et les affecter à chaque client"
   ]
  },
  {
   "cell_type": "code",
   "execution_count": 96,
   "id": "bb080f7b",
   "metadata": {},
   "outputs": [
    {
     "data": {
      "text/html": [
       "<div>\n",
       "<style scoped>\n",
       "    .dataframe tbody tr th:only-of-type {\n",
       "        vertical-align: middle;\n",
       "    }\n",
       "\n",
       "    .dataframe tbody tr th {\n",
       "        vertical-align: top;\n",
       "    }\n",
       "\n",
       "    .dataframe thead th {\n",
       "        text-align: right;\n",
       "    }\n",
       "</style>\n",
       "<table border=\"1\" class=\"dataframe\">\n",
       "  <thead>\n",
       "    <tr style=\"text-align: right;\">\n",
       "      <th></th>\n",
       "      <th>client_id</th>\n",
       "      <th>sex</th>\n",
       "      <th>birth</th>\n",
       "      <th>Age</th>\n",
       "      <th>id_prod</th>\n",
       "      <th>date</th>\n",
       "      <th>session_id</th>\n",
       "      <th>Année_Mois</th>\n",
       "      <th>Année</th>\n",
       "      <th>price</th>\n",
       "      <th>categ</th>\n",
       "      <th>QuantiteVendue</th>\n",
       "      <th>CA</th>\n",
       "      <th>trancheAge</th>\n",
       "    </tr>\n",
       "  </thead>\n",
       "  <tbody>\n",
       "    <tr>\n",
       "      <th>0</th>\n",
       "      <td>c_4410</td>\n",
       "      <td>f</td>\n",
       "      <td>1967</td>\n",
       "      <td>54</td>\n",
       "      <td>0_1277</td>\n",
       "      <td>2022-03-25</td>\n",
       "      <td>s_184041</td>\n",
       "      <td>2022-03</td>\n",
       "      <td>2022</td>\n",
       "      <td>7.99</td>\n",
       "      <td>0</td>\n",
       "      <td>1</td>\n",
       "      <td>7.99</td>\n",
       "      <td>[45-54ans]</td>\n",
       "    </tr>\n",
       "    <tr>\n",
       "      <th>1</th>\n",
       "      <td>c_4410</td>\n",
       "      <td>f</td>\n",
       "      <td>1967</td>\n",
       "      <td>54</td>\n",
       "      <td>0_1277</td>\n",
       "      <td>2021-09-25</td>\n",
       "      <td>s_94984</td>\n",
       "      <td>2021-09</td>\n",
       "      <td>2021</td>\n",
       "      <td>7.99</td>\n",
       "      <td>0</td>\n",
       "      <td>1</td>\n",
       "      <td>7.99</td>\n",
       "      <td>[45-54ans]</td>\n",
       "    </tr>\n",
       "    <tr>\n",
       "      <th>2</th>\n",
       "      <td>c_4410</td>\n",
       "      <td>f</td>\n",
       "      <td>1967</td>\n",
       "      <td>54</td>\n",
       "      <td>0_1376</td>\n",
       "      <td>2021-09-24</td>\n",
       "      <td>s_94984</td>\n",
       "      <td>2021-09</td>\n",
       "      <td>2021</td>\n",
       "      <td>16.24</td>\n",
       "      <td>0</td>\n",
       "      <td>1</td>\n",
       "      <td>16.24</td>\n",
       "      <td>[45-54ans]</td>\n",
       "    </tr>\n",
       "    <tr>\n",
       "      <th>3</th>\n",
       "      <td>c_4410</td>\n",
       "      <td>f</td>\n",
       "      <td>1967</td>\n",
       "      <td>54</td>\n",
       "      <td>0_1376</td>\n",
       "      <td>2022-04-24</td>\n",
       "      <td>s_198987</td>\n",
       "      <td>2022-04</td>\n",
       "      <td>2022</td>\n",
       "      <td>16.24</td>\n",
       "      <td>0</td>\n",
       "      <td>1</td>\n",
       "      <td>16.24</td>\n",
       "      <td>[45-54ans]</td>\n",
       "    </tr>\n",
       "    <tr>\n",
       "      <th>4</th>\n",
       "      <td>c_4410</td>\n",
       "      <td>f</td>\n",
       "      <td>1967</td>\n",
       "      <td>54</td>\n",
       "      <td>0_1376</td>\n",
       "      <td>2023-01-24</td>\n",
       "      <td>s_331878</td>\n",
       "      <td>2023-01</td>\n",
       "      <td>2023</td>\n",
       "      <td>16.24</td>\n",
       "      <td>0</td>\n",
       "      <td>1</td>\n",
       "      <td>16.24</td>\n",
       "      <td>[45-54ans]</td>\n",
       "    </tr>\n",
       "    <tr>\n",
       "      <th>...</th>\n",
       "      <td>...</td>\n",
       "      <td>...</td>\n",
       "      <td>...</td>\n",
       "      <td>...</td>\n",
       "      <td>...</td>\n",
       "      <td>...</td>\n",
       "      <td>...</td>\n",
       "      <td>...</td>\n",
       "      <td>...</td>\n",
       "      <td>...</td>\n",
       "      <td>...</td>\n",
       "      <td>...</td>\n",
       "      <td>...</td>\n",
       "      <td>...</td>\n",
       "    </tr>\n",
       "    <tr>\n",
       "      <th>679327</th>\n",
       "      <td>c_84</td>\n",
       "      <td>f</td>\n",
       "      <td>1982</td>\n",
       "      <td>39</td>\n",
       "      <td>0_1452</td>\n",
       "      <td>2021-09-20</td>\n",
       "      <td>s_92701</td>\n",
       "      <td>2021-09</td>\n",
       "      <td>2021</td>\n",
       "      <td>13.77</td>\n",
       "      <td>0</td>\n",
       "      <td>1</td>\n",
       "      <td>13.77</td>\n",
       "      <td>[35-44ans]</td>\n",
       "    </tr>\n",
       "    <tr>\n",
       "      <th>679328</th>\n",
       "      <td>c_84</td>\n",
       "      <td>f</td>\n",
       "      <td>1982</td>\n",
       "      <td>39</td>\n",
       "      <td>0_1110</td>\n",
       "      <td>2021-09-20</td>\n",
       "      <td>s_92701</td>\n",
       "      <td>2021-09</td>\n",
       "      <td>2021</td>\n",
       "      <td>4.71</td>\n",
       "      <td>0</td>\n",
       "      <td>1</td>\n",
       "      <td>4.71</td>\n",
       "      <td>[35-44ans]</td>\n",
       "    </tr>\n",
       "    <tr>\n",
       "      <th>679329</th>\n",
       "      <td>c_84</td>\n",
       "      <td>f</td>\n",
       "      <td>1982</td>\n",
       "      <td>39</td>\n",
       "      <td>0_1399</td>\n",
       "      <td>2021-10-01</td>\n",
       "      <td>s_98493</td>\n",
       "      <td>2021-10</td>\n",
       "      <td>2021</td>\n",
       "      <td>17.99</td>\n",
       "      <td>0</td>\n",
       "      <td>1</td>\n",
       "      <td>17.99</td>\n",
       "      <td>[35-44ans]</td>\n",
       "    </tr>\n",
       "    <tr>\n",
       "      <th>679330</th>\n",
       "      <td>c_84</td>\n",
       "      <td>f</td>\n",
       "      <td>1982</td>\n",
       "      <td>39</td>\n",
       "      <td>1_110</td>\n",
       "      <td>2021-09-13</td>\n",
       "      <td>s_89478</td>\n",
       "      <td>2021-09</td>\n",
       "      <td>2021</td>\n",
       "      <td>54.90</td>\n",
       "      <td>1</td>\n",
       "      <td>1</td>\n",
       "      <td>54.90</td>\n",
       "      <td>[35-44ans]</td>\n",
       "    </tr>\n",
       "    <tr>\n",
       "      <th>679331</th>\n",
       "      <td>c_84</td>\n",
       "      <td>f</td>\n",
       "      <td>1982</td>\n",
       "      <td>39</td>\n",
       "      <td>1_158</td>\n",
       "      <td>2021-10-01</td>\n",
       "      <td>s_98493</td>\n",
       "      <td>2021-10</td>\n",
       "      <td>2021</td>\n",
       "      <td>22.17</td>\n",
       "      <td>1</td>\n",
       "      <td>1</td>\n",
       "      <td>22.17</td>\n",
       "      <td>[35-44ans]</td>\n",
       "    </tr>\n",
       "  </tbody>\n",
       "</table>\n",
       "<p>679332 rows × 14 columns</p>\n",
       "</div>"
      ],
      "text/plain": [
       "       client_id sex  birth  Age id_prod       date session_id Année_Mois  \\\n",
       "0         c_4410   f   1967   54  0_1277 2022-03-25   s_184041    2022-03   \n",
       "1         c_4410   f   1967   54  0_1277 2021-09-25    s_94984    2021-09   \n",
       "2         c_4410   f   1967   54  0_1376 2021-09-24    s_94984    2021-09   \n",
       "3         c_4410   f   1967   54  0_1376 2022-04-24   s_198987    2022-04   \n",
       "4         c_4410   f   1967   54  0_1376 2023-01-24   s_331878    2023-01   \n",
       "...          ...  ..    ...  ...     ...        ...        ...        ...   \n",
       "679327      c_84   f   1982   39  0_1452 2021-09-20    s_92701    2021-09   \n",
       "679328      c_84   f   1982   39  0_1110 2021-09-20    s_92701    2021-09   \n",
       "679329      c_84   f   1982   39  0_1399 2021-10-01    s_98493    2021-10   \n",
       "679330      c_84   f   1982   39   1_110 2021-09-13    s_89478    2021-09   \n",
       "679331      c_84   f   1982   39   1_158 2021-10-01    s_98493    2021-10   \n",
       "\n",
       "       Année  price  categ  QuantiteVendue     CA  trancheAge  \n",
       "0       2022   7.99      0               1   7.99  [45-54ans]  \n",
       "1       2021   7.99      0               1   7.99  [45-54ans]  \n",
       "2       2021  16.24      0               1  16.24  [45-54ans]  \n",
       "3       2022  16.24      0               1  16.24  [45-54ans]  \n",
       "4       2023  16.24      0               1  16.24  [45-54ans]  \n",
       "...      ...    ...    ...             ...    ...         ...  \n",
       "679327  2021  13.77      0               1  13.77  [35-44ans]  \n",
       "679328  2021   4.71      0               1   4.71  [35-44ans]  \n",
       "679329  2021  17.99      0               1  17.99  [35-44ans]  \n",
       "679330  2021  54.90      1               1  54.90  [35-44ans]  \n",
       "679331  2021  22.17      1               1  22.17  [35-44ans]  \n",
       "\n",
       "[679332 rows x 14 columns]"
      ]
     },
     "execution_count": 96,
     "metadata": {},
     "output_type": "execute_result"
    }
   ],
   "source": [
    "def ageIntervale(age):\n",
    "    if age>=17 and age<24:\n",
    "        return '[17-24ans]'\n",
    "    elif age>=25 and age<35:\n",
    "        return '[25-34ans]'\n",
    "    elif age>=35 and age<45:\n",
    "        return '[35-44ans]'\n",
    "    elif age>=45 and age<55:\n",
    "        return '[45-54ans]'\n",
    "    elif age>=55 and age<65:\n",
    "        return '[55-64ans]'\n",
    "    elif age>=65 and age<75:\n",
    "        return '[65-74ans]'\n",
    "    elif age>=75 and age<85:\n",
    "        return '[75-84ans]'\n",
    "    elif age>=85:\n",
    "        return '[85-92ans]'\n",
    "    \n",
    "CAParTransactionClient['trancheAge']=CAParTransactionClient['Age'].apply(ageIntervale)\n",
    "CAParTransactionClient"
   ]
  },
  {
   "cell_type": "markdown",
   "id": "c50913cd",
   "metadata": {},
   "source": [
    "##### Calculer le nombre d'achat par client"
   ]
  },
  {
   "cell_type": "code",
   "execution_count": 97,
   "id": "3a0111d3",
   "metadata": {},
   "outputs": [
    {
     "data": {
      "text/html": [
       "<div>\n",
       "<style scoped>\n",
       "    .dataframe tbody tr th:only-of-type {\n",
       "        vertical-align: middle;\n",
       "    }\n",
       "\n",
       "    .dataframe tbody tr th {\n",
       "        vertical-align: top;\n",
       "    }\n",
       "\n",
       "    .dataframe thead th {\n",
       "        text-align: right;\n",
       "    }\n",
       "</style>\n",
       "<table border=\"1\" class=\"dataframe\">\n",
       "  <thead>\n",
       "    <tr style=\"text-align: right;\">\n",
       "      <th></th>\n",
       "      <th>client_id</th>\n",
       "      <th>sex</th>\n",
       "      <th>Age</th>\n",
       "      <th>trancheAge</th>\n",
       "      <th>Année</th>\n",
       "      <th>nbreCommande</th>\n",
       "      <th>CA</th>\n",
       "    </tr>\n",
       "  </thead>\n",
       "  <tbody>\n",
       "    <tr>\n",
       "      <th>0</th>\n",
       "      <td>c_1</td>\n",
       "      <td>m</td>\n",
       "      <td>66</td>\n",
       "      <td>[65-74ans]</td>\n",
       "      <td>2022</td>\n",
       "      <td>39</td>\n",
       "      <td>558.18</td>\n",
       "    </tr>\n",
       "    <tr>\n",
       "      <th>1</th>\n",
       "      <td>c_10</td>\n",
       "      <td>m</td>\n",
       "      <td>65</td>\n",
       "      <td>[65-74ans]</td>\n",
       "      <td>2022</td>\n",
       "      <td>58</td>\n",
       "      <td>1353.60</td>\n",
       "    </tr>\n",
       "    <tr>\n",
       "      <th>2</th>\n",
       "      <td>c_100</td>\n",
       "      <td>m</td>\n",
       "      <td>29</td>\n",
       "      <td>[25-34ans]</td>\n",
       "      <td>2021</td>\n",
       "      <td>8</td>\n",
       "      <td>254.85</td>\n",
       "    </tr>\n",
       "    <tr>\n",
       "      <th>3</th>\n",
       "      <td>c_1000</td>\n",
       "      <td>f</td>\n",
       "      <td>55</td>\n",
       "      <td>[55-64ans]</td>\n",
       "      <td>2022</td>\n",
       "      <td>125</td>\n",
       "      <td>2261.89</td>\n",
       "    </tr>\n",
       "    <tr>\n",
       "      <th>4</th>\n",
       "      <td>c_1001</td>\n",
       "      <td>m</td>\n",
       "      <td>39</td>\n",
       "      <td>[35-44ans]</td>\n",
       "      <td>2022</td>\n",
       "      <td>102</td>\n",
       "      <td>1812.86</td>\n",
       "    </tr>\n",
       "    <tr>\n",
       "      <th>...</th>\n",
       "      <td>...</td>\n",
       "      <td>...</td>\n",
       "      <td>...</td>\n",
       "      <td>...</td>\n",
       "      <td>...</td>\n",
       "      <td>...</td>\n",
       "      <td>...</td>\n",
       "    </tr>\n",
       "    <tr>\n",
       "      <th>8595</th>\n",
       "      <td>c_995</td>\n",
       "      <td>m</td>\n",
       "      <td>66</td>\n",
       "      <td>[65-74ans]</td>\n",
       "      <td>2022</td>\n",
       "      <td>14</td>\n",
       "      <td>189.41</td>\n",
       "    </tr>\n",
       "    <tr>\n",
       "      <th>8596</th>\n",
       "      <td>c_996</td>\n",
       "      <td>f</td>\n",
       "      <td>51</td>\n",
       "      <td>[45-54ans]</td>\n",
       "      <td>2022</td>\n",
       "      <td>95</td>\n",
       "      <td>1625.58</td>\n",
       "    </tr>\n",
       "    <tr>\n",
       "      <th>8597</th>\n",
       "      <td>c_997</td>\n",
       "      <td>f</td>\n",
       "      <td>27</td>\n",
       "      <td>[25-34ans]</td>\n",
       "      <td>2021</td>\n",
       "      <td>59</td>\n",
       "      <td>1490.01</td>\n",
       "    </tr>\n",
       "    <tr>\n",
       "      <th>8598</th>\n",
       "      <td>c_998</td>\n",
       "      <td>m</td>\n",
       "      <td>20</td>\n",
       "      <td>[17-24ans]</td>\n",
       "      <td>2021</td>\n",
       "      <td>53</td>\n",
       "      <td>2779.88</td>\n",
       "    </tr>\n",
       "    <tr>\n",
       "      <th>8599</th>\n",
       "      <td>c_999</td>\n",
       "      <td>m</td>\n",
       "      <td>57</td>\n",
       "      <td>[55-64ans]</td>\n",
       "      <td>2022</td>\n",
       "      <td>46</td>\n",
       "      <td>701.40</td>\n",
       "    </tr>\n",
       "  </tbody>\n",
       "</table>\n",
       "<p>8600 rows × 7 columns</p>\n",
       "</div>"
      ],
      "text/plain": [
       "     client_id sex  Age  trancheAge Année  nbreCommande       CA\n",
       "0          c_1   m   66  [65-74ans]  2022            39   558.18\n",
       "1         c_10   m   65  [65-74ans]  2022            58  1353.60\n",
       "2        c_100   m   29  [25-34ans]  2021             8   254.85\n",
       "3       c_1000   f   55  [55-64ans]  2022           125  2261.89\n",
       "4       c_1001   m   39  [35-44ans]  2022           102  1812.86\n",
       "...        ...  ..  ...         ...   ...           ...      ...\n",
       "8595     c_995   m   66  [65-74ans]  2022            14   189.41\n",
       "8596     c_996   f   51  [45-54ans]  2022            95  1625.58\n",
       "8597     c_997   f   27  [25-34ans]  2021            59  1490.01\n",
       "8598     c_998   m   20  [17-24ans]  2021            53  2779.88\n",
       "8599     c_999   m   57  [55-64ans]  2022            46   701.40\n",
       "\n",
       "[8600 rows x 7 columns]"
      ]
     },
     "execution_count": 97,
     "metadata": {},
     "output_type": "execute_result"
    }
   ],
   "source": [
    "# Copie des données\n",
    "nbreAchatParClient = CAParTransactionClient.copy()\n",
    "\n",
    "# Calculer le nombre d'achat par client\n",
    "nbreAchatParClient =nbreAchatParClient.groupby(['client_id']).agg({'sex':'first','Age':'first','trancheAge':'first','Année':'first','session_id':'count','CA':'sum'})\n",
    "\n",
    "# Renommer la colonne session_id en nbreCommande\n",
    "nbreAchatParClient.rename(columns={'session_id':'nbreCommande'}, inplace=True)\n",
    "\n",
    "# Supprimer les index\n",
    "nbreAchatParClient=nbreAchatParClient.reset_index()\n",
    "\n",
    "# Afficher les données\n",
    "nbreAchatParClient"
   ]
  },
  {
   "cell_type": "markdown",
   "id": "041934b3",
   "metadata": {},
   "source": [
    "Sur les 8 623 clients de la base de données, 8 600 ont effectué un achat."
   ]
  },
  {
   "cell_type": "markdown",
   "id": "db01d92f",
   "metadata": {},
   "source": [
    "##### Calculer le nombre de commande et client par tranche d'âge"
   ]
  },
  {
   "cell_type": "code",
   "execution_count": 98,
   "id": "987c046a",
   "metadata": {},
   "outputs": [
    {
     "data": {
      "text/html": [
       "<div>\n",
       "<style scoped>\n",
       "    .dataframe tbody tr th:only-of-type {\n",
       "        vertical-align: middle;\n",
       "    }\n",
       "\n",
       "    .dataframe tbody tr th {\n",
       "        vertical-align: top;\n",
       "    }\n",
       "\n",
       "    .dataframe thead th {\n",
       "        text-align: right;\n",
       "    }\n",
       "</style>\n",
       "<table border=\"1\" class=\"dataframe\">\n",
       "  <thead>\n",
       "    <tr style=\"text-align: right;\">\n",
       "      <th></th>\n",
       "      <th>trancheAge</th>\n",
       "      <th>nbreClient</th>\n",
       "      <th>nbreCommande</th>\n",
       "    </tr>\n",
       "  </thead>\n",
       "  <tbody>\n",
       "    <tr>\n",
       "      <th>0</th>\n",
       "      <td>[17-24ans]</td>\n",
       "      <td>1284</td>\n",
       "      <td>47855</td>\n",
       "    </tr>\n",
       "    <tr>\n",
       "      <th>1</th>\n",
       "      <td>[25-34ans]</td>\n",
       "      <td>1656</td>\n",
       "      <td>122929</td>\n",
       "    </tr>\n",
       "    <tr>\n",
       "      <th>2</th>\n",
       "      <td>[35-44ans]</td>\n",
       "      <td>1772</td>\n",
       "      <td>235916</td>\n",
       "    </tr>\n",
       "    <tr>\n",
       "      <th>3</th>\n",
       "      <td>[45-54ans]</td>\n",
       "      <td>1562</td>\n",
       "      <td>147512</td>\n",
       "    </tr>\n",
       "    <tr>\n",
       "      <th>4</th>\n",
       "      <td>[55-64ans]</td>\n",
       "      <td>1109</td>\n",
       "      <td>62902</td>\n",
       "    </tr>\n",
       "    <tr>\n",
       "      <th>5</th>\n",
       "      <td>[65-74ans]</td>\n",
       "      <td>729</td>\n",
       "      <td>39865</td>\n",
       "    </tr>\n",
       "    <tr>\n",
       "      <th>6</th>\n",
       "      <td>[75-84ans]</td>\n",
       "      <td>279</td>\n",
       "      <td>14776</td>\n",
       "    </tr>\n",
       "    <tr>\n",
       "      <th>7</th>\n",
       "      <td>[85-92ans]</td>\n",
       "      <td>58</td>\n",
       "      <td>2819</td>\n",
       "    </tr>\n",
       "  </tbody>\n",
       "</table>\n",
       "</div>"
      ],
      "text/plain": [
       "   trancheAge  nbreClient  nbreCommande\n",
       "0  [17-24ans]        1284         47855\n",
       "1  [25-34ans]        1656        122929\n",
       "2  [35-44ans]        1772        235916\n",
       "3  [45-54ans]        1562        147512\n",
       "4  [55-64ans]        1109         62902\n",
       "5  [65-74ans]         729         39865\n",
       "6  [75-84ans]         279         14776\n",
       "7  [85-92ans]          58          2819"
      ]
     },
     "execution_count": 98,
     "metadata": {},
     "output_type": "execute_result"
    }
   ],
   "source": [
    "# Compter le nombre de commande et client par tranche d'âge\n",
    "NbreClientParTrancheAge = nbreAchatParClient.groupby(['trancheAge']).agg({'client_id':'count','nbreCommande':'sum'})\n",
    "\n",
    "# Renommer la colonne client_id en nombre de clients \n",
    "NbreClientParTrancheAge.rename(columns={'client_id':'nbreClient'}, inplace=True)\n",
    "\n",
    "# Supprimer les index\n",
    "NbreClientParTrancheAge=NbreClientParTrancheAge.reset_index()\n",
    "\n",
    "# Afficher les données\n",
    "NbreClientParTrancheAge"
   ]
  },
  {
   "cell_type": "markdown",
   "id": "3abf60c2",
   "metadata": {},
   "source": [
    "Les clients de 35-44 ans commandent plus que les autres. Les clients de 85-92 ans commandent moins que les autres."
   ]
  },
  {
   "cell_type": "markdown",
   "id": "da12be12",
   "metadata": {},
   "source": [
    "##### Calculer la fréquence mensuelle d'achat par tranche d'âge"
   ]
  },
  {
   "cell_type": "code",
   "execution_count": 99,
   "id": "561354be",
   "metadata": {},
   "outputs": [
    {
     "data": {
      "text/html": [
       "<div>\n",
       "<style scoped>\n",
       "    .dataframe tbody tr th:only-of-type {\n",
       "        vertical-align: middle;\n",
       "    }\n",
       "\n",
       "    .dataframe tbody tr th {\n",
       "        vertical-align: top;\n",
       "    }\n",
       "\n",
       "    .dataframe thead th {\n",
       "        text-align: right;\n",
       "    }\n",
       "</style>\n",
       "<table border=\"1\" class=\"dataframe\">\n",
       "  <thead>\n",
       "    <tr style=\"text-align: right;\">\n",
       "      <th></th>\n",
       "      <th>trancheAge</th>\n",
       "      <th>nbreClient</th>\n",
       "      <th>nbreCommande</th>\n",
       "      <th>freqAchatMensuel</th>\n",
       "    </tr>\n",
       "  </thead>\n",
       "  <tbody>\n",
       "    <tr>\n",
       "      <th>0</th>\n",
       "      <td>[17-24ans]</td>\n",
       "      <td>1284</td>\n",
       "      <td>47855</td>\n",
       "      <td>1.55</td>\n",
       "    </tr>\n",
       "    <tr>\n",
       "      <th>1</th>\n",
       "      <td>[25-34ans]</td>\n",
       "      <td>1656</td>\n",
       "      <td>122929</td>\n",
       "      <td>3.09</td>\n",
       "    </tr>\n",
       "    <tr>\n",
       "      <th>2</th>\n",
       "      <td>[35-44ans]</td>\n",
       "      <td>1772</td>\n",
       "      <td>235916</td>\n",
       "      <td>5.55</td>\n",
       "    </tr>\n",
       "    <tr>\n",
       "      <th>3</th>\n",
       "      <td>[45-54ans]</td>\n",
       "      <td>1562</td>\n",
       "      <td>147512</td>\n",
       "      <td>3.93</td>\n",
       "    </tr>\n",
       "    <tr>\n",
       "      <th>4</th>\n",
       "      <td>[55-64ans]</td>\n",
       "      <td>1109</td>\n",
       "      <td>62902</td>\n",
       "      <td>2.36</td>\n",
       "    </tr>\n",
       "    <tr>\n",
       "      <th>5</th>\n",
       "      <td>[65-74ans]</td>\n",
       "      <td>729</td>\n",
       "      <td>39865</td>\n",
       "      <td>2.28</td>\n",
       "    </tr>\n",
       "    <tr>\n",
       "      <th>6</th>\n",
       "      <td>[75-84ans]</td>\n",
       "      <td>279</td>\n",
       "      <td>14776</td>\n",
       "      <td>2.21</td>\n",
       "    </tr>\n",
       "    <tr>\n",
       "      <th>7</th>\n",
       "      <td>[85-92ans]</td>\n",
       "      <td>58</td>\n",
       "      <td>2819</td>\n",
       "      <td>2.03</td>\n",
       "    </tr>\n",
       "  </tbody>\n",
       "</table>\n",
       "</div>"
      ],
      "text/plain": [
       "   trancheAge  nbreClient  nbreCommande  freqAchatMensuel\n",
       "0  [17-24ans]        1284         47855              1.55\n",
       "1  [25-34ans]        1656        122929              3.09\n",
       "2  [35-44ans]        1772        235916              5.55\n",
       "3  [45-54ans]        1562        147512              3.93\n",
       "4  [55-64ans]        1109         62902              2.36\n",
       "5  [65-74ans]         729         39865              2.28\n",
       "6  [75-84ans]         279         14776              2.21\n",
       "7  [85-92ans]          58          2819              2.03"
      ]
     },
     "execution_count": 99,
     "metadata": {},
     "output_type": "execute_result"
    }
   ],
   "source": [
    "# Copier les données\n",
    "FreqAchatParClientTrancheAge = NbreClientParTrancheAge.copy()\n",
    "\n",
    "# Calculer la fréquence d'achat mensuel\n",
    "FreqAchatParClientTrancheAge ['freqAchatMensuel']=(FreqAchatParClientTrancheAge['nbreCommande']/FreqAchatParClientTrancheAge['nbreClient'])/24\n",
    "\n",
    "# Afficher les données\n",
    "FreqAchatParClientTrancheAge=round(FreqAchatParClientTrancheAge,2)\n",
    "FreqAchatParClientTrancheAge"
   ]
  },
  {
   "cell_type": "markdown",
   "id": "9480d7a7",
   "metadata": {},
   "source": [
    "Les clients de 35 à 44 ans sont ceux qui achètent le plus de livres par mois, entre 5 et 6 livres. Les clients de 17 à 24 ans sont ceux qui achètent le moins de livres par mois, en moyenne 1 ou 2 livres."
   ]
  },
  {
   "cell_type": "markdown",
   "id": "6b93aadd",
   "metadata": {},
   "source": [
    "#### 4.10.6 - Panier moyen par tranche d'age"
   ]
  },
  {
   "cell_type": "markdown",
   "id": "9990770a",
   "metadata": {},
   "source": [
    "##### Calculer le nombre de commande et le chiffre d'affaire par tranche d'âge"
   ]
  },
  {
   "cell_type": "code",
   "execution_count": 100,
   "id": "85cbe151",
   "metadata": {},
   "outputs": [
    {
     "data": {
      "text/html": [
       "<div>\n",
       "<style scoped>\n",
       "    .dataframe tbody tr th:only-of-type {\n",
       "        vertical-align: middle;\n",
       "    }\n",
       "\n",
       "    .dataframe tbody tr th {\n",
       "        vertical-align: top;\n",
       "    }\n",
       "\n",
       "    .dataframe thead th {\n",
       "        text-align: right;\n",
       "    }\n",
       "</style>\n",
       "<table border=\"1\" class=\"dataframe\">\n",
       "  <thead>\n",
       "    <tr style=\"text-align: right;\">\n",
       "      <th></th>\n",
       "      <th>nbreCommande</th>\n",
       "      <th>CA</th>\n",
       "    </tr>\n",
       "    <tr>\n",
       "      <th>trancheAge</th>\n",
       "      <th></th>\n",
       "      <th></th>\n",
       "    </tr>\n",
       "  </thead>\n",
       "  <tbody>\n",
       "    <tr>\n",
       "      <th>[17-24ans]</th>\n",
       "      <td>47855</td>\n",
       "      <td>2007994.49</td>\n",
       "    </tr>\n",
       "    <tr>\n",
       "      <th>[25-34ans]</th>\n",
       "      <td>122929</td>\n",
       "      <td>2370785.18</td>\n",
       "    </tr>\n",
       "    <tr>\n",
       "      <th>[35-44ans]</th>\n",
       "      <td>235916</td>\n",
       "      <td>3114149.02</td>\n",
       "    </tr>\n",
       "    <tr>\n",
       "      <th>[45-54ans]</th>\n",
       "      <td>147512</td>\n",
       "      <td>2161967.14</td>\n",
       "    </tr>\n",
       "    <tr>\n",
       "      <th>[55-64ans]</th>\n",
       "      <td>62902</td>\n",
       "      <td>1056086.92</td>\n",
       "    </tr>\n",
       "    <tr>\n",
       "      <th>[65-74ans]</th>\n",
       "      <td>39865</td>\n",
       "      <td>666554.56</td>\n",
       "    </tr>\n",
       "    <tr>\n",
       "      <th>[75-84ans]</th>\n",
       "      <td>14776</td>\n",
       "      <td>248788.49</td>\n",
       "    </tr>\n",
       "    <tr>\n",
       "      <th>[85-92ans]</th>\n",
       "      <td>2819</td>\n",
       "      <td>47078.45</td>\n",
       "    </tr>\n",
       "  </tbody>\n",
       "</table>\n",
       "</div>"
      ],
      "text/plain": [
       "            nbreCommande          CA\n",
       "trancheAge                          \n",
       "[17-24ans]         47855  2007994.49\n",
       "[25-34ans]        122929  2370785.18\n",
       "[35-44ans]        235916  3114149.02\n",
       "[45-54ans]        147512  2161967.14\n",
       "[55-64ans]         62902  1056086.92\n",
       "[65-74ans]         39865   666554.56\n",
       "[75-84ans]         14776   248788.49\n",
       "[85-92ans]          2819    47078.45"
      ]
     },
     "execution_count": 100,
     "metadata": {},
     "output_type": "execute_result"
    }
   ],
   "source": [
    "NbreClientCAParTrancheAge=nbreAchatParClient.copy()\n",
    "\n",
    "# Compter le nombre de commande et et calculer le CA par tranche d'âge\n",
    "nbreAchatParClient = nbreAchatParClient.groupby(['trancheAge']).agg({'nbreCommande':'sum','CA':'sum'})\n",
    "\n",
    "# Renommer la colonne client_id en nombre de clients \n",
    "NbreClientParTrancheAge.rename(columns={'client_id':'nbreClient'}, inplace=True)\n",
    "\n",
    "# Supprimer les index\n",
    "NbreClientCAParTrancheAge=NbreClientCAParTrancheAge.reset_index()\n",
    "\n",
    "# Afficher les données\n",
    "nbreAchatParClient"
   ]
  },
  {
   "cell_type": "markdown",
   "id": "b16533e4",
   "metadata": {},
   "source": [
    "##### Calculer le panier moyen"
   ]
  },
  {
   "cell_type": "code",
   "execution_count": 101,
   "id": "d4f675a2",
   "metadata": {},
   "outputs": [
    {
     "data": {
      "text/html": [
       "<div>\n",
       "<style scoped>\n",
       "    .dataframe tbody tr th:only-of-type {\n",
       "        vertical-align: middle;\n",
       "    }\n",
       "\n",
       "    .dataframe tbody tr th {\n",
       "        vertical-align: top;\n",
       "    }\n",
       "\n",
       "    .dataframe thead th {\n",
       "        text-align: right;\n",
       "    }\n",
       "</style>\n",
       "<table border=\"1\" class=\"dataframe\">\n",
       "  <thead>\n",
       "    <tr style=\"text-align: right;\">\n",
       "      <th></th>\n",
       "      <th>trancheAge</th>\n",
       "      <th>nbreCommande</th>\n",
       "      <th>CA</th>\n",
       "      <th>PanierMoyen</th>\n",
       "    </tr>\n",
       "  </thead>\n",
       "  <tbody>\n",
       "    <tr>\n",
       "      <th>0</th>\n",
       "      <td>[17-24ans]</td>\n",
       "      <td>47855</td>\n",
       "      <td>2007994.49</td>\n",
       "      <td>41.96</td>\n",
       "    </tr>\n",
       "    <tr>\n",
       "      <th>1</th>\n",
       "      <td>[25-34ans]</td>\n",
       "      <td>122929</td>\n",
       "      <td>2370785.18</td>\n",
       "      <td>19.29</td>\n",
       "    </tr>\n",
       "    <tr>\n",
       "      <th>2</th>\n",
       "      <td>[35-44ans]</td>\n",
       "      <td>235916</td>\n",
       "      <td>3114149.02</td>\n",
       "      <td>13.20</td>\n",
       "    </tr>\n",
       "    <tr>\n",
       "      <th>3</th>\n",
       "      <td>[45-54ans]</td>\n",
       "      <td>147512</td>\n",
       "      <td>2161967.14</td>\n",
       "      <td>14.66</td>\n",
       "    </tr>\n",
       "    <tr>\n",
       "      <th>4</th>\n",
       "      <td>[55-64ans]</td>\n",
       "      <td>62902</td>\n",
       "      <td>1056086.92</td>\n",
       "      <td>16.79</td>\n",
       "    </tr>\n",
       "    <tr>\n",
       "      <th>5</th>\n",
       "      <td>[65-74ans]</td>\n",
       "      <td>39865</td>\n",
       "      <td>666554.56</td>\n",
       "      <td>16.72</td>\n",
       "    </tr>\n",
       "    <tr>\n",
       "      <th>6</th>\n",
       "      <td>[75-84ans]</td>\n",
       "      <td>14776</td>\n",
       "      <td>248788.49</td>\n",
       "      <td>16.84</td>\n",
       "    </tr>\n",
       "    <tr>\n",
       "      <th>7</th>\n",
       "      <td>[85-92ans]</td>\n",
       "      <td>2819</td>\n",
       "      <td>47078.45</td>\n",
       "      <td>16.70</td>\n",
       "    </tr>\n",
       "  </tbody>\n",
       "</table>\n",
       "</div>"
      ],
      "text/plain": [
       "   trancheAge  nbreCommande          CA  PanierMoyen\n",
       "0  [17-24ans]         47855  2007994.49        41.96\n",
       "1  [25-34ans]        122929  2370785.18        19.29\n",
       "2  [35-44ans]        235916  3114149.02        13.20\n",
       "3  [45-54ans]        147512  2161967.14        14.66\n",
       "4  [55-64ans]         62902  1056086.92        16.79\n",
       "5  [65-74ans]         39865   666554.56        16.72\n",
       "6  [75-84ans]         14776   248788.49        16.84\n",
       "7  [85-92ans]          2819    47078.45        16.70"
      ]
     },
     "execution_count": 101,
     "metadata": {},
     "output_type": "execute_result"
    }
   ],
   "source": [
    "PanierMoyenTrancheAge=nbreAchatParClient.copy()\n",
    "\n",
    "PanierMoyenTrancheAge['PanierMoyen']= round((PanierMoyenTrancheAge['CA']/PanierMoyenTrancheAge['nbreCommande']),2)\n",
    "PanierMoyenTrancheAge=PanierMoyenTrancheAge.reset_index()\n",
    "PanierMoyenTrancheAge"
   ]
  },
  {
   "cell_type": "markdown",
   "id": "5c3f955d",
   "metadata": {},
   "source": [
    "Les 17-24 ans ont le panier moyen le plus elevé 41,96 avec une fréquence d'achat mensuelle d'un ou deux livres. Les 35-44 ans ont le panier moyne le plus faible, 13,20."
   ]
  },
  {
   "cell_type": "code",
   "execution_count": 102,
   "id": "140c60de",
   "metadata": {},
   "outputs": [
    {
     "data": {
      "text/plain": [
       "count    239.000000\n",
       "mean     108.354686\n",
       "std       49.561431\n",
       "min       30.990000\n",
       "25%       71.065000\n",
       "50%      101.990000\n",
       "75%      136.530000\n",
       "max      300.000000\n",
       "Name: price, dtype: float64"
      ]
     },
     "execution_count": 102,
     "metadata": {},
     "output_type": "execute_result"
    }
   ],
   "source": [
    "test=dataProducts.query('categ==2')\n",
    "test['price'].describe()"
   ]
  },
  {
   "cell_type": "markdown",
   "id": "0881d09d",
   "metadata": {},
   "source": [
    "#### 4.10.7 - Comportement d'achat par tranche  d'âge et catégorie de produits"
   ]
  },
  {
   "cell_type": "markdown",
   "id": "e5cda3ea",
   "metadata": {},
   "source": [
    "##### Calculer le chiffre d\\'affaires par tranche d\\'âge et catégorie"
   ]
  },
  {
   "cell_type": "code",
   "execution_count": 103,
   "id": "b236cb68",
   "metadata": {},
   "outputs": [
    {
     "data": {
      "text/html": [
       "<div>\n",
       "<style scoped>\n",
       "    .dataframe tbody tr th:only-of-type {\n",
       "        vertical-align: middle;\n",
       "    }\n",
       "\n",
       "    .dataframe tbody tr th {\n",
       "        vertical-align: top;\n",
       "    }\n",
       "\n",
       "    .dataframe thead th {\n",
       "        text-align: right;\n",
       "    }\n",
       "</style>\n",
       "<table border=\"1\" class=\"dataframe\">\n",
       "  <thead>\n",
       "    <tr style=\"text-align: right;\">\n",
       "      <th></th>\n",
       "      <th>client_id</th>\n",
       "      <th>sex</th>\n",
       "      <th>birth</th>\n",
       "      <th>Age</th>\n",
       "      <th>id_prod</th>\n",
       "      <th>date</th>\n",
       "      <th>session_id</th>\n",
       "      <th>Année_Mois</th>\n",
       "      <th>Année</th>\n",
       "      <th>price</th>\n",
       "      <th>categ</th>\n",
       "      <th>QuantiteVendue</th>\n",
       "      <th>CA</th>\n",
       "      <th>trancheAge</th>\n",
       "    </tr>\n",
       "  </thead>\n",
       "  <tbody>\n",
       "    <tr>\n",
       "      <th>0</th>\n",
       "      <td>c_4410</td>\n",
       "      <td>f</td>\n",
       "      <td>1967</td>\n",
       "      <td>54</td>\n",
       "      <td>0_1277</td>\n",
       "      <td>2022-03-25</td>\n",
       "      <td>s_184041</td>\n",
       "      <td>2022-03</td>\n",
       "      <td>2022</td>\n",
       "      <td>7.99</td>\n",
       "      <td>0</td>\n",
       "      <td>1</td>\n",
       "      <td>7.99</td>\n",
       "      <td>[45-54ans]</td>\n",
       "    </tr>\n",
       "    <tr>\n",
       "      <th>1</th>\n",
       "      <td>c_4410</td>\n",
       "      <td>f</td>\n",
       "      <td>1967</td>\n",
       "      <td>54</td>\n",
       "      <td>0_1277</td>\n",
       "      <td>2021-09-25</td>\n",
       "      <td>s_94984</td>\n",
       "      <td>2021-09</td>\n",
       "      <td>2021</td>\n",
       "      <td>7.99</td>\n",
       "      <td>0</td>\n",
       "      <td>1</td>\n",
       "      <td>7.99</td>\n",
       "      <td>[45-54ans]</td>\n",
       "    </tr>\n",
       "    <tr>\n",
       "      <th>2</th>\n",
       "      <td>c_4410</td>\n",
       "      <td>f</td>\n",
       "      <td>1967</td>\n",
       "      <td>54</td>\n",
       "      <td>0_1376</td>\n",
       "      <td>2021-09-24</td>\n",
       "      <td>s_94984</td>\n",
       "      <td>2021-09</td>\n",
       "      <td>2021</td>\n",
       "      <td>16.24</td>\n",
       "      <td>0</td>\n",
       "      <td>1</td>\n",
       "      <td>16.24</td>\n",
       "      <td>[45-54ans]</td>\n",
       "    </tr>\n",
       "    <tr>\n",
       "      <th>3</th>\n",
       "      <td>c_4410</td>\n",
       "      <td>f</td>\n",
       "      <td>1967</td>\n",
       "      <td>54</td>\n",
       "      <td>0_1376</td>\n",
       "      <td>2022-04-24</td>\n",
       "      <td>s_198987</td>\n",
       "      <td>2022-04</td>\n",
       "      <td>2022</td>\n",
       "      <td>16.24</td>\n",
       "      <td>0</td>\n",
       "      <td>1</td>\n",
       "      <td>16.24</td>\n",
       "      <td>[45-54ans]</td>\n",
       "    </tr>\n",
       "    <tr>\n",
       "      <th>4</th>\n",
       "      <td>c_4410</td>\n",
       "      <td>f</td>\n",
       "      <td>1967</td>\n",
       "      <td>54</td>\n",
       "      <td>0_1376</td>\n",
       "      <td>2023-01-24</td>\n",
       "      <td>s_331878</td>\n",
       "      <td>2023-01</td>\n",
       "      <td>2023</td>\n",
       "      <td>16.24</td>\n",
       "      <td>0</td>\n",
       "      <td>1</td>\n",
       "      <td>16.24</td>\n",
       "      <td>[45-54ans]</td>\n",
       "    </tr>\n",
       "    <tr>\n",
       "      <th>...</th>\n",
       "      <td>...</td>\n",
       "      <td>...</td>\n",
       "      <td>...</td>\n",
       "      <td>...</td>\n",
       "      <td>...</td>\n",
       "      <td>...</td>\n",
       "      <td>...</td>\n",
       "      <td>...</td>\n",
       "      <td>...</td>\n",
       "      <td>...</td>\n",
       "      <td>...</td>\n",
       "      <td>...</td>\n",
       "      <td>...</td>\n",
       "      <td>...</td>\n",
       "    </tr>\n",
       "    <tr>\n",
       "      <th>679327</th>\n",
       "      <td>c_84</td>\n",
       "      <td>f</td>\n",
       "      <td>1982</td>\n",
       "      <td>39</td>\n",
       "      <td>0_1452</td>\n",
       "      <td>2021-09-20</td>\n",
       "      <td>s_92701</td>\n",
       "      <td>2021-09</td>\n",
       "      <td>2021</td>\n",
       "      <td>13.77</td>\n",
       "      <td>0</td>\n",
       "      <td>1</td>\n",
       "      <td>13.77</td>\n",
       "      <td>[35-44ans]</td>\n",
       "    </tr>\n",
       "    <tr>\n",
       "      <th>679328</th>\n",
       "      <td>c_84</td>\n",
       "      <td>f</td>\n",
       "      <td>1982</td>\n",
       "      <td>39</td>\n",
       "      <td>0_1110</td>\n",
       "      <td>2021-09-20</td>\n",
       "      <td>s_92701</td>\n",
       "      <td>2021-09</td>\n",
       "      <td>2021</td>\n",
       "      <td>4.71</td>\n",
       "      <td>0</td>\n",
       "      <td>1</td>\n",
       "      <td>4.71</td>\n",
       "      <td>[35-44ans]</td>\n",
       "    </tr>\n",
       "    <tr>\n",
       "      <th>679329</th>\n",
       "      <td>c_84</td>\n",
       "      <td>f</td>\n",
       "      <td>1982</td>\n",
       "      <td>39</td>\n",
       "      <td>0_1399</td>\n",
       "      <td>2021-10-01</td>\n",
       "      <td>s_98493</td>\n",
       "      <td>2021-10</td>\n",
       "      <td>2021</td>\n",
       "      <td>17.99</td>\n",
       "      <td>0</td>\n",
       "      <td>1</td>\n",
       "      <td>17.99</td>\n",
       "      <td>[35-44ans]</td>\n",
       "    </tr>\n",
       "    <tr>\n",
       "      <th>679330</th>\n",
       "      <td>c_84</td>\n",
       "      <td>f</td>\n",
       "      <td>1982</td>\n",
       "      <td>39</td>\n",
       "      <td>1_110</td>\n",
       "      <td>2021-09-13</td>\n",
       "      <td>s_89478</td>\n",
       "      <td>2021-09</td>\n",
       "      <td>2021</td>\n",
       "      <td>54.90</td>\n",
       "      <td>1</td>\n",
       "      <td>1</td>\n",
       "      <td>54.90</td>\n",
       "      <td>[35-44ans]</td>\n",
       "    </tr>\n",
       "    <tr>\n",
       "      <th>679331</th>\n",
       "      <td>c_84</td>\n",
       "      <td>f</td>\n",
       "      <td>1982</td>\n",
       "      <td>39</td>\n",
       "      <td>1_158</td>\n",
       "      <td>2021-10-01</td>\n",
       "      <td>s_98493</td>\n",
       "      <td>2021-10</td>\n",
       "      <td>2021</td>\n",
       "      <td>22.17</td>\n",
       "      <td>1</td>\n",
       "      <td>1</td>\n",
       "      <td>22.17</td>\n",
       "      <td>[35-44ans]</td>\n",
       "    </tr>\n",
       "  </tbody>\n",
       "</table>\n",
       "<p>679332 rows × 14 columns</p>\n",
       "</div>"
      ],
      "text/plain": [
       "       client_id sex  birth  Age id_prod       date session_id Année_Mois  \\\n",
       "0         c_4410   f   1967   54  0_1277 2022-03-25   s_184041    2022-03   \n",
       "1         c_4410   f   1967   54  0_1277 2021-09-25    s_94984    2021-09   \n",
       "2         c_4410   f   1967   54  0_1376 2021-09-24    s_94984    2021-09   \n",
       "3         c_4410   f   1967   54  0_1376 2022-04-24   s_198987    2022-04   \n",
       "4         c_4410   f   1967   54  0_1376 2023-01-24   s_331878    2023-01   \n",
       "...          ...  ..    ...  ...     ...        ...        ...        ...   \n",
       "679327      c_84   f   1982   39  0_1452 2021-09-20    s_92701    2021-09   \n",
       "679328      c_84   f   1982   39  0_1110 2021-09-20    s_92701    2021-09   \n",
       "679329      c_84   f   1982   39  0_1399 2021-10-01    s_98493    2021-10   \n",
       "679330      c_84   f   1982   39   1_110 2021-09-13    s_89478    2021-09   \n",
       "679331      c_84   f   1982   39   1_158 2021-10-01    s_98493    2021-10   \n",
       "\n",
       "       Année  price  categ  QuantiteVendue     CA  trancheAge  \n",
       "0       2022   7.99      0               1   7.99  [45-54ans]  \n",
       "1       2021   7.99      0               1   7.99  [45-54ans]  \n",
       "2       2021  16.24      0               1  16.24  [45-54ans]  \n",
       "3       2022  16.24      0               1  16.24  [45-54ans]  \n",
       "4       2023  16.24      0               1  16.24  [45-54ans]  \n",
       "...      ...    ...    ...             ...    ...         ...  \n",
       "679327  2021  13.77      0               1  13.77  [35-44ans]  \n",
       "679328  2021   4.71      0               1   4.71  [35-44ans]  \n",
       "679329  2021  17.99      0               1  17.99  [35-44ans]  \n",
       "679330  2021  54.90      1               1  54.90  [35-44ans]  \n",
       "679331  2021  22.17      1               1  22.17  [35-44ans]  \n",
       "\n",
       "[679332 rows x 14 columns]"
      ]
     },
     "execution_count": 103,
     "metadata": {},
     "output_type": "execute_result"
    }
   ],
   "source": [
    "CAParTransactionClient"
   ]
  },
  {
   "cell_type": "code",
   "execution_count": 104,
   "id": "27114760",
   "metadata": {},
   "outputs": [
    {
     "data": {
      "text/html": [
       "<div>\n",
       "<style scoped>\n",
       "    .dataframe tbody tr th:only-of-type {\n",
       "        vertical-align: middle;\n",
       "    }\n",
       "\n",
       "    .dataframe tbody tr th {\n",
       "        vertical-align: top;\n",
       "    }\n",
       "\n",
       "    .dataframe thead th {\n",
       "        text-align: right;\n",
       "    }\n",
       "</style>\n",
       "<table border=\"1\" class=\"dataframe\">\n",
       "  <thead>\n",
       "    <tr style=\"text-align: right;\">\n",
       "      <th>categ</th>\n",
       "      <th>0</th>\n",
       "      <th>1</th>\n",
       "      <th>2</th>\n",
       "    </tr>\n",
       "    <tr>\n",
       "      <th>trancheAge</th>\n",
       "      <th></th>\n",
       "      <th></th>\n",
       "      <th></th>\n",
       "    </tr>\n",
       "  </thead>\n",
       "  <tbody>\n",
       "    <tr>\n",
       "      <th>[17-24ans]</th>\n",
       "      <td>102391.75</td>\n",
       "      <td>368951.40</td>\n",
       "      <td>1536651.34</td>\n",
       "    </tr>\n",
       "    <tr>\n",
       "      <th>[25-34ans]</th>\n",
       "      <td>843903.60</td>\n",
       "      <td>663754.82</td>\n",
       "      <td>863126.76</td>\n",
       "    </tr>\n",
       "    <tr>\n",
       "      <th>[35-44ans]</th>\n",
       "      <td>1912382.70</td>\n",
       "      <td>1128111.61</td>\n",
       "      <td>73654.71</td>\n",
       "    </tr>\n",
       "    <tr>\n",
       "      <th>[45-54ans]</th>\n",
       "      <td>994024.30</td>\n",
       "      <td>1083230.35</td>\n",
       "      <td>84712.49</td>\n",
       "    </tr>\n",
       "    <tr>\n",
       "      <th>[55-64ans]</th>\n",
       "      <td>292025.11</td>\n",
       "      <td>715619.95</td>\n",
       "      <td>48441.86</td>\n",
       "    </tr>\n",
       "    <tr>\n",
       "      <th>[65-74ans]</th>\n",
       "      <td>183145.62</td>\n",
       "      <td>456406.09</td>\n",
       "      <td>27002.85</td>\n",
       "    </tr>\n",
       "    <tr>\n",
       "      <th>[75-84ans]</th>\n",
       "      <td>67754.11</td>\n",
       "      <td>169708.30</td>\n",
       "      <td>11326.08</td>\n",
       "    </tr>\n",
       "    <tr>\n",
       "      <th>[85-92ans]</th>\n",
       "      <td>13428.28</td>\n",
       "      <td>31814.86</td>\n",
       "      <td>1835.31</td>\n",
       "    </tr>\n",
       "  </tbody>\n",
       "</table>\n",
       "</div>"
      ],
      "text/plain": [
       "categ                0           1           2\n",
       "trancheAge                                    \n",
       "[17-24ans]   102391.75   368951.40  1536651.34\n",
       "[25-34ans]   843903.60   663754.82   863126.76\n",
       "[35-44ans]  1912382.70  1128111.61    73654.71\n",
       "[45-54ans]   994024.30  1083230.35    84712.49\n",
       "[55-64ans]   292025.11   715619.95    48441.86\n",
       "[65-74ans]   183145.62   456406.09    27002.85\n",
       "[75-84ans]    67754.11   169708.30    11326.08\n",
       "[85-92ans]    13428.28    31814.86     1835.31"
      ]
     },
     "execution_count": 104,
     "metadata": {},
     "output_type": "execute_result"
    }
   ],
   "source": [
    "CAParTrancheageEtCategorie=pd.crosstab(CAParTransactionClient['trancheAge'], CAParTransactionClient['categ'], CAParTransactionClient['CA'],aggfunc=\"sum\", normalize=False)\n",
    "CAParTrancheageEtCategorie=round(CAParTrancheageEtCategorie,2)\n",
    "CAParTrancheageEtCategorie"
   ]
  },
  {
   "cell_type": "markdown",
   "id": "8fd466d8",
   "metadata": {},
   "source": [
    "##### Représenter graphiquement du chiffre d\\'affaires par tranche d\\'âge et catégorie"
   ]
  },
  {
   "cell_type": "code",
   "execution_count": 105,
   "id": "c39ebef1",
   "metadata": {},
   "outputs": [
    {
     "data": {
      "image/png": "[encoded data removed]",
      "text/plain": [
       "<Figure size 720x432 with 1 Axes>"
      ]
     },
     "metadata": {
      "needs_background": "light"
     },
     "output_type": "display_data"
    }
   ],
   "source": [
    "CAParTrancheageEtCategorie.plot.bar(width=0.2,figsize=(10,6))\n",
    "plt.title('Répartition du chiffre d\\'affaires par tranche d\\'âge et catégorie', fontsize=14)\n",
    "plt.xlabel('Tranche d\\'âge',fontsize=12)\n",
    "plt.ylabel('Chiffre d\\'affaires',fontsize=12)\n",
    "plt.grid (True)\n",
    "plt.show()"
   ]
  },
  {
   "cell_type": "markdown",
   "id": "a20a2ccf",
   "metadata": {
    "scrolled": true
   },
   "source": [
    "Les 35-44 ans consomment plus les produits de la catégorie 0. Les 17-24 ans consomment plus les produits de la catégorie 2. Les 35-44 ans, 45-54 ans consomment plus les produits de la catégorie 1. De 35 ans à 74 ans, les clients consomment très peu les produits de la catégorie 2. Les personnes de plus de 75 ans consomment très peu nos produits toute catégorie confondue."
   ]
  },
  {
   "cell_type": "markdown",
   "id": "690a768b",
   "metadata": {},
   "source": [
    "### 4.11 - Analyse de la répartition du chiffre d'affaire entre les clients <a class=\"anchor\" id=\"section_4_11\"></a>"
   ]
  },
  {
   "cell_type": "markdown",
   "id": "ec55c087",
   "metadata": {},
   "source": [
    "##### Calculer le CA par client"
   ]
  },
  {
   "cell_type": "code",
   "execution_count": 106,
   "id": "b797ee97",
   "metadata": {},
   "outputs": [
    {
     "data": {
      "text/html": [
       "<div>\n",
       "<style scoped>\n",
       "    .dataframe tbody tr th:only-of-type {\n",
       "        vertical-align: middle;\n",
       "    }\n",
       "\n",
       "    .dataframe tbody tr th {\n",
       "        vertical-align: top;\n",
       "    }\n",
       "\n",
       "    .dataframe thead th {\n",
       "        text-align: right;\n",
       "    }\n",
       "</style>\n",
       "<table border=\"1\" class=\"dataframe\">\n",
       "  <thead>\n",
       "    <tr style=\"text-align: right;\">\n",
       "      <th></th>\n",
       "      <th>client_id</th>\n",
       "      <th>sex</th>\n",
       "      <th>Age</th>\n",
       "      <th>CA</th>\n",
       "    </tr>\n",
       "  </thead>\n",
       "  <tbody>\n",
       "    <tr>\n",
       "      <th>0</th>\n",
       "      <td>c_1</td>\n",
       "      <td>m</td>\n",
       "      <td>66</td>\n",
       "      <td>558.18</td>\n",
       "    </tr>\n",
       "    <tr>\n",
       "      <th>1</th>\n",
       "      <td>c_10</td>\n",
       "      <td>m</td>\n",
       "      <td>65</td>\n",
       "      <td>1353.60</td>\n",
       "    </tr>\n",
       "    <tr>\n",
       "      <th>2</th>\n",
       "      <td>c_100</td>\n",
       "      <td>m</td>\n",
       "      <td>29</td>\n",
       "      <td>254.85</td>\n",
       "    </tr>\n",
       "    <tr>\n",
       "      <th>3</th>\n",
       "      <td>c_1000</td>\n",
       "      <td>f</td>\n",
       "      <td>55</td>\n",
       "      <td>2261.89</td>\n",
       "    </tr>\n",
       "    <tr>\n",
       "      <th>4</th>\n",
       "      <td>c_1001</td>\n",
       "      <td>m</td>\n",
       "      <td>39</td>\n",
       "      <td>1812.86</td>\n",
       "    </tr>\n",
       "    <tr>\n",
       "      <th>...</th>\n",
       "      <td>...</td>\n",
       "      <td>...</td>\n",
       "      <td>...</td>\n",
       "      <td>...</td>\n",
       "    </tr>\n",
       "    <tr>\n",
       "      <th>8595</th>\n",
       "      <td>c_995</td>\n",
       "      <td>m</td>\n",
       "      <td>66</td>\n",
       "      <td>189.41</td>\n",
       "    </tr>\n",
       "    <tr>\n",
       "      <th>8596</th>\n",
       "      <td>c_996</td>\n",
       "      <td>f</td>\n",
       "      <td>51</td>\n",
       "      <td>1625.58</td>\n",
       "    </tr>\n",
       "    <tr>\n",
       "      <th>8597</th>\n",
       "      <td>c_997</td>\n",
       "      <td>f</td>\n",
       "      <td>27</td>\n",
       "      <td>1490.01</td>\n",
       "    </tr>\n",
       "    <tr>\n",
       "      <th>8598</th>\n",
       "      <td>c_998</td>\n",
       "      <td>m</td>\n",
       "      <td>20</td>\n",
       "      <td>2779.88</td>\n",
       "    </tr>\n",
       "    <tr>\n",
       "      <th>8599</th>\n",
       "      <td>c_999</td>\n",
       "      <td>m</td>\n",
       "      <td>57</td>\n",
       "      <td>701.40</td>\n",
       "    </tr>\n",
       "  </tbody>\n",
       "</table>\n",
       "<p>8600 rows × 4 columns</p>\n",
       "</div>"
      ],
      "text/plain": [
       "     client_id sex  Age       CA\n",
       "0          c_1   m   66   558.18\n",
       "1         c_10   m   65  1353.60\n",
       "2        c_100   m   29   254.85\n",
       "3       c_1000   f   55  2261.89\n",
       "4       c_1001   m   39  1812.86\n",
       "...        ...  ..  ...      ...\n",
       "8595     c_995   m   66   189.41\n",
       "8596     c_996   f   51  1625.58\n",
       "8597     c_997   f   27  1490.01\n",
       "8598     c_998   m   20  2779.88\n",
       "8599     c_999   m   57   701.40\n",
       "\n",
       "[8600 rows x 4 columns]"
      ]
     },
     "execution_count": 106,
     "metadata": {},
     "output_type": "execute_result"
    }
   ],
   "source": [
    "CAParClient=CAParTransactionClient.groupby(['client_id', 'sex', 'Age' ]).agg({'CA':'sum'})\n",
    "CAParClient=CAParClient.reset_index()\n",
    "CAParClient"
   ]
  },
  {
   "cell_type": "markdown",
   "id": "ccdf4ac6",
   "metadata": {},
   "source": [
    "##### Répartitir le CA entre les clients"
   ]
  },
  {
   "cell_type": "code",
   "execution_count": 107,
   "id": "a5c22c79",
   "metadata": {},
   "outputs": [
    {
     "data": {
      "image/png": "[encoded data removed]",
      "text/plain": [
       "<Figure size 432x288 with 1 Axes>"
      ]
     },
     "metadata": {
      "needs_background": "light"
     },
     "output_type": "display_data"
    }
   ],
   "source": [
    "depenses = CAParClient['CA']\n",
    "n = len(depenses)\n",
    "lorenz = np.cumsum(np.sort(depenses )) / depenses .sum()\n",
    "lorenz = np.append([0],lorenz) # La courbe de Lorenz commence à 0\n",
    "\n",
    "xaxis = np.linspace(0-1/n,1+1/n,len(lorenz)) #Il y a un segment de taille n pour chaque individu, plus 1 segment supplémentaire d'ordonnée 0. Le premier segment commence à 0-1/n, et le dernier termine à 1+1/n.\n",
    "plt.plot(xaxis,lorenz,drawstyle='steps-post')\n",
    "plt.plot(xaxis,lorenz,drawstyle='steps-post')\n",
    "plt.plot([0,1], [0,1]) #tracer la bisséctrice\n",
    "plt.title('Répartition du chiffre d\\'affaires entre les clients', fontsize=14)\n",
    "plt.xlabel('Part cumulée de clients (en%)',fontsize=10)\n",
    "plt.ylabel('Part cumulée du Chiffre d\\'affaires (en%)',fontsize=10)\n",
    "plt.grid (True)\n",
    "plt.show()"
   ]
  },
  {
   "cell_type": "markdown",
   "id": "d00cf013",
   "metadata": {},
   "source": [
    "A priori sur ce diagramme, 20% de clients génèrent moins de 50% du CA et les 80% autres le reste. La répartition est inégalitaire."
   ]
  },
  {
   "cell_type": "markdown",
   "id": "fec8d77e",
   "metadata": {},
   "source": [
    "##### Calculer l'indice de Gini"
   ]
  },
  {
   "cell_type": "code",
   "execution_count": 108,
   "id": "dd49463d",
   "metadata": {},
   "outputs": [
    {
     "data": {
      "text/plain": [
       "0.44639658571467167"
      ]
     },
     "execution_count": 108,
     "metadata": {},
     "output_type": "execute_result"
    }
   ],
   "source": [
    "AUC = (lorenz.sum() -lorenz[-1]/2 -lorenz[0]/2)/n # Surface sous la courbe de Lorenz. Le premier segment (lorenz[0]) est à moitié en dessous de 0, on le coupe donc en 2, on fait de même pour le dernier segment lorenz[-1] qui est à moitié au dessus de 1.\n",
    "S = 0.5 - AUC # surface entre la première bissectrice et le courbe de Lorenz\n",
    "gini = 2*S\n",
    "gini"
   ]
  },
  {
   "cell_type": "markdown",
   "id": "df14cf88",
   "metadata": {},
   "source": [
    "La valeur de l'indice de gini (0,44 éloigné de 0) confirme l'observation faite sur le graphique. La répartition du Chiffre d'affaire est inégalitaire."
   ]
  },
  {
   "cell_type": "markdown",
   "id": "2c49bb5e",
   "metadata": {},
   "source": [
    "##### Rechercher les gros clients (20% qui génèrent 50% du CA)"
   ]
  },
  {
   "cell_type": "code",
   "execution_count": 109,
   "id": "8692feb7",
   "metadata": {},
   "outputs": [
    {
     "data": {
      "image/png": "[encoded data removed]",
      "text/plain": [
       "<Figure size 864x432 with 1 Axes>"
      ]
     },
     "metadata": {
      "needs_background": "light"
     },
     "output_type": "display_data"
    }
   ],
   "source": [
    "plt.figure(figsize=(12,6))\n",
    "CAParClient.boxplot(column=\"CA\", vert=False)\n",
    "plt.xticks([100000*i for i in range(5)])\n",
    "\n",
    "#Ajouter le titre à la boite à moustache\n",
    "plt.title('Représentation graphique des outliers', fontsize=14, fontweight='bold')\n",
    "\n",
    "#Afficher le graphique \n",
    "plt.show()"
   ]
  },
  {
   "cell_type": "markdown",
   "id": "72f44a9d",
   "metadata": {},
   "source": [
    "Nous avons 4 gros clients qui se démarquent des autres clients. Vu le volume de leurs achats, nous pensons que ce sont des entreprises."
   ]
  },
  {
   "cell_type": "markdown",
   "id": "8e08509f",
   "metadata": {},
   "source": [
    "##### Afficher les 4 plus gros clients"
   ]
  },
  {
   "cell_type": "code",
   "execution_count": 110,
   "id": "ee16ad31",
   "metadata": {},
   "outputs": [
    {
     "data": {
      "text/html": [
       "<div>\n",
       "<style scoped>\n",
       "    .dataframe tbody tr th:only-of-type {\n",
       "        vertical-align: middle;\n",
       "    }\n",
       "\n",
       "    .dataframe tbody tr th {\n",
       "        vertical-align: top;\n",
       "    }\n",
       "\n",
       "    .dataframe thead th {\n",
       "        text-align: right;\n",
       "    }\n",
       "</style>\n",
       "<table border=\"1\" class=\"dataframe\">\n",
       "  <thead>\n",
       "    <tr style=\"text-align: right;\">\n",
       "      <th></th>\n",
       "      <th>client_id</th>\n",
       "      <th>sex</th>\n",
       "      <th>Age</th>\n",
       "      <th>CA</th>\n",
       "    </tr>\n",
       "  </thead>\n",
       "  <tbody>\n",
       "    <tr>\n",
       "      <th>677</th>\n",
       "      <td>c_1609</td>\n",
       "      <td>m</td>\n",
       "      <td>41</td>\n",
       "      <td>324033.35</td>\n",
       "    </tr>\n",
       "    <tr>\n",
       "      <th>4388</th>\n",
       "      <td>c_4958</td>\n",
       "      <td>m</td>\n",
       "      <td>22</td>\n",
       "      <td>289760.34</td>\n",
       "    </tr>\n",
       "    <tr>\n",
       "      <th>6337</th>\n",
       "      <td>c_6714</td>\n",
       "      <td>f</td>\n",
       "      <td>53</td>\n",
       "      <td>153669.30</td>\n",
       "    </tr>\n",
       "    <tr>\n",
       "      <th>2724</th>\n",
       "      <td>c_3454</td>\n",
       "      <td>m</td>\n",
       "      <td>52</td>\n",
       "      <td>113673.12</td>\n",
       "    </tr>\n",
       "  </tbody>\n",
       "</table>\n",
       "</div>"
      ],
      "text/plain": [
       "     client_id sex  Age         CA\n",
       "677     c_1609   m   41  324033.35\n",
       "4388    c_4958   m   22  289760.34\n",
       "6337    c_6714   f   53  153669.30\n",
       "2724    c_3454   m   52  113673.12"
      ]
     },
     "execution_count": 110,
     "metadata": {},
     "output_type": "execute_result"
    }
   ],
   "source": [
    "CAParClient.sort_values(by='CA',ascending = False).head(4)"
   ]
  },
  {
   "cell_type": "markdown",
   "id": "bf7d8578",
   "metadata": {},
   "source": [
    "##### Calculer le CA generé par les 4 plus gros clients"
   ]
  },
  {
   "cell_type": "code",
   "execution_count": 111,
   "id": "9e66c253",
   "metadata": {},
   "outputs": [
    {
     "data": {
      "text/plain": [
       "881136.11"
      ]
     },
     "execution_count": 111,
     "metadata": {},
     "output_type": "execute_result"
    }
   ],
   "source": [
    "# Isoler les 4 gros clients dans un dataframe\n",
    "GrosClients=['c_1609','c_4958','c_6714','c_3454']\n",
    "DetailsGrosClients = CAParClient[CAParClient.client_id.isin(GrosClients)]\n",
    "\n",
    "# Calculer le CA\n",
    "CAGrosClient= round((DetailsGrosClients['CA'].sum()),2)\n",
    "CAGrosClient"
   ]
  },
  {
   "cell_type": "markdown",
   "id": "c53594f8",
   "metadata": {},
   "source": [
    "Le CA generé par les 4 gros clients est de 881 136,11."
   ]
  },
  {
   "cell_type": "markdown",
   "id": "8e51f58e",
   "metadata": {},
   "source": [
    "##### Calculer le pourcentage du CA des gros clients sur le CA global"
   ]
  },
  {
   "cell_type": "code",
   "execution_count": 112,
   "id": "c02e1883",
   "metadata": {},
   "outputs": [
    {
     "data": {
      "text/plain": [
       "7.43"
      ]
     },
     "execution_count": 112,
     "metadata": {},
     "output_type": "execute_result"
    }
   ],
   "source": [
    "PourcentageCAGrosClient= round((CAGrosClient/CATotal)*100,2)\n",
    "PourcentageCAGrosClient"
   ]
  },
  {
   "cell_type": "markdown",
   "id": "7a0948bd",
   "metadata": {},
   "source": [
    "Le CA des gros clients représente 7,43% du CA global. Il n'est pas négligeable."
   ]
  },
  {
   "cell_type": "markdown",
   "id": "ddfdfafc",
   "metadata": {},
   "source": [
    "### 4.12 - Analyse de la corrélation entre le prix de vente et le nombre de ventes <a class=\"anchor\" id=\"section_4_12\"></a>"
   ]
  },
  {
   "cell_type": "markdown",
   "id": "d6a76878",
   "metadata": {},
   "source": [
    "##### Représenter graphiquement la corrélation entre le prix de vente et le nombre de vente"
   ]
  },
  {
   "cell_type": "code",
   "execution_count": 113,
   "id": "8824636e",
   "metadata": {},
   "outputs": [
    {
     "data": {
      "image/png": "[encoded data removed]",
      "text/plain": [
       "<Figure size 720x432 with 1 Axes>"
      ]
     },
     "metadata": {
      "needs_background": "light"
     },
     "output_type": "display_data"
    }
   ],
   "source": [
    "plt.figure(figsize=(10,6))\n",
    "plt.scatter(CAParProduit['price'],CAParProduit['QuantiteVendue'])\n",
    "plt.xticks([10*i for i in range(31)])\n",
    "plt.xlabel('Prix de vente', fontsize=12, fontweight='bold')\n",
    "plt.ylabel('Nombre de ventes', fontsize=12, fontweight='bold')\n",
    "plt.title('Etude de l influence du prix sur le nombre de ventes', fontsize=14, fontweight='bold')\n",
    "plt.show()"
   ]
  },
  {
   "cell_type": "markdown",
   "id": "605a454b",
   "metadata": {},
   "source": [
    "A priori sur ce diagramme de dispersion, le nombre de vente diminue au fur et à mesure que les prix augmentent."
   ]
  },
  {
   "cell_type": "markdown",
   "id": "914224b0",
   "metadata": {},
   "source": [
    "##### Calculer et afficher le coefficient de corrélation de Pearson"
   ]
  },
  {
   "cell_type": "code",
   "execution_count": 114,
   "id": "3d162e28",
   "metadata": {},
   "outputs": [
    {
     "data": {
      "text/plain": [
       "-0.09137924872014026"
      ]
     },
     "execution_count": 114,
     "metadata": {},
     "output_type": "execute_result"
    }
   ],
   "source": [
    "st.pearsonr(CAParProduit['price'],CAParProduit['QuantiteVendue'])[0]"
   ]
  },
  {
   "cell_type": "markdown",
   "id": "c6b41d3b",
   "metadata": {},
   "source": [
    "D'après le coefficient de pearson,la corrélation entre le prix de vente et le nombre de ventes est faible. Nous pensons donc que l'observation graphique est le fait du hasard. Il n'y a pas de lien entre la quantité vendue et le prix de vente."
   ]
  },
  {
   "cell_type": "markdown",
   "id": "60547fd8",
   "metadata": {},
   "source": [
    "### 4.13 - Analyse de la corrélation entre le genre d’un client et les catégories des livres achetés (test d'indépendance) <a class=\"anchor\" id=\"section_4_13\"></a>"
   ]
  },
  {
   "cell_type": "markdown",
   "id": "1a212384",
   "metadata": {},
   "source": [
    "Pour cette analyse, nous supprimons les 4 gros clients car les entreprises n'ont pas de sexe."
   ]
  },
  {
   "cell_type": "markdown",
   "id": "be9ea9a4",
   "metadata": {},
   "source": [
    "##### Afficher les transactions des 4 gros clients"
   ]
  },
  {
   "cell_type": "code",
   "execution_count": 115,
   "id": "807cbe15",
   "metadata": {},
   "outputs": [
    {
     "data": {
      "text/html": [
       "<div>\n",
       "<style scoped>\n",
       "    .dataframe tbody tr th:only-of-type {\n",
       "        vertical-align: middle;\n",
       "    }\n",
       "\n",
       "    .dataframe tbody tr th {\n",
       "        vertical-align: top;\n",
       "    }\n",
       "\n",
       "    .dataframe thead th {\n",
       "        text-align: right;\n",
       "    }\n",
       "</style>\n",
       "<table border=\"1\" class=\"dataframe\">\n",
       "  <thead>\n",
       "    <tr style=\"text-align: right;\">\n",
       "      <th></th>\n",
       "      <th>client_id</th>\n",
       "      <th>sex</th>\n",
       "      <th>birth</th>\n",
       "      <th>Age</th>\n",
       "      <th>id_prod</th>\n",
       "      <th>date</th>\n",
       "      <th>session_id</th>\n",
       "      <th>Année_Mois</th>\n",
       "      <th>Année</th>\n",
       "      <th>price</th>\n",
       "      <th>categ</th>\n",
       "      <th>QuantiteVendue</th>\n",
       "      <th>CA</th>\n",
       "      <th>trancheAge</th>\n",
       "    </tr>\n",
       "  </thead>\n",
       "  <tbody>\n",
       "    <tr>\n",
       "      <th>101814</th>\n",
       "      <td>c_4958</td>\n",
       "      <td>m</td>\n",
       "      <td>1999</td>\n",
       "      <td>22</td>\n",
       "      <td>1_251</td>\n",
       "      <td>2021-08-21</td>\n",
       "      <td>s_78847</td>\n",
       "      <td>2021-08</td>\n",
       "      <td>2021</td>\n",
       "      <td>15.99</td>\n",
       "      <td>1</td>\n",
       "      <td>1</td>\n",
       "      <td>15.99</td>\n",
       "      <td>[17-24ans]</td>\n",
       "    </tr>\n",
       "    <tr>\n",
       "      <th>101815</th>\n",
       "      <td>c_4958</td>\n",
       "      <td>m</td>\n",
       "      <td>1999</td>\n",
       "      <td>22</td>\n",
       "      <td>1_251</td>\n",
       "      <td>2021-03-31</td>\n",
       "      <td>s_13842</td>\n",
       "      <td>2021-03</td>\n",
       "      <td>2021</td>\n",
       "      <td>15.99</td>\n",
       "      <td>1</td>\n",
       "      <td>1</td>\n",
       "      <td>15.99</td>\n",
       "      <td>[17-24ans]</td>\n",
       "    </tr>\n",
       "    <tr>\n",
       "      <th>101816</th>\n",
       "      <td>c_4958</td>\n",
       "      <td>m</td>\n",
       "      <td>1999</td>\n",
       "      <td>22</td>\n",
       "      <td>1_251</td>\n",
       "      <td>2022-12-11</td>\n",
       "      <td>s_310429</td>\n",
       "      <td>2022-12</td>\n",
       "      <td>2022</td>\n",
       "      <td>15.99</td>\n",
       "      <td>1</td>\n",
       "      <td>1</td>\n",
       "      <td>15.99</td>\n",
       "      <td>[17-24ans]</td>\n",
       "    </tr>\n",
       "    <tr>\n",
       "      <th>101817</th>\n",
       "      <td>c_4958</td>\n",
       "      <td>m</td>\n",
       "      <td>1999</td>\n",
       "      <td>22</td>\n",
       "      <td>1_251</td>\n",
       "      <td>2021-07-11</td>\n",
       "      <td>s_60832</td>\n",
       "      <td>2021-07</td>\n",
       "      <td>2021</td>\n",
       "      <td>15.99</td>\n",
       "      <td>1</td>\n",
       "      <td>1</td>\n",
       "      <td>15.99</td>\n",
       "      <td>[17-24ans]</td>\n",
       "    </tr>\n",
       "    <tr>\n",
       "      <th>101818</th>\n",
       "      <td>c_4958</td>\n",
       "      <td>m</td>\n",
       "      <td>1999</td>\n",
       "      <td>22</td>\n",
       "      <td>1_251</td>\n",
       "      <td>2022-04-21</td>\n",
       "      <td>s_197410</td>\n",
       "      <td>2022-04</td>\n",
       "      <td>2022</td>\n",
       "      <td>15.99</td>\n",
       "      <td>1</td>\n",
       "      <td>1</td>\n",
       "      <td>15.99</td>\n",
       "      <td>[17-24ans]</td>\n",
       "    </tr>\n",
       "    <tr>\n",
       "      <th>...</th>\n",
       "      <td>...</td>\n",
       "      <td>...</td>\n",
       "      <td>...</td>\n",
       "      <td>...</td>\n",
       "      <td>...</td>\n",
       "      <td>...</td>\n",
       "      <td>...</td>\n",
       "      <td>...</td>\n",
       "      <td>...</td>\n",
       "      <td>...</td>\n",
       "      <td>...</td>\n",
       "      <td>...</td>\n",
       "      <td>...</td>\n",
       "      <td>...</td>\n",
       "    </tr>\n",
       "    <tr>\n",
       "      <th>640702</th>\n",
       "      <td>c_3454</td>\n",
       "      <td>m</td>\n",
       "      <td>1969</td>\n",
       "      <td>52</td>\n",
       "      <td>0_978</td>\n",
       "      <td>2021-08-04</td>\n",
       "      <td>s_71163</td>\n",
       "      <td>2021-08</td>\n",
       "      <td>2021</td>\n",
       "      <td>19.11</td>\n",
       "      <td>0</td>\n",
       "      <td>1</td>\n",
       "      <td>19.11</td>\n",
       "      <td>[45-54ans]</td>\n",
       "    </tr>\n",
       "    <tr>\n",
       "      <th>640703</th>\n",
       "      <td>c_3454</td>\n",
       "      <td>m</td>\n",
       "      <td>1969</td>\n",
       "      <td>52</td>\n",
       "      <td>0_978</td>\n",
       "      <td>2022-11-04</td>\n",
       "      <td>s_292466</td>\n",
       "      <td>2022-11</td>\n",
       "      <td>2022</td>\n",
       "      <td>19.11</td>\n",
       "      <td>0</td>\n",
       "      <td>1</td>\n",
       "      <td>19.11</td>\n",
       "      <td>[45-54ans]</td>\n",
       "    </tr>\n",
       "    <tr>\n",
       "      <th>640704</th>\n",
       "      <td>c_3454</td>\n",
       "      <td>m</td>\n",
       "      <td>1969</td>\n",
       "      <td>52</td>\n",
       "      <td>1_226</td>\n",
       "      <td>2021-06-30</td>\n",
       "      <td>s_56116</td>\n",
       "      <td>2021-06</td>\n",
       "      <td>2021</td>\n",
       "      <td>37.73</td>\n",
       "      <td>1</td>\n",
       "      <td>1</td>\n",
       "      <td>37.73</td>\n",
       "      <td>[45-54ans]</td>\n",
       "    </tr>\n",
       "    <tr>\n",
       "      <th>640705</th>\n",
       "      <td>c_3454</td>\n",
       "      <td>m</td>\n",
       "      <td>1969</td>\n",
       "      <td>52</td>\n",
       "      <td>1_440</td>\n",
       "      <td>2022-02-23</td>\n",
       "      <td>s_169825</td>\n",
       "      <td>2022-02</td>\n",
       "      <td>2022</td>\n",
       "      <td>7.32</td>\n",
       "      <td>1</td>\n",
       "      <td>1</td>\n",
       "      <td>7.32</td>\n",
       "      <td>[45-54ans]</td>\n",
       "    </tr>\n",
       "    <tr>\n",
       "      <th>640706</th>\n",
       "      <td>c_3454</td>\n",
       "      <td>m</td>\n",
       "      <td>1969</td>\n",
       "      <td>52</td>\n",
       "      <td>1_440</td>\n",
       "      <td>2022-05-23</td>\n",
       "      <td>s_213031</td>\n",
       "      <td>2022-05</td>\n",
       "      <td>2022</td>\n",
       "      <td>7.32</td>\n",
       "      <td>1</td>\n",
       "      <td>1</td>\n",
       "      <td>7.32</td>\n",
       "      <td>[45-54ans]</td>\n",
       "    </tr>\n",
       "  </tbody>\n",
       "</table>\n",
       "<p>46643 rows × 14 columns</p>\n",
       "</div>"
      ],
      "text/plain": [
       "       client_id sex  birth  Age id_prod       date session_id Année_Mois  \\\n",
       "101814    c_4958   m   1999   22   1_251 2021-08-21    s_78847    2021-08   \n",
       "101815    c_4958   m   1999   22   1_251 2021-03-31    s_13842    2021-03   \n",
       "101816    c_4958   m   1999   22   1_251 2022-12-11   s_310429    2022-12   \n",
       "101817    c_4958   m   1999   22   1_251 2021-07-11    s_60832    2021-07   \n",
       "101818    c_4958   m   1999   22   1_251 2022-04-21   s_197410    2022-04   \n",
       "...          ...  ..    ...  ...     ...        ...        ...        ...   \n",
       "640702    c_3454   m   1969   52   0_978 2021-08-04    s_71163    2021-08   \n",
       "640703    c_3454   m   1969   52   0_978 2022-11-04   s_292466    2022-11   \n",
       "640704    c_3454   m   1969   52   1_226 2021-06-30    s_56116    2021-06   \n",
       "640705    c_3454   m   1969   52   1_440 2022-02-23   s_169825    2022-02   \n",
       "640706    c_3454   m   1969   52   1_440 2022-05-23   s_213031    2022-05   \n",
       "\n",
       "       Année  price  categ  QuantiteVendue     CA  trancheAge  \n",
       "101814  2021  15.99      1               1  15.99  [17-24ans]  \n",
       "101815  2021  15.99      1               1  15.99  [17-24ans]  \n",
       "101816  2022  15.99      1               1  15.99  [17-24ans]  \n",
       "101817  2021  15.99      1               1  15.99  [17-24ans]  \n",
       "101818  2022  15.99      1               1  15.99  [17-24ans]  \n",
       "...      ...    ...    ...             ...    ...         ...  \n",
       "640702  2021  19.11      0               1  19.11  [45-54ans]  \n",
       "640703  2022  19.11      0               1  19.11  [45-54ans]  \n",
       "640704  2021  37.73      1               1  37.73  [45-54ans]  \n",
       "640705  2022   7.32      1               1   7.32  [45-54ans]  \n",
       "640706  2022   7.32      1               1   7.32  [45-54ans]  \n",
       "\n",
       "[46643 rows x 14 columns]"
      ]
     },
     "execution_count": 115,
     "metadata": {},
     "output_type": "execute_result"
    }
   ],
   "source": [
    "CAParTransactionClient.query('client_id==\"c_1609\" | client_id==\"c_4958\" | client_id==\"c_6714\" | client_id==\"c_3454\"')"
   ]
  },
  {
   "cell_type": "markdown",
   "id": "1aaacab1",
   "metadata": {},
   "source": [
    "##### Supprimer les transactions des 4 plus gros clients"
   ]
  },
  {
   "cell_type": "code",
   "execution_count": 116,
   "id": "a7723139",
   "metadata": {},
   "outputs": [],
   "source": [
    "indexNames = CAParTransactionClient[(CAParTransactionClient['client_id'] =='c_1609') | (CAParTransactionClient['client_id'] =='c_4958') | (CAParTransactionClient['client_id']=='c_6714') | (CAParTransactionClient['client_id']=='c_3454')].index\n",
    "CAParTransactionClient.drop(indexNames , inplace=True)"
   ]
  },
  {
   "cell_type": "markdown",
   "id": "cb57f5c3",
   "metadata": {},
   "source": [
    "##### Afficher la nouvelle dimension du dataframe CAParTransactionClient"
   ]
  },
  {
   "cell_type": "code",
   "execution_count": 117,
   "id": "d7549a1a",
   "metadata": {},
   "outputs": [
    {
     "data": {
      "text/plain": [
       "(632689, 14)"
      ]
     },
     "execution_count": 117,
     "metadata": {},
     "output_type": "execute_result"
    }
   ],
   "source": [
    "CAParTransactionClient.shape"
   ]
  },
  {
   "cell_type": "markdown",
   "id": "21ae3c54",
   "metadata": {},
   "source": [
    "Sur les 679 332 transactions, les transactions des gros clients 46 643 ont été supprimés. Il en reste 632 689."
   ]
  },
  {
   "cell_type": "markdown",
   "id": "2d734ada",
   "metadata": {},
   "source": [
    "##### Créer le tableau de contingence"
   ]
  },
  {
   "cell_type": "code",
   "execution_count": 118,
   "id": "0a773004",
   "metadata": {},
   "outputs": [
    {
     "data": {
      "text/html": [
       "<div>\n",
       "<style scoped>\n",
       "    .dataframe tbody tr th:only-of-type {\n",
       "        vertical-align: middle;\n",
       "    }\n",
       "\n",
       "    .dataframe tbody tr th {\n",
       "        vertical-align: top;\n",
       "    }\n",
       "\n",
       "    .dataframe thead th {\n",
       "        text-align: right;\n",
       "    }\n",
       "</style>\n",
       "<table border=\"1\" class=\"dataframe\">\n",
       "  <thead>\n",
       "    <tr style=\"text-align: right;\">\n",
       "      <th>categ</th>\n",
       "      <th>0</th>\n",
       "      <th>1</th>\n",
       "      <th>2</th>\n",
       "      <th>Total</th>\n",
       "    </tr>\n",
       "    <tr>\n",
       "      <th>sex</th>\n",
       "      <th></th>\n",
       "      <th></th>\n",
       "      <th></th>\n",
       "      <th></th>\n",
       "    </tr>\n",
       "  </thead>\n",
       "  <tbody>\n",
       "    <tr>\n",
       "      <th>f</th>\n",
       "      <td>200904</td>\n",
       "      <td>111331</td>\n",
       "      <td>16980</td>\n",
       "      <td>329215</td>\n",
       "    </tr>\n",
       "    <tr>\n",
       "      <th>m</th>\n",
       "      <td>186589</td>\n",
       "      <td>101017</td>\n",
       "      <td>15868</td>\n",
       "      <td>303474</td>\n",
       "    </tr>\n",
       "    <tr>\n",
       "      <th>Total</th>\n",
       "      <td>387493</td>\n",
       "      <td>212348</td>\n",
       "      <td>32848</td>\n",
       "      <td>632689</td>\n",
       "    </tr>\n",
       "  </tbody>\n",
       "</table>\n",
       "</div>"
      ],
      "text/plain": [
       "categ       0       1      2   Total\n",
       "sex                                 \n",
       "f      200904  111331  16980  329215\n",
       "m      186589  101017  15868  303474\n",
       "Total  387493  212348  32848  632689"
      ]
     },
     "execution_count": 118,
     "metadata": {},
     "output_type": "execute_result"
    }
   ],
   "source": [
    "X = \"sex\"  # qualitative\n",
    "Y = \"categ\"  # qualitative\n",
    "\n",
    "cont = CAParTransactionClient[[X,Y]].pivot_table(index=X,columns=Y,aggfunc=len,margins=True,margins_name=\"Total\")\n",
    "cont"
   ]
  },
  {
   "cell_type": "markdown",
   "id": "f5fc1f7f",
   "metadata": {},
   "source": [
    "##### Créer le graphique de contingence"
   ]
  },
  {
   "cell_type": "code",
   "execution_count": 119,
   "id": "e484c135",
   "metadata": {},
   "outputs": [
    {
     "data": {
      "image/png": "[encoded data removed]",
      "text/plain": [
       "<Figure size 432x288 with 2 Axes>"
      ]
     },
     "metadata": {
      "needs_background": "light"
     },
     "output_type": "display_data"
    }
   ],
   "source": [
    "tx = cont.loc[:,[\"Total\"]]\n",
    "ty = cont.loc[[\"Total\"],:]\n",
    "n = len(cont)\n",
    "indep = tx.dot(ty) / n\n",
    "\n",
    "c = cont.fillna(0) # On remplace les valeurs nulles par 0\n",
    "measure = (c-indep)**2/indep\n",
    "xi_n = measure.sum().sum()\n",
    "table = measure/xi_n\n",
    "sns.heatmap(table.iloc[:-1,:-1],annot=c.iloc[:-1,:-1])\n",
    "plt.show()"
   ]
  },
  {
   "cell_type": "markdown",
   "id": "19dbac48",
   "metadata": {},
   "source": [
    "Pour chaque catégorie de produits, les femmes concentrent plus que les hommes. La différence n'est pas énorme."
   ]
  },
  {
   "cell_type": "markdown",
   "id": "4fdc8f2f",
   "metadata": {},
   "source": [
    "##### Poser les hypothèses"
   ]
  },
  {
   "cell_type": "code",
   "execution_count": 120,
   "id": "9131580a",
   "metadata": {},
   "outputs": [
    {
     "name": "stdout",
     "output_type": "stream",
     "text": [
      "alpha = 0.05 \n",
      "\n",
      " H0 :le genre n'influence pas le choix de la catégorie\n",
      "\n",
      " H1 : le genre influence le choix de la catégorie de produits\n"
     ]
    }
   ],
   "source": [
    "print('alpha = 0.05 \\n\\n H0 :le genre n\\'influence pas le choix de la catégorie\\n\\n H1 : le genre influence le choix de la catégorie de produits')"
   ]
  },
  {
   "cell_type": "markdown",
   "id": "ac199e19",
   "metadata": {},
   "source": [
    "#### Calculer et afficher le khi2, le degré de liberté et la P_Value via scipy.stats.chi2_contingency"
   ]
  },
  {
   "cell_type": "code",
   "execution_count": 121,
   "id": "44815f14",
   "metadata": {},
   "outputs": [
    {
     "name": "stdout",
     "output_type": "stream",
     "text": [
      "Chi2 =  20.200173796862927\n",
      "Degré de liberté =  6\n",
      "P_Value =  0.002551063708568263\n"
     ]
    }
   ],
   "source": [
    "st_chi2, st_p, st_dof, st_exp = st.chi2_contingency(cont)\n",
    "\n",
    "P_Value= st_p\n",
    "Chi2=st_chi2\n",
    "DegréDeLiberte=st_dof\n",
    "print('Chi2 = ',Chi2)\n",
    "print('Degré de liberté = ',DegréDeLiberte)\n",
    "print('P_Value = ',P_Value)"
   ]
  },
  {
   "cell_type": "markdown",
   "id": "3aa01519",
   "metadata": {},
   "source": [
    "##### Analyser le résultat"
   ]
  },
  {
   "cell_type": "code",
   "execution_count": 122,
   "id": "1dc9fc72",
   "metadata": {},
   "outputs": [
    {
     "name": "stdout",
     "output_type": "stream",
     "text": [
      "Au regard du test de  khi2, nous rejetons l'hypothèse nulle. Le genre influence le choix de la catégorie.\n"
     ]
    }
   ],
   "source": [
    "alpha = 0.05\n",
    "if P_Value<alpha:\n",
    "    print('Au regard du test de  khi2, nous rejetons l\\'hypothèse nulle. Le genre influence le choix de la catégorie.')\n",
    "else :\n",
    "    print('Au regard du test de  khi2,le genre n\\'influence pas le choix de la catégorie de produits.')"
   ]
  },
  {
   "cell_type": "markdown",
   "id": "19787636",
   "metadata": {},
   "source": [
    "### 4.14 - Analyse de la corrélation entre l’âge des clients et le montant total des achats <a class=\"anchor\" id=\"section_4_14\"></a>"
   ]
  },
  {
   "cell_type": "code",
   "execution_count": 123,
   "id": "1d6c1675",
   "metadata": {},
   "outputs": [
    {
     "data": {
      "text/html": [
       "<div>\n",
       "<style scoped>\n",
       "    .dataframe tbody tr th:only-of-type {\n",
       "        vertical-align: middle;\n",
       "    }\n",
       "\n",
       "    .dataframe tbody tr th {\n",
       "        vertical-align: top;\n",
       "    }\n",
       "\n",
       "    .dataframe thead th {\n",
       "        text-align: right;\n",
       "    }\n",
       "</style>\n",
       "<table border=\"1\" class=\"dataframe\">\n",
       "  <thead>\n",
       "    <tr style=\"text-align: right;\">\n",
       "      <th></th>\n",
       "      <th>client_id</th>\n",
       "      <th>sex</th>\n",
       "      <th>birth</th>\n",
       "      <th>Age</th>\n",
       "      <th>id_prod</th>\n",
       "      <th>date</th>\n",
       "      <th>session_id</th>\n",
       "      <th>Année_Mois</th>\n",
       "      <th>Année</th>\n",
       "      <th>price</th>\n",
       "      <th>categ</th>\n",
       "      <th>QuantiteVendue</th>\n",
       "      <th>CA</th>\n",
       "      <th>trancheAge</th>\n",
       "    </tr>\n",
       "  </thead>\n",
       "  <tbody>\n",
       "    <tr>\n",
       "      <th>0</th>\n",
       "      <td>c_4410</td>\n",
       "      <td>f</td>\n",
       "      <td>1967</td>\n",
       "      <td>54</td>\n",
       "      <td>0_1277</td>\n",
       "      <td>2022-03-25</td>\n",
       "      <td>s_184041</td>\n",
       "      <td>2022-03</td>\n",
       "      <td>2022</td>\n",
       "      <td>7.99</td>\n",
       "      <td>0</td>\n",
       "      <td>1</td>\n",
       "      <td>7.99</td>\n",
       "      <td>[45-54ans]</td>\n",
       "    </tr>\n",
       "    <tr>\n",
       "      <th>1</th>\n",
       "      <td>c_4410</td>\n",
       "      <td>f</td>\n",
       "      <td>1967</td>\n",
       "      <td>54</td>\n",
       "      <td>0_1277</td>\n",
       "      <td>2021-09-25</td>\n",
       "      <td>s_94984</td>\n",
       "      <td>2021-09</td>\n",
       "      <td>2021</td>\n",
       "      <td>7.99</td>\n",
       "      <td>0</td>\n",
       "      <td>1</td>\n",
       "      <td>7.99</td>\n",
       "      <td>[45-54ans]</td>\n",
       "    </tr>\n",
       "    <tr>\n",
       "      <th>2</th>\n",
       "      <td>c_4410</td>\n",
       "      <td>f</td>\n",
       "      <td>1967</td>\n",
       "      <td>54</td>\n",
       "      <td>0_1376</td>\n",
       "      <td>2021-09-24</td>\n",
       "      <td>s_94984</td>\n",
       "      <td>2021-09</td>\n",
       "      <td>2021</td>\n",
       "      <td>16.24</td>\n",
       "      <td>0</td>\n",
       "      <td>1</td>\n",
       "      <td>16.24</td>\n",
       "      <td>[45-54ans]</td>\n",
       "    </tr>\n",
       "    <tr>\n",
       "      <th>3</th>\n",
       "      <td>c_4410</td>\n",
       "      <td>f</td>\n",
       "      <td>1967</td>\n",
       "      <td>54</td>\n",
       "      <td>0_1376</td>\n",
       "      <td>2022-04-24</td>\n",
       "      <td>s_198987</td>\n",
       "      <td>2022-04</td>\n",
       "      <td>2022</td>\n",
       "      <td>16.24</td>\n",
       "      <td>0</td>\n",
       "      <td>1</td>\n",
       "      <td>16.24</td>\n",
       "      <td>[45-54ans]</td>\n",
       "    </tr>\n",
       "    <tr>\n",
       "      <th>4</th>\n",
       "      <td>c_4410</td>\n",
       "      <td>f</td>\n",
       "      <td>1967</td>\n",
       "      <td>54</td>\n",
       "      <td>0_1376</td>\n",
       "      <td>2023-01-24</td>\n",
       "      <td>s_331878</td>\n",
       "      <td>2023-01</td>\n",
       "      <td>2023</td>\n",
       "      <td>16.24</td>\n",
       "      <td>0</td>\n",
       "      <td>1</td>\n",
       "      <td>16.24</td>\n",
       "      <td>[45-54ans]</td>\n",
       "    </tr>\n",
       "    <tr>\n",
       "      <th>...</th>\n",
       "      <td>...</td>\n",
       "      <td>...</td>\n",
       "      <td>...</td>\n",
       "      <td>...</td>\n",
       "      <td>...</td>\n",
       "      <td>...</td>\n",
       "      <td>...</td>\n",
       "      <td>...</td>\n",
       "      <td>...</td>\n",
       "      <td>...</td>\n",
       "      <td>...</td>\n",
       "      <td>...</td>\n",
       "      <td>...</td>\n",
       "      <td>...</td>\n",
       "    </tr>\n",
       "    <tr>\n",
       "      <th>679327</th>\n",
       "      <td>c_84</td>\n",
       "      <td>f</td>\n",
       "      <td>1982</td>\n",
       "      <td>39</td>\n",
       "      <td>0_1452</td>\n",
       "      <td>2021-09-20</td>\n",
       "      <td>s_92701</td>\n",
       "      <td>2021-09</td>\n",
       "      <td>2021</td>\n",
       "      <td>13.77</td>\n",
       "      <td>0</td>\n",
       "      <td>1</td>\n",
       "      <td>13.77</td>\n",
       "      <td>[35-44ans]</td>\n",
       "    </tr>\n",
       "    <tr>\n",
       "      <th>679328</th>\n",
       "      <td>c_84</td>\n",
       "      <td>f</td>\n",
       "      <td>1982</td>\n",
       "      <td>39</td>\n",
       "      <td>0_1110</td>\n",
       "      <td>2021-09-20</td>\n",
       "      <td>s_92701</td>\n",
       "      <td>2021-09</td>\n",
       "      <td>2021</td>\n",
       "      <td>4.71</td>\n",
       "      <td>0</td>\n",
       "      <td>1</td>\n",
       "      <td>4.71</td>\n",
       "      <td>[35-44ans]</td>\n",
       "    </tr>\n",
       "    <tr>\n",
       "      <th>679329</th>\n",
       "      <td>c_84</td>\n",
       "      <td>f</td>\n",
       "      <td>1982</td>\n",
       "      <td>39</td>\n",
       "      <td>0_1399</td>\n",
       "      <td>2021-10-01</td>\n",
       "      <td>s_98493</td>\n",
       "      <td>2021-10</td>\n",
       "      <td>2021</td>\n",
       "      <td>17.99</td>\n",
       "      <td>0</td>\n",
       "      <td>1</td>\n",
       "      <td>17.99</td>\n",
       "      <td>[35-44ans]</td>\n",
       "    </tr>\n",
       "    <tr>\n",
       "      <th>679330</th>\n",
       "      <td>c_84</td>\n",
       "      <td>f</td>\n",
       "      <td>1982</td>\n",
       "      <td>39</td>\n",
       "      <td>1_110</td>\n",
       "      <td>2021-09-13</td>\n",
       "      <td>s_89478</td>\n",
       "      <td>2021-09</td>\n",
       "      <td>2021</td>\n",
       "      <td>54.90</td>\n",
       "      <td>1</td>\n",
       "      <td>1</td>\n",
       "      <td>54.90</td>\n",
       "      <td>[35-44ans]</td>\n",
       "    </tr>\n",
       "    <tr>\n",
       "      <th>679331</th>\n",
       "      <td>c_84</td>\n",
       "      <td>f</td>\n",
       "      <td>1982</td>\n",
       "      <td>39</td>\n",
       "      <td>1_158</td>\n",
       "      <td>2021-10-01</td>\n",
       "      <td>s_98493</td>\n",
       "      <td>2021-10</td>\n",
       "      <td>2021</td>\n",
       "      <td>22.17</td>\n",
       "      <td>1</td>\n",
       "      <td>1</td>\n",
       "      <td>22.17</td>\n",
       "      <td>[35-44ans]</td>\n",
       "    </tr>\n",
       "  </tbody>\n",
       "</table>\n",
       "<p>632689 rows × 14 columns</p>\n",
       "</div>"
      ],
      "text/plain": [
       "       client_id sex  birth  Age id_prod       date session_id Année_Mois  \\\n",
       "0         c_4410   f   1967   54  0_1277 2022-03-25   s_184041    2022-03   \n",
       "1         c_4410   f   1967   54  0_1277 2021-09-25    s_94984    2021-09   \n",
       "2         c_4410   f   1967   54  0_1376 2021-09-24    s_94984    2021-09   \n",
       "3         c_4410   f   1967   54  0_1376 2022-04-24   s_198987    2022-04   \n",
       "4         c_4410   f   1967   54  0_1376 2023-01-24   s_331878    2023-01   \n",
       "...          ...  ..    ...  ...     ...        ...        ...        ...   \n",
       "679327      c_84   f   1982   39  0_1452 2021-09-20    s_92701    2021-09   \n",
       "679328      c_84   f   1982   39  0_1110 2021-09-20    s_92701    2021-09   \n",
       "679329      c_84   f   1982   39  0_1399 2021-10-01    s_98493    2021-10   \n",
       "679330      c_84   f   1982   39   1_110 2021-09-13    s_89478    2021-09   \n",
       "679331      c_84   f   1982   39   1_158 2021-10-01    s_98493    2021-10   \n",
       "\n",
       "       Année  price  categ  QuantiteVendue     CA  trancheAge  \n",
       "0       2022   7.99      0               1   7.99  [45-54ans]  \n",
       "1       2021   7.99      0               1   7.99  [45-54ans]  \n",
       "2       2021  16.24      0               1  16.24  [45-54ans]  \n",
       "3       2022  16.24      0               1  16.24  [45-54ans]  \n",
       "4       2023  16.24      0               1  16.24  [45-54ans]  \n",
       "...      ...    ...    ...             ...    ...         ...  \n",
       "679327  2021  13.77      0               1  13.77  [35-44ans]  \n",
       "679328  2021   4.71      0               1   4.71  [35-44ans]  \n",
       "679329  2021  17.99      0               1  17.99  [35-44ans]  \n",
       "679330  2021  54.90      1               1  54.90  [35-44ans]  \n",
       "679331  2021  22.17      1               1  22.17  [35-44ans]  \n",
       "\n",
       "[632689 rows x 14 columns]"
      ]
     },
     "execution_count": 123,
     "metadata": {},
     "output_type": "execute_result"
    }
   ],
   "source": [
    "CAParTransactionClient"
   ]
  },
  {
   "cell_type": "code",
   "execution_count": 124,
   "id": "ef910f17",
   "metadata": {},
   "outputs": [
    {
     "data": {
      "text/html": [
       "<div>\n",
       "<style scoped>\n",
       "    .dataframe tbody tr th:only-of-type {\n",
       "        vertical-align: middle;\n",
       "    }\n",
       "\n",
       "    .dataframe tbody tr th {\n",
       "        vertical-align: top;\n",
       "    }\n",
       "\n",
       "    .dataframe thead th {\n",
       "        text-align: right;\n",
       "    }\n",
       "</style>\n",
       "<table border=\"1\" class=\"dataframe\">\n",
       "  <thead>\n",
       "    <tr style=\"text-align: right;\">\n",
       "      <th></th>\n",
       "      <th>trancheAge</th>\n",
       "      <th>CA</th>\n",
       "    </tr>\n",
       "  </thead>\n",
       "  <tbody>\n",
       "    <tr>\n",
       "      <th>0</th>\n",
       "      <td>[17-24ans]</td>\n",
       "      <td>1.718234e+06</td>\n",
       "    </tr>\n",
       "    <tr>\n",
       "      <th>1</th>\n",
       "      <td>[25-34ans]</td>\n",
       "      <td>2.370785e+06</td>\n",
       "    </tr>\n",
       "    <tr>\n",
       "      <th>2</th>\n",
       "      <td>[35-44ans]</td>\n",
       "      <td>2.790116e+06</td>\n",
       "    </tr>\n",
       "    <tr>\n",
       "      <th>3</th>\n",
       "      <td>[45-54ans]</td>\n",
       "      <td>1.894625e+06</td>\n",
       "    </tr>\n",
       "    <tr>\n",
       "      <th>4</th>\n",
       "      <td>[55-64ans]</td>\n",
       "      <td>1.056087e+06</td>\n",
       "    </tr>\n",
       "    <tr>\n",
       "      <th>5</th>\n",
       "      <td>[65-74ans]</td>\n",
       "      <td>6.665546e+05</td>\n",
       "    </tr>\n",
       "    <tr>\n",
       "      <th>6</th>\n",
       "      <td>[75-84ans]</td>\n",
       "      <td>2.487885e+05</td>\n",
       "    </tr>\n",
       "    <tr>\n",
       "      <th>7</th>\n",
       "      <td>[85-92ans]</td>\n",
       "      <td>4.707845e+04</td>\n",
       "    </tr>\n",
       "  </tbody>\n",
       "</table>\n",
       "</div>"
      ],
      "text/plain": [
       "   trancheAge            CA\n",
       "0  [17-24ans]  1.718234e+06\n",
       "1  [25-34ans]  2.370785e+06\n",
       "2  [35-44ans]  2.790116e+06\n",
       "3  [45-54ans]  1.894625e+06\n",
       "4  [55-64ans]  1.056087e+06\n",
       "5  [65-74ans]  6.665546e+05\n",
       "6  [75-84ans]  2.487885e+05\n",
       "7  [85-92ans]  4.707845e+04"
      ]
     },
     "execution_count": 124,
     "metadata": {},
     "output_type": "execute_result"
    }
   ],
   "source": [
    "# copier les données \n",
    "cltTrancheAgeCATotal=CAParTransactionClient.copy()\n",
    "\n",
    "# Calculer le CA par tranche d'âge\n",
    "cltTrancheAgeCATotal = cltTrancheAgeCATotal.groupby('trancheAge').agg({'CA':'sum'})\n",
    "\n",
    "# Supprimer l'index\n",
    "cltTrancheAgeCATotal = cltTrancheAgeCATotal.reset_index()\n",
    "\n",
    "# Afficher les données\n",
    "cltTrancheAgeCATotal"
   ]
  },
  {
   "cell_type": "markdown",
   "id": "34ef1dcf",
   "metadata": {},
   "source": [
    "##### Représenter graphiquement la relation entre le montant total des achats et l'âge"
   ]
  },
  {
   "cell_type": "code",
   "execution_count": 125,
   "id": "c7f65533",
   "metadata": {},
   "outputs": [
    {
     "data": {
      "image/png": "[encoded data removed]",
      "text/plain": [
       "<Figure size 864x576 with 1 Axes>"
      ]
     },
     "metadata": {
      "needs_background": "light"
     },
     "output_type": "display_data"
    }
   ],
   "source": [
    "X = \"trancheAge\" # qualitative\n",
    "Y = \"CA\" # quantitative\n",
    "\n",
    "modalites = CAParTransactionClient[X].unique()\n",
    "groupes = []\n",
    "for m in modalites:\n",
    "    groupes.append(CAParTransactionClient[CAParTransactionClient[X]==m][Y])\n",
    "\n",
    "plt.figure(figsize=(12,8))\n",
    "plt.xticks([10*i for i in range(100)])\n",
    "\n",
    "# Propriétés graphiques (pas très importantes)    \n",
    "medianprops = {'color':\"black\"}\n",
    "meanprops = {'marker':'o', 'markeredgecolor':'black',\n",
    "           'markerfacecolor':'firebrick'}\n",
    "\n",
    "plt.boxplot(groupes, labels=modalites, showfliers=False, medianprops=medianprops, \n",
    "            vert=False, patch_artist=True, showmeans=True, meanprops=meanprops)\n",
    "plt.grid (True)\n",
    "\n",
    "plt.show()"
   ]
  },
  {
   "cell_type": "markdown",
   "id": "9c9aeabc",
   "metadata": {},
   "source": [
    "Le montant total des achats varie d'une tranche d'âge à une autre. Les 17-24 ans ont le montant total des achats le plus elevé et plus dispersé que ceux des 45-54 ans."
   ]
  },
  {
   "cell_type": "markdown",
   "id": "4e81cb56",
   "metadata": {},
   "source": [
    "##### Calcul de l'indicateur état carré "
   ]
  },
  {
   "cell_type": "code",
   "execution_count": 126,
   "id": "85b0b28f",
   "metadata": {},
   "outputs": [
    {
     "name": "stdout",
     "output_type": "stream",
     "text": [
      "L'état carré =  0.22202818469975458\n"
     ]
    }
   ],
   "source": [
    "X = \"Age\" # qualitative\n",
    "Y = \"CA\" # quantitative\n",
    "\n",
    "#sous_echantillon = data[data[\"montant\"] < 0] # On ne garde que les dépenses\n",
    "\n",
    "def eta_squared(x,y):\n",
    "    moyenne_y = y.mean()\n",
    "    classes = []\n",
    "    for classe in x.unique():\n",
    "        yi_classe = y[x==classe]\n",
    "        classes.append({'ni': len(yi_classe),\n",
    "                        'moyenne_classe': yi_classe.mean()})\n",
    "    SCT = sum([(yj-moyenne_y)**2 for yj in y])\n",
    "    SCE = sum([c['ni']*(c['moyenne_classe']-moyenne_y)**2 for c in classes])\n",
    "    return SCE/SCT\n",
    "    \n",
    "etaCarre = eta_squared(CAParTransactionClient[X],CAParTransactionClient[Y])\n",
    "\n",
    "print('L\\'état carré = ', etaCarre)"
   ]
  },
  {
   "cell_type": "markdown",
   "id": "387a212d",
   "metadata": {},
   "source": [
    "Il y a une faible corrélation entre l'âge et le montant total des achats."
   ]
  },
  {
   "cell_type": "markdown",
   "id": "19f93631",
   "metadata": {},
   "source": [
    "### 4.15 - Analyse de la corrélation entre l’âge des clients et la fréquence d’achat <a class=\"anchor\" id=\"section_4_15\"></a>"
   ]
  },
  {
   "cell_type": "markdown",
   "id": "15b0e761",
   "metadata": {},
   "source": [
    "##### Représenter graphiquement l’âge des clients et la fréquence d’achat"
   ]
  },
  {
   "cell_type": "code",
   "execution_count": 127,
   "id": "a4cafb29",
   "metadata": {},
   "outputs": [
    {
     "data": {
      "image/png": "[encoded data removed]",
      "text/plain": [
       "<Figure size 864x576 with 1 Axes>"
      ]
     },
     "metadata": {
      "needs_background": "light"
     },
     "output_type": "display_data"
    }
   ],
   "source": [
    "X = \"trancheAge\" # qualitative\n",
    "Y = \"freqAchatMensuel\" # quantitative\n",
    "\n",
    "modalites = FreqAchatParClientTrancheAge[X].unique()\n",
    "groupes = []\n",
    "for m in modalites:\n",
    "    groupes.append(FreqAchatParClientTrancheAge[FreqAchatParClientTrancheAge[X]==m][Y])\n",
    "\n",
    "plt.figure(figsize=(12,8))\n",
    "#CAParClient.boxplot(column=\"CA\", vert=False)\n",
    "#plt.xticks([10*i for i in range(5)])\n",
    "\n",
    "# Propriétés graphiques (pas très importantes)    \n",
    "medianprops = {'color':\"black\"}\n",
    "meanprops = {'marker':'o', 'markeredgecolor':'black',\n",
    "           'markerfacecolor':'firebrick'}\n",
    "    \n",
    "plt.boxplot(groupes, labels=modalites, showfliers=False, medianprops=medianprops, \n",
    "            vert=False, patch_artist=True, showmeans=True, meanprops=meanprops)\n",
    "plt.grid (True)\n",
    "#plt.boxplot(groupes, labels=modalites, showfliers=False, \n",
    "            #vert=False, patch_artist=True, showmeans=True)\n",
    "plt.show()"
   ]
  },
  {
   "cell_type": "markdown",
   "id": "87455fa4",
   "metadata": {},
   "source": [
    "La moyenne de la fréquence d'achat diffère d'une tranche d'âge à une autre."
   ]
  },
  {
   "cell_type": "markdown",
   "id": "6022a178",
   "metadata": {},
   "source": [
    "##### Calculer l'état carré"
   ]
  },
  {
   "cell_type": "code",
   "execution_count": 128,
   "id": "f568e6d8",
   "metadata": {},
   "outputs": [
    {
     "name": "stdout",
     "output_type": "stream",
     "text": [
      "L'état carré =  1.0\n"
     ]
    }
   ],
   "source": [
    "X = \"trancheAge\" # qualitative\n",
    "Y = \"freqAchatMensuel\" # quantitative\n",
    "\n",
    "#sous_echantillon = data[data[\"montant\"] < 0] # On ne garde que les dépenses\n",
    "\n",
    "def eta_squared(x,y):\n",
    "    moyenne_y = y.mean()\n",
    "    classes = []\n",
    "    for classe in x.unique():\n",
    "        yi_classe = y[x==classe]\n",
    "        classes.append({'ni': len(yi_classe),\n",
    "                        'moyenne_classe': yi_classe.mean()})\n",
    "    SCT = sum([(yj-moyenne_y)**2 for yj in y])\n",
    "    SCE = sum([c['ni']*(c['moyenne_classe']-moyenne_y)**2 for c in classes])\n",
    "    return SCE/SCT\n",
    "    \n",
    "etaCarre = eta_squared(FreqAchatParClientTrancheAge[X],FreqAchatParClientTrancheAge[Y])\n",
    "\n",
    "print('L\\'état carré = ', etaCarre)"
   ]
  },
  {
   "cell_type": "markdown",
   "id": "3bb8f7f4",
   "metadata": {},
   "source": [
    "Il y a une forte corrélation entre l'âge et la fréquence d'achat."
   ]
  },
  {
   "cell_type": "markdown",
   "id": "6bf81510",
   "metadata": {},
   "source": [
    "### 4.16 - Analyse de la corrélation entre l’âge des clients et la taille du panier moyen <a class=\"anchor\" id=\"section_4_16\"></a>"
   ]
  },
  {
   "cell_type": "markdown",
   "id": "521b34b9",
   "metadata": {},
   "source": [
    "##### Calculer la taille du panier moyen par age"
   ]
  },
  {
   "cell_type": "code",
   "execution_count": 129,
   "id": "ceb44c99",
   "metadata": {},
   "outputs": [
    {
     "data": {
      "text/html": [
       "<div>\n",
       "<style scoped>\n",
       "    .dataframe tbody tr th:only-of-type {\n",
       "        vertical-align: middle;\n",
       "    }\n",
       "\n",
       "    .dataframe tbody tr th {\n",
       "        vertical-align: top;\n",
       "    }\n",
       "\n",
       "    .dataframe thead th {\n",
       "        text-align: right;\n",
       "    }\n",
       "</style>\n",
       "<table border=\"1\" class=\"dataframe\">\n",
       "  <thead>\n",
       "    <tr style=\"text-align: right;\">\n",
       "      <th></th>\n",
       "      <th>trancheAge</th>\n",
       "      <th>taillePanierMoyen</th>\n",
       "    </tr>\n",
       "  </thead>\n",
       "  <tbody>\n",
       "    <tr>\n",
       "      <th>0</th>\n",
       "      <td>[17-24ans]</td>\n",
       "      <td>1.76</td>\n",
       "    </tr>\n",
       "    <tr>\n",
       "      <th>1</th>\n",
       "      <td>[25-34ans]</td>\n",
       "      <td>2.22</td>\n",
       "    </tr>\n",
       "    <tr>\n",
       "      <th>2</th>\n",
       "      <td>[35-44ans]</td>\n",
       "      <td>2.40</td>\n",
       "    </tr>\n",
       "    <tr>\n",
       "      <th>3</th>\n",
       "      <td>[45-54ans]</td>\n",
       "      <td>1.97</td>\n",
       "    </tr>\n",
       "    <tr>\n",
       "      <th>4</th>\n",
       "      <td>[55-64ans]</td>\n",
       "      <td>1.45</td>\n",
       "    </tr>\n",
       "    <tr>\n",
       "      <th>5</th>\n",
       "      <td>[65-74ans]</td>\n",
       "      <td>1.45</td>\n",
       "    </tr>\n",
       "    <tr>\n",
       "      <th>6</th>\n",
       "      <td>[75-84ans]</td>\n",
       "      <td>1.48</td>\n",
       "    </tr>\n",
       "    <tr>\n",
       "      <th>7</th>\n",
       "      <td>[85-92ans]</td>\n",
       "      <td>1.45</td>\n",
       "    </tr>\n",
       "  </tbody>\n",
       "</table>\n",
       "</div>"
      ],
      "text/plain": [
       "   trancheAge  taillePanierMoyen\n",
       "0  [17-24ans]               1.76\n",
       "1  [25-34ans]               2.22\n",
       "2  [35-44ans]               2.40\n",
       "3  [45-54ans]               1.97\n",
       "4  [55-64ans]               1.45\n",
       "5  [65-74ans]               1.45\n",
       "6  [75-84ans]               1.48\n",
       "7  [85-92ans]               1.45"
      ]
     },
     "execution_count": 129,
     "metadata": {},
     "output_type": "execute_result"
    }
   ],
   "source": [
    "# Copier les données\n",
    "taillePanierMoyen=CAParTransactionClient.copy()\n",
    "\n",
    "# Calculer la taille du panier moyen par achat\n",
    "taillePanierMoyen = taillePanierMoyen.groupby(['session_id']).agg({'trancheAge':'first','id_prod':'count'}).reset_index()\n",
    "\n",
    "# Renommer la colonne id_prod en taillePanierMoyen\n",
    "taillePanierMoyen.rename(columns={'id_prod':'taillePanierMoyen'}, inplace=True)\n",
    "\n",
    "# Copier les données\n",
    "taillePanierMoyenTrancheAge=taillePanierMoyen.copy()\n",
    "\n",
    "# Calculer la taille du panier moyen par tranche d'âge\n",
    "taillePanierMoyenTrancheAge = taillePanierMoyenTrancheAge.groupby('trancheAge').agg({'taillePanierMoyen':'mean'}).reset_index()\n",
    "\n",
    "# Arrondir les données\n",
    "round(taillePanierMoyenTrancheAge,2)\n",
    "#taillePanierMoyenTrancheAge"
   ]
  },
  {
   "cell_type": "markdown",
   "id": "caa160a2",
   "metadata": {},
   "source": [
    "Les 35-44 ans ont la taille du panier moyen la plus elevée, 2 à 3. Les tranches 55-64ans, 65-74ans et 85-92ans ont la taille du panier moyen la plus faible, 1 à 2."
   ]
  },
  {
   "cell_type": "markdown",
   "id": "7430c862",
   "metadata": {},
   "source": [
    "##### Représenter graphiquement le lien entre l’âge des clients et la taille du panier moyen"
   ]
  },
  {
   "cell_type": "code",
   "execution_count": 130,
   "id": "9f093889",
   "metadata": {},
   "outputs": [
    {
     "data": {
      "image/png": "[encoded data removed]",
      "text/plain": [
       "<Figure size 864x576 with 1 Axes>"
      ]
     },
     "metadata": {
      "needs_background": "light"
     },
     "output_type": "display_data"
    }
   ],
   "source": [
    "X = \"trancheAge\" # qualitative\n",
    "Y = \"taillePanierMoyen\" # quantitative\n",
    "\n",
    "modalites = taillePanierMoyenTrancheAge[X].unique()\n",
    "groupes = []\n",
    "for m in modalites:\n",
    "    groupes.append(taillePanierMoyenTrancheAge[taillePanierMoyenTrancheAge[X]==m][Y])\n",
    "\n",
    "plt.figure(figsize=(12,8))\n",
    "#plt.xticks([10*i for i in range(6)])\n",
    "\n",
    "# Propriétés graphiques (pas très importantes)    \n",
    "medianprops = {'color':\"black\"}\n",
    "meanprops = {'marker':'o', 'markeredgecolor':'black',\n",
    "           'markerfacecolor':'firebrick'}\n",
    "    \n",
    "plt.boxplot(groupes, labels=modalites, showfliers=False, medianprops=medianprops, \n",
    "            vert=False, patch_artist=True, showmeans=True, meanprops=meanprops)\n",
    "plt.grid (True)\n",
    "\n",
    "plt.show()"
   ]
  },
  {
   "cell_type": "markdown",
   "id": "e398dd5e",
   "metadata": {},
   "source": [
    "La moyenne de la taille du panier moyen diffère d'une tranche d'âge à une autre à l'exception de des 55-64 ans et 65-74 ans qui ont la même moyenne."
   ]
  },
  {
   "cell_type": "markdown",
   "id": "f0d28830",
   "metadata": {},
   "source": [
    "##### Calculer l'état carré"
   ]
  },
  {
   "cell_type": "code",
   "execution_count": 131,
   "id": "76a5bb5f",
   "metadata": {},
   "outputs": [
    {
     "name": "stdout",
     "output_type": "stream",
     "text": [
      "L'état carré =  1.0\n"
     ]
    }
   ],
   "source": [
    "X = \"trancheAge\" # qualitative\n",
    "Y = \"taillePanierMoyen\" # quantitative\n",
    "#sous_echantillon = data[data[\"montant\"] < 0] # On ne garde que les dépenses\n",
    "\n",
    "def eta_squared(x,y):\n",
    "    moyenne_y = y.mean()\n",
    "    classes = []\n",
    "    for classe in x.unique():\n",
    "        yi_classe = y[x==classe]\n",
    "        classes.append({'ni': len(yi_classe),\n",
    "                        'moyenne_classe': yi_classe.mean()})\n",
    "    SCT = sum([(yj-moyenne_y)**2 for yj in y])\n",
    "    SCE = sum([c['ni']*(c['moyenne_classe']-moyenne_y)**2 for c in classes])\n",
    "    return SCE/SCT\n",
    "    \n",
    "etaCarre = eta_squared(taillePanierMoyenTrancheAge[X],taillePanierMoyenTrancheAge[Y])\n",
    "\n",
    "print('L\\'état carré = ', etaCarre)"
   ]
  },
  {
   "cell_type": "markdown",
   "id": "7cc2413f",
   "metadata": {},
   "source": [
    "Il y a une corrélation forte entre l'âge et la taile du panier."
   ]
  },
  {
   "cell_type": "markdown",
   "id": "de8c13d1",
   "metadata": {},
   "source": [
    "### 4.17 - Analyse de la corrélation entre l’âge (tranche d'âge) des clients et les catégories des livres achetés <a class=\"anchor\" id=\"section_4_17\"></a>"
   ]
  },
  {
   "cell_type": "markdown",
   "id": "5b6c86d5",
   "metadata": {},
   "source": [
    "##### Regrouper les données par âge et catégorie"
   ]
  },
  {
   "cell_type": "code",
   "execution_count": 132,
   "id": "73c89234",
   "metadata": {},
   "outputs": [
    {
     "data": {
      "text/html": [
       "<div>\n",
       "<style scoped>\n",
       "    .dataframe tbody tr th:only-of-type {\n",
       "        vertical-align: middle;\n",
       "    }\n",
       "\n",
       "    .dataframe tbody tr th {\n",
       "        vertical-align: top;\n",
       "    }\n",
       "\n",
       "    .dataframe thead th {\n",
       "        text-align: right;\n",
       "    }\n",
       "</style>\n",
       "<table border=\"1\" class=\"dataframe\">\n",
       "  <thead>\n",
       "    <tr style=\"text-align: right;\">\n",
       "      <th>categ</th>\n",
       "      <th>0</th>\n",
       "      <th>1</th>\n",
       "      <th>2</th>\n",
       "      <th>Total</th>\n",
       "    </tr>\n",
       "    <tr>\n",
       "      <th>trancheAge</th>\n",
       "      <th></th>\n",
       "      <th></th>\n",
       "      <th></th>\n",
       "      <th></th>\n",
       "    </tr>\n",
       "  </thead>\n",
       "  <tbody>\n",
       "    <tr>\n",
       "      <th>[17-24ans]</th>\n",
       "      <td>9599</td>\n",
       "      <td>16028</td>\n",
       "      <td>17033</td>\n",
       "      <td>42660</td>\n",
       "    </tr>\n",
       "    <tr>\n",
       "      <th>[25-34ans]</th>\n",
       "      <td>79117</td>\n",
       "      <td>32329</td>\n",
       "      <td>11483</td>\n",
       "      <td>122929</td>\n",
       "    </tr>\n",
       "    <tr>\n",
       "      <th>[35-44ans]</th>\n",
       "      <td>159719</td>\n",
       "      <td>49939</td>\n",
       "      <td>770</td>\n",
       "      <td>210428</td>\n",
       "    </tr>\n",
       "    <tr>\n",
       "      <th>[45-54ans]</th>\n",
       "      <td>85566</td>\n",
       "      <td>45252</td>\n",
       "      <td>734</td>\n",
       "      <td>131552</td>\n",
       "    </tr>\n",
       "    <tr>\n",
       "      <th>[55-64ans]</th>\n",
       "      <td>27430</td>\n",
       "      <td>34901</td>\n",
       "      <td>571</td>\n",
       "      <td>62902</td>\n",
       "    </tr>\n",
       "    <tr>\n",
       "      <th>[65-74ans]</th>\n",
       "      <td>17221</td>\n",
       "      <td>22307</td>\n",
       "      <td>337</td>\n",
       "      <td>39865</td>\n",
       "    </tr>\n",
       "    <tr>\n",
       "      <th>[75-84ans]</th>\n",
       "      <td>6329</td>\n",
       "      <td>8286</td>\n",
       "      <td>161</td>\n",
       "      <td>14776</td>\n",
       "    </tr>\n",
       "    <tr>\n",
       "      <th>[85-92ans]</th>\n",
       "      <td>1261</td>\n",
       "      <td>1535</td>\n",
       "      <td>23</td>\n",
       "      <td>2819</td>\n",
       "    </tr>\n",
       "    <tr>\n",
       "      <th>Total</th>\n",
       "      <td>386242</td>\n",
       "      <td>210577</td>\n",
       "      <td>31112</td>\n",
       "      <td>627931</td>\n",
       "    </tr>\n",
       "  </tbody>\n",
       "</table>\n",
       "</div>"
      ],
      "text/plain": [
       "categ            0       1      2   Total\n",
       "trancheAge                               \n",
       "[17-24ans]    9599   16028  17033   42660\n",
       "[25-34ans]   79117   32329  11483  122929\n",
       "[35-44ans]  159719   49939    770  210428\n",
       "[45-54ans]   85566   45252    734  131552\n",
       "[55-64ans]   27430   34901    571   62902\n",
       "[65-74ans]   17221   22307    337   39865\n",
       "[75-84ans]    6329    8286    161   14776\n",
       "[85-92ans]    1261    1535     23    2819\n",
       "Total       386242  210577  31112  627931"
      ]
     },
     "execution_count": 132,
     "metadata": {},
     "output_type": "execute_result"
    }
   ],
   "source": [
    "X = \"trancheAge\"\n",
    "Y = \"categ\"\n",
    "\n",
    "cont1 = CAParTransactionClient[[X,Y]].pivot_table(index=X,columns=Y,aggfunc=len,margins=True,margins_name=\"Total\")\n",
    "cont1"
   ]
  },
  {
   "cell_type": "code",
   "execution_count": 133,
   "id": "5b0f8cbf",
   "metadata": {},
   "outputs": [
    {
     "data": {
      "image/png": "[encoded data removed]",
      "text/plain": [
       "<Figure size 432x288 with 2 Axes>"
      ]
     },
     "metadata": {
      "needs_background": "light"
     },
     "output_type": "display_data"
    }
   ],
   "source": [
    "tx = cont1.loc[:,[\"Total\"]]\n",
    "ty = cont1.loc[[\"Total\"],:]\n",
    "n = len(cont1)\n",
    "indep = tx.dot(ty) / n\n",
    "\n",
    "c = cont1.fillna(0) # On remplace les valeurs nulles par 0\n",
    "measure = (c-indep)**2/indep\n",
    "xi_n = measure.sum().sum()\n",
    "table = measure/xi_n\n",
    "sns.heatmap(table.iloc[:-1,:-1],annot=c.iloc[:-1,:-1])\n",
    "plt.show()"
   ]
  },
  {
   "cell_type": "markdown",
   "id": "114237ed",
   "metadata": {},
   "source": [
    "La catégorie 0 concentre plus de clients que les autres catégories. Les 35-44 ans concentrent le plus grand nombre de clients toute catégorie confondue. Les 85-92ans concentrent le moins de clients pour toutes les catégories de produit. A la lecture de ce tableau, il y a un lien entre l age et les catégories de livre achetés."
   ]
  },
  {
   "cell_type": "markdown",
   "id": "2628372e",
   "metadata": {},
   "source": [
    "##### Poser les hypothèses"
   ]
  },
  {
   "cell_type": "code",
   "execution_count": 134,
   "id": "a1563287",
   "metadata": {},
   "outputs": [
    {
     "name": "stdout",
     "output_type": "stream",
     "text": [
      "alpha = 0.05 \n",
      "\n",
      " H0 :la tranche d'âge ne détermine pas le choix de la catégorie\n",
      "\n",
      " H1 : la tranche d'âge détermine le choix de la catégorie\n"
     ]
    }
   ],
   "source": [
    "print('alpha = 0.05 \\n\\n H0 :la tranche d\\'âge ne détermine pas le choix de la catégorie\\n\\n H1 : la tranche d\\'âge détermine le choix de la catégorie')"
   ]
  },
  {
   "cell_type": "code",
   "execution_count": 135,
   "id": "3ccb0c20",
   "metadata": {},
   "outputs": [
    {
     "name": "stdout",
     "output_type": "stream",
     "text": [
      "Chi2 =  178430.65107475145\n",
      "Degré de liberté =  24\n",
      "P_Value =  0.0\n"
     ]
    }
   ],
   "source": [
    "st_chi2, st_p, st_dof, st_exp = st.chi2_contingency(cont1)\n",
    "\n",
    "P_Value= st_p\n",
    "Chi2=st_chi2\n",
    "DegréDeLiberte=st_dof\n",
    "print('Chi2 = ',Chi2)\n",
    "print('Degré de liberté = ',DegréDeLiberte)\n",
    "print('P_Value = ',P_Value)\n",
    "st_chi2, st_p, st_dof, st_exp = st.chi2_contingency(cont1)"
   ]
  },
  {
   "cell_type": "markdown",
   "id": "1617a6b4",
   "metadata": {},
   "source": [
    "##### Analyser le résultat"
   ]
  },
  {
   "cell_type": "code",
   "execution_count": 136,
   "id": "2da66565",
   "metadata": {},
   "outputs": [
    {
     "name": "stdout",
     "output_type": "stream",
     "text": [
      "Au regard du test de  khi2, nous rejetons l'hypothèse nulle. L'âge influence le choix de la catégorie de produits.\n"
     ]
    }
   ],
   "source": [
    "alpha = 0.05\n",
    "if P_Value<alpha:\n",
    "    print('Au regard du test de  khi2, nous rejetons l\\'hypothèse nulle. L\\'âge influence le choix de la catégorie de produits.')\n",
    "else :\n",
    "    print('Au regard du test de  khi2,l\\'âge n\\'influence pas le choix de la catégorie de produits.')"
   ]
  },
  {
   "cell_type": "markdown",
   "id": "956a2a62",
   "metadata": {},
   "source": [
    "### 4.18 - Probabilité qu’un client achète la référence 0_525 sachant qu’il a acheté la référence 2_159 <a class=\"anchor\" id=\"section_4_18\"></a>"
   ]
  },
  {
   "cell_type": "markdown",
   "id": "3cd62583",
   "metadata": {},
   "source": [
    "##### Nombre de clients ayant effectué un achat"
   ]
  },
  {
   "cell_type": "code",
   "execution_count": 137,
   "id": "96240199",
   "metadata": {},
   "outputs": [
    {
     "name": "stdout",
     "output_type": "stream",
     "text": [
      "Sur 8623 clients, 8600 ont effectué un achat.\n"
     ]
    }
   ],
   "source": [
    "NbreClientAvecAchat=dataClientsTransactionProduits['client_id'].drop_duplicates().count()\n",
    "\n",
    "print('Sur 8623 clients, '+ str(NbreClientAvecAchat) + ' ont effectué un achat.')"
   ]
  },
  {
   "cell_type": "markdown",
   "id": "8014eeab",
   "metadata": {},
   "source": [
    "##### Probalité qu'un client achète le produit 0_525"
   ]
  },
  {
   "cell_type": "code",
   "execution_count": 138,
   "id": "8b18153f",
   "metadata": {},
   "outputs": [
    {
     "name": "stdout",
     "output_type": "stream",
     "text": [
      "Le nombre de clients ayant acheté le produit 0_525 est : 500\n",
      "La probalité qu'un client achète le produit 0_525 est : 0.05813953488372093\n"
     ]
    }
   ],
   "source": [
    "# Filtrer les clients ayant acheté le produit 0_525\n",
    "CltAyantAchete0_525=dataTransactions.query('id_prod==\"0_525\"')\n",
    "\n",
    "#Compter le nombre de clients ayant acheté le produit 0_525\n",
    "nbreClientAyantAchete0_525 = CltAyantAchete0_525['client_id'].count()\n",
    "print('Le nombre de clients ayant acheté le produit 0_525 est :',nbreClientAyantAchete0_525)\n",
    "\n",
    "#Calculer la probalité qu'un client achète le produit 0_525\n",
    "probaAchat0_525= nbreClientAyantAchete0_525/NbreClientAvecAchat\n",
    "print('La probalité qu\\'un client achète le produit 0_525 est :',probaAchat0_525)"
   ]
  },
  {
   "cell_type": "markdown",
   "id": "b88945c3",
   "metadata": {},
   "source": [
    "##### Probalité qu'un client achète le produit 2_159"
   ]
  },
  {
   "cell_type": "code",
   "execution_count": 139,
   "id": "aab507a8",
   "metadata": {},
   "outputs": [
    {
     "name": "stdout",
     "output_type": "stream",
     "text": [
      "Le nombre de clients ayant acheté le produit 2_159 est : 650\n",
      "La probalité qu'un client achète le produit 0_525 est : 0.0755813953488372\n"
     ]
    }
   ],
   "source": [
    "# Filtrer les clients ayant acheté le produit 2_159\n",
    "CltAyantAchete2_159=dataTransactions.query('id_prod==\"2_159\"')\n",
    "\n",
    "#Compter le nombre de clients ayant acheté le produit 2_159\n",
    "nbreClientAyantAchete2_159 = CltAyantAchete2_159['client_id'].count()\n",
    "print('Le nombre de clients ayant acheté le produit 2_159 est :' ,nbreClientAyantAchete2_159)\n",
    "\n",
    "#Calculer la probalité qu'un client achète le produit 2_159\n",
    "probaAchat2_159= nbreClientAyantAchete2_159/NbreClientAvecAchat\n",
    "print('La probalité qu\\'un client achète le produit 0_525 est :',probaAchat2_159)"
   ]
  },
  {
   "cell_type": "markdown",
   "id": "9a952414",
   "metadata": {},
   "source": [
    "##### Calculer la probabilité qu’un client achète la référence 0_525 sachant qu’il a acheté la référence 2_159"
   ]
  },
  {
   "cell_type": "code",
   "execution_count": 140,
   "id": "ebf92ebb",
   "metadata": {},
   "outputs": [
    {
     "name": "stdout",
     "output_type": "stream",
     "text": [
      "La probabilité qu’un client achète la référence 0_525 sachant qu’il a acheté la référence 2_159 est de 0.77\n"
     ]
    }
   ],
   "source": [
    "probabilité = round((probaAchat0_525/probaAchat2_159),2)\n",
    "\n",
    "print('La probabilité qu’un client achète la référence 0_525 sachant qu’il a acheté la référence 2_159 est de '+str(probabilité))"
   ]
  },
  {
   "cell_type": "markdown",
   "id": "c48a5fa2",
   "metadata": {},
   "source": [
    "##### Nombre de clients ayant acheté les produits 0_525 et 2_159"
   ]
  },
  {
   "cell_type": "code",
   "execution_count": 141,
   "id": "06dcb2a1",
   "metadata": {},
   "outputs": [
    {
     "name": "stdout",
     "output_type": "stream",
     "text": [
      "Les clients ayant achetés à la fois les produits 0_525 et 2_159 sont au nombre de 718\n"
     ]
    }
   ],
   "source": [
    "CltAyantAchete0_525et2_159 = pd.merge(CltAyantAchete0_525,CltAyantAchete2_159,on=['client_id','client_id'])\n",
    "NbreClt0_525et2_159 = CltAyantAchete0_525et2_159['client_id'].count()\n",
    "\n",
    "print('Les clients ayant achetés à la fois les produits 0_525 et 2_159 sont au nombre de ' + str(NbreClt0_525et2_159))"
   ]
  },
  {
   "cell_type": "markdown",
   "id": "9e08e856",
   "metadata": {},
   "source": [
    "## 5 - Préconisations <a class=\"anchor\" id=\"chapter5\"></a>"
   ]
  },
  {
   "cell_type": "markdown",
   "id": "0e77b5e9",
   "metadata": {},
   "source": [
    "Il serait interessant d'attribuer un genre propre à l'organisation afin de la distinguer des personnes physiques. Il serait aussi interessant de mettre en place des actions pour mieux connaitre les besoins des 23 clients non acheteurs, afin de leur proposer des offres adaptées. "
   ]
  },
  {
   "cell_type": "markdown",
   "id": "333dc9e4",
   "metadata": {},
   "source": []
  }
 ],
 "metadata": {
  "kernelspec": {
   "display_name": "Python 3",
   "language": "python",
   "name": "python3"
  },
  "language_info": {
   "codemirror_mode": {
    "name": "ipython",
    "version": 3
   },
   "file_extension": ".py",
   "mimetype": "text/x-python",
   "name": "python",
   "nbconvert_exporter": "python",
   "pygments_lexer": "ipython3",
   "version": "3.8.8"
  }
 },
 "nbformat": 4,
 "nbformat_minor": 5
}
