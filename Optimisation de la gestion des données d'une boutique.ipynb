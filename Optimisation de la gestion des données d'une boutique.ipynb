{
 "cells": [
  {
   "cell_type": "markdown",
   "id": "9b6e4f94",
   "metadata": {},
   "source": [
    "# Projet 5 - Optimisez la gestion des données d'une boutique"
   ]
  },
  {
   "cell_type": "markdown",
   "id": "1463abae",
   "metadata": {},
   "source": [
    "## Plan\n",
    "\n",
    "* [1 - Importation des librairies](#chapter1)\n",
    "   \n",
    "* [2 - Lecture des données et vérification du typage des colonnes](#chapter2)\n",
    "    \n",
    "    * [2.1 - Données de correspondance des produits ERP et Web](#section_2_1)\n",
    "    * [2.2 - Données erp](#section_2_2)\n",
    "    * [2.3 - Données Web](#section_2_3)\n",
    "\n",
    "* [3 - Qualité des données](#chapter3)\n",
    "    \n",
    "    * [3.1 - Données de correspondance des produits ERP et Web](#section_3_1)\n",
    "    * [3.2 - Données erp ](#section_3_2)\n",
    "    * [3.3 - Données web](#section_3_3)\n",
    "\n",
    "* [4 - Analyses des données](#chapter4)\n",
    "    \n",
    "    * [4.1 - Rapprochement des exports Erp et web ](#section_4_1)\n",
    "    * [4.2 - Calcul du chiffre d affaire par produit](#section_4_2)\n",
    "    * [4.3 - Calcul du chiffre d affaire total réalisé en ligne](#section_4_3)\n",
    "    * [4.4 - Étude de la répartition du nombre de bouteilles vendu par catégorie de prix (analyse univariée) ](#section_4_4)\n",
    "    * [4.5 - Liste et nombre des outliers ](#section_4_5)\n",
    "    * [4.6 - Représentation graphique des outliers  ](#section_4_6)\n",
    "    \n",
    "* [5 - Interprétations et préconisations](#chapter5)"
   ]
  },
  {
   "cell_type": "markdown",
   "id": "ebfbf4b9",
   "metadata": {},
   "source": [
    "## 1 - Importation des librairies <a class=\"anchor\" id=\"chapter1\"></a>"
   ]
  },
  {
   "cell_type": "code",
   "execution_count": 1,
   "id": "e6bab139",
   "metadata": {},
   "outputs": [],
   "source": [
    "import pandas as pd\n",
    "import matplotlib.pyplot as plt"
   ]
  },
  {
   "cell_type": "markdown",
   "id": "32794571",
   "metadata": {},
   "source": [
    "## 2 - Lecture des données et vérification du typage des colonnes <a class=\"anchor\" id=\"chapter2\"></a>"
   ]
  },
  {
   "cell_type": "markdown",
   "id": "901a6d46",
   "metadata": {},
   "source": [
    "### 2.1 - Données de correspondance des produits ERP et Web <a class=\"anchor\" id=\"section_2_1\"></a>"
   ]
  },
  {
   "cell_type": "markdown",
   "id": "cfe4fea9",
   "metadata": {},
   "source": [
    "##### Importer les données du fichier liaison.csv dans le dataframe dataliaison"
   ]
  },
  {
   "cell_type": "code",
   "execution_count": 2,
   "id": "0c78b314",
   "metadata": {},
   "outputs": [],
   "source": [
    "dataliaison=pd.read_csv('C:/Users/33768/Documents/DataSets/Projet 5/liaison.csv', sep=',',encoding='UTF-8')  \n"
   ]
  },
  {
   "cell_type": "markdown",
   "id": "1cf7ff2f",
   "metadata": {},
   "source": [
    "##### Afficher les 5 premières lignes pour s assurer que les données ont été chargées correctement"
   ]
  },
  {
   "cell_type": "code",
   "execution_count": 3,
   "id": "5052d536",
   "metadata": {},
   "outputs": [
    {
     "name": "stdout",
     "output_type": "stream",
     "text": [
      "   product_id id_web\n",
      "0        3847  15298\n",
      "1        3849  15296\n",
      "2        3850  15300\n",
      "3        4032  19814\n",
      "4        4039  19815\n"
     ]
    }
   ],
   "source": [
    "print(dataliaison.head()) "
   ]
  },
  {
   "cell_type": "markdown",
   "id": "d962286d",
   "metadata": {},
   "source": [
    "##### Afficher la dimension du dataframe"
   ]
  },
  {
   "cell_type": "code",
   "execution_count": 4,
   "id": "af13bdd0",
   "metadata": {},
   "outputs": [
    {
     "name": "stdout",
     "output_type": "stream",
     "text": [
      "(825, 2)\n"
     ]
    }
   ],
   "source": [
    "print(dataliaison.shape)  "
   ]
  },
  {
   "cell_type": "markdown",
   "id": "3b20b39a",
   "metadata": {},
   "source": [
    "##### Afficher le type des données"
   ]
  },
  {
   "cell_type": "code",
   "execution_count": 5,
   "id": "9e956678",
   "metadata": {},
   "outputs": [
    {
     "name": "stdout",
     "output_type": "stream",
     "text": [
      "product_id     int64\n",
      "id_web        object\n",
      "dtype: object\n"
     ]
    }
   ],
   "source": [
    "print(dataliaison.dtypes)    "
   ]
  },
  {
   "cell_type": "markdown",
   "id": "63c9348d",
   "metadata": {},
   "source": [
    " ### 2.2 - Données erp <a class=\"anchor\" id=\"section_2_2\"></a>"
   ]
  },
  {
   "cell_type": "markdown",
   "id": "3f0cbc12",
   "metadata": {},
   "source": [
    "##### Importer les données du fichier erp.csv dans le dataframe dataErp"
   ]
  },
  {
   "cell_type": "code",
   "execution_count": 6,
   "id": "5080d31c",
   "metadata": {},
   "outputs": [],
   "source": [
    "dataErp=pd.read_csv('C:/Users/33768/Documents/DataSets/Projet 5/erp.csv', sep=',',encoding='UTF-8')"
   ]
  },
  {
   "cell_type": "markdown",
   "id": "ebde71d9",
   "metadata": {},
   "source": [
    "##### Afficher les 5 premières lignes pour s assurer que les données ont été chargées correctement"
   ]
  },
  {
   "cell_type": "code",
   "execution_count": 7,
   "id": "1216ef16",
   "metadata": {},
   "outputs": [
    {
     "name": "stdout",
     "output_type": "stream",
     "text": [
      "   product_id  onsale_web price  stock_quantity stock_status\n",
      "0        3847           1  24,2               0   outofstock\n",
      "1        3849           1  34,3               0   outofstock\n",
      "2        3850           1  20,8               0   outofstock\n",
      "3        4032           1  14,1               0   outofstock\n",
      "4        4039           1    46               0   outofstock\n"
     ]
    }
   ],
   "source": [
    "print(dataErp.head())"
   ]
  },
  {
   "cell_type": "markdown",
   "id": "ec5c0fab",
   "metadata": {},
   "source": [
    "#### Afficher la dimension du dataframe"
   ]
  },
  {
   "cell_type": "code",
   "execution_count": 8,
   "id": "19327600",
   "metadata": {},
   "outputs": [
    {
     "name": "stdout",
     "output_type": "stream",
     "text": [
      "(825, 5)\n"
     ]
    }
   ],
   "source": [
    "print(dataErp.shape)  "
   ]
  },
  {
   "cell_type": "markdown",
   "id": "6513b2c0",
   "metadata": {},
   "source": [
    "##### Afficher le type des données"
   ]
  },
  {
   "cell_type": "code",
   "execution_count": 9,
   "id": "45799378",
   "metadata": {},
   "outputs": [
    {
     "name": "stdout",
     "output_type": "stream",
     "text": [
      "product_id         int64\n",
      "onsale_web         int64\n",
      "price             object\n",
      "stock_quantity     int64\n",
      "stock_status      object\n",
      "dtype: object\n"
     ]
    }
   ],
   "source": [
    "print(dataErp.dtypes)"
   ]
  },
  {
   "cell_type": "markdown",
   "id": "726bf0cb",
   "metadata": {},
   "source": [
    "### 2.3 - Données Web <a class=\"anchor\" id=\"section_2_3\"></a>"
   ]
  },
  {
   "cell_type": "markdown",
   "id": "24c274b9",
   "metadata": {},
   "source": [
    "##### Importer les données du fichier web.csv dans le dataframe dataWeb"
   ]
  },
  {
   "cell_type": "code",
   "execution_count": 10,
   "id": "9b53dd63",
   "metadata": {},
   "outputs": [],
   "source": [
    "dataWeb=pd.read_csv('C:/Users/33768/Documents/DataSets/Projet 5/web.csv', sep=',',encoding='UTF-8') "
   ]
  },
  {
   "cell_type": "markdown",
   "id": "41cd3875",
   "metadata": {},
   "source": [
    "##### Afficher les 5 premières lignes pour s assurer que les données ont été chargées correctement"
   ]
  },
  {
   "cell_type": "code",
   "execution_count": 11,
   "id": "bbb8712d",
   "metadata": {},
   "outputs": [
    {
     "name": "stdout",
     "output_type": "stream",
     "text": [
      "                   sku  virtual  downloadable  rating_count  average_rating  \\\n",
      "0  bon-cadeau-25-euros        0             0             0             0.0   \n",
      "1                15298        0             0             0             0.0   \n",
      "2                15296        0             0             0             0.0   \n",
      "3                15300        0             0             0             0.0   \n",
      "4                19814        0             0             0             0.0   \n",
      "\n",
      "   total_sales tax_status  tax_class  post_author            post_date  ...  \\\n",
      "0         10.0    taxable        NaN          1.0  2018-06-01 13:53:46  ...   \n",
      "1          6.0    taxable        NaN          2.0  2018-02-08 12:58:52  ...   \n",
      "2          0.0    taxable        NaN          2.0  2018-02-08 13:49:41  ...   \n",
      "3          0.0    taxable        NaN          2.0  2018-02-08 14:08:36  ...   \n",
      "4          3.0    taxable        NaN          2.0  2018-02-09 14:01:05  ...   \n",
      "\n",
      "                                           post_name        post_modified  \\\n",
      "0                             bon-cadeau-de-25-euros  2018-06-01 14:13:57   \n",
      "1        pierre-jean-villa-saint-joseph-preface-2018  2019-12-30 09:30:29   \n",
      "2          pierre-jean-villa-saint-joseph-tilde-2017  2019-12-21 09:00:17   \n",
      "3  pierre-jean-villa-croze-hermitage-accroche-coe...  2020-06-26 18:15:03   \n",
      "4                  pierre-jean-villa-igp-gamine-2018  2020-01-04 16:36:01   \n",
      "\n",
      "     post_modified_gmt post_content_filtered post_parent  \\\n",
      "0  2018-06-01 12:13:57                   NaN         0.0   \n",
      "1  2019-12-30 08:30:29                   NaN         0.0   \n",
      "2  2019-12-21 08:00:17                   NaN         0.0   \n",
      "3  2020-06-26 16:15:03                   NaN         0.0   \n",
      "4  2020-01-04 15:36:01                   NaN         0.0   \n",
      "\n",
      "                                                guid menu_order  post_type  \\\n",
      "0  https://www.bottle-neck.fr/?post_type=product&...        0.0    product   \n",
      "1  https://www.bottle-neck.fr/?post_type=product&...        0.0    product   \n",
      "2  https://www.bottle-neck.fr/?post_type=product&...        0.0    product   \n",
      "3  https://www.bottle-neck.fr/?post_type=product&...        0.0    product   \n",
      "4  https://www.bottle-neck.fr/?post_type=product&...        0.0    product   \n",
      "\n",
      "  post_mime_type comment_count  \n",
      "0            NaN           0.0  \n",
      "1            NaN           0.0  \n",
      "2            NaN           0.0  \n",
      "3            NaN           0.0  \n",
      "4            NaN           0.0  \n",
      "\n",
      "[5 rows x 28 columns]\n"
     ]
    }
   ],
   "source": [
    "print(dataWeb.head())"
   ]
  },
  {
   "cell_type": "markdown",
   "id": "3aabf07c",
   "metadata": {},
   "source": [
    "#### Afficher la dimension du dataframe"
   ]
  },
  {
   "cell_type": "code",
   "execution_count": 12,
   "id": "89e23b71",
   "metadata": {},
   "outputs": [
    {
     "name": "stdout",
     "output_type": "stream",
     "text": [
      "(1513, 28)\n"
     ]
    }
   ],
   "source": [
    "print(dataWeb.shape)"
   ]
  },
  {
   "cell_type": "markdown",
   "id": "5a582725",
   "metadata": {},
   "source": [
    "##### Afficher le type des données"
   ]
  },
  {
   "cell_type": "code",
   "execution_count": 13,
   "id": "966b15f8",
   "metadata": {},
   "outputs": [
    {
     "name": "stdout",
     "output_type": "stream",
     "text": [
      "sku                       object\n",
      "virtual                    int64\n",
      "downloadable               int64\n",
      "rating_count               int64\n",
      "average_rating           float64\n",
      "total_sales              float64\n",
      "tax_status                object\n",
      "tax_class                float64\n",
      "post_author              float64\n",
      "post_date                 object\n",
      "post_date_gmt             object\n",
      "post_content             float64\n",
      "post_title                object\n",
      "post_excerpt              object\n",
      "post_status               object\n",
      "comment_status            object\n",
      "ping_status               object\n",
      "post_password            float64\n",
      "post_name                 object\n",
      "post_modified             object\n",
      "post_modified_gmt         object\n",
      "post_content_filtered    float64\n",
      "post_parent              float64\n",
      "guid                      object\n",
      "menu_order               float64\n",
      "post_type                 object\n",
      "post_mime_type            object\n",
      "comment_count            float64\n",
      "dtype: object\n"
     ]
    }
   ],
   "source": [
    "print(dataWeb.dtypes) "
   ]
  },
  {
   "cell_type": "markdown",
   "id": "0a7c3262",
   "metadata": {},
   "source": [
    "## 3 - Qualité des données <a class=\"anchor\" id=\"chapter3\"></a>"
   ]
  },
  {
   "cell_type": "markdown",
   "id": "04945d8d",
   "metadata": {},
   "source": [
    "### 3.1 - Données de correspondance des produits ERP et Web <a class=\"anchor\" id=\"section_3_1\"></a>"
   ]
  },
  {
   "cell_type": "markdown",
   "id": "43f0d9d1",
   "metadata": {},
   "source": [
    "##### Vérifier qu'il n y a pas d entrée manquante (NaN)\n",
    " "
   ]
  },
  {
   "cell_type": "code",
   "execution_count": 14,
   "id": "8d9ecb7f",
   "metadata": {},
   "outputs": [
    {
     "data": {
      "text/plain": [
       "product_id     0\n",
       "id_web        91\n",
       "dtype: int64"
      ]
     },
     "execution_count": 14,
     "metadata": {},
     "output_type": "execute_result"
    }
   ],
   "source": [
    "dataliaison.isna().sum()"
   ]
  },
  {
   "cell_type": "markdown",
   "id": "a3197b86",
   "metadata": {},
   "source": [
    "##### Vérifier la présence des doublons dans le dataframe dataliaison"
   ]
  },
  {
   "cell_type": "code",
   "execution_count": 15,
   "id": "bafd6084",
   "metadata": {},
   "outputs": [
    {
     "name": "stdout",
     "output_type": "stream",
     "text": [
      "0\n"
     ]
    }
   ],
   "source": [
    "print(dataliaison.duplicated().sum())"
   ]
  },
  {
   "cell_type": "markdown",
   "id": "9637a69d",
   "metadata": {},
   "source": [
    "##### Renommer l'id_web en sku pour corriger l erreur de Sylvie"
   ]
  },
  {
   "cell_type": "code",
   "execution_count": 16,
   "id": "e091dbdd",
   "metadata": {},
   "outputs": [],
   "source": [
    "dataliaison.rename(columns={'id_web':'sku'}, inplace=True)"
   ]
  },
  {
   "cell_type": "markdown",
   "id": "6279dc8c",
   "metadata": {},
   "source": [
    "##### Afficher le dataframe pour s'assurer que le renommage de la colonne a été pris en compte"
   ]
  },
  {
   "cell_type": "code",
   "execution_count": 17,
   "id": "75784ef4",
   "metadata": {},
   "outputs": [
    {
     "data": {
      "text/html": [
       "<div>\n",
       "<style scoped>\n",
       "    .dataframe tbody tr th:only-of-type {\n",
       "        vertical-align: middle;\n",
       "    }\n",
       "\n",
       "    .dataframe tbody tr th {\n",
       "        vertical-align: top;\n",
       "    }\n",
       "\n",
       "    .dataframe thead th {\n",
       "        text-align: right;\n",
       "    }\n",
       "</style>\n",
       "<table border=\"1\" class=\"dataframe\">\n",
       "  <thead>\n",
       "    <tr style=\"text-align: right;\">\n",
       "      <th></th>\n",
       "      <th>product_id</th>\n",
       "      <th>sku</th>\n",
       "    </tr>\n",
       "  </thead>\n",
       "  <tbody>\n",
       "    <tr>\n",
       "      <th>0</th>\n",
       "      <td>3847</td>\n",
       "      <td>15298</td>\n",
       "    </tr>\n",
       "    <tr>\n",
       "      <th>1</th>\n",
       "      <td>3849</td>\n",
       "      <td>15296</td>\n",
       "    </tr>\n",
       "    <tr>\n",
       "      <th>2</th>\n",
       "      <td>3850</td>\n",
       "      <td>15300</td>\n",
       "    </tr>\n",
       "    <tr>\n",
       "      <th>3</th>\n",
       "      <td>4032</td>\n",
       "      <td>19814</td>\n",
       "    </tr>\n",
       "    <tr>\n",
       "      <th>4</th>\n",
       "      <td>4039</td>\n",
       "      <td>19815</td>\n",
       "    </tr>\n",
       "    <tr>\n",
       "      <th>...</th>\n",
       "      <td>...</td>\n",
       "      <td>...</td>\n",
       "    </tr>\n",
       "    <tr>\n",
       "      <th>820</th>\n",
       "      <td>7203</td>\n",
       "      <td>NaN</td>\n",
       "    </tr>\n",
       "    <tr>\n",
       "      <th>821</th>\n",
       "      <td>7204</td>\n",
       "      <td>NaN</td>\n",
       "    </tr>\n",
       "    <tr>\n",
       "      <th>822</th>\n",
       "      <td>7247</td>\n",
       "      <td>13127-1</td>\n",
       "    </tr>\n",
       "    <tr>\n",
       "      <th>823</th>\n",
       "      <td>7329</td>\n",
       "      <td>14680-1</td>\n",
       "    </tr>\n",
       "    <tr>\n",
       "      <th>824</th>\n",
       "      <td>7338</td>\n",
       "      <td>16230</td>\n",
       "    </tr>\n",
       "  </tbody>\n",
       "</table>\n",
       "<p>825 rows × 2 columns</p>\n",
       "</div>"
      ],
      "text/plain": [
       "     product_id      sku\n",
       "0          3847    15298\n",
       "1          3849    15296\n",
       "2          3850    15300\n",
       "3          4032    19814\n",
       "4          4039    19815\n",
       "..          ...      ...\n",
       "820        7203      NaN\n",
       "821        7204      NaN\n",
       "822        7247  13127-1\n",
       "823        7329  14680-1\n",
       "824        7338    16230\n",
       "\n",
       "[825 rows x 2 columns]"
      ]
     },
     "execution_count": 17,
     "metadata": {},
     "output_type": "execute_result"
    }
   ],
   "source": [
    "dataliaison"
   ]
  },
  {
   "cell_type": "markdown",
   "id": "ba744905",
   "metadata": {},
   "source": [
    "### 3.2 - Données erp <a class=\"anchor\" id=\"section_3_2\"></a>"
   ]
  },
  {
   "cell_type": "markdown",
   "id": "5b5befe7",
   "metadata": {},
   "source": [
    "##### Vérifier qu'il n y a pas d entrée manquante (NaN)"
   ]
  },
  {
   "cell_type": "code",
   "execution_count": 18,
   "id": "ecb6038d",
   "metadata": {},
   "outputs": [
    {
     "name": "stdout",
     "output_type": "stream",
     "text": [
      "product_id        0\n",
      "onsale_web        0\n",
      "price             0\n",
      "stock_quantity    0\n",
      "stock_status      0\n",
      "dtype: int64\n"
     ]
    }
   ],
   "source": [
    "print(dataErp.isna().sum())"
   ]
  },
  {
   "cell_type": "markdown",
   "id": "8d2883f4",
   "metadata": {},
   "source": [
    "##### Vérifier la présence des doublons et l'unicité de la clé primaire"
   ]
  },
  {
   "cell_type": "code",
   "execution_count": 19,
   "id": "65df588b",
   "metadata": {},
   "outputs": [
    {
     "name": "stdout",
     "output_type": "stream",
     "text": [
      "0\n"
     ]
    }
   ],
   "source": [
    "print(dataErp.duplicated(subset=['product_id']).sum())"
   ]
  },
  {
   "cell_type": "markdown",
   "id": "cf194932",
   "metadata": {},
   "source": [
    "##### Vérifier que tous les id des produits présents dans l'erp sont présents dans le fichier de liaison"
   ]
  },
  {
   "cell_type": "code",
   "execution_count": 20,
   "id": "0b848ca3",
   "metadata": {},
   "outputs": [
    {
     "name": "stdout",
     "output_type": "stream",
     "text": [
      "True\n"
     ]
    }
   ],
   "source": [
    "print(dataErp.product_id.isin(dataliaison.product_id).all())"
   ]
  },
  {
   "cell_type": "markdown",
   "id": "fec00a81",
   "metadata": {},
   "source": [
    "##### Convertir les données de la colonne price (objects) en string"
   ]
  },
  {
   "cell_type": "code",
   "execution_count": 21,
   "id": "faabb27f",
   "metadata": {},
   "outputs": [],
   "source": [
    "dataErp[\"price\"] = dataErp[\"price\"] . str . replace ( ',' ,  '.' ) "
   ]
  },
  {
   "cell_type": "markdown",
   "id": "af7a9889",
   "metadata": {},
   "source": [
    "##### Convertir les données de la colonne price (string) en float"
   ]
  },
  {
   "cell_type": "code",
   "execution_count": 22,
   "id": "d5f42f5b",
   "metadata": {},
   "outputs": [],
   "source": [
    "dataErp[\"price\"]=dataErp[\"price\"].astype(float) "
   ]
  },
  {
   "cell_type": "markdown",
   "id": "54e87d69",
   "metadata": {},
   "source": [
    "##### Afficher le type des données après conversion"
   ]
  },
  {
   "cell_type": "code",
   "execution_count": 23,
   "id": "c41b6941",
   "metadata": {},
   "outputs": [
    {
     "name": "stdout",
     "output_type": "stream",
     "text": [
      "product_id          int64\n",
      "onsale_web          int64\n",
      "price             float64\n",
      "stock_quantity      int64\n",
      "stock_status       object\n",
      "dtype: object\n"
     ]
    }
   ],
   "source": [
    "print(dataErp.dtypes)"
   ]
  },
  {
   "cell_type": "markdown",
   "id": "833523c5",
   "metadata": {},
   "source": [
    "### 3.3 - Données web <a class=\"anchor\" id=\"section_3_3\"></a>"
   ]
  },
  {
   "cell_type": "markdown",
   "id": "f7a8fbfd",
   "metadata": {},
   "source": [
    "##### Vérifier la présence d entrée manquante (NaN)"
   ]
  },
  {
   "cell_type": "code",
   "execution_count": 24,
   "id": "2a61291d",
   "metadata": {},
   "outputs": [
    {
     "data": {
      "text/plain": [
       "sku                        85\n",
       "virtual                     0\n",
       "downloadable                0\n",
       "rating_count                0\n",
       "average_rating             83\n",
       "total_sales                83\n",
       "tax_status                797\n",
       "tax_class                1513\n",
       "post_author                83\n",
       "post_date                  83\n",
       "post_date_gmt              83\n",
       "post_content             1513\n",
       "post_title                 83\n",
       "post_excerpt              797\n",
       "post_status                83\n",
       "comment_status             83\n",
       "ping_status                83\n",
       "post_password            1513\n",
       "post_name                  83\n",
       "post_modified              83\n",
       "post_modified_gmt          83\n",
       "post_content_filtered    1513\n",
       "post_parent                83\n",
       "guid                       83\n",
       "menu_order                 83\n",
       "post_type                  83\n",
       "post_mime_type            799\n",
       "comment_count              83\n",
       "dtype: int64"
      ]
     },
     "execution_count": 24,
     "metadata": {},
     "output_type": "execute_result"
    }
   ],
   "source": [
    "dataWeb.isna().sum()"
   ]
  },
  {
   "cell_type": "markdown",
   "id": "c2416803",
   "metadata": {},
   "source": [
    "##### Vérifier la présence des doublons et l'unicité de la clé primaire"
   ]
  },
  {
   "cell_type": "code",
   "execution_count": 25,
   "id": "0d0dc553",
   "metadata": {},
   "outputs": [
    {
     "data": {
      "text/plain": [
       "798"
      ]
     },
     "execution_count": 25,
     "metadata": {},
     "output_type": "execute_result"
    }
   ],
   "source": [
    "dataWeb.duplicated(subset=['sku']).sum()"
   ]
  },
  {
   "cell_type": "markdown",
   "id": "bafd1d5d",
   "metadata": {},
   "source": [
    "##### Suppression des doublons du data frame dataWeb. Ligne avec post_type=attachment"
   ]
  },
  {
   "cell_type": "code",
   "execution_count": 26,
   "id": "5a3a2026",
   "metadata": {},
   "outputs": [],
   "source": [
    "dataWeb=dataWeb.drop_duplicates('sku',keep = 'first') "
   ]
  },
  {
   "cell_type": "markdown",
   "id": "2facf914",
   "metadata": {},
   "source": [
    "##### Afficher la dimension du dataframe afin de connaitre le nombre de ligne restant après la suppression des doublons"
   ]
  },
  {
   "cell_type": "code",
   "execution_count": 27,
   "id": "580dd7c5",
   "metadata": {},
   "outputs": [
    {
     "name": "stdout",
     "output_type": "stream",
     "text": [
      "(715, 28)\n"
     ]
    }
   ],
   "source": [
    "print(dataWeb.shape)"
   ]
  },
  {
   "cell_type": "markdown",
   "id": "263f6edf",
   "metadata": {},
   "source": [
    "##### Vérifier la présence d'entrées manquantes (NaN)"
   ]
  },
  {
   "cell_type": "code",
   "execution_count": 28,
   "id": "98f36c67",
   "metadata": {},
   "outputs": [
    {
     "data": {
      "text/plain": [
       "sku                        1\n",
       "virtual                    0\n",
       "downloadable               0\n",
       "rating_count               0\n",
       "average_rating             1\n",
       "total_sales                1\n",
       "tax_status                 1\n",
       "tax_class                715\n",
       "post_author                1\n",
       "post_date                  1\n",
       "post_date_gmt              1\n",
       "post_content             715\n",
       "post_title                 1\n",
       "post_excerpt               1\n",
       "post_status                1\n",
       "comment_status             1\n",
       "ping_status                1\n",
       "post_password            715\n",
       "post_name                  1\n",
       "post_modified              1\n",
       "post_modified_gmt          1\n",
       "post_content_filtered    715\n",
       "post_parent                1\n",
       "guid                       1\n",
       "menu_order                 1\n",
       "post_type                  1\n",
       "post_mime_type           715\n",
       "comment_count              1\n",
       "dtype: int64"
      ]
     },
     "execution_count": 28,
     "metadata": {},
     "output_type": "execute_result"
    }
   ],
   "source": [
    "dataWeb.isna().sum()"
   ]
  },
  {
   "cell_type": "markdown",
   "id": "2786fca2",
   "metadata": {},
   "source": [
    "##### Suppression de la ligne de données avec le SKU NaN"
   ]
  },
  {
   "cell_type": "code",
   "execution_count": 29,
   "id": "00e02711",
   "metadata": {},
   "outputs": [],
   "source": [
    "dataWeb=dataWeb.dropna(subset=['sku']) "
   ]
  },
  {
   "cell_type": "markdown",
   "id": "78bfac04",
   "metadata": {},
   "source": [
    "##### Afficher la dimension du dataframe afin de connaitre le nombre de ligne restant après la suppression de la ligne avec sku NaN"
   ]
  },
  {
   "cell_type": "code",
   "execution_count": 30,
   "id": "4e8f4bee",
   "metadata": {},
   "outputs": [
    {
     "name": "stdout",
     "output_type": "stream",
     "text": [
      "(714, 28)\n"
     ]
    }
   ],
   "source": [
    "print(dataWeb.shape)"
   ]
  },
  {
   "cell_type": "markdown",
   "id": "978ad41e",
   "metadata": {},
   "source": [
    "##### Vérifier que tous les id des produits vendus sur le web sont présents dans le fichier de liaison"
   ]
  },
  {
   "cell_type": "code",
   "execution_count": 31,
   "id": "7846980e",
   "metadata": {},
   "outputs": [
    {
     "data": {
      "text/plain": [
       "True"
      ]
     },
     "execution_count": 31,
     "metadata": {},
     "output_type": "execute_result"
    }
   ],
   "source": [
    "dataWeb.sku.isin(dataliaison.sku).all()"
   ]
  },
  {
   "cell_type": "markdown",
   "id": "67546cef",
   "metadata": {},
   "source": [
    "##### Remplacer les valeurs NaN de la colonne total_sales par 0"
   ]
  },
  {
   "cell_type": "code",
   "execution_count": 32,
   "id": "2a39b733",
   "metadata": {},
   "outputs": [],
   "source": [
    "dataWeb['total_sales'].fillna(0, inplace=True)"
   ]
  },
  {
   "cell_type": "markdown",
   "id": "99669b3a",
   "metadata": {},
   "source": [
    "##### Remplacer les valeurs NaN de la colonne average_rating par 0"
   ]
  },
  {
   "cell_type": "code",
   "execution_count": 33,
   "id": "659490c2",
   "metadata": {},
   "outputs": [],
   "source": [
    "dataWeb['average_rating'].fillna(0, inplace=True)"
   ]
  },
  {
   "cell_type": "markdown",
   "id": "a86dd3c8",
   "metadata": {},
   "source": [
    "##### Vérifier qu'il n'existe plus de valeurs NaN sur les colonnes traitées"
   ]
  },
  {
   "cell_type": "code",
   "execution_count": 34,
   "id": "7c45d5ba",
   "metadata": {},
   "outputs": [
    {
     "data": {
      "text/plain": [
       "sku                        0\n",
       "virtual                    0\n",
       "downloadable               0\n",
       "rating_count               0\n",
       "average_rating             0\n",
       "total_sales                0\n",
       "tax_status                 0\n",
       "tax_class                714\n",
       "post_author                0\n",
       "post_date                  0\n",
       "post_date_gmt              0\n",
       "post_content             714\n",
       "post_title                 0\n",
       "post_excerpt               0\n",
       "post_status                0\n",
       "comment_status             0\n",
       "ping_status                0\n",
       "post_password            714\n",
       "post_name                  0\n",
       "post_modified              0\n",
       "post_modified_gmt          0\n",
       "post_content_filtered    714\n",
       "post_parent                0\n",
       "guid                       0\n",
       "menu_order                 0\n",
       "post_type                  0\n",
       "post_mime_type           714\n",
       "comment_count              0\n",
       "dtype: int64"
      ]
     },
     "execution_count": 34,
     "metadata": {},
     "output_type": "execute_result"
    }
   ],
   "source": [
    "dataWeb.isna().sum()"
   ]
  },
  {
   "cell_type": "markdown",
   "id": "63d18197",
   "metadata": {},
   "source": [
    "## 4 - Analyses des données <a class=\"anchor\" id=\"chapter4\"></a>"
   ]
  },
  {
   "cell_type": "markdown",
   "id": "6e0d298a",
   "metadata": {},
   "source": [
    "### 4.1 - Rapprochement des exports Erp et web <a class=\"anchor\" id=\"section_4_1\"></a>"
   ]
  },
  {
   "cell_type": "markdown",
   "id": "1f80a61a",
   "metadata": {},
   "source": [
    "##### Jointure des données Erp et liaison"
   ]
  },
  {
   "cell_type": "code",
   "execution_count": 35,
   "id": "18c771d7",
   "metadata": {},
   "outputs": [],
   "source": [
    "dataErpLiaison = pd.merge(dataErp, dataliaison, on=['product_id','product_id']) "
   ]
  },
  {
   "cell_type": "markdown",
   "id": "ada8f112",
   "metadata": {},
   "source": [
    "##### Jointure des données ERP, liaison et web"
   ]
  },
  {
   "cell_type": "code",
   "execution_count": 36,
   "id": "a3dfdb41",
   "metadata": {},
   "outputs": [],
   "source": [
    "dataErpLiaisonWeb = pd.merge(dataErpLiaison, dataWeb, on=['sku','sku'])"
   ]
  },
  {
   "cell_type": "markdown",
   "id": "f506964d",
   "metadata": {},
   "source": [
    "##### Afficher les données après le rapprochement des exports erp et web"
   ]
  },
  {
   "cell_type": "code",
   "execution_count": 37,
   "id": "b9583ccd",
   "metadata": {},
   "outputs": [
    {
     "data": {
      "text/html": [
       "<div>\n",
       "<style scoped>\n",
       "    .dataframe tbody tr th:only-of-type {\n",
       "        vertical-align: middle;\n",
       "    }\n",
       "\n",
       "    .dataframe tbody tr th {\n",
       "        vertical-align: top;\n",
       "    }\n",
       "\n",
       "    .dataframe thead th {\n",
       "        text-align: right;\n",
       "    }\n",
       "</style>\n",
       "<table border=\"1\" class=\"dataframe\">\n",
       "  <thead>\n",
       "    <tr style=\"text-align: right;\">\n",
       "      <th></th>\n",
       "      <th>product_id</th>\n",
       "      <th>sku</th>\n",
       "      <th>onsale_web</th>\n",
       "      <th>price</th>\n",
       "      <th>stock_quantity</th>\n",
       "      <th>total_sales</th>\n",
       "    </tr>\n",
       "  </thead>\n",
       "  <tbody>\n",
       "    <tr>\n",
       "      <th>0</th>\n",
       "      <td>3847</td>\n",
       "      <td>15298</td>\n",
       "      <td>1</td>\n",
       "      <td>24.2</td>\n",
       "      <td>0</td>\n",
       "      <td>6.0</td>\n",
       "    </tr>\n",
       "    <tr>\n",
       "      <th>1</th>\n",
       "      <td>3849</td>\n",
       "      <td>15296</td>\n",
       "      <td>1</td>\n",
       "      <td>34.3</td>\n",
       "      <td>0</td>\n",
       "      <td>0.0</td>\n",
       "    </tr>\n",
       "    <tr>\n",
       "      <th>2</th>\n",
       "      <td>3850</td>\n",
       "      <td>15300</td>\n",
       "      <td>1</td>\n",
       "      <td>20.8</td>\n",
       "      <td>0</td>\n",
       "      <td>0.0</td>\n",
       "    </tr>\n",
       "    <tr>\n",
       "      <th>3</th>\n",
       "      <td>4032</td>\n",
       "      <td>19814</td>\n",
       "      <td>1</td>\n",
       "      <td>14.1</td>\n",
       "      <td>0</td>\n",
       "      <td>3.0</td>\n",
       "    </tr>\n",
       "    <tr>\n",
       "      <th>4</th>\n",
       "      <td>4039</td>\n",
       "      <td>19815</td>\n",
       "      <td>1</td>\n",
       "      <td>46.0</td>\n",
       "      <td>0</td>\n",
       "      <td>0.0</td>\n",
       "    </tr>\n",
       "    <tr>\n",
       "      <th>...</th>\n",
       "      <td>...</td>\n",
       "      <td>...</td>\n",
       "      <td>...</td>\n",
       "      <td>...</td>\n",
       "      <td>...</td>\n",
       "      <td>...</td>\n",
       "    </tr>\n",
       "    <tr>\n",
       "      <th>709</th>\n",
       "      <td>6930</td>\n",
       "      <td>16135</td>\n",
       "      <td>1</td>\n",
       "      <td>8.4</td>\n",
       "      <td>83</td>\n",
       "      <td>5.0</td>\n",
       "    </tr>\n",
       "    <tr>\n",
       "      <th>710</th>\n",
       "      <td>7023</td>\n",
       "      <td>15891</td>\n",
       "      <td>1</td>\n",
       "      <td>27.5</td>\n",
       "      <td>15</td>\n",
       "      <td>0.0</td>\n",
       "    </tr>\n",
       "    <tr>\n",
       "      <th>711</th>\n",
       "      <td>7025</td>\n",
       "      <td>15887</td>\n",
       "      <td>1</td>\n",
       "      <td>69.0</td>\n",
       "      <td>2</td>\n",
       "      <td>0.0</td>\n",
       "    </tr>\n",
       "    <tr>\n",
       "      <th>712</th>\n",
       "      <td>7247</td>\n",
       "      <td>13127-1</td>\n",
       "      <td>1</td>\n",
       "      <td>54.8</td>\n",
       "      <td>23</td>\n",
       "      <td>0.0</td>\n",
       "    </tr>\n",
       "    <tr>\n",
       "      <th>713</th>\n",
       "      <td>7338</td>\n",
       "      <td>16230</td>\n",
       "      <td>1</td>\n",
       "      <td>16.3</td>\n",
       "      <td>45</td>\n",
       "      <td>0.0</td>\n",
       "    </tr>\n",
       "  </tbody>\n",
       "</table>\n",
       "<p>714 rows × 6 columns</p>\n",
       "</div>"
      ],
      "text/plain": [
       "     product_id      sku  onsale_web  price  stock_quantity  total_sales\n",
       "0          3847    15298           1   24.2               0          6.0\n",
       "1          3849    15296           1   34.3               0          0.0\n",
       "2          3850    15300           1   20.8               0          0.0\n",
       "3          4032    19814           1   14.1               0          3.0\n",
       "4          4039    19815           1   46.0               0          0.0\n",
       "..          ...      ...         ...    ...             ...          ...\n",
       "709        6930    16135           1    8.4              83          5.0\n",
       "710        7023    15891           1   27.5              15          0.0\n",
       "711        7025    15887           1   69.0               2          0.0\n",
       "712        7247  13127-1           1   54.8              23          0.0\n",
       "713        7338    16230           1   16.3              45          0.0\n",
       "\n",
       "[714 rows x 6 columns]"
      ]
     },
     "execution_count": 37,
     "metadata": {},
     "output_type": "execute_result"
    }
   ],
   "source": [
    "dataErpLiaisonWeb[['product_id','sku','onsale_web','price','stock_quantity','total_sales']]   "
   ]
  },
  {
   "cell_type": "markdown",
   "id": "afd812d0",
   "metadata": {},
   "source": [
    "##### Interprétations"
   ]
  },
  {
   "cell_type": "code",
   "execution_count": 38,
   "id": "0fdd3da4",
   "metadata": {},
   "outputs": [
    {
     "name": "stdout",
     "output_type": "stream",
     "text": [
      "Après le rapprochement, nous avons 714 produits à analyser.\n"
     ]
    }
   ],
   "source": [
    "print('Après le rapprochement, nous avons 714 produits à analyser.')"
   ]
  },
  {
   "cell_type": "markdown",
   "id": "1ad8dbc8",
   "metadata": {},
   "source": [
    "### 4.2 - Calcul du chiffre d'affaire par produit <a class=\"anchor\" id=\"section_4_2\"></a>"
   ]
  },
  {
   "cell_type": "markdown",
   "id": "44a45542",
   "metadata": {},
   "source": [
    "##### Calculer le CA par produit"
   ]
  },
  {
   "cell_type": "code",
   "execution_count": 39,
   "id": "1a471e42",
   "metadata": {},
   "outputs": [],
   "source": [
    "dataErpLiaisonWeb['CA Produit']=dataErpLiaisonWeb['price']*dataErpLiaisonWeb['total_sales']"
   ]
  },
  {
   "cell_type": "markdown",
   "id": "926711a9",
   "metadata": {},
   "source": [
    "##### Afficher le CA par produit"
   ]
  },
  {
   "cell_type": "code",
   "execution_count": 40,
   "id": "1a50c830",
   "metadata": {},
   "outputs": [
    {
     "data": {
      "text/html": [
       "<div>\n",
       "<style scoped>\n",
       "    .dataframe tbody tr th:only-of-type {\n",
       "        vertical-align: middle;\n",
       "    }\n",
       "\n",
       "    .dataframe tbody tr th {\n",
       "        vertical-align: top;\n",
       "    }\n",
       "\n",
       "    .dataframe thead th {\n",
       "        text-align: right;\n",
       "    }\n",
       "</style>\n",
       "<table border=\"1\" class=\"dataframe\">\n",
       "  <thead>\n",
       "    <tr style=\"text-align: right;\">\n",
       "      <th></th>\n",
       "      <th>product_id</th>\n",
       "      <th>sku</th>\n",
       "      <th>price</th>\n",
       "      <th>stock_quantity</th>\n",
       "      <th>total_sales</th>\n",
       "      <th>CA Produit</th>\n",
       "    </tr>\n",
       "  </thead>\n",
       "  <tbody>\n",
       "    <tr>\n",
       "      <th>0</th>\n",
       "      <td>3847</td>\n",
       "      <td>15298</td>\n",
       "      <td>24.2</td>\n",
       "      <td>0</td>\n",
       "      <td>6.0</td>\n",
       "      <td>145.2</td>\n",
       "    </tr>\n",
       "    <tr>\n",
       "      <th>1</th>\n",
       "      <td>3849</td>\n",
       "      <td>15296</td>\n",
       "      <td>34.3</td>\n",
       "      <td>0</td>\n",
       "      <td>0.0</td>\n",
       "      <td>0.0</td>\n",
       "    </tr>\n",
       "    <tr>\n",
       "      <th>2</th>\n",
       "      <td>3850</td>\n",
       "      <td>15300</td>\n",
       "      <td>20.8</td>\n",
       "      <td>0</td>\n",
       "      <td>0.0</td>\n",
       "      <td>0.0</td>\n",
       "    </tr>\n",
       "    <tr>\n",
       "      <th>3</th>\n",
       "      <td>4032</td>\n",
       "      <td>19814</td>\n",
       "      <td>14.1</td>\n",
       "      <td>0</td>\n",
       "      <td>3.0</td>\n",
       "      <td>42.3</td>\n",
       "    </tr>\n",
       "    <tr>\n",
       "      <th>4</th>\n",
       "      <td>4039</td>\n",
       "      <td>19815</td>\n",
       "      <td>46.0</td>\n",
       "      <td>0</td>\n",
       "      <td>0.0</td>\n",
       "      <td>0.0</td>\n",
       "    </tr>\n",
       "    <tr>\n",
       "      <th>...</th>\n",
       "      <td>...</td>\n",
       "      <td>...</td>\n",
       "      <td>...</td>\n",
       "      <td>...</td>\n",
       "      <td>...</td>\n",
       "      <td>...</td>\n",
       "    </tr>\n",
       "    <tr>\n",
       "      <th>709</th>\n",
       "      <td>6930</td>\n",
       "      <td>16135</td>\n",
       "      <td>8.4</td>\n",
       "      <td>83</td>\n",
       "      <td>5.0</td>\n",
       "      <td>42.0</td>\n",
       "    </tr>\n",
       "    <tr>\n",
       "      <th>710</th>\n",
       "      <td>7023</td>\n",
       "      <td>15891</td>\n",
       "      <td>27.5</td>\n",
       "      <td>15</td>\n",
       "      <td>0.0</td>\n",
       "      <td>0.0</td>\n",
       "    </tr>\n",
       "    <tr>\n",
       "      <th>711</th>\n",
       "      <td>7025</td>\n",
       "      <td>15887</td>\n",
       "      <td>69.0</td>\n",
       "      <td>2</td>\n",
       "      <td>0.0</td>\n",
       "      <td>0.0</td>\n",
       "    </tr>\n",
       "    <tr>\n",
       "      <th>712</th>\n",
       "      <td>7247</td>\n",
       "      <td>13127-1</td>\n",
       "      <td>54.8</td>\n",
       "      <td>23</td>\n",
       "      <td>0.0</td>\n",
       "      <td>0.0</td>\n",
       "    </tr>\n",
       "    <tr>\n",
       "      <th>713</th>\n",
       "      <td>7338</td>\n",
       "      <td>16230</td>\n",
       "      <td>16.3</td>\n",
       "      <td>45</td>\n",
       "      <td>0.0</td>\n",
       "      <td>0.0</td>\n",
       "    </tr>\n",
       "  </tbody>\n",
       "</table>\n",
       "<p>714 rows × 6 columns</p>\n",
       "</div>"
      ],
      "text/plain": [
       "     product_id      sku  price  stock_quantity  total_sales  CA Produit\n",
       "0          3847    15298   24.2               0          6.0       145.2\n",
       "1          3849    15296   34.3               0          0.0         0.0\n",
       "2          3850    15300   20.8               0          0.0         0.0\n",
       "3          4032    19814   14.1               0          3.0        42.3\n",
       "4          4039    19815   46.0               0          0.0         0.0\n",
       "..          ...      ...    ...             ...          ...         ...\n",
       "709        6930    16135    8.4              83          5.0        42.0\n",
       "710        7023    15891   27.5              15          0.0         0.0\n",
       "711        7025    15887   69.0               2          0.0         0.0\n",
       "712        7247  13127-1   54.8              23          0.0         0.0\n",
       "713        7338    16230   16.3              45          0.0         0.0\n",
       "\n",
       "[714 rows x 6 columns]"
      ]
     },
     "execution_count": 40,
     "metadata": {},
     "output_type": "execute_result"
    }
   ],
   "source": [
    "dataErpLiaisonWeb[['product_id','sku','price','stock_quantity','total_sales','CA Produit']]"
   ]
  },
  {
   "cell_type": "markdown",
   "id": "5a2c4e22",
   "metadata": {},
   "source": [
    "##### Interprétations"
   ]
  },
  {
   "cell_type": "code",
   "execution_count": 41,
   "id": "9f839727",
   "metadata": {},
   "outputs": [
    {
     "name": "stdout",
     "output_type": "stream",
     "text": [
      "Tous les produits ne génèrent pas de chiffre d'affaire.\n"
     ]
    }
   ],
   "source": [
    "print('Tous les produits ne génèrent pas de chiffre d\\'affaire.')"
   ]
  },
  {
   "cell_type": "markdown",
   "id": "5ae40f61",
   "metadata": {},
   "source": [
    "### 4.3 - Calcul du chiffre d'affaire total réalisé en ligne <a class=\"anchor\" id=\"section_4_3\"></a>"
   ]
  },
  {
   "cell_type": "markdown",
   "id": "1d6b000e",
   "metadata": {},
   "source": [
    "##### Calculer le CA total"
   ]
  },
  {
   "cell_type": "code",
   "execution_count": 42,
   "id": "eb1bbb25",
   "metadata": {},
   "outputs": [],
   "source": [
    "CATotal=dataErpLiaisonWeb['CA Produit'].sum() "
   ]
  },
  {
   "cell_type": "markdown",
   "id": "ffe51a7f",
   "metadata": {},
   "source": [
    "##### Afficher le CA total"
   ]
  },
  {
   "cell_type": "code",
   "execution_count": 43,
   "id": "2778bffb",
   "metadata": {},
   "outputs": [
    {
     "name": "stdout",
     "output_type": "stream",
     "text": [
      "Le CA Total est de 70568.6\n"
     ]
    }
   ],
   "source": [
    "print('Le CA Total est de '+ str(CATotal))"
   ]
  },
  {
   "cell_type": "markdown",
   "id": "c35f88eb",
   "metadata": {},
   "source": [
    "### 4.4 - Étude de la répartition du nombre de bouteilles vendu par catégorie de prix (analyse univariée) <a class=\"anchor\" id=\"section_4_4\"></a>"
   ]
  },
  {
   "cell_type": "markdown",
   "id": "c7f1a870",
   "metadata": {},
   "source": [
    "##### Création d'un histogramme"
   ]
  },
  {
   "cell_type": "code",
   "execution_count": 44,
   "id": "c3ae1879",
   "metadata": {},
   "outputs": [
    {
     "data": {
      "image/png": "[encoded data removed]",
      "text/plain": [
       "<Figure size 720x432 with 1 Axes>"
      ]
     },
     "metadata": {
      "needs_background": "light"
     },
     "output_type": "display_data"
    }
   ],
   "source": [
    "plt.figure(figsize=(10,6))\n",
    "dataErpLiaisonWeb['price'].hist(density=False, bins=20)\n",
    "plt.xticks([10*i for i in range(24)])\n",
    "plt.ylabel('Nombre de bouteilles vendu', fontsize=12, fontweight='bold')\n",
    "plt.xlabel('Prix de vente', fontsize=12, fontweight='bold')\n",
    "plt.title('Répartition du nombre de bouteilles vendu par catégorie de prix', fontsize=14, fontweight='bold')\n",
    "plt.show()"
   ]
  },
  {
   "cell_type": "markdown",
   "id": "db17a0df",
   "metadata": {},
   "source": [
    "##### Interprétations"
   ]
  },
  {
   "cell_type": "code",
   "execution_count": 45,
   "id": "98d80610",
   "metadata": {},
   "outputs": [
    {
     "name": "stdout",
     "output_type": "stream",
     "text": [
      "Quand le prix augmente, le nombre de vente diminue. A partir d'un prix de 84, les ventes subissent une baisse accrue. Les prix réalisant le plus de vente sont compris entre 5,20 à 10,5.\n"
     ]
    }
   ],
   "source": [
    "print('Quand le prix augmente, le nombre de vente diminue. A partir d\\'un prix de 84, les ventes subissent une baisse accrue. Les prix réalisant le plus de vente sont compris entre 5,20 à 10,5.')"
   ]
  },
  {
   "cell_type": "code",
   "execution_count": 46,
   "id": "39550895",
   "metadata": {},
   "outputs": [],
   "source": [
    "### 4.5 - Analyse de la variable prix afin de détecter d’éventuels outliers"
   ]
  },
  {
   "cell_type": "markdown",
   "id": "fe7f9fa5",
   "metadata": {},
   "source": [
    "##### Calculer le premier quartile"
   ]
  },
  {
   "cell_type": "code",
   "execution_count": 47,
   "id": "7941a26f",
   "metadata": {},
   "outputs": [],
   "source": [
    "Q1=dataErpLiaisonWeb['price'].quantile(0.25)"
   ]
  },
  {
   "cell_type": "markdown",
   "id": "c3facea0",
   "metadata": {},
   "source": [
    "##### Afficher le premier quartile"
   ]
  },
  {
   "cell_type": "code",
   "execution_count": 48,
   "id": "01f33c2a",
   "metadata": {},
   "outputs": [
    {
     "name": "stdout",
     "output_type": "stream",
     "text": [
      "Premier quartile :  14.1\n"
     ]
    }
   ],
   "source": [
    "print('Premier quartile : ' + ' '+ str(Q1))"
   ]
  },
  {
   "cell_type": "markdown",
   "id": "853cdc83",
   "metadata": {},
   "source": [
    "##### Calculer le troisième quartile"
   ]
  },
  {
   "cell_type": "code",
   "execution_count": 49,
   "id": "049196b0",
   "metadata": {},
   "outputs": [],
   "source": [
    "Q3=dataErpLiaisonWeb['price'].quantile(0.75)"
   ]
  },
  {
   "cell_type": "markdown",
   "id": "eb011185",
   "metadata": {},
   "source": [
    "##### Afficher le troisième quartile"
   ]
  },
  {
   "cell_type": "code",
   "execution_count": 50,
   "id": "1380ac8d",
   "metadata": {},
   "outputs": [
    {
     "name": "stdout",
     "output_type": "stream",
     "text": [
      "Troisième quartile :  42.175000000000004\n"
     ]
    }
   ],
   "source": [
    "print('Troisième quartile : ' + ' '+ str(Q3))"
   ]
  },
  {
   "cell_type": "markdown",
   "id": "225743a4",
   "metadata": {},
   "source": [
    "##### Calculer l ecart inter quartile"
   ]
  },
  {
   "cell_type": "code",
   "execution_count": 51,
   "id": "f0ea1ffc",
   "metadata": {},
   "outputs": [],
   "source": [
    "IQ=42.17-14.10  "
   ]
  },
  {
   "cell_type": "markdown",
   "id": "b18f5c52",
   "metadata": {},
   "source": [
    "##### Afficher l ecart inter quartile"
   ]
  },
  {
   "cell_type": "code",
   "execution_count": 52,
   "id": "a57e8c47",
   "metadata": {},
   "outputs": [
    {
     "name": "stdout",
     "output_type": "stream",
     "text": [
      "Ecart inter quartile :  28.07\n"
     ]
    }
   ],
   "source": [
    "print('Ecart inter quartile : ' + ' '+ str(IQ))"
   ]
  },
  {
   "cell_type": "markdown",
   "id": "e4f04138",
   "metadata": {},
   "source": [
    "##### calculer la valeur au delà duquel le prix de vente est un outlier"
   ]
  },
  {
   "cell_type": "code",
   "execution_count": 53,
   "id": "96f28e22",
   "metadata": {},
   "outputs": [],
   "source": [
    "maxStat=42.17+(IQ*1.5)  "
   ]
  },
  {
   "cell_type": "markdown",
   "id": "5a0e1809",
   "metadata": {},
   "source": [
    "##### Afficher la valeur au delà duquel le prix de vente est un outlier"
   ]
  },
  {
   "cell_type": "code",
   "execution_count": 54,
   "id": "559409bc",
   "metadata": {},
   "outputs": [
    {
     "name": "stdout",
     "output_type": "stream",
     "text": [
      "La valeur au delà de laquelle le prix de vente est un outlier : 84.275\n"
     ]
    }
   ],
   "source": [
    "print('La valeur au delà de laquelle le prix de vente est un outlier : ' + str(maxStat))"
   ]
  },
  {
   "cell_type": "markdown",
   "id": "bf4a9ddc",
   "metadata": {},
   "source": [
    "### 4.5 - Liste et nombre des outliers <a class=\"anchor\" id=\"section_4_5\"></a>"
   ]
  },
  {
   "cell_type": "markdown",
   "id": "8df40a24",
   "metadata": {},
   "source": [
    "##### Stockage des outliers dans une table"
   ]
  },
  {
   "cell_type": "code",
   "execution_count": 55,
   "id": "891c7f4d",
   "metadata": {},
   "outputs": [],
   "source": [
    "outliersTable = dataErpLiaisonWeb[dataErpLiaisonWeb.price > maxStat]"
   ]
  },
  {
   "cell_type": "markdown",
   "id": "d966fc3f",
   "metadata": {},
   "source": [
    "##### Afficher les outliers"
   ]
  },
  {
   "cell_type": "code",
   "execution_count": 56,
   "id": "6a8e5936",
   "metadata": {},
   "outputs": [
    {
     "data": {
      "text/html": [
       "<div>\n",
       "<style scoped>\n",
       "    .dataframe tbody tr th:only-of-type {\n",
       "        vertical-align: middle;\n",
       "    }\n",
       "\n",
       "    .dataframe tbody tr th {\n",
       "        vertical-align: top;\n",
       "    }\n",
       "\n",
       "    .dataframe thead th {\n",
       "        text-align: right;\n",
       "    }\n",
       "</style>\n",
       "<table border=\"1\" class=\"dataframe\">\n",
       "  <thead>\n",
       "    <tr style=\"text-align: right;\">\n",
       "      <th></th>\n",
       "      <th>product_id</th>\n",
       "      <th>price</th>\n",
       "      <th>stock_quantity</th>\n",
       "      <th>stock_status</th>\n",
       "      <th>total_sales</th>\n",
       "      <th>sku</th>\n",
       "      <th>post_title</th>\n",
       "      <th>CA Produit</th>\n",
       "    </tr>\n",
       "  </thead>\n",
       "  <tbody>\n",
       "    <tr>\n",
       "      <th>63</th>\n",
       "      <td>4115</td>\n",
       "      <td>100.0</td>\n",
       "      <td>11</td>\n",
       "      <td>instock</td>\n",
       "      <td>0.0</td>\n",
       "      <td>15382</td>\n",
       "      <td>Zind-Humbrecht Riesling Grand Cru Rangen De Th...</td>\n",
       "      <td>0.0</td>\n",
       "    </tr>\n",
       "    <tr>\n",
       "      <th>65</th>\n",
       "      <td>4132</td>\n",
       "      <td>88.4</td>\n",
       "      <td>5</td>\n",
       "      <td>instock</td>\n",
       "      <td>0.0</td>\n",
       "      <td>11668</td>\n",
       "      <td>Zind-Humbrecht Pinot Gris Grand Cru Rangen De ...</td>\n",
       "      <td>0.0</td>\n",
       "    </tr>\n",
       "    <tr>\n",
       "      <th>199</th>\n",
       "      <td>4352</td>\n",
       "      <td>225.0</td>\n",
       "      <td>0</td>\n",
       "      <td>outofstock</td>\n",
       "      <td>5.0</td>\n",
       "      <td>15940</td>\n",
       "      <td>Champagne Egly-Ouriet Grand Cru Millésimé 2008</td>\n",
       "      <td>1125.0</td>\n",
       "    </tr>\n",
       "    <tr>\n",
       "      <th>201</th>\n",
       "      <td>4355</td>\n",
       "      <td>126.5</td>\n",
       "      <td>2</td>\n",
       "      <td>instock</td>\n",
       "      <td>11.0</td>\n",
       "      <td>12589</td>\n",
       "      <td>Champagne Egly-Ouriet Grand Cru Blanc de Noirs</td>\n",
       "      <td>1391.5</td>\n",
       "    </tr>\n",
       "    <tr>\n",
       "      <th>205</th>\n",
       "      <td>4359</td>\n",
       "      <td>85.6</td>\n",
       "      <td>0</td>\n",
       "      <td>outofstock</td>\n",
       "      <td>1.0</td>\n",
       "      <td>13853</td>\n",
       "      <td>Champagne Larmandier-Bernier Grand Cru Les Che...</td>\n",
       "      <td>85.6</td>\n",
       "    </tr>\n",
       "    <tr>\n",
       "      <th>218</th>\n",
       "      <td>4402</td>\n",
       "      <td>176.0</td>\n",
       "      <td>8</td>\n",
       "      <td>instock</td>\n",
       "      <td>13.0</td>\n",
       "      <td>3510</td>\n",
       "      <td>Cognac Frapin VIP XO</td>\n",
       "      <td>2288.0</td>\n",
       "    </tr>\n",
       "    <tr>\n",
       "      <th>219</th>\n",
       "      <td>4404</td>\n",
       "      <td>108.5</td>\n",
       "      <td>2</td>\n",
       "      <td>instock</td>\n",
       "      <td>2.0</td>\n",
       "      <td>3507</td>\n",
       "      <td>Cognac Frapin Château de Fontpinot XO</td>\n",
       "      <td>217.0</td>\n",
       "    </tr>\n",
       "    <tr>\n",
       "      <th>221</th>\n",
       "      <td>4406</td>\n",
       "      <td>157.0</td>\n",
       "      <td>3</td>\n",
       "      <td>instock</td>\n",
       "      <td>0.0</td>\n",
       "      <td>7819</td>\n",
       "      <td>Cognac Frapin Château de Fontpinot 1989 20 Ans...</td>\n",
       "      <td>0.0</td>\n",
       "    </tr>\n",
       "    <tr>\n",
       "      <th>222</th>\n",
       "      <td>4407</td>\n",
       "      <td>104.0</td>\n",
       "      <td>6</td>\n",
       "      <td>instock</td>\n",
       "      <td>1.0</td>\n",
       "      <td>3509</td>\n",
       "      <td>Cognac Frapin Cigar Blend</td>\n",
       "      <td>104.0</td>\n",
       "    </tr>\n",
       "    <tr>\n",
       "      <th>227</th>\n",
       "      <td>4582</td>\n",
       "      <td>109.6</td>\n",
       "      <td>7</td>\n",
       "      <td>instock</td>\n",
       "      <td>0.0</td>\n",
       "      <td>12857</td>\n",
       "      <td>Château de Meursault Puligny-Montrachet 1er Cr...</td>\n",
       "      <td>0.0</td>\n",
       "    </tr>\n",
       "    <tr>\n",
       "      <th>380</th>\n",
       "      <td>4903</td>\n",
       "      <td>102.3</td>\n",
       "      <td>20</td>\n",
       "      <td>instock</td>\n",
       "      <td>0.0</td>\n",
       "      <td>14805</td>\n",
       "      <td>Domaine Des Croix Corton Grand Cru Les Grèves ...</td>\n",
       "      <td>0.0</td>\n",
       "    </tr>\n",
       "    <tr>\n",
       "      <th>381</th>\n",
       "      <td>4904</td>\n",
       "      <td>137.0</td>\n",
       "      <td>13</td>\n",
       "      <td>instock</td>\n",
       "      <td>5.0</td>\n",
       "      <td>14220</td>\n",
       "      <td>Domaine Des Croix Corton Charlemagne Grand Cru...</td>\n",
       "      <td>685.0</td>\n",
       "    </tr>\n",
       "    <tr>\n",
       "      <th>426</th>\n",
       "      <td>5001</td>\n",
       "      <td>217.5</td>\n",
       "      <td>20</td>\n",
       "      <td>instock</td>\n",
       "      <td>0.0</td>\n",
       "      <td>14581</td>\n",
       "      <td>David Duband Charmes-Chambertin Grand Cru 2014</td>\n",
       "      <td>0.0</td>\n",
       "    </tr>\n",
       "    <tr>\n",
       "      <th>431</th>\n",
       "      <td>5007</td>\n",
       "      <td>105.0</td>\n",
       "      <td>17</td>\n",
       "      <td>instock</td>\n",
       "      <td>0.0</td>\n",
       "      <td>12791</td>\n",
       "      <td>Domaine des Comtes Lafon Volnay 1er Cru Santen...</td>\n",
       "      <td>0.0</td>\n",
       "    </tr>\n",
       "    <tr>\n",
       "      <th>432</th>\n",
       "      <td>5008</td>\n",
       "      <td>105.0</td>\n",
       "      <td>10</td>\n",
       "      <td>instock</td>\n",
       "      <td>0.0</td>\n",
       "      <td>11602</td>\n",
       "      <td>Domaine des Comtes Lafon Volnay 1er Cru Santen...</td>\n",
       "      <td>0.0</td>\n",
       "    </tr>\n",
       "    <tr>\n",
       "      <th>437</th>\n",
       "      <td>5025</td>\n",
       "      <td>112.0</td>\n",
       "      <td>0</td>\n",
       "      <td>outofstock</td>\n",
       "      <td>0.0</td>\n",
       "      <td>13914</td>\n",
       "      <td>Champagne Agrapart &amp;amp; Fils L'Avizoise Extra...</td>\n",
       "      <td>0.0</td>\n",
       "    </tr>\n",
       "    <tr>\n",
       "      <th>438</th>\n",
       "      <td>5026</td>\n",
       "      <td>86.8</td>\n",
       "      <td>2</td>\n",
       "      <td>instock</td>\n",
       "      <td>0.0</td>\n",
       "      <td>13913</td>\n",
       "      <td>Champagne Agrapart &amp;amp; Fils Minéral Extra Br...</td>\n",
       "      <td>0.0</td>\n",
       "    </tr>\n",
       "    <tr>\n",
       "      <th>502</th>\n",
       "      <td>5565</td>\n",
       "      <td>92.0</td>\n",
       "      <td>0</td>\n",
       "      <td>outofstock</td>\n",
       "      <td>0.0</td>\n",
       "      <td>19822</td>\n",
       "      <td>Tempier Bandol Cabassaou 2017</td>\n",
       "      <td>0.0</td>\n",
       "    </tr>\n",
       "    <tr>\n",
       "      <th>511</th>\n",
       "      <td>5612</td>\n",
       "      <td>124.8</td>\n",
       "      <td>12</td>\n",
       "      <td>instock</td>\n",
       "      <td>0.0</td>\n",
       "      <td>14915</td>\n",
       "      <td>Domaine Weinbach Gewurztraminer Grand Cru Furs...</td>\n",
       "      <td>0.0</td>\n",
       "    </tr>\n",
       "    <tr>\n",
       "      <th>553</th>\n",
       "      <td>5767</td>\n",
       "      <td>175.0</td>\n",
       "      <td>12</td>\n",
       "      <td>instock</td>\n",
       "      <td>0.0</td>\n",
       "      <td>15185</td>\n",
       "      <td>Camille Giroud Clos de Vougeot 2016</td>\n",
       "      <td>0.0</td>\n",
       "    </tr>\n",
       "    <tr>\n",
       "      <th>587</th>\n",
       "      <td>5892</td>\n",
       "      <td>191.3</td>\n",
       "      <td>10</td>\n",
       "      <td>instock</td>\n",
       "      <td>3.0</td>\n",
       "      <td>14983</td>\n",
       "      <td>Coteaux Champenois Egly-Ouriet Ambonnay Rouge ...</td>\n",
       "      <td>573.9</td>\n",
       "    </tr>\n",
       "    <tr>\n",
       "      <th>602</th>\n",
       "      <td>5916</td>\n",
       "      <td>93.0</td>\n",
       "      <td>3</td>\n",
       "      <td>instock</td>\n",
       "      <td>0.0</td>\n",
       "      <td>14774</td>\n",
       "      <td>Wemyss Malts Single Cask Scotch Whisky Chocola...</td>\n",
       "      <td>0.0</td>\n",
       "    </tr>\n",
       "    <tr>\n",
       "      <th>603</th>\n",
       "      <td>5917</td>\n",
       "      <td>122.0</td>\n",
       "      <td>4</td>\n",
       "      <td>instock</td>\n",
       "      <td>0.0</td>\n",
       "      <td>14775</td>\n",
       "      <td>Wemyss Malts Single Cask Scotch Whisky Choc 'n...</td>\n",
       "      <td>0.0</td>\n",
       "    </tr>\n",
       "    <tr>\n",
       "      <th>604</th>\n",
       "      <td>5918</td>\n",
       "      <td>114.0</td>\n",
       "      <td>8</td>\n",
       "      <td>instock</td>\n",
       "      <td>0.0</td>\n",
       "      <td>14773</td>\n",
       "      <td>Wemyss Malts Single Cask Scotch Whisky Chai Ca...</td>\n",
       "      <td>0.0</td>\n",
       "    </tr>\n",
       "    <tr>\n",
       "      <th>642</th>\n",
       "      <td>6126</td>\n",
       "      <td>135.0</td>\n",
       "      <td>10</td>\n",
       "      <td>instock</td>\n",
       "      <td>2.0</td>\n",
       "      <td>14923</td>\n",
       "      <td>Champagne Gosset Célébris Vintage 2007</td>\n",
       "      <td>270.0</td>\n",
       "    </tr>\n",
       "    <tr>\n",
       "      <th>647</th>\n",
       "      <td>6201</td>\n",
       "      <td>105.6</td>\n",
       "      <td>7</td>\n",
       "      <td>instock</td>\n",
       "      <td>0.0</td>\n",
       "      <td>14596</td>\n",
       "      <td>David Duband Chambolle-Musigny 1er Cru Les Sen...</td>\n",
       "      <td>0.0</td>\n",
       "    </tr>\n",
       "    <tr>\n",
       "      <th>648</th>\n",
       "      <td>6202</td>\n",
       "      <td>116.4</td>\n",
       "      <td>14</td>\n",
       "      <td>instock</td>\n",
       "      <td>0.0</td>\n",
       "      <td>15126</td>\n",
       "      <td>Domaine Clerget Echezeaux Grand Cru En Orveaux...</td>\n",
       "      <td>0.0</td>\n",
       "    </tr>\n",
       "    <tr>\n",
       "      <th>653</th>\n",
       "      <td>6212</td>\n",
       "      <td>115.0</td>\n",
       "      <td>2</td>\n",
       "      <td>instock</td>\n",
       "      <td>2.0</td>\n",
       "      <td>13996</td>\n",
       "      <td>Domaine des Comtes Lafon Volnay 1er Cru Santen...</td>\n",
       "      <td>230.0</td>\n",
       "    </tr>\n",
       "    <tr>\n",
       "      <th>654</th>\n",
       "      <td>6213</td>\n",
       "      <td>121.0</td>\n",
       "      <td>7</td>\n",
       "      <td>instock</td>\n",
       "      <td>0.0</td>\n",
       "      <td>15072</td>\n",
       "      <td>Domaine des Comtes Lafon Volnay 1er Cru Santen...</td>\n",
       "      <td>0.0</td>\n",
       "    </tr>\n",
       "    <tr>\n",
       "      <th>655</th>\n",
       "      <td>6214</td>\n",
       "      <td>99.0</td>\n",
       "      <td>7</td>\n",
       "      <td>instock</td>\n",
       "      <td>0.0</td>\n",
       "      <td>11601</td>\n",
       "      <td>Domaine des Comtes Lafon Volnay 1er Cru Champa...</td>\n",
       "      <td>0.0</td>\n",
       "    </tr>\n",
       "    <tr>\n",
       "      <th>656</th>\n",
       "      <td>6215</td>\n",
       "      <td>115.0</td>\n",
       "      <td>4</td>\n",
       "      <td>instock</td>\n",
       "      <td>0.0</td>\n",
       "      <td>12790</td>\n",
       "      <td>Domaine des Comtes Lafon Volnay 1er Cru Champa...</td>\n",
       "      <td>0.0</td>\n",
       "    </tr>\n",
       "    <tr>\n",
       "      <th>657</th>\n",
       "      <td>6216</td>\n",
       "      <td>121.0</td>\n",
       "      <td>6</td>\n",
       "      <td>instock</td>\n",
       "      <td>0.0</td>\n",
       "      <td>15070</td>\n",
       "      <td>Domaine des Comtes Lafon Volnay 1er Cru Champa...</td>\n",
       "      <td>0.0</td>\n",
       "    </tr>\n",
       "  </tbody>\n",
       "</table>\n",
       "</div>"
      ],
      "text/plain": [
       "     product_id  price  stock_quantity stock_status  total_sales    sku  \\\n",
       "63         4115  100.0              11      instock          0.0  15382   \n",
       "65         4132   88.4               5      instock          0.0  11668   \n",
       "199        4352  225.0               0   outofstock          5.0  15940   \n",
       "201        4355  126.5               2      instock         11.0  12589   \n",
       "205        4359   85.6               0   outofstock          1.0  13853   \n",
       "218        4402  176.0               8      instock         13.0   3510   \n",
       "219        4404  108.5               2      instock          2.0   3507   \n",
       "221        4406  157.0               3      instock          0.0   7819   \n",
       "222        4407  104.0               6      instock          1.0   3509   \n",
       "227        4582  109.6               7      instock          0.0  12857   \n",
       "380        4903  102.3              20      instock          0.0  14805   \n",
       "381        4904  137.0              13      instock          5.0  14220   \n",
       "426        5001  217.5              20      instock          0.0  14581   \n",
       "431        5007  105.0              17      instock          0.0  12791   \n",
       "432        5008  105.0              10      instock          0.0  11602   \n",
       "437        5025  112.0               0   outofstock          0.0  13914   \n",
       "438        5026   86.8               2      instock          0.0  13913   \n",
       "502        5565   92.0               0   outofstock          0.0  19822   \n",
       "511        5612  124.8              12      instock          0.0  14915   \n",
       "553        5767  175.0              12      instock          0.0  15185   \n",
       "587        5892  191.3              10      instock          3.0  14983   \n",
       "602        5916   93.0               3      instock          0.0  14774   \n",
       "603        5917  122.0               4      instock          0.0  14775   \n",
       "604        5918  114.0               8      instock          0.0  14773   \n",
       "642        6126  135.0              10      instock          2.0  14923   \n",
       "647        6201  105.6               7      instock          0.0  14596   \n",
       "648        6202  116.4              14      instock          0.0  15126   \n",
       "653        6212  115.0               2      instock          2.0  13996   \n",
       "654        6213  121.0               7      instock          0.0  15072   \n",
       "655        6214   99.0               7      instock          0.0  11601   \n",
       "656        6215  115.0               4      instock          0.0  12790   \n",
       "657        6216  121.0               6      instock          0.0  15070   \n",
       "\n",
       "                                            post_title  CA Produit  \n",
       "63   Zind-Humbrecht Riesling Grand Cru Rangen De Th...         0.0  \n",
       "65   Zind-Humbrecht Pinot Gris Grand Cru Rangen De ...         0.0  \n",
       "199     Champagne Egly-Ouriet Grand Cru Millésimé 2008      1125.0  \n",
       "201     Champagne Egly-Ouriet Grand Cru Blanc de Noirs      1391.5  \n",
       "205  Champagne Larmandier-Bernier Grand Cru Les Che...        85.6  \n",
       "218                               Cognac Frapin VIP XO      2288.0  \n",
       "219              Cognac Frapin Château de Fontpinot XO       217.0  \n",
       "221  Cognac Frapin Château de Fontpinot 1989 20 Ans...         0.0  \n",
       "222                          Cognac Frapin Cigar Blend       104.0  \n",
       "227  Château de Meursault Puligny-Montrachet 1er Cr...         0.0  \n",
       "380  Domaine Des Croix Corton Grand Cru Les Grèves ...         0.0  \n",
       "381  Domaine Des Croix Corton Charlemagne Grand Cru...       685.0  \n",
       "426     David Duband Charmes-Chambertin Grand Cru 2014         0.0  \n",
       "431  Domaine des Comtes Lafon Volnay 1er Cru Santen...         0.0  \n",
       "432  Domaine des Comtes Lafon Volnay 1er Cru Santen...         0.0  \n",
       "437  Champagne Agrapart &amp; Fils L'Avizoise Extra...         0.0  \n",
       "438  Champagne Agrapart &amp; Fils Minéral Extra Br...         0.0  \n",
       "502                      Tempier Bandol Cabassaou 2017         0.0  \n",
       "511  Domaine Weinbach Gewurztraminer Grand Cru Furs...         0.0  \n",
       "553                Camille Giroud Clos de Vougeot 2016         0.0  \n",
       "587  Coteaux Champenois Egly-Ouriet Ambonnay Rouge ...       573.9  \n",
       "602  Wemyss Malts Single Cask Scotch Whisky Chocola...         0.0  \n",
       "603  Wemyss Malts Single Cask Scotch Whisky Choc 'n...         0.0  \n",
       "604  Wemyss Malts Single Cask Scotch Whisky Chai Ca...         0.0  \n",
       "642             Champagne Gosset Célébris Vintage 2007       270.0  \n",
       "647  David Duband Chambolle-Musigny 1er Cru Les Sen...         0.0  \n",
       "648  Domaine Clerget Echezeaux Grand Cru En Orveaux...         0.0  \n",
       "653  Domaine des Comtes Lafon Volnay 1er Cru Santen...       230.0  \n",
       "654  Domaine des Comtes Lafon Volnay 1er Cru Santen...         0.0  \n",
       "655  Domaine des Comtes Lafon Volnay 1er Cru Champa...         0.0  \n",
       "656  Domaine des Comtes Lafon Volnay 1er Cru Champa...         0.0  \n",
       "657  Domaine des Comtes Lafon Volnay 1er Cru Champa...         0.0  "
      ]
     },
     "execution_count": 56,
     "metadata": {},
     "output_type": "execute_result"
    }
   ],
   "source": [
    "outliersTable[['product_id','price','stock_quantity','stock_status','total_sales','sku','post_title','CA Produit']]"
   ]
  },
  {
   "cell_type": "markdown",
   "id": "c9ffffa6",
   "metadata": {},
   "source": [
    "##### Compter le nombre d outliers"
   ]
  },
  {
   "cell_type": "code",
   "execution_count": 57,
   "id": "b37e5043",
   "metadata": {},
   "outputs": [
    {
     "name": "stdout",
     "output_type": "stream",
     "text": [
      "Nombre d'outliers : 32\n"
     ]
    }
   ],
   "source": [
    "nbreOutliers=outliersTable['product_id'].count()\n",
    "print('Nombre d\\'outliers :' + ' ' + str(nbreOutliers))"
   ]
  },
  {
   "cell_type": "markdown",
   "id": "c99a36e7",
   "metadata": {},
   "source": [
    "##### Le chiffre d'affaire generé par les outliers"
   ]
  },
  {
   "cell_type": "code",
   "execution_count": 58,
   "id": "133de4ea",
   "metadata": {},
   "outputs": [
    {
     "name": "stdout",
     "output_type": "stream",
     "text": [
      "Le chiffre d'affaire generé par les outliers est de  6970.0\n"
     ]
    }
   ],
   "source": [
    "print('Le chiffre d\\'affaire generé par les outliers est de ' + ' '+ str(outliersTable['CA Produit'].sum()))"
   ]
  },
  {
   "cell_type": "markdown",
   "id": "4e2cccfc",
   "metadata": {},
   "source": [
    "##### Pourcentage du CA des outliers sur le CA total"
   ]
  },
  {
   "cell_type": "code",
   "execution_count": 59,
   "id": "88594853",
   "metadata": {},
   "outputs": [
    {
     "name": "stdout",
     "output_type": "stream",
     "text": [
      "Le pourcentage du chiffre d'affaire des outliers sur le chiffre d'affaire global est de 9.876914094937408\n"
     ]
    }
   ],
   "source": [
    "print('Le pourcentage du chiffre d\\'affaire des outliers sur le chiffre d\\'affaire global est de' + ' '+ str((outliersTable['CA Produit'].sum()*100)/CATotal))"
   ]
  },
  {
   "cell_type": "markdown",
   "id": "d221d426",
   "metadata": {},
   "source": [
    "##### Interprétations"
   ]
  },
  {
   "cell_type": "code",
   "execution_count": 60,
   "id": "a62bb728",
   "metadata": {
    "scrolled": false
   },
   "outputs": [
    {
     "name": "stdout",
     "output_type": "stream",
     "text": [
      "Il n'y a pas d'outliers impertinents car ils génèrent un CA de 6 970 non négligeable, soit 9,88% du chiffre d'affaire global. Certains produits outliers ne génèrent pas de chiffre d'affaire tout comme certains produits non qualifiés de outliers. Nous devons donc conserver ces outliers pour notre analyse.\n"
     ]
    }
   ],
   "source": [
    "print('Il n\\'y a pas d\\'outliers impertinents car ils génèrent un CA de 6 970 non négligeable, soit 9,88% du chiffre d\\'affaire global. Certains produits outliers ne génèrent pas de chiffre d\\'affaire tout comme certains produits non qualifiés de outliers. Nous devons donc conserver ces outliers pour notre analyse.')"
   ]
  },
  {
   "cell_type": "markdown",
   "id": "aba69bd5",
   "metadata": {},
   "source": [
    "### 4.6 - Représentation graphique des outliers <a class=\"anchor\" id=\"section_4_6\"></a>"
   ]
  },
  {
   "cell_type": "markdown",
   "id": "d5703223",
   "metadata": {},
   "source": [
    "##### Créer le graphique boite à moustache vertical"
   ]
  },
  {
   "cell_type": "code",
   "execution_count": 61,
   "id": "635826aa",
   "metadata": {},
   "outputs": [
    {
     "data": {
      "image/png": "[encoded data removed]",
      "text/plain": [
       "<Figure size 864x432 with 1 Axes>"
      ]
     },
     "metadata": {
      "needs_background": "light"
     },
     "output_type": "display_data"
    }
   ],
   "source": [
    "plt.figure(figsize=(12,6))\n",
    "dataErpLiaisonWeb.boxplot(column=\"price\", vert=False)\n",
    "plt.xticks([10*i for i in range(24)])\n",
    "\n",
    "#Ajouter le titre à la boite à moustache\n",
    "plt.title('Représentation graphique des outliers', fontsize=14, fontweight='bold')\n",
    "\n",
    "#Afficher le graphique \n",
    "plt.show()"
   ]
  },
  {
   "cell_type": "markdown",
   "id": "d24540d7",
   "metadata": {},
   "source": [
    "##### Interprétations"
   ]
  },
  {
   "cell_type": "code",
   "execution_count": 62,
   "id": "ebbb9388",
   "metadata": {},
   "outputs": [
    {
     "name": "stdout",
     "output_type": "stream",
     "text": [
      "Le prix de vente à partir duquel les valeurs semblent atypiques est 84,275. \n"
     ]
    }
   ],
   "source": [
    "print('Le prix de vente à partir duquel les valeurs semblent atypiques est 84,275. ')"
   ]
  },
  {
   "cell_type": "markdown",
   "id": "e034d76c",
   "metadata": {},
   "source": [
    "## 5 - Interprétations et préconisations <a class=\"anchor\" id=\"chapter5\"></a>"
   ]
  },
  {
   "cell_type": "code",
   "execution_count": 63,
   "id": "abd3f59f",
   "metadata": {},
   "outputs": [
    {
     "name": "stdout",
     "output_type": "stream",
     "text": [
      "Nous observons la diminution du nombre de vente au fur et à mesure que le prix de vente augmente. Tous les produits vendus ne génèrent pas du chiffre d'affaire. Les invendus sont observés pour toutes les tranches de prix (elevé, bas). A partir d'un prix de 84,2, les ventes subissent une baisse accrue. Nous recensons 32 outliers correspondants à des valeurs atypiques (prix au delà de 84,275). Certains de ces produits génèrent un Chiffre d'affaire de 6 970, soit 9,88 % du un Chiffre d'affaire global. Eu égard au fait que nous avons des invendus pour des outliers et non outliers, nous gardons les outliers pour notre analyse. Nous proposons de revoir l'offre des produits (outliers et non outliers) et commercialiser uniquement des produits qui ont gneré du Chiffre d'affaire et des nouveautés.\n"
     ]
    }
   ],
   "source": [
    "print('Nous observons la diminution du nombre de vente au fur et à mesure que le prix de vente augmente. Tous les produits vendus ne génèrent pas du chiffre d\\'affaire. Les invendus sont observés pour toutes les tranches de prix (elevé, bas). A partir d\\'un prix de 84,2, les ventes subissent une baisse accrue. Nous recensons 32 outliers correspondants à des valeurs atypiques (prix au delà de 84,275). Certains de ces produits génèrent un Chiffre d\\'affaire de 6 970, soit 9,88 % du un Chiffre d\\'affaire global. Eu égard au fait que nous avons des invendus pour des outliers et non outliers, nous gardons les outliers pour notre analyse. Nous proposons de revoir l\\'offre des produits (outliers et non outliers) et commercialiser uniquement des produits qui ont gneré du Chiffre d\\'affaire et des nouveautés.')"
   ]
  },
  {
   "cell_type": "code",
   "execution_count": null,
   "id": "aca6cac9",
   "metadata": {},
   "outputs": [],
   "source": []
  },
  {
   "cell_type": "code",
   "execution_count": null,
   "id": "ae1813f0",
   "metadata": {},
   "outputs": [],
   "source": []
  }
 ],
 "metadata": {
  "kernelspec": {
   "display_name": "Python 3",
   "language": "python",
   "name": "python3"
  },
  "language_info": {
   "codemirror_mode": {
    "name": "ipython",
    "version": 3
   },
   "file_extension": ".py",
   "mimetype": "text/x-python",
   "name": "python",
   "nbconvert_exporter": "python",
   "pygments_lexer": "ipython3",
   "version": "3.8.8"
  }
 },
 "nbformat": 4,
 "nbformat_minor": 5
}
